{
 "cells": [
  {
   "cell_type": "markdown",
   "id": "0d149436",
   "metadata": {
    "colab_type": "text",
    "id": "view-in-github"
   },
   "source": [
    "<a href=\"https://colab.research.google.com/github/rcpaffenroth/dac_raghu/blob/main/Autoencoder.ipynb\" target=\"_parent\"><img src=\"https://colab.research.google.com/assets/colab-badge.svg\" alt=\"Open In Colab\"/></a>"
   ]
  },
  {
   "cell_type": "markdown",
   "id": "f6828844-3a74-49bd-8348-ceae45948da7",
   "metadata": {
    "id": "f6828844-3a74-49bd-8348-ceae45948da7"
   },
   "source": [
    "# Load data"
   ]
  },
  {
   "cell_type": "code",
   "execution_count": 31,
   "id": "a5713c2d-0108-4708-9f0d-021e183f6d1e",
   "metadata": {
    "id": "a5713c2d-0108-4708-9f0d-021e183f6d1e"
   },
   "outputs": [],
   "source": [
    "import torch\n",
    "import torch.nn as nn\n",
    "import torch.optim as optim\n",
    "import torch.nn.functional as F\n",
    "\n",
    "import numpy as np\n",
    "import pandas as pd\n",
    "import matplotlib.pyplot as plt\n",
    "import matplotlib.animation as animation\n",
    "%matplotlib inline\n",
    "\n",
    "import json"
   ]
  },
  {
   "cell_type": "code",
   "execution_count": 32,
   "id": "9f5c3fcc-147d-4669-8ab2-3ddf16a88b4e",
   "metadata": {
    "id": "9f5c3fcc-147d-4669-8ab2-3ddf16a88b4e"
   },
   "outputs": [],
   "source": [
    "#name = 'regression_line'\n",
    "#name = 'pca_line'\n",
    "#name = 'circle'\n",
    "name = 'regression_circle'\n",
    "\n",
    "# Read the json info file\n",
    "with open(f'../data/processed/info.json') as f:\n",
    "    info = json.load(f)\n",
    "# Read the start data\n",
    "x_start = pd.read_parquet(f'../data/processed/{name}_start.parquet')\n",
    "# Read the target data\n",
    "x_target = pd.read_parquet(f'../data/processed/{name}_target.parquet')\n"
   ]
  },
  {
   "cell_type": "markdown",
   "id": "1880ae29-6269-42a9-870f-fb52bb18cf36",
   "metadata": {
    "id": "1880ae29-6269-42a9-870f-fb52bb18cf36"
   },
   "source": [
    "# Dynamical system"
   ]
  },
  {
   "cell_type": "code",
   "execution_count": 33,
   "id": "ebbc9b74-d7dc-4dd6-bb72-88ed57f5b63e",
   "metadata": {
    "id": "ebbc9b74-d7dc-4dd6-bb72-88ed57f5b63e"
   },
   "outputs": [],
   "source": [
    "x_size = x_start.shape[1]\n",
    "hidden_size = 20\n",
    "\n",
    "iterations = 3\n",
    "map = nn.Sequential(nn.Linear(x_size, hidden_size),\n",
    "                    nn.ReLU(), \n",
    "                    nn.Linear(hidden_size, hidden_size), \n",
    "                    nn.ReLU(), \n",
    "                    nn.Linear(hidden_size, x_size))"
   ]
  },
  {
   "cell_type": "code",
   "execution_count": 34,
   "id": "a7eeb2b8",
   "metadata": {},
   "outputs": [],
   "source": [
    "# Turn a pandas dataframe into a pytorch tensor\n",
    "def df_to_tensor(df):\n",
    "    return torch.tensor(df.values, dtype=torch.float32)\n",
    "\n",
    "# Make two pytorch tensor datasets from the start and target data\n",
    "x_start_tensor = df_to_tensor(x_start)\n",
    "x_target_tensor = df_to_tensor(x_target)\n",
    "\n",
    "# a dataloader which returns a batch of start and target data\n",
    "class Data(torch.utils.data.Dataset):\n",
    "    def __init__(self, x_start, x_target):\n",
    "        self.x_start = x_start\n",
    "        self.x_target = x_target\n",
    "    def __len__(self):\n",
    "        return len(self.x_start)\n",
    "    def __getitem__(self, idx):\n",
    "        return self.x_start[idx], self.x_target[idx]\n",
    "    \n",
    "train_data = Data(x_start_tensor, x_target_tensor)\n",
    "train_loader = torch.utils.data.DataLoader(train_data, batch_size=100, shuffle=True)"
   ]
  },
  {
   "cell_type": "code",
   "execution_count": 35,
   "id": "7486ca78-5e1c-4f94-afb5-9015303aaa09",
   "metadata": {
    "colab": {
     "base_uri": "https://localhost:8080/",
     "height": 382,
     "referenced_widgets": [
      "915d05c1f046462ebe574b6b306b6110",
      "df24beefb77f4549b7beed2e23558980",
      "a5a6545605cb475fb4bd6db5d32b0b24",
      "5959c15bd28a4059b8952689490ebe2f",
      "a3075bdd01e047faa3f1246dabaedcc7",
      "4d5e173f3cdd465b9b40f8b23d270e8a",
      "4340e450c8c9444784e3ac188b9230df",
      "c81f9b0a5dee4db396442599cb295097",
      "faf8ff98c59b4951b62cd8ad4e1d5bfa",
      "a955f09104b54e37b262198a3807761c",
      "d4d3328dd8914927b619350b49b6f81c"
     ]
    },
    "id": "7486ca78-5e1c-4f94-afb5-9015303aaa09",
    "outputId": "e3247ec9-d372-4fda-c69e-654d985bc905"
   },
   "outputs": [],
   "source": [
    "# Define the loss function and optimizer\n",
    "criterion = torch.nn.MSELoss()\n",
    "optimizer = torch.optim.Adam(map.parameters(), lr=0.001)"
   ]
  },
  {
   "cell_type": "code",
   "execution_count": 36,
   "metadata": {},
   "outputs": [
    {
     "name": "stdout",
     "output_type": "stream",
     "text": [
      "Epoch 0, Batch 9, Loss 1.6849455833435059\n",
      "Epoch 100, Batch 9, Loss 0.009687641635537148\n",
      "Epoch 200, Batch 9, Loss 0.014885429292917252\n",
      "Epoch 300, Batch 9, Loss 0.008888943120837212\n",
      "Epoch 400, Batch 9, Loss 0.016459248960018158\n"
     ]
    }
   ],
   "source": [
    "max_epochs = 500\n",
    "# Train the model\n",
    "for epoch in range(max_epochs):\n",
    "    for batch_idx, (start, target) in enumerate(train_loader):\n",
    "        optimizer.zero_grad()\n",
    "        mapped = start\n",
    "        loss = 0.0\n",
    "        for i in range(iterations):\n",
    "            mapped = map(mapped)\n",
    "            loss += criterion(mapped, target)\n",
    "        loss.backward()\n",
    "        optimizer.step()\n",
    "    if epoch % 100 == 0:\n",
    "        print(f'Epoch {epoch}, Batch {batch_idx}, Loss {loss.item()}')"
   ]
  },
  {
   "cell_type": "markdown",
   "id": "054793e0",
   "metadata": {},
   "source": [
    "# Training data"
   ]
  },
  {
   "cell_type": "code",
   "execution_count": 37,
   "id": "8ac074be-5d27-480a-83fe-e1161e9d69ef",
   "metadata": {
    "id": "8ac074be-5d27-480a-83fe-e1161e9d69ef"
   },
   "outputs": [
    {
     "data": {
      "image/png": "[encoded data removed]",
      "text/plain": [
       "<Figure size 640x480 with 1 Axes>"
      ]
     },
     "metadata": {},
     "output_type": "display_data"
    }
   ],
   "source": [
    "mapped_tensor = x_start_tensor\n",
    "for i in range(iterations):\n",
    "    mapped_tensor = map(mapped_tensor)\n",
    "mapped_tensor = mapped_tensor.detach()\n",
    "\n",
    "plot_points = 10\n",
    "\n",
    "plt.figure()\n",
    "\n",
    "plt.scatter(x_start_tensor[:plot_points,0], x_start_tensor[:plot_points,1])\n",
    "plt.scatter(mapped_tensor[:plot_points,0], mapped_tensor[:plot_points,1])\n",
    "dx = mapped_tensor[:plot_points,0]-x_start_tensor[:plot_points,0]\n",
    "dy = mapped_tensor[:plot_points,1]-x_start_tensor[:plot_points,1]\n",
    "plt.quiver(x_start_tensor[:plot_points,0], x_start_tensor[:plot_points,1], dx, dy, scale=1, scale_units='xy', angles='xy', color='r', width=0.005)\n",
    "\n",
    "plt.scatter(x_target_tensor[:,0], x_target_tensor[:,1], s=1)\n",
    "plt.gca().set_aspect('equal')\n",
    "plt.show()"
   ]
  },
  {
   "cell_type": "markdown",
   "id": "a8d68302",
   "metadata": {},
   "source": [
    "# Testing data"
   ]
  },
  {
   "cell_type": "code",
   "execution_count": 38,
   "id": "1c14b142",
   "metadata": {},
   "outputs": [
    {
     "data": {
      "image/png": "[encoded data removed]",
      "text/plain": [
       "<Figure size 640x480 with 1 Axes>"
      ]
     },
     "metadata": {},
     "output_type": "display_data"
    }
   ],
   "source": [
    "x_start_tensor_test = x_start_tensor+torch.rand_like(x_start_tensor)*0.2\n",
    "mapped_tensor = x_start_tensor_test\n",
    "for i in range(iterations):\n",
    "    mapped_tensor = map(mapped_tensor)\n",
    "mapped_tensor = mapped_tensor.detach()\n",
    "\n",
    "plot_points = 10\n",
    "\n",
    "plt.figure()\n",
    "\n",
    "plt.scatter(x_start_tensor_test[:plot_points,0], \n",
    "            x_start_tensor_test[:plot_points,1])\n",
    "plt.scatter(mapped_tensor[:plot_points,0], mapped_tensor[:plot_points,1])\n",
    "dx = mapped_tensor[:plot_points,0]-x_start_tensor_test[:plot_points,0]\n",
    "dy = mapped_tensor[:plot_points,1]-x_start_tensor_test[:plot_points,1]\n",
    "plt.quiver(x_start_tensor_test[:plot_points,0], \n",
    "           x_start_tensor_test[:plot_points,1], \n",
    "           dx, dy, scale=1, scale_units='xy', angles='xy', color='r', width=0.005)\n",
    "\n",
    "plt.scatter(x_target_tensor[:,0], x_target_tensor[:,1], s=1)\n",
    "plt.gca().set_aspect('equal')\n",
    "plt.show()"
   ]
  },
  {
   "cell_type": "code",
   "execution_count": null,
   "metadata": {},
   "outputs": [],
   "source": []
  }
 ],
 "metadata": {
  "accelerator": "GPU",
  "colab": {
   "include_colab_link": true,
   "provenance": []
  },
  "gpuClass": "standard",
  "jupytext": {
   "formats": "ipynb,py:percent,md"
  },
  "kernelspec": {
   "display_name": "Python 3 (ipykernel)",
   "language": "python",
   "name": "python3"
  },
  "language_info": {
   "codemirror_mode": {
    "name": "ipython",
    "version": 3
   },
   "file_extension": ".py",
   "mimetype": "text/x-python",
   "name": "python",
   "nbconvert_exporter": "python",
   "pygments_lexer": "ipython3",
   "version": "3.10.12"
  },
  "widgets": {
   "application/vnd.jupyter.widget-state+json": {
    "4340e450c8c9444784e3ac188b9230df": {
     "model_module": "@jupyter-widgets/controls",
     "model_module_version": "1.5.0",
     "model_name": "DescriptionStyleModel",
     "state": {
      "_model_module": "@jupyter-widgets/controls",
      "_model_module_version": "1.5.0",
      "_model_name": "DescriptionStyleModel",
      "_view_count": null,
      "_view_module": "@jupyter-widgets/base",
      "_view_module_version": "1.2.0",
      "_view_name": "StyleView",
      "description_width": ""
     }
    },
    "4d5e173f3cdd465b9b40f8b23d270e8a": {
     "model_module": "@jupyter-widgets/base",
     "model_module_version": "1.2.0",
     "model_name": "LayoutModel",
     "state": {
      "_model_module": "@jupyter-widgets/base",
      "_model_module_version": "1.2.0",
      "_model_name": "LayoutModel",
      "_view_count": null,
      "_view_module": "@jupyter-widgets/base",
      "_view_module_version": "1.2.0",
      "_view_name": "LayoutView",
      "align_content": null,
      "align_items": null,
      "align_self": null,
      "border": null,
      "bottom": null,
      "display": null,
      "flex": null,
      "flex_flow": null,
      "grid_area": null,
      "grid_auto_columns": null,
      "grid_auto_flow": null,
      "grid_auto_rows": null,
      "grid_column": null,
      "grid_gap": null,
      "grid_row": null,
      "grid_template_areas": null,
      "grid_template_columns": null,
      "grid_template_rows": null,
      "height": null,
      "justify_content": null,
      "justify_items": null,
      "left": null,
      "margin": null,
      "max_height": null,
      "max_width": null,
      "min_height": null,
      "min_width": null,
      "object_fit": null,
      "object_position": null,
      "order": null,
      "overflow": null,
      "overflow_x": null,
      "overflow_y": null,
      "padding": null,
      "right": null,
      "top": null,
      "visibility": null,
      "width": null
     }
    },
    "5959c15bd28a4059b8952689490ebe2f": {
     "model_module": "@jupyter-widgets/controls",
     "model_module_version": "1.5.0",
     "model_name": "HTMLModel",
     "state": {
      "_dom_classes": [],
      "_model_module": "@jupyter-widgets/controls",
      "_model_module_version": "1.5.0",
      "_model_name": "HTMLModel",
      "_view_count": null,
      "_view_module": "@jupyter-widgets/controls",
      "_view_module_version": "1.5.0",
      "_view_name": "HTMLView",
      "description": "",
      "description_tooltip": null,
      "layout": "IPY_MODEL_a955f09104b54e37b262198a3807761c",
      "placeholder": "​",
      "style": "IPY_MODEL_d4d3328dd8914927b619350b49b6f81c",
      "value": " 999/999 [00:08&lt;00:00, 114.60it/s, loss=0.000293, v_num=0]"
     }
    },
    "915d05c1f046462ebe574b6b306b6110": {
     "model_module": "@jupyter-widgets/controls",
     "model_module_version": "1.5.0",
     "model_name": "HBoxModel",
     "state": {
      "_dom_classes": [],
      "_model_module": "@jupyter-widgets/controls",
      "_model_module_version": "1.5.0",
      "_model_name": "HBoxModel",
      "_view_count": null,
      "_view_module": "@jupyter-widgets/controls",
      "_view_module_version": "1.5.0",
      "_view_name": "HBoxView",
      "box_style": "",
      "children": [
       "IPY_MODEL_df24beefb77f4549b7beed2e23558980",
       "IPY_MODEL_a5a6545605cb475fb4bd6db5d32b0b24",
       "IPY_MODEL_5959c15bd28a4059b8952689490ebe2f"
      ],
      "layout": "IPY_MODEL_a3075bdd01e047faa3f1246dabaedcc7"
     }
    },
    "a3075bdd01e047faa3f1246dabaedcc7": {
     "model_module": "@jupyter-widgets/base",
     "model_module_version": "1.2.0",
     "model_name": "LayoutModel",
     "state": {
      "_model_module": "@jupyter-widgets/base",
      "_model_module_version": "1.2.0",
      "_model_name": "LayoutModel",
      "_view_count": null,
      "_view_module": "@jupyter-widgets/base",
      "_view_module_version": "1.2.0",
      "_view_name": "LayoutView",
      "align_content": null,
      "align_items": null,
      "align_self": null,
      "border": null,
      "bottom": null,
      "display": "inline-flex",
      "flex": null,
      "flex_flow": "row wrap",
      "grid_area": null,
      "grid_auto_columns": null,
      "grid_auto_flow": null,
      "grid_auto_rows": null,
      "grid_column": null,
      "grid_gap": null,
      "grid_row": null,
      "grid_template_areas": null,
      "grid_template_columns": null,
      "grid_template_rows": null,
      "height": null,
      "justify_content": null,
      "justify_items": null,
      "left": null,
      "margin": null,
      "max_height": null,
      "max_width": null,
      "min_height": null,
      "min_width": null,
      "object_fit": null,
      "object_position": null,
      "order": null,
      "overflow": null,
      "overflow_x": null,
      "overflow_y": null,
      "padding": null,
      "right": null,
      "top": null,
      "visibility": null,
      "width": "100%"
     }
    },
    "a5a6545605cb475fb4bd6db5d32b0b24": {
     "model_module": "@jupyter-widgets/controls",
     "model_module_version": "1.5.0",
     "model_name": "FloatProgressModel",
     "state": {
      "_dom_classes": [],
      "_model_module": "@jupyter-widgets/controls",
      "_model_module_version": "1.5.0",
      "_model_name": "FloatProgressModel",
      "_view_count": null,
      "_view_module": "@jupyter-widgets/controls",
      "_view_module_version": "1.5.0",
      "_view_name": "ProgressView",
      "bar_style": "success",
      "description": "",
      "description_tooltip": null,
      "layout": "IPY_MODEL_c81f9b0a5dee4db396442599cb295097",
      "max": 999,
      "min": 0,
      "orientation": "horizontal",
      "style": "IPY_MODEL_faf8ff98c59b4951b62cd8ad4e1d5bfa",
      "value": 999
     }
    },
    "a955f09104b54e37b262198a3807761c": {
     "model_module": "@jupyter-widgets/base",
     "model_module_version": "1.2.0",
     "model_name": "LayoutModel",
     "state": {
      "_model_module": "@jupyter-widgets/base",
      "_model_module_version": "1.2.0",
      "_model_name": "LayoutModel",
      "_view_count": null,
      "_view_module": "@jupyter-widgets/base",
      "_view_module_version": "1.2.0",
      "_view_name": "LayoutView",
      "align_content": null,
      "align_items": null,
      "align_self": null,
      "border": null,
      "bottom": null,
      "display": null,
      "flex": null,
      "flex_flow": null,
      "grid_area": null,
      "grid_auto_columns": null,
      "grid_auto_flow": null,
      "grid_auto_rows": null,
      "grid_column": null,
      "grid_gap": null,
      "grid_row": null,
      "grid_template_areas": null,
      "grid_template_columns": null,
      "grid_template_rows": null,
      "height": null,
      "justify_content": null,
      "justify_items": null,
      "left": null,
      "margin": null,
      "max_height": null,
      "max_width": null,
      "min_height": null,
      "min_width": null,
      "object_fit": null,
      "object_position": null,
      "order": null,
      "overflow": null,
      "overflow_x": null,
      "overflow_y": null,
      "padding": null,
      "right": null,
      "top": null,
      "visibility": null,
      "width": null
     }
    },
    "c81f9b0a5dee4db396442599cb295097": {
     "model_module": "@jupyter-widgets/base",
     "model_module_version": "1.2.0",
     "model_name": "LayoutModel",
     "state": {
      "_model_module": "@jupyter-widgets/base",
      "_model_module_version": "1.2.0",
      "_model_name": "LayoutModel",
      "_view_count": null,
      "_view_module": "@jupyter-widgets/base",
      "_view_module_version": "1.2.0",
      "_view_name": "LayoutView",
      "align_content": null,
      "align_items": null,
      "align_self": null,
      "border": null,
      "bottom": null,
      "display": null,
      "flex": "2",
      "flex_flow": null,
      "grid_area": null,
      "grid_auto_columns": null,
      "grid_auto_flow": null,
      "grid_auto_rows": null,
      "grid_column": null,
      "grid_gap": null,
      "grid_row": null,
      "grid_template_areas": null,
      "grid_template_columns": null,
      "grid_template_rows": null,
      "height": null,
      "justify_content": null,
      "justify_items": null,
      "left": null,
      "margin": null,
      "max_height": null,
      "max_width": null,
      "min_height": null,
      "min_width": null,
      "object_fit": null,
      "object_position": null,
      "order": null,
      "overflow": null,
      "overflow_x": null,
      "overflow_y": null,
      "padding": null,
      "right": null,
      "top": null,
      "visibility": null,
      "width": null
     }
    },
    "d4d3328dd8914927b619350b49b6f81c": {
     "model_module": "@jupyter-widgets/controls",
     "model_module_version": "1.5.0",
     "model_name": "DescriptionStyleModel",
     "state": {
      "_model_module": "@jupyter-widgets/controls",
      "_model_module_version": "1.5.0",
      "_model_name": "DescriptionStyleModel",
      "_view_count": null,
      "_view_module": "@jupyter-widgets/base",
      "_view_module_version": "1.2.0",
      "_view_name": "StyleView",
      "description_width": ""
     }
    },
    "df24beefb77f4549b7beed2e23558980": {
     "model_module": "@jupyter-widgets/controls",
     "model_module_version": "1.5.0",
     "model_name": "HTMLModel",
     "state": {
      "_dom_classes": [],
      "_model_module": "@jupyter-widgets/controls",
      "_model_module_version": "1.5.0",
      "_model_name": "HTMLModel",
      "_view_count": null,
      "_view_module": "@jupyter-widgets/controls",
      "_view_module_version": "1.5.0",
      "_view_name": "HTMLView",
      "description": "",
      "description_tooltip": null,
      "layout": "IPY_MODEL_4d5e173f3cdd465b9b40f8b23d270e8a",
      "placeholder": "​",
      "style": "IPY_MODEL_4340e450c8c9444784e3ac188b9230df",
      "value": "Epoch 9: 100%"
     }
    },
    "faf8ff98c59b4951b62cd8ad4e1d5bfa": {
     "model_module": "@jupyter-widgets/controls",
     "model_module_version": "1.5.0",
     "model_name": "ProgressStyleModel",
     "state": {
      "_model_module": "@jupyter-widgets/controls",
      "_model_module_version": "1.5.0",
      "_model_name": "ProgressStyleModel",
      "_view_count": null,
      "_view_module": "@jupyter-widgets/base",
      "_view_module_version": "1.2.0",
      "_view_name": "StyleView",
      "bar_color": null,
      "description_width": ""
     }
    }
   }
  }
 },
 "nbformat": 4,
 "nbformat_minor": 5
}
