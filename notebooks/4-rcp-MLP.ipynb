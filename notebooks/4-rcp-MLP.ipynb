{
 "cells": [
  {
   "cell_type": "markdown",
   "id": "f6828844-3a74-49bd-8348-ceae45948da7",
   "metadata": {
    "id": "f6828844-3a74-49bd-8348-ceae45948da7"
   },
   "source": [
    "# Load data"
   ]
  },
  {
   "cell_type": "code",
   "execution_count": 1,
   "id": "a5713c2d-0108-4708-9f0d-021e183f6d1e",
   "metadata": {
    "id": "a5713c2d-0108-4708-9f0d-021e183f6d1e"
   },
   "outputs": [],
   "source": [
    "import torch\n",
    "import pandas as pd\n",
    "import matplotlib.pyplot as plt\n",
    "%matplotlib widget\n",
    "\n",
    "from iterativennsimple.Sequential2D import Sequential2D, Identity\n",
    "from iterativennsimple.Sequential1D import Sequential1D\n",
    "\n",
    "from iterativennsimple.utils.plot_2D_start_end import plot_2D_start_end"
   ]
  },
  {
   "cell_type": "code",
   "execution_count": 2,
   "id": "d0e79796",
   "metadata": {},
   "outputs": [],
   "source": [
    "# Turn a pandas dataframe into a pytorch tensor\n",
    "def df_to_tensor(df):\n",
    "    return torch.tensor(df.values, dtype=torch.float32)"
   ]
  },
  {
   "cell_type": "code",
   "execution_count": 3,
   "id": "9f5c3fcc-147d-4669-8ab2-3ddf16a88b4e",
   "metadata": {
    "id": "9f5c3fcc-147d-4669-8ab2-3ddf16a88b4e"
   },
   "outputs": [],
   "source": [
    "#name = 'regression_line'\n",
    "#name = 'pca_line'\n",
    "#name = 'circle'\n",
    "#name = 'regression_circle'\n",
    "#one_hot_y = False\n",
    "\n",
    "name = 'MNIST'\n",
    "one_hot_y = True\n",
    "\n",
    "# Read the start data\n",
    "z_start = pd.read_parquet(f'../data/processed/{name}_start.parquet')\n",
    "# Read the target data\n",
    "z_target = pd.read_parquet(f'../data/processed/{name}_target.parquet')"
   ]
  },
  {
   "cell_type": "markdown",
   "id": "78ba5bdc",
   "metadata": {},
   "source": [
    "## Data preprocessing"
   ]
  },
  {
   "cell_type": "code",
   "execution_count": 4,
   "id": "133ecd27",
   "metadata": {},
   "outputs": [],
   "source": [
    "z_start_tensor = df_to_tensor(z_start)\n",
    "z_target_tensor = df_to_tensor(z_target)\n",
    "\n",
    "# Only use the given number of sample\n",
    "max_num_samples = 1000\n",
    "num_samples = min(max_num_samples, z_start_tensor.shape[0])\n",
    "z_start_tensor = z_start_tensor[:num_samples]\n",
    "z_target_tensor = z_target_tensor[:num_samples]\n"
   ]
  },
  {
   "cell_type": "markdown",
   "id": "2d9b3a29",
   "metadata": {},
   "source": [
    "We have two views of the data, and here is where we reconcile them.   The dynamical systems view is to have vector $z_0$ (called \"z_start_tensor\" in the code) and $z_1$ (called \"z_target_tensor\" in the code) that are the initial and final states of the system.  We want to construct a function $f$ (or more precisely choose a set of parameters $\\theta$ that selects $f$ from some family of functions) such that $\\|f(z_0) - z_1\\|$ is small.  The machine learning view is to have a set of inputs $x$ (which is a subset of \"z_start_tensor\") and a set of outputs $y$ (which is a subset of \"z_target_tensor\") and to construct a function $g$ (or more precisely choose a set of parameters $\\phi$ that selects $g$ from some family of functions) such that $\\|g(x) - y\\|$ is small.   \n",
    "\n",
    "**The idea is to have $x$ and $y$ be subsets of $z_0$ and $z_1$ respectively!**   But how to do that!?"
   ]
  },
  {
   "cell_type": "markdown",
   "id": "4f1e3668",
   "metadata": {},
   "source": [
    "Let's begin by writing \n",
    "\n",
    "$$\n",
    "z_i=\n",
    "\\begin{bmatrix}\n",
    "x_i \\\\\n",
    "y_i \\\\\n",
    "\\end{bmatrix}\n",
    "$$\n",
    "\n",
    "and **we assume that $x_0=x_1$**.  This may seem odd at first glance, but is actually quite natural.  For example, in our MNIST example the starting image in $x_0$ and the target image in $x_1$ are the same.  It is merely the classification in $y_0$ and $y_1$ that are different.  I.e., $y_0$ contains some noisy classification or uniform prior of $x_0$ and $y_1$ contains the correct classification of $x_0$.  In the case of the MNIST data, we have $x_0=x_1$ and $y_0\\neq y_1$.\n",
    "\n",
    "So, in slighltly more detail we choose $z_0$ and $z_1$ so that\n",
    "\n",
    "$$\n",
    "z_0=\n",
    "\\begin{bmatrix}\n",
    "x_0 \\\\\n",
    "y_0 \\\\\n",
    "\\end{bmatrix}\n",
    "$$\n",
    "\n",
    "and\n",
    "\n",
    "$$\n",
    "z_1=\n",
    "\\begin{bmatrix}\n",
    "x_0 \\\\\n",
    "y_1 \\\\\n",
    "\\end{bmatrix}\n",
    "$$"
   ]
  },
  {
   "cell_type": "code",
   "execution_count": 5,
   "id": "701f8d98",
   "metadata": {},
   "outputs": [
    {
     "name": "stdout",
     "output_type": "stream",
     "text": [
      "torch.Size([794]) torch.Size([794])\n",
      "tensor(784) tensor(10)\n"
     ]
    }
   ],
   "source": [
    "\n",
    "# compute a mask for the data where every entry in each column is the same\n",
    "# this is used to remove columns that are constant\n",
    "mask = (z_start_tensor == z_target_tensor).all(axis=0)\n",
    "mask.shape\n",
    "x_mask = mask\n",
    "y_mask = ~mask\n",
    "\n",
    "# print out the shape of the masks\n",
    "print(x_mask.shape, y_mask.shape)\n",
    "\n",
    "# print out number of true entries in each mask\n",
    "print(x_mask.sum(), y_mask.sum())\n"
   ]
  },
  {
   "cell_type": "markdown",
   "id": "1880ae29-6269-42a9-870f-fb52bb18cf36",
   "metadata": {
    "id": "1880ae29-6269-42a9-870f-fb52bb18cf36"
   },
   "source": [
    "# MLP model"
   ]
  },
  {
   "cell_type": "markdown",
   "id": "11bc5490",
   "metadata": {},
   "source": [
    "Now we start using Sequential2D to build our model.  This requires a little massaging of the data.  In particlar, remember that we now have an iterative map of the form\n",
    "\n",
    "$$\n",
    "\\begin{bmatrix}\n",
    "I   & 0   & 0   & 0 \\\\\n",
    "f_1 & 0   & 0   & 0 \\\\\n",
    "0   & f_2 & 0   & 0 \\\\\n",
    "0   & 0   & f_3 & 0 \\\\\n",
    "\\end{bmatrix}\n",
    "$$\n",
    "\n",
    "and a state vector that combines $x$, $y$, and *the hidden layers* in the following way.\n",
    "\n",
    "$$\n",
    "\\begin{bmatrix}\n",
    "I   & 0   & 0   & 0 \\\\\n",
    "f_1 & 0   & 0   & 0 \\\\\n",
    "0   & f_2 & 0   & 0 \\\\\n",
    "0   & 0   & f_3 & 0 \\\\\n",
    "\\end{bmatrix}\n",
    "\\circ\n",
    "\\begin{bmatrix}\n",
    "x_0 \\\\\n",
    "h_1 \\\\\n",
    "h_2 \\\\\n",
    "y_0 \\\\\n",
    "\\end{bmatrix}\n",
    "$$"
   ]
  },
  {
   "cell_type": "markdown",
   "id": "0fc9ed2c",
   "metadata": {},
   "source": [
    "I am feeling a little silly today, so let's do the rest using Achilles and the Hare from Godel, Escher, Bach.\n",
    "\n",
    "![image.png](attachment:image.png)"
   ]
  },
  {
   "cell_type": "markdown",
   "id": "7daa36af",
   "metadata": {},
   "source": [
    "Achilles:  But... didn't you just say that an normal ML algorithm link and MLP ignores $y_0$?  Look, doesn't $y_0$ appear right up there?  \n",
    "\n",
    "Hare: Well, look at what happens after the first iteration.\n",
    "\n",
    "$$\n",
    "\\begin{bmatrix}\n",
    "I   & 0   & 0   & 0 \\\\\n",
    "f_1 & 0   & 0   & 0 \\\\\n",
    "0   & f_2 & 0   & 0 \\\\\n",
    "0   & 0   & f_3 & 0 \\\\\n",
    "\\end{bmatrix}\n",
    "\\circ\n",
    "\\begin{bmatrix}\n",
    "x_0 \\\\\n",
    "h_1 \\\\\n",
    "h_2 \\\\\n",
    "y_0 \\\\\n",
    "\\end{bmatrix}\n",
    "=\n",
    "\\begin{bmatrix}\n",
    "x_0 \\\\\n",
    "f_1(x_0) \\\\\n",
    "f_2(h_1) \\\\\n",
    "f_3(h_2) \\\\\n",
    "\\end{bmatrix}\n",
    "$$\n",
    "\n",
    "which **does not** contain $y_0$!  The MLP is cunningly designed to ignore the initial guess contained in $y_0$ :-)"
   ]
  },
  {
   "cell_type": "markdown",
   "id": "3c74a4ef",
   "metadata": {},
   "source": [
    "Achilles:  But... but... but...  what about the hidden layers $h_1$ and $h_2$?  Don't you need to choose them carefully since they are the input to the next layer\\iteration?  I remember reading that MLPs don't care about random initializations of the hidden layers since they will be overwritten by the training process!?\n",
    "\n",
    "Hare: Yes, but...  look at what happens after the second iteration.\n",
    "\n",
    "$$\n",
    "\\begin{bmatrix}\n",
    "I   & 0   & 0   & 0 \\\\\n",
    "f_1 & 0   & 0   & 0 \\\\\n",
    "0   & f_2 & 0   & 0 \\\\\n",
    "0   & 0   & f_3 & 0 \\\\\n",
    "\\end{bmatrix}\n",
    "\\circ\n",
    "\\begin{bmatrix}\n",
    "I   & 0   & 0   & 0 \\\\\n",
    "f_1 & 0   & 0   & 0 \\\\\n",
    "0   & f_2 & 0   & 0 \\\\\n",
    "0   & 0   & f_3 & 0 \\\\\n",
    "\\end{bmatrix}\n",
    "\\circ\n",
    "\\begin{bmatrix}\n",
    "x_0 \\\\\n",
    "h_1 \\\\\n",
    "h_2 \\\\\n",
    "y_0 \\\\\n",
    "\\end{bmatrix}\n",
    "=\n",
    "\\begin{bmatrix}\n",
    "x_0 \\\\\n",
    "f_1(x_0) \\\\\n",
    "f_2(f_1(x_0)) \\\\\n",
    "f_3(f_2(h_1)) \\\\\n",
    "\\end{bmatrix}\n",
    "$$\n"
   ]
  },
  {
   "cell_type": "markdown",
   "id": "19538528",
   "metadata": {},
   "source": [
    "Hare: And one more iteration gives\n",
    "\n",
    "$$\n",
    "\\begin{bmatrix}\n",
    "I   & 0   & 0   & 0 \\\\\n",
    "f_1 & 0   & 0   & 0 \\\\\n",
    "0   & f_2 & 0   & 0 \\\\\n",
    "0   & 0   & f_3 & 0 \\\\\n",
    "\\end{bmatrix}\n",
    "\\circ\n",
    "\\begin{bmatrix}\n",
    "I   & 0   & 0   & 0 \\\\\n",
    "f_1 & 0   & 0   & 0 \\\\\n",
    "0   & f_2 & 0   & 0 \\\\\n",
    "0   & 0   & f_3 & 0 \\\\\n",
    "\\end{bmatrix}\n",
    "\\circ\n",
    "\\begin{bmatrix}\n",
    "I   & 0   & 0   & 0 \\\\\n",
    "f_1 & 0   & 0   & 0 \\\\\n",
    "0   & f_2 & 0   & 0 \\\\\n",
    "0   & 0   & f_3 & 0 \\\\\n",
    "\\end{bmatrix}\n",
    "\\circ\n",
    "\\begin{bmatrix}\n",
    "x_0 \\\\\n",
    "h_1 \\\\\n",
    "h_2 \\\\\n",
    "y_0 \\\\\n",
    "\\end{bmatrix}\n",
    "=\n",
    "\\begin{bmatrix}\n",
    "x_0 \\\\\n",
    "f_1(x_0) \\\\\n",
    "f_2(f_1(x_0)) \\\\\n",
    "f_3(f_2(f_1(x_0))) \\\\\n",
    "\\end{bmatrix}\n",
    "$$\n",
    "\n",
    "Two neat things have happened. First notice that the hidden layers $h_1$ and $h_2$ have been overwritten by the training process, so their initiationlization is irrelevant.  Second, we have the last entry has the form $f_3(f_2(f_1(x_0)))$ which is exactly the form of the answer that the MLP would have given!"
   ]
  },
  {
   "cell_type": "markdown",
   "id": "1fddde4e",
   "metadata": {},
   "source": [
    "Hare:  So, the MLP is a cunningly designed iterative map that ignores the initial guess $y_0$ and the hidden layers $h_1$ and $h_2$ and gives the same answer as the iterative map that we are trying to learn!  "
   ]
  },
  {
   "cell_type": "code",
   "execution_count": 6,
   "id": "ebbc9b74-d7dc-4dd6-bb72-88ed57f5b63e",
   "metadata": {
    "id": "ebbc9b74-d7dc-4dd6-bb72-88ed57f5b63e"
   },
   "outputs": [],
   "source": [
    "input_size = int(x_mask.sum())\n",
    "h1_size = 20\n",
    "h2_size = 20\n",
    "output_size = int(y_mask.sum())\n",
    "\n",
    "x_idx = torch.arange(0, input_size)\n",
    "h_idx = torch.arange(input_size, input_size+h1_size+h2_size)\n",
    "y_idx = torch.arange(input_size+h1_size+h2_size, input_size+h1_size+h2_size+output_size)\n",
    "\n",
    "total_size = input_size + h1_size + h2_size + output_size\n",
    "\n",
    "iterations = 3\n",
    "\n",
    "I = Identity(in_features=input_size, out_features=input_size)\n",
    "f1 = Sequential1D(torch.nn.Linear(in_features=input_size, out_features=h1_size), \n",
    "                  torch.nn.ReLU(), \n",
    "                  in_features=input_size, out_features=h1_size)\n",
    "f2 = Sequential1D(torch.nn.Linear(in_features=h1_size, out_features=h2_size), \n",
    "                  torch.nn.ReLU(), \n",
    "                  in_features=h1_size,    out_features=h2_size)\n",
    "f3 = torch.nn.Linear(in_features=h2_size,    out_features=output_size)    \n",
    "\n",
    "in_features_list  = [input_size, h1_size, h2_size, output_size]\n",
    "out_features_list = [input_size, h1_size, h2_size, output_size]\n",
    "blocks = [[I,    None, None, None],\n",
    "          [f1,   None, None, None],\n",
    "          [None, f2,   None, None],\n",
    "          [None, None, f3,   None]]\n",
    "\n",
    "def transpose_blocks(blocks):\n",
    "    return [[blocks[j][i] for j in range(len(blocks))] for i in range(len(blocks[0]))]\n",
    "\n",
    "map = Sequential2D(\n",
    "    in_features_list=in_features_list,\n",
    "    out_features_list=out_features_list,\n",
    "    blocks=transpose_blocks(blocks)\n",
    ")   "
   ]
  },
  {
   "cell_type": "code",
   "execution_count": 7,
   "id": "c367059b",
   "metadata": {},
   "outputs": [],
   "source": [
    "zh_start_tensor = torch.cat((z_start_tensor[:, x_mask],\n",
    "                             torch.zeros(z_start_tensor.shape[0], len(h_idx)), \n",
    "                             z_start_tensor[:, y_mask]), dim=1)\n",
    "zh_target_tensor = torch.cat((z_target_tensor[:, x_mask], \n",
    "                             torch.zeros(z_target_tensor.shape[0], len(h_idx)), \n",
    "                             z_target_tensor[:, y_mask]), dim=1)"
   ]
  },
  {
   "cell_type": "code",
   "execution_count": 8,
   "id": "a7eeb2b8",
   "metadata": {},
   "outputs": [],
   "source": [
    "# a dataloader which returns a batch of start and target data\n",
    "class Data(torch.utils.data.Dataset):\n",
    "    def __init__(self, z_start, z_target):\n",
    "        self.z_start = z_start\n",
    "        self.z_target = z_target\n",
    "    def __len__(self):\n",
    "        return len(self.z_start)\n",
    "    def __getitem__(self, idx):\n",
    "        return self.z_start[idx], self.z_target[idx]\n",
    "    \n",
    "train_data = Data(zh_start_tensor, zh_target_tensor)\n",
    "train_loader = torch.utils.data.DataLoader(train_data, batch_size=512, shuffle=True)"
   ]
  },
  {
   "cell_type": "code",
   "execution_count": 9,
   "id": "7486ca78-5e1c-4f94-afb5-9015303aaa09",
   "metadata": {
    "colab": {
     "base_uri": "https://localhost:8080/",
     "height": 382,
     "referenced_widgets": [
      "915d05c1f046462ebe574b6b306b6110",
      "df24beefb77f4549b7beed2e23558980",
      "a5a6545605cb475fb4bd6db5d32b0b24",
      "5959c15bd28a4059b8952689490ebe2f",
      "a3075bdd01e047faa3f1246dabaedcc7",
      "4d5e173f3cdd465b9b40f8b23d270e8a",
      "4340e450c8c9444784e3ac188b9230df",
      "c81f9b0a5dee4db396442599cb295097",
      "faf8ff98c59b4951b62cd8ad4e1d5bfa",
      "a955f09104b54e37b262198a3807761c",
      "d4d3328dd8914927b619350b49b6f81c"
     ]
    },
    "id": "7486ca78-5e1c-4f94-afb5-9015303aaa09",
    "outputId": "e3247ec9-d372-4fda-c69e-654d985bc905"
   },
   "outputs": [],
   "source": [
    "# Define the loss function and optimizer\n",
    "criterion = torch.nn.MSELoss()\n",
    "optimizer = torch.optim.Adam(map.parameters(), lr=0.001)"
   ]
  },
  {
   "cell_type": "code",
   "execution_count": 10,
   "id": "cb50afb7",
   "metadata": {},
   "outputs": [
    {
     "name": "stdout",
     "output_type": "stream",
     "text": [
      "Epoch 0, Batch 1, Loss 0.136933371424675\n",
      "Epoch 100, Batch 1, Loss 0.037728261202573776\n",
      "Epoch 200, Batch 1, Loss 0.024366328492760658\n",
      "Epoch 300, Batch 1, Loss 0.016563327983021736\n",
      "Epoch 400, Batch 1, Loss 0.012370732612907887\n"
     ]
    }
   ],
   "source": [
    "max_epochs = 500\n",
    "# Train the model\n",
    "for epoch in range(max_epochs):\n",
    "    for batch_idx, (start, target) in enumerate(train_loader):\n",
    "        optimizer.zero_grad()\n",
    "\n",
    "        mapped = start\n",
    "\n",
    "        loss = 0.0\n",
    "        for i in range(iterations):\n",
    "            mapped = map(mapped)\n",
    "\n",
    "        loss = criterion(mapped[:, y_idx], target[:, y_idx])\n",
    "        loss.backward()\n",
    "\n",
    "        optimizer.step()\n",
    "    if epoch % 100 == 0:\n",
    "        print(f'Epoch {epoch}, Batch {batch_idx}, Loss {loss.item()}')"
   ]
  },
  {
   "cell_type": "markdown",
   "id": "054793e0",
   "metadata": {},
   "source": [
    "# Training data"
   ]
  },
  {
   "cell_type": "code",
   "execution_count": 11,
   "id": "0545bf25",
   "metadata": {},
   "outputs": [],
   "source": [
    "def project(z_start, z_mapped, z_target, idx, one_hot=False):\n",
    "    if len(idx) == 1:\n",
    "        start = z_start[:, idx[0]]\n",
    "        target = z_target[:, idx[0]]\n",
    "        mapped = z_mapped[:, idx[0]]\n",
    "    else:\n",
    "        if one_hot:\n",
    "            start = torch.argmax(z_start[:, idx], dim=1)\n",
    "            target = torch.argmax(z_target[:, idx], dim=1)\n",
    "            mapped = torch.argmax(z_mapped[:, idx], dim=1)\n",
    "        else:\n",
    "            # Use PCA to reduce the dimensionality of the data\n",
    "            _, _, V = torch.svd(z_target[:, idx])\n",
    "            start = torch.matmul(z_start[:, idx], V[:, 0])\n",
    "            target = torch.matmul(z_target[:, idx], V[:, 0])\n",
    "            mapped = torch.matmul(z_mapped[:, idx], V[:, 0])\n",
    "    return start, mapped, target\n",
    "\n",
    "\n",
    "def my_plot(z_start, z_mapped, z_target, plot_points, x_idx, y_idx, one_hot_y=False):\n",
    "    start_x, mapped_x, target_x = project(z_start, z_mapped, z_target, x_idx)\n",
    "    start_y, mapped_y, target_y = project(z_start, z_mapped, z_target, y_idx, one_hot_y)\n",
    "    plot_2D_start_end(start_x, start_y,\n",
    "                      mapped_x, mapped_y, \n",
    "                      target_x, target_y, \n",
    "                      plot_points)"
   ]
  },
  {
   "cell_type": "code",
   "execution_count": 12,
   "id": "86109c30",
   "metadata": {},
   "outputs": [
    {
     "data": {
      "application/vnd.jupyter.widget-view+json": {
       "model_id": "b1319b27df524fc2be65d924c8ad5980",
       "version_major": 2,
       "version_minor": 0
      },
      "image/png": "[encoded data removed]",
      "text/html": [
       "\n",
       "            <div style=\"display: inline-block;\">\n",
       "                <div class=\"jupyter-widgets widget-label\" style=\"text-align: center;\">\n",
       "                    Figure\n",
       "                </div>\n",
       "                <img src='data:image/png;base64,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' width=640.0/>\n",
       "            </div>\n",
       "        "
      ],
      "text/plain": [
       "Canvas(toolbar=Toolbar(toolitems=[('Home', 'Reset original view', 'home', 'home'), ('Back', 'Back to previous …"
      ]
     },
     "metadata": {},
     "output_type": "display_data"
    }
   ],
   "source": [
    "\n",
    "plot_iterations = 1\n",
    "\n",
    "mapped_tensor = zh_start_tensor\n",
    "for i in range(plot_iterations):\n",
    "    mapped_tensor = map(mapped_tensor)\n",
    "mapped_tensor = mapped_tensor.detach()\n",
    "\n",
    "my_plot(zh_start_tensor, mapped_tensor, zh_target_tensor, plot_points=10, x_idx=x_idx, y_idx=y_idx, one_hot_y=one_hot_y)\n"
   ]
  },
  {
   "cell_type": "code",
   "execution_count": 13,
   "id": "8ac074be-5d27-480a-83fe-e1161e9d69ef",
   "metadata": {
    "id": "8ac074be-5d27-480a-83fe-e1161e9d69ef"
   },
   "outputs": [
    {
     "data": {
      "application/vnd.jupyter.widget-view+json": {
       "model_id": "6732538222b24f85a78d59173a96b451",
       "version_major": 2,
       "version_minor": 0
      },
      "image/png": "[encoded data removed]",
      "text/html": [
       "\n",
       "            <div style=\"display: inline-block;\">\n",
       "                <div class=\"jupyter-widgets widget-label\" style=\"text-align: center;\">\n",
       "                    Figure\n",
       "                </div>\n",
       "                <img src='data:image/png;base64,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' width=640.0/>\n",
       "            </div>\n",
       "        "
      ],
      "text/plain": [
       "Canvas(toolbar=Toolbar(toolitems=[('Home', 'Reset original view', 'home', 'home'), ('Back', 'Back to previous …"
      ]
     },
     "metadata": {},
     "output_type": "display_data"
    }
   ],
   "source": [
    "plot_iterations = iterations\n",
    "\n",
    "mapped_tensor = zh_start_tensor\n",
    "for i in range(plot_iterations):\n",
    "    mapped_tensor = map(mapped_tensor)\n",
    "mapped_tensor = mapped_tensor.detach()\n",
    "\n",
    "my_plot(zh_start_tensor, mapped_tensor, zh_target_tensor, plot_points=10, x_idx=x_idx, y_idx=y_idx, one_hot_y=one_hot_y)"
   ]
  },
  {
   "cell_type": "markdown",
   "id": "ea123cd4",
   "metadata": {},
   "source": [
    "# Path"
   ]
  },
  {
   "cell_type": "code",
   "execution_count": 14,
   "id": "911b76b9",
   "metadata": {},
   "outputs": [
    {
     "data": {
      "application/vnd.jupyter.widget-view+json": {
       "model_id": "8984dd16317249cea640429d03c7417c",
       "version_major": 2,
       "version_minor": 0
      },
      "image/png": "[encoded data removed]",
      "text/html": [
       "\n",
       "            <div style=\"display: inline-block;\">\n",
       "                <div class=\"jupyter-widgets widget-label\" style=\"text-align: center;\">\n",
       "                    Figure\n",
       "                </div>\n",
       "                <img src='data:image/png;base64,iVBORw0KGgoAAAANSUhEUgAAAoAAAAHgCAYAAAA10dzkAAAAOXRFWHRTb2Z0d2FyZQBNYXRwbG90bGliIHZlcnNpb24zLjguMiwgaHR0cHM6Ly9tYXRwbG90bGliLm9yZy8g+/7EAAAACXBIWXMAAA9hAAAPYQGoP6dpAAA7vElEQVR4nO3df3hU5Z3//9eZyZAMSGYCgpoRg80qKjjVUhGL0qilaEf747sXrVhal/rRburWWr/Ygn6s2mrB1su29tuNbdfq7tJat3bbiqmoFYIVpSAisbSCUo00MUKBTPiRnzPz/WM4h5nJTDIhk5yB+/m4rlyZ8+O+z/u+z8nklTOTxEokEgkBAADAGB63CwAAAMDIIgACAAAYhgAIAABgGAIgAACAYQiAAAAAhiEAAgAAGIYACAAAYBgCIAAAgGEIgAAAAIYhAAIAABiGAAgAAGAYAiAAAIBhCIAAAACGIQACAAAYhgAIAABgGAIgAACAYQiAAAAAhiEAAgAAGIYACAAAYBgCIAAAgGEIgAAAAIYhAAIAABiGAAgAAGAYAiAAAIBhCIAAAACGIQACAAAYhgAIAABgGAIgAACAYQiAAAAAhiEAAgAAGIYACAAAYBgCIAAAgGEIgAAAAIYhAAIAABiGAAgAAGAYAiAAAIBhCIAAAACGIQACAAAYhgAIAABgGAIgAACAYQiAAAAAhiEAAgAAGIYACAAAYBgCIAAAgGEIgAAAAIYhAAIAABiGAAgAAGAYAiAAAIBhCIAAAACGIQACAAAYhgAIAABgGAIgAACAYQiAAAAAhiEAAgAAGIYACAAAYBgCIAAAgGFK3C4Ax654PK6WlhaNHTtWlmW5XQ4AGCORSGjfvn2qrKyUx8O9HvRFAMSwaWlp0aRJk9wuAwCMtWPHDp188slul4EiRADEsBk7dqyk5BNQeXm5y9UAgDna29s1adIk53kYyEQAxLCxX/YtLy8nAAKAC3j7DXLhjQEAAACGIQACAAAYhgAIAABgGAIgAACAYQiAAAAAhiEAAgAAGIYACAAAYBgCIAAAgGEIgAAAAIYhAAIAABiGAAgAAGAYAiAAAIBhStwuACi0Gx/dpPrGFkXClZpx6jjVNWzX9KoKbWzaq9qaai2YWZV1/1ElHnX0xGVJKvFY6o0ndHYooDd27ldnT0xnhwJ6Z89BHejuVU8skdZHKFim1minplYm9+/oiTnrD3TF1NUbV2mJR4vmTpEk3ff0VnX1xtUbi6s3nlBlsEwtbZ0q8ST/cXvaOq+lMaNKNPv0CdrYtFfjx4xSY3PUOXb4UF1dvbGUiizneOvf2qP6xhadGEjWGAlX6oH552r5uibVNWxXbU21JDnz9Py2XZLkHC91e21NtdNf6vyOHzNKrzVHVebz6LSJY7WlJaqplcm6Uvuyz0O285FaT+Y5GozMflKvhwfmn3vE/Q6lhsHsL6kg85CvQs07gKOLlUgkEgPvBgxee3u7AoGAotGoysvLR+y41UvqFUtIXks6MeBXc1uHvJYUS0ihoF9rF1+Sdf+REAr6JUnNbR2DbmuPYbDHa412pLXzWtL2pRHNWrZKzW0daTWlHiN1zuztqf2lzm++tWd+Tj0fqfVknqPByOwn9XrYvjRyxP0OpYbB7C+pIPOQr0LNO4qLW8+/OHrwEjCOOZFwpbxW8nNtTbVCQb8i4UqFgn7nDku2/f2+5JeDJcnnsWQpeXfN7/M6j4N+n3xeq08foWCZvNbh/VPXB/0++X1eBf0+1dZUq7am2llnHycULHOO22ed11LQ73PGEA4F0o5t1+X3eVI+Dh/PHp9dYyRcKUnO3Ng12fMU9PvSjpe6PbW/1PkNhwKylJzDcCjgzEVmX5mfU89H6jGGIrOf1HpHymDHku1cDHUe8jXSxwNQHLgDiGHDT6AA4A6efzEQ7gACAAAYhgAIAABgGAIgAACAYQiAAAAAhiEAAgAAGIYACAAAYBgCIAAAgGEIgAAAAIYhAAIAABiGAAgAAGAYAiAAAIBhCIAAAACGIQACAAAYhgAIAABgGAIgAACAYQiAAAAAhiEAAgAAGIYACAAAYBgCIAAAgGEIgAAAAIYhAAIAABiGAAgAAGAYAiAAAIBhCIAAAACGIQACAAAYhgAIAABgGAIgAACAYQiAAAAAhiEAAgAAGIYACAAAYBgCILKKxWK6/fbbdeqpp8rv96u6ulrf+ta3lEgk3C4NAAAMUYnbBaA43Xvvvaqrq9N//ud/aurUqXr55Ze1cOFCBQIB3XjjjW6XBwAAhoAAiKxefPFFfeITn1AkEpEkTZ48WY8++qjWr1/vcmUAAGCoeAkYWX3oQx/Sc889p23btkmSNm/erBdeeEGXX365y5UBAICh4g4gslq8eLHa29t1xhlnyOv1KhaL6Z577tFnP/vZnG26urrU1dXlLLe3t49EqQNavq5JdQ3bVVtTrQUzq464XX/9LF/XpPue3qqu3phKS7xaNHeK0+ae+r+osyeus0MBvbPnoA509ao3ntDZoYDe2LlPHT1x+X0ezTnrRG1s2qsDXT1q6+hV0F+iMaU+Ta+q0LN/aVVHT1yS5Pd5ddrE4/Rac1QlHktjSks0+/QJen7bLnX1xlVa4tHs0yektfn4+yv1wPxzdeOjm1Tf2KITA2VqaetUicdSidej0hKPThk3WltaoppaGdDuA92qramWpLRx2cexx1AZLFNrtNPpr8zn0W2Rs5z5sedselWF064nnnDGa9foSxnHxqa9ml5V4Xx+ftsuSdKiuVMkyTkHmY/ve3qrJDl95DrfA10P/Z331GNmjjGf6+RIjMT1O5hjFnp8hVCMNQHFzkrwrn5k8ctf/lK33HKLvvvd72rq1Kl69dVXddNNN+n+++/XNddck7XNnXfeqbvuuqvP+mg0qvLy8uEuOadZy1apua1DoaBfaxdfcsTt+uvH3mbLbJMPryXFsnw15lrf3z7Zlrcvjah6Sf2AfdlCQb8kpdWfTy2p82OPP1u7/tZlfs6sJ9fj1D5yne+Brof+znvqMTPHmM91ciRG4vodzDELPb5CKMaa3Nbe3q5AIOD68y+KFy8BI6tbbrlFixcv1lVXXaWzzz5bn/vc5/TVr35VS5cuzdlmyZIlikajzseOHTtGsOLcamuqFQr6nTs4R9quv35qa6oV9Pvk93kU9PvS2vh9HlmSwqGAgn6ffB7LWfb7kl+Cfp9HkXClQkG/gv7kjfmgv0ShoF+RcKWzX3Jfr8KhgCxJPo+loN+nSLjy0PG9znJqm0i40vnstaRQsMxpb7cJhwLyWsm67HFmjss+jj2GULAsrT+/z5M2P/acpbZLHa9dY+o47P1T29lzmnoOMh/b+9ltc53vga6H/s57traDuU6OxEhcv4M5ZqHHVwjFWBNQ7LgDiKzGjx+vu+++W7W1tc66pUuX6uGHH3beFzgQfgIFAHfw/IuB8B5AZHXllVfqnnvu0SmnnKKpU6dq06ZNuv/++/WFL3zB7dIAAMAQcQcQWe3bt0+33367fvOb32jnzp2qrKzU/Pnz9Y1vfEOjRo3Kqw9+AgUAd/D8i4EQADFseAICAHfw/IuB8EsgAAAAhiEAAgAAGIYACAAAYBgCIAAAgGEIgAAAAIYhAAIAABiGAAgAAGAYAiAAAIBhCIAAAACGIQACAAAYhgAIAABgGAIgAACAYQiAAAAAhiEAAgAAGIYACAAAYBgCIAAAgGEIgAAAAIYhAAIAABiGAAgAAGAYAiAAAIBhCIAAAACGIQACAAAYhgAIAABgGAIgAACAYQiAAAAAhiEAAgAAGIYACAAAYBgCIAAAgGEIgAAAAIYhAAIAABimxO0CgJGwfF2T6hq2a3pVhZ7ftkuStGjuFC2YWaXl65p0T/1f1NkT19mhgN7Zc1CSNPv0CdrYtFdSQs1tnQqHApp8/Bg9sblFkvTx91dKkrMsSaFgmXa2d6knnpAkhUMBvbFzn9P37gPdfWqQpHvq/6qOnpj8Pq9Om3icXmuOSpISkvw+jzp64vJYktey1BtPqDJYptZop04MJD9Hwsla6htbFAlXasap41TXsF3jx4zSlpaoTgyUqaWtU2U+j8aNGaXmtk6FgmWSLE2vqtDGpr2qranW+rf2OH08MP9c3fjoJmc5s//7nt6aMYa/qKMnLp/XUonHcuakuzeuWCI5F5LU2ByVz2vpjiunSpLTjz3ftTXVWjCzKu285VonyTmvG5v2po3F3pbaNt/rpL82qXPywPxz8+oXAIqNlUgkEm4XgWNTe3u7AoGAotGoysvLXa1l1rJVam7rkNeSYoeu+FDQr7WLL3G2ZUrdN9s676GMk7nPQDJrkJT1+IPt067Fa0knBvx592nXEwr61RrtcPrYvjSi6iX1znKu/o90DJntUutYu/gSSYfPW651dnu7bWof9rbUtgPJdrxMqXOyfWlkUGMGRkoxPf+iOPESMIxQW1OtUNCvSLhSQb9PQb/PuUtUW1Mtv88jS8m7VPb2SLhSoaD/0J2y5Db7TpgkRcKVactS8g6gL+XuVzgUSOs7Ww3J43slSX6fV+FQQJYkuxe/L/ll6rEkn8eSdeg4XuvwZ7sW+7E93nAo4OxnHerLHk8oWObUEwr6VVtTndaHPcZc/fcdQ7JOn9eS3+dxPuzwGA4FnLuAPq/ltAt6EwqqJ62OzPOWa13qec0cS7a2+V4n/bXJnCMAOBpxBxDDhp9AkZcFC6TNm6XXXnO7EuCYwfMvBsIdQADu6e2VnnpK+vOfpbffdrsaADAGARCAe156SdqzJ/l4xQp3awEAgxAAAbgnNfQRAAFgxBAAAbgnNfQ1NEj79rlWCgCYhAAIwB1vvim9/vrh5Z4e6Zln3KsHAAxCAATgjtdfl/77v6UPfEAqKZGefVb6xz/crgoAjMCfgcGw4c8QIC/nny9t2iR1d7tdCXDM4PkXA+EOIAAAgGEIgAAAAIYhAAIAABiGAAgAAGAYAiAAAIBhCIAAAACGIQACAAAYhgAIAABgGAIgAACAYQiAAAAAhiEAAgAAGIYACAAAYBgCIAAAgGEIgAAAAIYhAAIAABiGAAgAAGAYAiAAAIBhCIAAAACGIQACAAAYhgAIAABgGAIgAACAYQiAAAAAhiEAAgAAGIYAiJyam5u1YMECjR8/Xn6/X2effbZefvllt8sCAABDVOJ2AShOe/fu1axZs3TxxRfrqaee0oQJE/TGG2+ooqLC7dIAAMAQEQCR1b333qtJkybp4YcfdtadeuqpLlYEAAAKhQCIrJ544gnNnTtX8+bN05o1axQKhfSlL31J1113Xc42XV1d6urqcpbb29tHotQjsnxdk+57equ6emMqLfFq9ukTtLFpr2prqrVgZpUk6cZHN6m+sUVTKwPafaBbtTXVkqS6hu19Htttlq9rUl3Ddk2vqnD6W//WnrR+DnT1qK2jVz6PpZ54QpIUCpZJspx+7dokS1JCpSVeLZo7JWVb3Flv124fc3pVhZ7ftsvZpzeWUE88IZ/H0pjSEp0ybrS2tER1YqBMrdHOrOMbP2aUtrREnW12n5Kc9lMrA3pj5z519sR1diigd/YclKQ+dZaWeDT79AlOTaUlHmefuobtqq2crgWbNjlzZ8+nPf+RcKUemH9un3MnKet5y7XdPt7h+Tl87lOXF82d4vT18R++oMbmqHweS5effVJaX3et2KKeWELhUECfPm9Sn/Nu95F6XWSuz7wmB9pnsG0G26c9dwe6etUTT8jv8+i2yFl51zPcjmSOAGRnJRKJhNtFoPiUlZVJkm6++WbNmzdPGzZs0Fe+8hU9+OCDuuaaa7K2ufPOO3XXXXf1WR+NRlVeXj6s9Q7WrGWr1NzW4Sx7LSmWkEJBv9YuvkSSVL2kXrGUr45Q0C9Jam7r6PPYbmP3m9pfa7QjrZ/+pPab7zb7WJmfB6u/Yw+mz2z9ZLZPm7/ONq3994Wa9c2VafNpz7/XkrYvjThtU89dtvOWa7t9vMxastVm9zV5cX2f/bKNLxT09znvdh+pNWWuT5XPPoNtM9g+M78u7LHlW89wO5I5MlV7e7sCgUBRPv+iOPBLIMgqHo/rAx/4gL797W/r3HPP1fXXX6/rrrtODz74YM42S5YsUTQadT527NgxghUPTm1NtYJ+n/w+j4J+nyLhSoWCfufujiRFwpXyWlI4FHC21dZUZ32c2m8o6E/rL7OfoD95493nsZx2oWBZWr92bX6f16kxfZu3T+2pn1P3sY/j81gK+n0KhwLyWslj5hqfvY+9ze4ztX04FJDf55Gl5GN7e2addo2py2nz17Q2be7s+bTnLRKuzHrucp23XNtTz03muU9dTu0rHAo4c5fZl89rOftkO++ZNWdbP9h9Btum9sIqhXoP5N2nPXf2NeP3eQZVz3A7kjkCkB13AJFVVVWV5syZo//4j/9w1tXV1enuu+9Wc3NzXn3wEyjycv750qZNUne325Uce555RvrUp6Tdu6VDd/VhBp5/MRDuACKrWbNmaevWrWnrtm3bpqoq3ncDHDVWrJAOHpRWrXK7EgBFhgCIrL761a9q3bp1+va3v60333xTv/jFL/STn/xEN9xwg9ulAchHIpEMgNLhzwBwCAEQWZ133nn6zW9+o0cffVTTpk3Tt771LX3/+9/XZz/7WbdLA5CPLVukpqbk4yefTAZCADiEPwODnK644gpdccUVbpcB4Eik3vX7+9+lzZulc85xrRwAxYU7gABwLMp82ZeXgQGkIAACwLFm587kL39cfHFy+eqrpZdecrcmAEWFAAgAx5qxY6VXXpFmzkwuf/GL0q9+xfsAATh4DyAAHGv8/r7rxowZ+ToAFC3uAAIAABiGAAgAAGAYAiAAAIBhCIAAAACGIQACAAAYhgAIAABgGAIgAACAYQiAAAAAhiEAAgAAGIYACAAAYBgCIAAAgGEIgAAAAIYhAAIAABiGAAgAAGAYAiAAAIBhCIAAAACGIQACAAAYhgAIAABgGAIgAACAYQiAAAAAhiEAAgAAGIYACAAAYBgCIAAAgGEIgAAAAIYhAAIAABiGAAgAAGCYErcLAEbC8nVNqmvYrtqaai2YWTWk9pJUt/pN1V78T1r/1h7VN7ZoamVAuw90H96esu99T29VV29MpSVezT59gjY27VVtTbXTNhKulCSt2NyiMp9Xp008Tq81R1Xm82jOWSf22f/EQJlao52KhCv1wPxz+9SZebznt+3Sga5e9cQT8vs8ui1ylhbMrErbV7JUWuLRKeNGO8fuu19cUkKlJV6dMm60GpujznE9lhRPSP6UmqdXVej5bbskyRn3ga4etXX0KhQs09rFl2ad4+lVFc6YF8ys0o2Pbuozx7nOoV2rJC2aOyWvc502Z16PFl12hjPu1GvGriN13rNdV0O91vKp156n57ftlGTlPdZs/WTWOdz1AygOViKRSLhdBI5N7e3tCgQCikajKi8vd7WWWctWqbmtQ6GgX2sXXzKk9orH1dzepVDQr9Zoh2IpX0GhoF+SDu976LHNa0mxhNLaeq3ktliWr8Rs+6du2740krXOzPap7DnI3DdTvvvlqjn12NnqeHvZodrPP1/atEmzvrlSzW0daWNeu/gSVS+p7zPHuc5haq35nuvM8WWOO7OO1HnPdl0N9VrLt97UOc15rFtvlZYuldaskWbPztpPZtvhrh8jo5ief1GceAkYRqitqVYo6Hfuyg2lfe24Awp1RVVbU61IuFJeSwqHAoe3p+5bU62g3ye/z6Og36dIuNLZZreNhCsVCVfKkuT3eRUOBQ499mTdPxQsc9plqzPzeEG/Tz5PMmX6fR5nDlL39fu8Cvp9acfuu5/X6TccCqQd91D3aTXbx04dd9CffNEhFCzLOcepY5aUdY77O0/2MfM91874FFMw0Z027mx1pM57tutqqNdaPvU68xvrVNATP6Jj5apzuOsHUBy4A4hhc8z+BPqFL0j//d/Srl1SMOh2NUe/Q3cA1d3tbh3Tp0ttbdKbb0qW5W4t+ejslMaPly67TPr1r7Pv088dQBzbjtnnXxQMdwCBwYjHpfp6qbdXWrnS7WpQKM3N0iuvSH/7m/T6625Xk5/Vq6WDB6VnnpG6utyuBsBRhgAIDMb69dLOncnHK1a4WwsK58knDz8+Ws6rXef+/VJDg6ulADj6EACBwUgNCk89lbwTiKPf0RYAE4n0mlMfA0AeCIDAYKSGg717pRdfdK8WFMbBg9If/nB4+cUXpd273asnH5s3Szt2HF5esSIZCgEgTwRAIF9NTcn3h40fn1yurDw67hahf889J5WWSqNHSz6fVFEh/f73blfVvxUrkteflKz3vfekP//Z3ZoAHFUIgEC+urqkN96QLr44ubxunXTFFe7WhKE76STp7belk09O/lb3229Lp53mclEDqKmRtmxJPv7gB5O/vOLh6RxA/vhPIEC+Tj89fbmkRPrwh92pBYXzwQ+mLx93nDRzpju15Ouii6SOlD/OfdJJyQ8AyBM/MgIAABiGAAgAAGAYAiAAAIBhCIAAAACGIQACAAAYhgAIAABgGAIgAACAYQiAAAAAhiEAAgAAGIYACAAAYBgCIAAAgGEIgAAAAIYhAAIAABiGAAgAAGAYAiAAAIBhCIAAAACGIQACAAAYhgAIAABgGAIgAACAYQiAAAAAhiEAAgAAGIYACAAAYBgCIAAAgGEIgMjLsmXLZFmWbrrpJrdLAQAAQ0QAxIA2bNigH//4xwqHw26XAgAACoAAiH7t379fn/3sZ/XTn/5UFRUVbpcDAAAKoMTtAlDcbrjhBkUiEX3kIx/R3Xff3e++XV1d6urqcpbb29uHu7w+lq9rUl3DdtXWVGvBzKoB1+fb9r6nt0qSZp8+Qc9Pvkrtiz6n+A9eUTgU0KfPm6T7nt6qA1296oknJEmWpISkcCigJ758YfZ+tu1SV29MvbGEeuIJ+TyWZEm9sYSufH+lJKm+sUUnBsrU0tapEo+lMaUlOmXcaG1piTrry3we3RY5y6l5+bom3bVii3piCef42ca2fF2T7npii3riyf0mHz9G9Y0tGltWoraOXklSKFim1minplYG9M6egxm1x1Va4tGiuVO0YGaVc4zpVRV6ftsuSdKiuVMkyRl36r731P9FnT1xXXnmpzQjNlH33P6UOnviOjsU0O4D3Ro/ZpS2tEQVCVfqgfnn9hlDruP1d95Tz0GffSdfoLqPXKzadU2SNOD1UkhDuT6H63j59jG9qkIbm/Ye0dccAPdwBxA5/fKXv9Qrr7yipUuX5rX/0qVLFQgEnI9JkyYNc4V91TVsV3Nbh+oatue1Pt+2bR09auvoUX1ji9q8ZYp7vZKkxuaos90Of1Iy/Nnbc/bT0aOOnrjTrieeUE8soYSSwa++sUWxhNTc1qnEoe1tHT1qbI6mre/oiafVXNewXT2xRNrxs42trmG7c+zG5qhzPDv8ScljxBLJ7X1rj6mto8fp0z6Gvd3eljru1H07euLJsZ4wVXXn/T/OcmNzVM1tHc446xtbso4h1/H6O6fZanH2nXKpmsce79Q80PVSSEO5PofrePn2Ud/YcsRfcwDcQwBEVjt27NBXvvIV/fznP1dZWVlebZYsWaJoNOp87NixY5ir7Ku2plqhoF+1NdV5rc+3bdDvU9DvUyRcqWCsU55YTFLyDp+93eexnDb2o3AokLsfv09+n8dp5/NY8lkJWYm4IuFKRcKV8lrJu3DWoe1Bv0/hUCBtvd/nSau5tqZaPq+VdvxsY6utqXaOHQ4FnOMF/YdfGAgFy+S1ktv71u5V0O9z+rSPYW+3t6WOO3Vfv88jS1LkvS2q3fC/znI4FFAo6HfGGQlXZh1DruP1d06z1eLsu/U5hfb9w6l5oOulkIZyfQ7X8fLtIxKuPOKvOQDusRKJRGLg3WCa3/72t/rUpz4l76E7XZIUi8VkWZY8Ho+6urrStmXT3t6uQCCgaDSq8vLy4S555MybJz3+uNTSIp10UmH7/j//R1qzRtq2TbKsgfc/Fpx/vrRpk9Td7W4dU6ZIe/dKO3e6W0e+Ojqk0aOlOXOkZ57Jvs+tt0pLlyavqdmzR7Y+uOqYff5FwfAeQGR16aWX6rXXXktbt3DhQp1xxhn6+te/PmD4wxGIx6Unn5Teey8ZAKdMcbsiAMAxigCIrMaOHatp06alrRszZozGjx/fZz0K5OWXk+FPklasIAACAIYN7wEEisWKFdkfAwBQYNwBRN4aGhrcLuHY9uSThx+vXSvt2SONG+dePQCAYxZ3AIFisGOH9Oqrh5djMWnlStfKAQAc2wiAQDHYskV6+GHpgguSy889J7W1uVoSAODYxUvAQDG47LLk55/9LPn54oulSy5xrx4AwDGNO4AAAACGIQACAAAYhgAIAABgGAIgAACAYQiAAAAAhiEAAgAAGIYACAAAYBgCIAAAgGEIgAAAAIYhAAIAABiGAAgAAGAYAiAAAIBhCIAAAACGIQACAAAYhgAIAABgGAIgAACAYQiAAAAAhiEAAgAAGIYACAAAYBgCIAAAgGEIgAAAAIYhAAIAABiGAAgAAGAYAiAAAIBhCIAAAACGIQACAAAYpsTtAoCRtnxdk+oatmv63iY9X3qi5PVq0dwpWjCzasB29z29Vaq6SrOvmKyNP/uzpr+vVc9v26Wu3phKS7L3c+Ojm1Tf2KKplQG9sXOfOnri8nkslXgtlZZ4Nfv0CXp+2y5J0qJxU6VzjtN933xGXb0JlZZ4tGjuFK1/a4/qG1sUCVdKkvP4gfnn9jnG7gPdml5VoY1NezV+zChtaYkqEq7U2/84oMbmqIL+EkU7elXitVTisZy6JemuJ7aoJ55Q0F+ito5eSVIoWCbJcvqaOnG03mjdp07LoyvfH9ID88/VjY9u0hObWyRJfp9HHT1xWZISkvw+r26LnJk2L/ZcdvXGVDprkRb1/qcWZJ6flDG81hxVWUY/zvmQnPpT202vqtDz23bpQFeveuNxp9ac5/fk83Tf5Veq6/an0ubEPsYp40Ynx59yHv0+j26LnJV2flKPkVlj5rVhj7W2ploLZlY55zGzn34dPJh7W2dn9rFmHHewhtoegPusRCKRcLsIHJva29sVCAQUjUZVXl7udjmOWctWqbmtQ954TDGPV5IUCvq1dvElebWT5LT1WlIs5SsoWz/VS+rT9smU2keoq13q7lbz2OPT+myNdiiWSO4ryXm8fWkk6zEy68pczhQK+iXJGV+/EgnJspx+ty+NDDjGzHlJnUtJCu3/h9b+f9ekbctWc2o/qX2k1m+36zMHSmj7sity1jjrK8vV7K9IO5bdZ38yz499TrLVmHlt2NvtbfY8ZvaTVW+vdPzx0oUXSk8+mX2fO+6QvvUt6ZVXpHPOyXncwRpqewy/Yn3+RfHgJWAYp7amWqGgX5G2NxUs9Sro96m2pjqvdkG/T8FRHkV63k32Ea5U0O+T3+fJ2U8kXCmvJYVDAfl9yS85n8dy2th9BP0+1Z4zXrXBfYf6PFyb3UckXJn2ONsx7LpCQb/CoYCzbzgUkCQF/SWyJPm8VlrdtTXV8nksZx9bKFiW1le4Z4/83R2yEgmnhtRa7DFazrK3z7zYc+n3eRQskWrHd6RtyxyDlaUf53yk1J/azp5Xn+Ky4nFFjle/aqtLFbRifebEPoYz/pTz6Pd5+pyfrNdMjmvDrtnelqufrEpKpOuuk267Lfc+t9wiffzjaeEv23EHa6jtAbiPO4AYNkX9E2hPjzRhgvRf/5X8BjkYP/qR9MMfSq+/Xvi6vvENac2a5Eex+uhHpWeflS67THrqqaH397WvSZs3S08/PfS+svnSl6S6OunRR6Wrrsq93/XXS9Go9Nhjw1PHcDj/fOkTn5BuvTX79meekT71KWn3bqmsbGRrg6uK+vkXRYE7gDDTH/+Y/Ga/YsXg265YIW3dKr3xRuHrWrFCWrtW2rOn8H0XyttvJz8//3wySA/VihVSQ4O0b9/Q+8rmr39Nfn7lldz7xOPJl1FXrpS6u4enjkJrbZXWr+//Gl6xIvkewVWrRq4uAEcFAiDMZH/TfPLJ5Df/fO3bJ61end5HoezYIb36qhSLFebO2nDo7T0cAA8eTIbVoXjzzeSd1O7u5N2q4WAHwPXrc+/zyivSu+9K7e3JHw6OBvX1yc9/+pO0c2ff7YnE4Wu00NcqgKMeARDmSf3G2NoqbdyYf9s//OHwHaJcb7w/Uqn9FbrvQnnppfS7fkOtM7X9cISUpibpvfeSj19+ORlg3ahjONh1JhLS73/fd/uWLcnxS8nx8W4fACkIgDDP1q3S9u2HlwfzDT913z/+UWprK1hZaX0/9VRhXl4ttMy5+t//LVx/9fXJu5+FlBrsDhyQXnxx4DpWrCj+sNTZmXwfpi3bNZy67u9/T77PEgAOIQDCPJnfLPMNgPH44ZfdpOTdpJUrC1PTgQPp79OKRqUXXihM34WUGfjeekvatu3I+opGk+8jtP3jH8mXMwspn3Pd3Jz+/sC//e3wy8bFatWq9L//98wzUldX+j5Hep0DMAIBEOZZu1ZacOjPDl90UfJv2u3YMXC79eulM844/Cc1rr22cG+uf/ZZ6dJLpX/6p+Tyv/7r8L0n7ki9+WbyrmRpaXK5pEQ65ZTsLz/m4+mnpcsvlyZPljye5G/hFvI3gfftS76v77TTkssXXiht2NB3v9//Xpo3TzrhBGnsWOnzny/e92Da/vAH6YtfTD4+4wzpQx9K/iKNbefOZEC8+OLk8tVXJ1++B4BD+DMwGDZF+2cIDhyQ/vIXacYM6aabpPvvlzo6pNGjB243erT06U9Ljz8utbRI5eXSmDGFqWnMGGn27ORLy/F48ht4IfoulAMHki+NzpyZfH9ZMJh8aVE6sjrtMZ9/vrRpU/K9lfa6QujslHw+KRJJBsvbb5cWL07+ORRPys++9jGnTJH27k2Gp0LWMRwOHEiOYfRoac6c5A8LqTV3dCSD+v/9v9LSpck/KzR9enJ/y+q/bxwTivb5F0WDfwUH82R+Y7esgcNftna51hWipkL2XSiFrnG4x5zt795lO89Hw9xnGjMmGfIy19n8/uxtAOAQXgIGAAAwDAEQAADAMARAAAAAwxAAAQAADEMABAAAMAwBEAAAwDAEQAAAAMMQAAEAAAxDAAQAADAMARAAAMAwBEAAAADDEAABAAAMQwAEAAAwDAEQAADAMARAAAAAwxAAAQAADEMABAAAMAwBEAAAwDAEQAAAAMMQAAEAAAxDAAQAADAMARAAAMAwBEBktXTpUp133nkaO3asJk6cqE9+8pPaunWr22UBAIACIAAiqzVr1uiGG27QunXr9Oyzz6qnp0cf/ehHdeDAAbdLAwAAQ1TidgEoTitXrkxbfuSRRzRx4kRt3LhRs2fPdqkqAABQCNwBRF6i0agkady4cS5XAgAAhoo7gBhQPB7XTTfdpFmzZmnatGk59+vq6lJXV5ez3N7ePhLlDYvl65pU17BdtTXVWjCzKn1b+RTV/etDqm3cpQUnnZS13fSqCm1s2uu0z9bf8nVNuu/prerqjUmSSku8WnTCOdI5x+m+bz4rSVo0d0rO9rlqnl5Voee37VJXb0y9sYR64wlVBsvU0tapMp9Hc846Ma02u+099X9RR09ckhRy9vdqzlknOPv/z4YdaowsU/gDb2jygV1asbheJV5LJR4r7Vit0U5FwpWaceo43VP/V3X2xJz1UysDemfPwcPjvnCRFsX+S+sf3aQVm1tkWVIiIZ0dCmj3gW7V1lRLUtZ5laSP//AFNTZH5bGk0hKPSku8mn36BG1s2qvxY0Zpy/tv0ImTP62W7okqufX3kqTeeEJnh5J1HOjqTS5/+Ct6Z/R4dd2+UqUlHp0ybrS2tEQVCVfqgfnnZp1rKaHmtk55LKm8zKdFc6ck56g5qnAooCe+fOGgrjN7LOFQQJ8+b1LOMUvS8pebk9dhdIuU4/qqi0/X9CsWaeOq/aod1ZTz2smsxZ7v/q63fMZT6P2H2q5Y+geKgZVIJBJuF4HiVltbq6eeekovvPCCTj755Jz73Xnnnbrrrrv6rI9GoyovLx/OEgdvwwZpxgzpppuk732vz+ZZy1apua1DoaBfaxdfkr7t/31Mzb7jFBo7Smtvm5O1ndeSYgk57bP1Z69LFeqMSl2dag6ckFzup32umu1j55JZW65asu3v7JNIyJuIK+bx9nucEwP+nP2mjTu6U63BiVnrDgX9kpR1XiVp8uL6nDU7EgnJsvovIsc+XkvavjSSti7XfKXNkaS3l0X67JOtH3s8qWOx+8o2ZkmatfQPao52KdTVLp1wQs7ryxuPKebx9nvtZNYiacDrLZ/xFHr/obYrlv5HQnt7uwKBQHE+/6Io8BIw+vVv//ZvevLJJ7V69ep+w58kLVmyRNFo1PnYsWPHCFVZeLU11QoF/c7dkLRtba8pFH1PtR88IWe7SLgyrX22/mprqhX0++T3eeT3eRT0+1TbvE616x5X0O9LLvfTvr9j2/36PJYsJe/oWZL8Pk+f2uy2ft/hp4PD+3vT9g+HAlIiofC7byiyfZ0sST6v1edYXkuKhCsP9etNWx8OBdLH3XNQtRv+V5FwpSxJHkuylNzPPm6uedWh/XSonT2P9n7hUEDeRFyh6E5ZSsjnsZw67Tqc5b3vKNi5X36fV0G/L9n20DhyzXUoWOYc2z5fdj325/5kntfUtv2NWZJqL5ycvA7feznn9RVSpyJ//aNCZVa/105mLflcb/mMp9D7D7VdsfQPFAPuACKrRCKhL3/5y/rNb36jhoYGnXbaaYPuo6h/Ah3gDmC/5s2THn9cammRMl4CHrLZs6U//lGKxwe+Y+WWadOkLVukYFDau3fo/Z1/vrRpk9TdPfS+srnsMunpp6Xbb5e++c3c+02ZkhzPzp3DU0ehdXRIo0dLc+ZIzzyTfZ9bb5WWLpXWrEleWzBGUT//oijwHkBkdcMNN+gXv/iFfve732ns2LFqbW2VJAUCAfn9fperAwAAQ8FLwMiqrq5O0WhUNTU1Oumkk5yPxx57zO3SAADAEHEHEFnxzgAAAI5d3AEEAAAwDAEQAADAMARAAAAAwxAAAQAADEMABAAAMAwBEAAAwDAEQAAAAMMQAAEAAAxDAAQAADAMARAAAMAwBEAAAADDEAABAAAMQwAEAAAwDAEQAADAMARAAAAAwxAAAQAADEMABAAAMAwBEAAAwDAEQAAAAMMQAAEAAAxDAAQAADAMARAAAMAwBEAAAADDEAABAAAMQwAEAAAwDAEQAADAMARAAAAAwxAAAQAADEMABAAAMAwBEAAAwDAlbhcA5LJ8XZPqGrartqZa69/aoxWbW+SxpFgi+/4eS4pn2WZJytrklicU1j69c9czau/sydrW5vd5dNrEsdrSElVk4my9/bkPqfEHr0iSwqGAnvjyhX1qlqS6hu2aXlWhjU17nXX3Pb1VkjT79Ana2LQ3bfuCfCbm0HHuWrFFPbGEwqGAPn3epP77nVmVZ8+H+7fHMdi2AIDiRwBE0apr2K7mtg7VNWxXa7RDCeUOf1L28CflCH+S5PGoMVEudfQMWEtHT1yNzVFJUv1xkxU7znK22esza5ak5rYOtUY7FEvIWdd26Hj1jS2KJZS2Pd8AWNewXT2HJqOxOardB7r773eQIS51HARAADj28BIwilZtTbVCQb9qa6oVCVfKkuS1cu/vybEtZ5N4XOFEu4J+X862Nr/Po3AoIK8lRfa/rfC7bzjbwqFA1prtx5FwZdq6oN+noN/nrE/dnq/ammr5Dk1GOBQoWL/ZxgEAOPZwBxBFa8HMKufu04KZVXpg/rmF63zDBmnGDOmmm6Q7vje4tvPmSY8/LrW0SCedlLYptWZ7OVMh7qhlHqdQ/fbXPwDg2MEdQAAAAMMQAAEAAAxDAAQAADAMARAAAMAwBEAAAADDEAABAAAMQwAEAAAwDAEQAADAMARAAAAAwxAAAQAADEMABAAAMAwBEAAAwDAEQAAAAMMQAAEAAAxDAAQAADAMARAAAMAwBEAAAADDEAABAAAMQwAEAAAwDAEQAADAMARAAAAAwxAAAQAADEMABAAAMAwBEAAAwDAEQAAAAMMQAAHkp7VVamtLX7d1qyul5CUald59N33dtm1SPO5OPQBQRAiAAPLj8Ujve5/0978nl/fvl77xDXdr6s/o0dL06dKrryaXf/5zaeHC5DgAwHA8EwLIz8SJ0pQpyTtrktTbK11xhbs19cfnk2bPlt57L7n8t79JH/uYuzUBQJEgAALI35VXpi9ffrk7deQrM6AWc2AFgBFEAASQv9QAWFIiHX+8e7Xk4/LLJctKPj7+eCkcdrceACgSBED060c/+pEmT56ssrIynX/++Vq/fr3bJcFN06ZJxx2XfDxqlLu15GP8eKmqKvl4xozDYRAADEcARE6PPfaYbr75Zt1xxx165ZVX9P73v19z587Vzp073S4NbrEsafLk5OOjIQBK0plnJj/PmOFuHQBQRAiAyOn+++/Xddddp4ULF+qss87Sgw8+qNGjR+tnP/uZ26XBTfYdNa/X3TrydcYZyc9nn+1uHQBQRErcLgDFqbu7Wxs3btSSJUucdR6PRx/5yEf00ksvZW3T1dWlrq4uZ7m9vX3Y6yy05euaVNewXbU11Vows2rYjzO9qkIbm/b2Od6Nv9yk+sZ3FQlXasap43LWlFqvpJz7ffyHL6ixOapwKKDJx49RfWPLgH1nq/X5bbvUNfU66fR/UWk8pkXrmrT+rT1asblFZT6Pbouc5fSzfF2T7ns6+XcCF82dkrW+5euaVHfBjaqN/VILlH3+U9etf2uP6htbdGKgTK3RTkXClXpg/rl96k097vrRH9CKW55Q2cuW5nRt0vPbdkmSZp8+QU82tiiekELBMq2VtHxKjeqWrUqbz/FjRmlLS1RTKwN6Z89Bp+3Gpr3O+ct2HlPrsPfPnOf+roMbH93knKcH5p/b5zxICS0653ItUG+/1+3ycy5X3ar9qh3VlHYOJOmuFVvUE0soFCzTga6YJOmUcaP1WnNUZT6P5px1ojNfqefwcA3J9QtmVqVdY098+cJBX6O2Gx/d1Od66jv23HNaKKnzn8/XSeZYs53nwdQ6Us9FMJeVSCQSbheB4tPS0qJQKKQXX3xRF1xwgbP+a1/7mtasWaM//elPfdrceeeduuuuu/qsj0ajKi8vH9Z6B23nTum3v03eFUoZ36xlq9Tc1qFQ0K+1iy/J3vbZZ6W33pIWLEj+rbkjYB/Ha0mxhA4f74knpNZWVb8VUiwheS3pxIA/Z02p9UrKud/kxfXOY/uYA/Wdq9ZUoaBfrdEOZ31qP3Y7e322+pz6S3q19u5PZJ3/1HWpx7LHsn1pJGu92epLHUPmeN4+d79m/dmv5h5vWr3ZpM5h6udc48+2Pdvcpm6vXlLv9L19aSTreQiV9GrtBSWa9VqO87h+vWY98a6ae0v6nIP+xpc5Tnsu7TaZ69cuviTtGnt72eFzku81arPHndp3trHnmtNCSZ3/fL5OpNzPH3k9r+TZV77a29sVCASK8/kXRYGXgFEwS5YsUTQadT527Njhdkm5TZwoXX99WviTpNqaaoWCfuduRVZz5iTbHmH4Sz1OJFyZfryPf1y6/npFwpXyWlIkXNlvTanb+tsvHAo4n/PtO1utQb9Pfp9Xfp9HQb9PtTXVioQrZUny+zxp/dTWVCvo9zn7ZTuWs+6Kc/qMJ9sY7dpDwTJnDNnqTT1uan32GIJ+nyLhSnkO/U5IKFgmfeYzqo28v898hkMBea3k3KW2TT1/fc5jRh3Ztvd7HUhp5ynbeQj6fcl5i0Ryn8cZM1R7xTlZr5Hammr5vJYzfrvPcCiQdb5S22euz7zGso1xoGs0ddyZ11O24+aa00IZ7NdJap25zvNgaj2SNsBgcAcQWXV3d2v06NF6/PHH9clPftJZf80116itrU2/+93vBuyDn0ABwB08/2Ig3AFEVqNGjdL06dP13HPPOevi8biee+65tJeEAQDA0YdfAkFON998s6655hp98IMf1IwZM/T9739fBw4c0MKFC90uDQAADAEBEDl95jOf0a5du/SNb3xDra2tOuecc7Ry5UqdcMIJbpcGAACGgPcAYtjwHhQAcAfPvxgI7wEEAAAwDAEQAADAMARAAAAAwxAAAQAADEMABAAAMAwBEAAAwDAEQAAAAMMQAAEAAAxDAAQAADAM/woOw8b+JzPt7e0uVwIAZrGfd/lnX8iFAIhhs2/fPknSpEmTXK4EAMy0b98+BQIBt8tAEeJ/AWPYxONxtbS0aOzYsbIsy+1yRkx7e7smTZqkHTt28D84B8Bc5Y+5yg/zlJRIJLRv3z5VVlbK4+HdXuiLO4AYNh6PRyeffLLbZbimvLzc6G9Ag8Fc5Y+5yg/zJO78oV/8WAAAAGAYAiAAAIBhCIBAgZWWluqOO+5QaWmp26UUPeYqf8xVfpgnID/8EggAAIBhuAMIAABgGAIgAACAYQiAAAAAhiEAAgAAGIYACBTI22+/rWuvvVannnqq/H6/qqurdccdd6i7uzvr/m+++abGjh2rYDA4soUWgXzmqqGhQZ/4xCd00kknacyYMTrnnHP085//3MWq3ZHvddXY2KiLLrpIZWVlmjRpkr7zne+4VLF77rnnHn3oQx/S6NGjc35dbdiwQZdeeqmCwaAqKio0d+5cbd68eWQLBYoAARAokNdff13xeFw//vGPtWXLFn3ve9/Tgw8+qFtvvbXPvj09PZo/f74uuugiFyp1Xz5z9eKLLyocDuvXv/61GhsbtXDhQn3+85/Xk08+6WLlIy+fuWpvb9dHP/pRVVVVaePGjfrud7+rO++8Uz/5yU9crHzkdXd3a968eaqtrc26ff/+/brssst0yimn6E9/+pNeeOEFjR07VnPnzlVPT88IVwu4LAFg2HznO99JnHrqqX3Wf+1rX0ssWLAg8fDDDycCgcDIF1aEcs1Vqo997GOJhQsXjlBFxStzrv793/89UVFRkejq6nLWff3rX09MmTLFjfJcl+vrasOGDQlJiXfeecdZ19jYmJCUeOONN0awQsB93AEEhlE0GtW4cePS1q1atUq/+tWv9KMf/cilqopTtrk6kn1MkDkPL730kmbPnq1Ro0Y56+bOnautW7dq7969bpRYlKZMmaLx48froYceUnd3tzo6OvTQQw/pzDPP1OTJk90uDxhRBEBgmLz55pv64Q9/qC9+8YvOut27d+tf/uVf9Mgjjxj/j+pTZZurTP/zP/+jDRs2aOHChSNYWfHJNletra064YQT0vazl1tbW0e0vmI2duxYNTQ0aPny5fL7/TruuOO0cuVKPfXUUyopKXG7PGBEEQCBASxevFiWZfX78frrr6e1aW5u1mWXXaZ58+bpuuuuc9Zfd911uvrqqzV79uyRHsaIKORcpVq9erUWLlyon/70p5o6depIDGXYDddcHWuOZJ5y6ejo0LXXXqtZs2Zp3bp1Wrt2raZNm6ZIJKKOjo5hHglQXPhXcMAAdu3apd27d/e7z/ve9z7n5beWlhbV1NRo5syZeuSRR+TxHP45KxgMav/+/c5yIpFQPB6X1+vVT37yE33hC18YnkGMkELOlW3NmjWKRCK6//77df311w9L3W4o5Fx9/vOfV3t7u377298661avXq1LLrlEe/bsUUVFxbCMYSQMdp4k6ZFHHtFNN92ktra2tP0eeugh3XrrrXr33Xed+evu7lZFRYUeeughXXXVVQWvHyhW3PMGBjBhwgRNmDAhr32bm5t18cUXa/r06Xr44Yf7BJqXXnpJsVjMWf7d736ne++9Vy+++KJCoVBB63ZDIedKSv4pmCuuuEL33nvvMRX+pMLO1QUXXKDbbrtNPT098vl8kqRnn31WU6ZMOarDnzS4eRrIwYMH5fF4ZFmWs85ejsfjBTkGcLTgJWCgQJqbm1VTU6NTTjlF9913n3bt2qXW1ta092CdeeaZmjZtmvMRCoXk8Xg0bdq0o/4b9WDkM1erV69WJBLRjTfeqH/+5392tu/Zs8fFykdePnN19dVXa9SoUbr22mu1ZcsWPfbYY/rBD36gm2++2cXKR94777yjV199Ve+8845isZheffVVvfrqq85d9zlz5mjv3r264YYb9Ne//lVbtmzRwoULVVJSoosvvtjl6oER5vJvIQPHjIcffjghKetHf21M/DMw+czVNddck3X7hz/8YfcKd0G+19XmzZsTF154YaK0tDQRCoUSy5Ytc6li9+S6ZlavXu3s88wzzyRmzZqVCAQCiYqKisQll1ySeOmll9wrGnAJ7wEEAAAwDC8BAwAAGIYACAAAYBgCIAAAgGEIgAAAAIYhAAIAABiGAAgAAGAYAiAAAIBhCIAAAACGIQACAAAYhgAIAABgGAIgAACAYQiAAAAAhiEAAgAAGIYACAAAYBgCIAAAgGEIgAAAAIYhAAIAABiGAAgAAGAYAiAAAIBhCIAAAACGIQACAAAYhgAIAABgGAIgAACAYQiAAAAAhiEAAgAAGIYACAAAYBgCIAAAgGEIgAAAAIYhAAIAABiGAAgAAGAYAiAAAIBh/n8kXTyoWfSiLgAAAABJRU5ErkJggg==' width=640.0/>\n",
       "            </div>\n",
       "        "
      ],
      "text/plain": [
       "Canvas(toolbar=Toolbar(toolitems=[('Home', 'Reset original view', 'home', 'home'), ('Back', 'Back to previous …"
      ]
     },
     "metadata": {},
     "output_type": "display_data"
    }
   ],
   "source": [
    "plot_points = 10\n",
    "\n",
    "\n",
    "mapped_tensors = [zh_start_tensor[:plot_points, :]]\n",
    "for i in range(iterations):\n",
    "    mapped_tensors.append(map(mapped_tensors[i]).detach())\n",
    "\n",
    "\n",
    "plt.figure()\n",
    "\n",
    "for i, mapped_tensor in enumerate(mapped_tensors):\n",
    "    if i > 0:\n",
    "        start = mapped_tensors[i-1]\n",
    "        mapped = mapped_tensors[i]\n",
    "\n",
    "        start_x, mapped_x, target_x = project(start, mapped, zh_target_tensor, idx=x_idx)\n",
    "        start_y, mapped_y, target_y = project(start, mapped, zh_target_tensor, idx=y_idx, one_hot=one_hot_y)\n",
    "\n",
    "        dx = mapped_x-start_x\n",
    "        dy = mapped_y-start_y\n",
    "        plt.quiver(start_x, start_y, dx, dy, scale=1, scale_units='xy', angles='xy', color='r', width=0.005)\n",
    "\n",
    "plt.scatter(target_x, target_y, s=1)\n",
    "\n",
    "plt.gca().set_aspect('equal')\n",
    "plt.show()"
   ]
  },
  {
   "cell_type": "markdown",
   "id": "a8d68302",
   "metadata": {},
   "source": [
    "# Testing data"
   ]
  },
  {
   "cell_type": "code",
   "execution_count": 15,
   "id": "1c14b142",
   "metadata": {},
   "outputs": [
    {
     "data": {
      "application/vnd.jupyter.widget-view+json": {
       "model_id": "8418a900c67a42aaa1760c26b4b7ad53",
       "version_major": 2,
       "version_minor": 0
      },
      "image/png": "[encoded data removed]",
      "text/html": [
       "\n",
       "            <div style=\"display: inline-block;\">\n",
       "                <div class=\"jupyter-widgets widget-label\" style=\"text-align: center;\">\n",
       "                    Figure\n",
       "                </div>\n",
       "                <img src='data:image/png;base64,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' width=640.0/>\n",
       "            </div>\n",
       "        "
      ],
      "text/plain": [
       "Canvas(toolbar=Toolbar(toolitems=[('Home', 'Reset original view', 'home', 'home'), ('Back', 'Back to previous …"
      ]
     },
     "metadata": {},
     "output_type": "display_data"
    }
   ],
   "source": [
    "zh_start_tensor_test = zh_start_tensor+torch.rand_like(zh_start_tensor)*0.2\n",
    "mapped_tensor = zh_start_tensor_test\n",
    "for i in range(iterations):\n",
    "    mapped_tensor = map(mapped_tensor)\n",
    "mapped_tensor = mapped_tensor.detach()\n",
    "\n",
    "my_plot(zh_start_tensor_test, mapped_tensor, zh_target_tensor, plot_points=10, x_idx=x_idx, y_idx=y_idx, one_hot_y=one_hot_y)\n"
   ]
  },
  {
   "cell_type": "code",
   "execution_count": 16,
   "id": "5e549cdb",
   "metadata": {},
   "outputs": [
    {
     "name": "stdout",
     "output_type": "stream",
     "text": [
      "i = 504\n",
      "tensor([0.2140, 0.1825, 0.1396, 0.1916, 0.1613, 0.1513, 0.1122, 0.2005, 0.1949,\n",
      "        0.1075])\n",
      "tensor([-0.0038, -0.0067, -0.0069,  0.0871,  0.0291,  0.0226, -0.0367, -0.0684,\n",
      "         0.6678,  0.0769])\n",
      "tensor([0., 0., 0., 0., 0., 0., 0., 0., 1., 0.])\n",
      "0 -> 8 -> 8\n",
      "i = 654\n",
      "tensor([0.1745, 0.2377, 0.2179, 0.2407, 0.2479, 0.2878, 0.2107, 0.1501, 0.2694,\n",
      "        0.1519])\n",
      "tensor([-0.0198,  0.1717, -0.0432,  1.0170,  0.0895, -0.0899, -0.0121, -0.0454,\n",
      "        -0.0928, -0.0710])\n",
      "tensor([0., 0., 0., 1., 0., 0., 0., 0., 0., 0.])\n",
      "5 -> 3 -> 3\n",
      "i = 732\n",
      "tensor([0.1682, 0.1479, 0.2915, 0.2572, 0.2519, 0.2076, 0.2296, 0.2612, 0.2440,\n",
      "        0.2157])\n",
      "tensor([-3.4454e-02,  8.8147e-03,  6.1015e-02,  1.8315e-03,  9.6549e-02,\n",
      "         4.4988e-02, -3.4439e-04, -1.5641e-01,  6.9140e-01,  1.1985e-01])\n",
      "tensor([0., 0., 0., 0., 0., 0., 0., 0., 1., 0.])\n",
      "2 -> 8 -> 8\n",
      "i = 7\n",
      "tensor([0.2471, 0.2451, 0.1078, 0.1232, 0.2009, 0.2129, 0.2242, 0.1432, 0.1232,\n",
      "        0.1883])\n",
      "tensor([ 0.8207,  0.0579, -0.0036,  0.0547,  0.0125, -0.0289, -0.0289, -0.0115,\n",
      "        -0.1437,  0.0143])\n",
      "tensor([1., 0., 0., 0., 0., 0., 0., 0., 0., 0.])\n",
      "0 -> 0 -> 0\n",
      "i = 859\n",
      "tensor([0.1457, 0.2417, 0.2474, 0.1967, 0.1879, 0.1109, 0.1134, 0.2216, 0.1651,\n",
      "        0.1133])\n",
      "tensor([ 0.0061,  0.0236,  0.8501,  0.0094,  0.0392,  0.0452,  0.0074, -0.0362,\n",
      "        -0.0010,  0.0090])\n",
      "tensor([0., 0., 1., 0., 0., 0., 0., 0., 0., 0.])\n",
      "2 -> 2 -> 2\n"
     ]
    }
   ],
   "source": [
    "for i in torch.randperm(zh_start_tensor.shape[0])[:5]:\n",
    "    print(f'i = {i}')    \n",
    "    print(zh_start_tensor_test[i,y_idx])\n",
    "    print(mapped_tensor[i,y_idx])\n",
    "    print(zh_target_tensor[i,y_idx])\n",
    "    print(f'{torch.argmax(zh_start_tensor_test[i,y_idx])} -> {torch.argmax(mapped_tensor[i,y_idx])} -> {torch.argmax(zh_target_tensor[i,y_idx])}')\n",
    "\n"
   ]
  },
  {
   "cell_type": "code",
   "execution_count": null,
   "metadata": {},
   "outputs": [],
   "source": []
  }
 ],
 "metadata": {
  "accelerator": "GPU",
  "colab": {
   "include_colab_link": true,
   "provenance": []
  },
  "gpuClass": "standard",
  "jupytext": {
   "formats": "ipynb,py:percent,md"
  },
  "kernelspec": {
   "display_name": "Python 3 (ipykernel)",
   "language": "python",
   "name": "python3"
  },
  "language_info": {
   "codemirror_mode": {
    "name": "ipython",
    "version": 3
   },
   "file_extension": ".py",
   "mimetype": "text/x-python",
   "name": "python",
   "nbconvert_exporter": "python",
   "pygments_lexer": "ipython3",
   "version": "3.10.12"
  },
  "widgets": {
   "application/vnd.jupyter.widget-state+json": {
    "4340e450c8c9444784e3ac188b9230df": {
     "model_module": "@jupyter-widgets/controls",
     "model_module_version": "1.5.0",
     "model_name": "DescriptionStyleModel",
     "state": {
      "_model_module": "@jupyter-widgets/controls",
      "_model_module_version": "1.5.0",
      "_model_name": "DescriptionStyleModel",
      "_view_count": null,
      "_view_module": "@jupyter-widgets/base",
      "_view_module_version": "1.2.0",
      "_view_name": "StyleView",
      "description_width": ""
     }
    },
    "4d5e173f3cdd465b9b40f8b23d270e8a": {
     "model_module": "@jupyter-widgets/base",
     "model_module_version": "1.2.0",
     "model_name": "LayoutModel",
     "state": {
      "_model_module": "@jupyter-widgets/base",
      "_model_module_version": "1.2.0",
      "_model_name": "LayoutModel",
      "_view_count": null,
      "_view_module": "@jupyter-widgets/base",
      "_view_module_version": "1.2.0",
      "_view_name": "LayoutView",
      "align_content": null,
      "align_items": null,
      "align_self": null,
      "border": null,
      "bottom": null,
      "display": null,
      "flex": null,
      "flex_flow": null,
      "grid_area": null,
      "grid_auto_columns": null,
      "grid_auto_flow": null,
      "grid_auto_rows": null,
      "grid_column": null,
      "grid_gap": null,
      "grid_row": null,
      "grid_template_areas": null,
      "grid_template_columns": null,
      "grid_template_rows": null,
      "height": null,
      "justify_content": null,
      "justify_items": null,
      "left": null,
      "margin": null,
      "max_height": null,
      "max_width": null,
      "min_height": null,
      "min_width": null,
      "object_fit": null,
      "object_position": null,
      "order": null,
      "overflow": null,
      "overflow_x": null,
      "overflow_y": null,
      "padding": null,
      "right": null,
      "top": null,
      "visibility": null,
      "width": null
     }
    },
    "5959c15bd28a4059b8952689490ebe2f": {
     "model_module": "@jupyter-widgets/controls",
     "model_module_version": "1.5.0",
     "model_name": "HTMLModel",
     "state": {
      "_dom_classes": [],
      "_model_module": "@jupyter-widgets/controls",
      "_model_module_version": "1.5.0",
      "_model_name": "HTMLModel",
      "_view_count": null,
      "_view_module": "@jupyter-widgets/controls",
      "_view_module_version": "1.5.0",
      "_view_name": "HTMLView",
      "description": "",
      "description_tooltip": null,
      "layout": "IPY_MODEL_a955f09104b54e37b262198a3807761c",
      "placeholder": "​",
      "style": "IPY_MODEL_d4d3328dd8914927b619350b49b6f81c",
      "value": " 999/999 [00:08&lt;00:00, 114.60it/s, loss=0.000293, v_num=0]"
     }
    },
    "915d05c1f046462ebe574b6b306b6110": {
     "model_module": "@jupyter-widgets/controls",
     "model_module_version": "1.5.0",
     "model_name": "HBoxModel",
     "state": {
      "_dom_classes": [],
      "_model_module": "@jupyter-widgets/controls",
      "_model_module_version": "1.5.0",
      "_model_name": "HBoxModel",
      "_view_count": null,
      "_view_module": "@jupyter-widgets/controls",
      "_view_module_version": "1.5.0",
      "_view_name": "HBoxView",
      "box_style": "",
      "children": [
       "IPY_MODEL_df24beefb77f4549b7beed2e23558980",
       "IPY_MODEL_a5a6545605cb475fb4bd6db5d32b0b24",
       "IPY_MODEL_5959c15bd28a4059b8952689490ebe2f"
      ],
      "layout": "IPY_MODEL_a3075bdd01e047faa3f1246dabaedcc7"
     }
    },
    "a3075bdd01e047faa3f1246dabaedcc7": {
     "model_module": "@jupyter-widgets/base",
     "model_module_version": "1.2.0",
     "model_name": "LayoutModel",
     "state": {
      "_model_module": "@jupyter-widgets/base",
      "_model_module_version": "1.2.0",
      "_model_name": "LayoutModel",
      "_view_count": null,
      "_view_module": "@jupyter-widgets/base",
      "_view_module_version": "1.2.0",
      "_view_name": "LayoutView",
      "align_content": null,
      "align_items": null,
      "align_self": null,
      "border": null,
      "bottom": null,
      "display": "inline-flex",
      "flex": null,
      "flex_flow": "row wrap",
      "grid_area": null,
      "grid_auto_columns": null,
      "grid_auto_flow": null,
      "grid_auto_rows": null,
      "grid_column": null,
      "grid_gap": null,
      "grid_row": null,
      "grid_template_areas": null,
      "grid_template_columns": null,
      "grid_template_rows": null,
      "height": null,
      "justify_content": null,
      "justify_items": null,
      "left": null,
      "margin": null,
      "max_height": null,
      "max_width": null,
      "min_height": null,
      "min_width": null,
      "object_fit": null,
      "object_position": null,
      "order": null,
      "overflow": null,
      "overflow_x": null,
      "overflow_y": null,
      "padding": null,
      "right": null,
      "top": null,
      "visibility": null,
      "width": "100%"
     }
    },
    "a5a6545605cb475fb4bd6db5d32b0b24": {
     "model_module": "@jupyter-widgets/controls",
     "model_module_version": "1.5.0",
     "model_name": "FloatProgressModel",
     "state": {
      "_dom_classes": [],
      "_model_module": "@jupyter-widgets/controls",
      "_model_module_version": "1.5.0",
      "_model_name": "FloatProgressModel",
      "_view_count": null,
      "_view_module": "@jupyter-widgets/controls",
      "_view_module_version": "1.5.0",
      "_view_name": "ProgressView",
      "bar_style": "success",
      "description": "",
      "description_tooltip": null,
      "layout": "IPY_MODEL_c81f9b0a5dee4db396442599cb295097",
      "max": 999,
      "min": 0,
      "orientation": "horizontal",
      "style": "IPY_MODEL_faf8ff98c59b4951b62cd8ad4e1d5bfa",
      "value": 999
     }
    },
    "a955f09104b54e37b262198a3807761c": {
     "model_module": "@jupyter-widgets/base",
     "model_module_version": "1.2.0",
     "model_name": "LayoutModel",
     "state": {
      "_model_module": "@jupyter-widgets/base",
      "_model_module_version": "1.2.0",
      "_model_name": "LayoutModel",
      "_view_count": null,
      "_view_module": "@jupyter-widgets/base",
      "_view_module_version": "1.2.0",
      "_view_name": "LayoutView",
      "align_content": null,
      "align_items": null,
      "align_self": null,
      "border": null,
      "bottom": null,
      "display": null,
      "flex": null,
      "flex_flow": null,
      "grid_area": null,
      "grid_auto_columns": null,
      "grid_auto_flow": null,
      "grid_auto_rows": null,
      "grid_column": null,
      "grid_gap": null,
      "grid_row": null,
      "grid_template_areas": null,
      "grid_template_columns": null,
      "grid_template_rows": null,
      "height": null,
      "justify_content": null,
      "justify_items": null,
      "left": null,
      "margin": null,
      "max_height": null,
      "max_width": null,
      "min_height": null,
      "min_width": null,
      "object_fit": null,
      "object_position": null,
      "order": null,
      "overflow": null,
      "overflow_x": null,
      "overflow_y": null,
      "padding": null,
      "right": null,
      "top": null,
      "visibility": null,
      "width": null
     }
    },
    "c81f9b0a5dee4db396442599cb295097": {
     "model_module": "@jupyter-widgets/base",
     "model_module_version": "1.2.0",
     "model_name": "LayoutModel",
     "state": {
      "_model_module": "@jupyter-widgets/base",
      "_model_module_version": "1.2.0",
      "_model_name": "LayoutModel",
      "_view_count": null,
      "_view_module": "@jupyter-widgets/base",
      "_view_module_version": "1.2.0",
      "_view_name": "LayoutView",
      "align_content": null,
      "align_items": null,
      "align_self": null,
      "border": null,
      "bottom": null,
      "display": null,
      "flex": "2",
      "flex_flow": null,
      "grid_area": null,
      "grid_auto_columns": null,
      "grid_auto_flow": null,
      "grid_auto_rows": null,
      "grid_column": null,
      "grid_gap": null,
      "grid_row": null,
      "grid_template_areas": null,
      "grid_template_columns": null,
      "grid_template_rows": null,
      "height": null,
      "justify_content": null,
      "justify_items": null,
      "left": null,
      "margin": null,
      "max_height": null,
      "max_width": null,
      "min_height": null,
      "min_width": null,
      "object_fit": null,
      "object_position": null,
      "order": null,
      "overflow": null,
      "overflow_x": null,
      "overflow_y": null,
      "padding": null,
      "right": null,
      "top": null,
      "visibility": null,
      "width": null
     }
    },
    "d4d3328dd8914927b619350b49b6f81c": {
     "model_module": "@jupyter-widgets/controls",
     "model_module_version": "1.5.0",
     "model_name": "DescriptionStyleModel",
     "state": {
      "_model_module": "@jupyter-widgets/controls",
      "_model_module_version": "1.5.0",
      "_model_name": "DescriptionStyleModel",
      "_view_count": null,
      "_view_module": "@jupyter-widgets/base",
      "_view_module_version": "1.2.0",
      "_view_name": "StyleView",
      "description_width": ""
     }
    },
    "df24beefb77f4549b7beed2e23558980": {
     "model_module": "@jupyter-widgets/controls",
     "model_module_version": "1.5.0",
     "model_name": "HTMLModel",
     "state": {
      "_dom_classes": [],
      "_model_module": "@jupyter-widgets/controls",
      "_model_module_version": "1.5.0",
      "_model_name": "HTMLModel",
      "_view_count": null,
      "_view_module": "@jupyter-widgets/controls",
      "_view_module_version": "1.5.0",
      "_view_name": "HTMLView",
      "description": "",
      "description_tooltip": null,
      "layout": "IPY_MODEL_4d5e173f3cdd465b9b40f8b23d270e8a",
      "placeholder": "​",
      "style": "IPY_MODEL_4340e450c8c9444784e3ac188b9230df",
      "value": "Epoch 9: 100%"
     }
    },
    "faf8ff98c59b4951b62cd8ad4e1d5bfa": {
     "model_module": "@jupyter-widgets/controls",
     "model_module_version": "1.5.0",
     "model_name": "ProgressStyleModel",
     "state": {
      "_model_module": "@jupyter-widgets/controls",
      "_model_module_version": "1.5.0",
      "_model_name": "ProgressStyleModel",
      "_view_count": null,
      "_view_module": "@jupyter-widgets/base",
      "_view_module_version": "1.2.0",
      "_view_name": "StyleView",
      "bar_color": null,
      "description_width": ""
     }
    }
   }
  }
 },
 "nbformat": 4,
 "nbformat_minor": 5
}
