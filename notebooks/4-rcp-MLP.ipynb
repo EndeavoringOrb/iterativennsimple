{
 "cells": [
  {
   "cell_type": "markdown",
   "id": "f6828844-3a74-49bd-8348-ceae45948da7",
   "metadata": {
    "id": "f6828844-3a74-49bd-8348-ceae45948da7"
   },
   "source": [
    "# Load data"
   ]
  },
  {
   "cell_type": "code",
   "execution_count": 5,
   "id": "a5713c2d-0108-4708-9f0d-021e183f6d1e",
   "metadata": {
    "id": "a5713c2d-0108-4708-9f0d-021e183f6d1e"
   },
   "outputs": [],
   "source": [
    "import torch\n",
    "import pandas as pd\n",
    "import matplotlib.pyplot as plt\n",
    "%matplotlib widget\n",
    "import pathlib\n",
    "\n",
    "from iterativennsimple.Sequential2D import Sequential2D, Identity\n",
    "from iterativennsimple.Sequential1D import Sequential1D\n",
    "import iterativennsimple\n",
    "\n",
    "from iterativennsimple.utils.plot_2D_start_end import plot_2D_start_end"
   ]
  },
  {
   "cell_type": "code",
   "execution_count": 6,
   "id": "d0e79796",
   "metadata": {},
   "outputs": [],
   "source": [
    "# Turn a pandas dataframe into a pytorch tensor\n",
    "def df_to_tensor(df):\n",
    "    return torch.tensor(df.values, dtype=torch.float32)"
   ]
  },
  {
   "cell_type": "code",
   "execution_count": 7,
   "id": "9f5c3fcc-147d-4669-8ab2-3ddf16a88b4e",
   "metadata": {
    "id": "9f5c3fcc-147d-4669-8ab2-3ddf16a88b4e"
   },
   "outputs": [],
   "source": [
    "#name = 'regression_line'\n",
    "#name = 'pca_line'\n",
    "#name = 'circle'\n",
    "#name = 'regression_circle'\n",
    "#one_hot_y = False\n",
    "\n",
    "name = 'MNIST'\n",
    "one_hot_y = True\n",
    "\n",
    "# The directory in which the notebook is located.\n",
    "base_dir = pathlib.Path(iterativennsimple.__path__[0])\n",
    "# The directory where the data is stored.\n",
    "data_dir = base_dir / '../data/processed'\n",
    "\n",
    "\n",
    "# Read the start data\n",
    "z_start = pd.read_parquet(data_dir / f'{name}_start.parquet')\n",
    "# Read the target data\n",
    "z_target = pd.read_parquet(data_dir / f'{name}_target.parquet')"
   ]
  },
  {
   "cell_type": "markdown",
   "id": "78ba5bdc",
   "metadata": {},
   "source": [
    "## Data preprocessing"
   ]
  },
  {
   "cell_type": "code",
   "execution_count": 8,
   "id": "133ecd27",
   "metadata": {},
   "outputs": [],
   "source": [
    "z_start_tensor = df_to_tensor(z_start)\n",
    "z_target_tensor = df_to_tensor(z_target)\n",
    "\n",
    "# Only use the given number of sample\n",
    "max_num_samples = 1000\n",
    "num_samples = min(max_num_samples, z_start_tensor.shape[0])\n",
    "z_start_tensor = z_start_tensor[:num_samples]\n",
    "z_target_tensor = z_target_tensor[:num_samples]\n"
   ]
  },
  {
   "cell_type": "markdown",
   "id": "2d9b3a29",
   "metadata": {},
   "source": [
    "We have two views of the data, and here is where we reconcile them.   The dynamical systems view is to have vector $z_0$ (called \"z_start_tensor\" in the code) and $z_1$ (called \"z_target_tensor\" in the code) that are the initial and final states of the system.  We want to construct a function $f$ (or more precisely choose a set of parameters $\\theta$ that selects $f$ from some family of functions) such that $\\|f(z_0) - z_1\\|$ is small.  The machine learning view is to have a set of inputs $x$ (which is a subset of \"z_start_tensor\") and a set of outputs $y$ (which is a subset of \"z_target_tensor\") and to construct a function $g$ (or more precisely choose a set of parameters $\\phi$ that selects $g$ from some family of functions) such that $\\|g(x) - y\\|$ is small.   \n",
    "\n",
    "**The idea is to have $x$ and $y$ be subsets of $z_0$ and $z_1$ respectively!**   But how to do that!?"
   ]
  },
  {
   "cell_type": "markdown",
   "id": "4f1e3668",
   "metadata": {},
   "source": [
    "Let's begin by writing \n",
    "\n",
    "$$\n",
    "z_i=\n",
    "\\begin{bmatrix}\n",
    "x_i \\\\\n",
    "y_i \\\\\n",
    "\\end{bmatrix}\n",
    "$$\n",
    "\n",
    "and **we assume that $x_0=x_1$**.  This may seem odd at first glance, but is actually quite natural.  For example, in our MNIST example the starting image in $x_0$ and the target image in $x_1$ are the same.  It is merely the classification in $y_0$ and $y_1$ that are different.  I.e., $y_0$ contains some noisy classification or uniform prior of $x_0$ and $y_1$ contains the correct classification of $x_0$.  In the case of the MNIST data, we have $x_0=x_1$ and $y_0\\neq y_1$.\n",
    "\n",
    "So, in slighltly more detail we choose $z_0$ and $z_1$ so that\n",
    "\n",
    "$$\n",
    "z_0=\n",
    "\\begin{bmatrix}\n",
    "x_0 \\\\\n",
    "y_0 \\\\\n",
    "\\end{bmatrix}\n",
    "$$\n",
    "\n",
    "and\n",
    "\n",
    "$$\n",
    "z_1=\n",
    "\\begin{bmatrix}\n",
    "x_0 \\\\\n",
    "y_1 \\\\\n",
    "\\end{bmatrix}\n",
    "$$"
   ]
  },
  {
   "cell_type": "code",
   "execution_count": 9,
   "id": "701f8d98",
   "metadata": {},
   "outputs": [
    {
     "name": "stdout",
     "output_type": "stream",
     "text": [
      "torch.Size([794]) torch.Size([794])\n",
      "tensor(784) tensor(10)\n"
     ]
    }
   ],
   "source": [
    "\n",
    "# compute a mask for the data where every entry in each column is the same\n",
    "# this is used to remove columns that are constant\n",
    "mask = (z_start_tensor == z_target_tensor).all(axis=0)\n",
    "mask.shape\n",
    "x_mask = mask\n",
    "y_mask = ~mask\n",
    "\n",
    "# print out the shape of the masks\n",
    "print(x_mask.shape, y_mask.shape)\n",
    "\n",
    "# print out number of true entries in each mask\n",
    "print(x_mask.sum(), y_mask.sum())\n"
   ]
  },
  {
   "cell_type": "markdown",
   "id": "1880ae29-6269-42a9-870f-fb52bb18cf36",
   "metadata": {
    "id": "1880ae29-6269-42a9-870f-fb52bb18cf36"
   },
   "source": [
    "# MLP model"
   ]
  },
  {
   "cell_type": "markdown",
   "id": "11bc5490",
   "metadata": {},
   "source": [
    "Now we start using Sequential2D to build our model.  This requires a little massaging of the data.  In particlar, remember that we now have an iterative map of the form\n",
    "\n",
    "$$\n",
    "\\begin{bmatrix}\n",
    "I   & 0   & 0   & 0 \\\\\n",
    "f_1 & 0   & 0   & 0 \\\\\n",
    "0   & f_2 & 0   & 0 \\\\\n",
    "0   & 0   & f_3 & 0 \\\\\n",
    "\\end{bmatrix}\n",
    "$$\n",
    "\n",
    "and a state vector that combines $x$, $y$, and *the hidden layers* in the following way.\n",
    "\n",
    "$$\n",
    "\\begin{bmatrix}\n",
    "I   & 0   & 0   & 0 \\\\\n",
    "f_1 & 0   & 0   & 0 \\\\\n",
    "0   & f_2 & 0   & 0 \\\\\n",
    "0   & 0   & f_3 & 0 \\\\\n",
    "\\end{bmatrix}\n",
    "\\circ\n",
    "\\begin{bmatrix}\n",
    "x_0 \\\\\n",
    "h_1 \\\\\n",
    "h_2 \\\\\n",
    "y_0 \\\\\n",
    "\\end{bmatrix}\n",
    "$$"
   ]
  },
  {
   "cell_type": "markdown",
   "id": "0fc9ed2c",
   "metadata": {},
   "source": [
    "I am feeling a little silly today, so let's do the rest using Achilles and the Hare from Godel, Escher, Bach.\n",
    "\n",
    "![image.png](attachment:image.png)"
   ]
  },
  {
   "cell_type": "markdown",
   "id": "7daa36af",
   "metadata": {},
   "source": [
    "Achilles:  But... didn't you just say that an normal ML algorithm link and MLP ignores $y_0$?  Look, doesn't $y_0$ appear right up there?  \n",
    "\n",
    "Hare: Well, look at what happens after the first iteration.\n",
    "\n",
    "$$\n",
    "\\begin{bmatrix}\n",
    "I   & 0   & 0   & 0 \\\\\n",
    "f_1 & 0   & 0   & 0 \\\\\n",
    "0   & f_2 & 0   & 0 \\\\\n",
    "0   & 0   & f_3 & 0 \\\\\n",
    "\\end{bmatrix}\n",
    "\\circ\n",
    "\\begin{bmatrix}\n",
    "x_0 \\\\\n",
    "h_1 \\\\\n",
    "h_2 \\\\\n",
    "y_0 \\\\\n",
    "\\end{bmatrix}\n",
    "=\n",
    "\\begin{bmatrix}\n",
    "x_0 \\\\\n",
    "f_1(x_0) \\\\\n",
    "f_2(h_1) \\\\\n",
    "f_3(h_2) \\\\\n",
    "\\end{bmatrix}\n",
    "$$\n",
    "\n",
    "which **does not** contain $y_0$!  The MLP is cunningly designed to ignore the initial guess contained in $y_0$ :-)"
   ]
  },
  {
   "cell_type": "markdown",
   "id": "3c74a4ef",
   "metadata": {},
   "source": [
    "Achilles:  But... but... but...  what about the hidden layers $h_1$ and $h_2$?  Don't you need to choose them carefully since they are the input to the next layer\\iteration?  I remember reading that MLPs don't care about random initializations of the hidden layers since they will be overwritten by the training process!?\n",
    "\n",
    "Hare: Yes, but...  look at what happens after the second iteration.\n",
    "\n",
    "$$\n",
    "\\begin{bmatrix}\n",
    "I   & 0   & 0   & 0 \\\\\n",
    "f_1 & 0   & 0   & 0 \\\\\n",
    "0   & f_2 & 0   & 0 \\\\\n",
    "0   & 0   & f_3 & 0 \\\\\n",
    "\\end{bmatrix}\n",
    "\\circ\n",
    "\\begin{bmatrix}\n",
    "I   & 0   & 0   & 0 \\\\\n",
    "f_1 & 0   & 0   & 0 \\\\\n",
    "0   & f_2 & 0   & 0 \\\\\n",
    "0   & 0   & f_3 & 0 \\\\\n",
    "\\end{bmatrix}\n",
    "\\circ\n",
    "\\begin{bmatrix}\n",
    "x_0 \\\\\n",
    "h_1 \\\\\n",
    "h_2 \\\\\n",
    "y_0 \\\\\n",
    "\\end{bmatrix}\n",
    "=\n",
    "\\begin{bmatrix}\n",
    "x_0 \\\\\n",
    "f_1(x_0) \\\\\n",
    "f_2(f_1(x_0)) \\\\\n",
    "f_3(f_2(h_1)) \\\\\n",
    "\\end{bmatrix}\n",
    "$$\n"
   ]
  },
  {
   "cell_type": "markdown",
   "id": "19538528",
   "metadata": {},
   "source": [
    "Hare: And one more iteration gives\n",
    "\n",
    "$$\n",
    "\\begin{bmatrix}\n",
    "I   & 0   & 0   & 0 \\\\\n",
    "f_1 & 0   & 0   & 0 \\\\\n",
    "0   & f_2 & 0   & 0 \\\\\n",
    "0   & 0   & f_3 & 0 \\\\\n",
    "\\end{bmatrix}\n",
    "\\circ\n",
    "\\begin{bmatrix}\n",
    "I   & 0   & 0   & 0 \\\\\n",
    "f_1 & 0   & 0   & 0 \\\\\n",
    "0   & f_2 & 0   & 0 \\\\\n",
    "0   & 0   & f_3 & 0 \\\\\n",
    "\\end{bmatrix}\n",
    "\\circ\n",
    "\\begin{bmatrix}\n",
    "I   & 0   & 0   & 0 \\\\\n",
    "f_1 & 0   & 0   & 0 \\\\\n",
    "0   & f_2 & 0   & 0 \\\\\n",
    "0   & 0   & f_3 & 0 \\\\\n",
    "\\end{bmatrix}\n",
    "\\circ\n",
    "\\begin{bmatrix}\n",
    "x_0 \\\\\n",
    "h_1 \\\\\n",
    "h_2 \\\\\n",
    "y_0 \\\\\n",
    "\\end{bmatrix}\n",
    "=\n",
    "\\begin{bmatrix}\n",
    "x_0 \\\\\n",
    "f_1(x_0) \\\\\n",
    "f_2(f_1(x_0)) \\\\\n",
    "f_3(f_2(f_1(x_0))) \\\\\n",
    "\\end{bmatrix}\n",
    "$$\n",
    "\n",
    "Two neat things have happened. First notice that the hidden layers $h_1$ and $h_2$ have been overwritten by the training process, so their initiationlization is irrelevant.  Second, we have the last entry has the form $f_3(f_2(f_1(x_0)))$ which is exactly the form of the answer that the MLP would have given!"
   ]
  },
  {
   "cell_type": "markdown",
   "id": "1fddde4e",
   "metadata": {},
   "source": [
    "Hare:  So, the MLP is a cunningly designed iterative map that ignores the initial guess $y_0$ and the hidden layers $h_1$ and $h_2$ and gives the same answer as the iterative map that we are trying to learn!  "
   ]
  },
  {
   "cell_type": "code",
   "execution_count": 10,
   "id": "ebbc9b74-d7dc-4dd6-bb72-88ed57f5b63e",
   "metadata": {
    "id": "ebbc9b74-d7dc-4dd6-bb72-88ed57f5b63e"
   },
   "outputs": [],
   "source": [
    "input_size = int(x_mask.sum())\n",
    "h1_size = 20\n",
    "h2_size = 20\n",
    "output_size = int(y_mask.sum())\n",
    "\n",
    "x_idx = torch.arange(0, input_size)\n",
    "h_idx = torch.arange(input_size, input_size+h1_size+h2_size)\n",
    "y_idx = torch.arange(input_size+h1_size+h2_size, input_size+h1_size+h2_size+output_size)\n",
    "\n",
    "total_size = input_size + h1_size + h2_size + output_size\n",
    "\n",
    "iterations = 3\n",
    "\n",
    "I = Identity(in_features=input_size, out_features=input_size)\n",
    "f1 = Sequential1D(torch.nn.Linear(in_features=input_size, out_features=h1_size), \n",
    "                  torch.nn.ReLU(), \n",
    "                  in_features=input_size, out_features=h1_size)\n",
    "f2 = Sequential1D(torch.nn.Linear(in_features=h1_size, out_features=h2_size), \n",
    "                  torch.nn.ReLU(), \n",
    "                  in_features=h1_size,    out_features=h2_size)\n",
    "f3 = torch.nn.Linear(in_features=h2_size,    out_features=output_size)    \n",
    "\n",
    "in_features_list  = [input_size, h1_size, h2_size, output_size]\n",
    "out_features_list = [input_size, h1_size, h2_size, output_size]\n",
    "blocks = [[I,    None, None, None],\n",
    "          [f1,   None, None, None],\n",
    "          [None, f2,   None, None],\n",
    "          [None, None, f3,   None]]\n",
    "\n",
    "def transpose_blocks(blocks):\n",
    "    return [[blocks[j][i] for j in range(len(blocks))] for i in range(len(blocks[0]))]\n",
    "\n",
    "map = Sequential2D(\n",
    "    in_features_list=in_features_list,\n",
    "    out_features_list=out_features_list,\n",
    "    blocks=transpose_blocks(blocks)\n",
    ")   "
   ]
  },
  {
   "cell_type": "code",
   "execution_count": 11,
   "id": "c367059b",
   "metadata": {},
   "outputs": [],
   "source": [
    "zh_start_tensor = torch.cat((z_start_tensor[:, x_mask],\n",
    "                             torch.zeros(z_start_tensor.shape[0], len(h_idx)), \n",
    "                             z_start_tensor[:, y_mask]), dim=1)\n",
    "zh_target_tensor = torch.cat((z_target_tensor[:, x_mask], \n",
    "                             torch.zeros(z_target_tensor.shape[0], len(h_idx)), \n",
    "                             z_target_tensor[:, y_mask]), dim=1)"
   ]
  },
  {
   "cell_type": "code",
   "execution_count": 12,
   "id": "a7eeb2b8",
   "metadata": {},
   "outputs": [],
   "source": [
    "# a dataloader which returns a batch of start and target data\n",
    "class Data(torch.utils.data.Dataset):\n",
    "    def __init__(self, z_start, z_target):\n",
    "        self.z_start = z_start\n",
    "        self.z_target = z_target\n",
    "    def __len__(self):\n",
    "        return len(self.z_start)\n",
    "    def __getitem__(self, idx):\n",
    "        return self.z_start[idx], self.z_target[idx]\n",
    "    \n",
    "train_data = Data(zh_start_tensor, zh_target_tensor)\n",
    "train_loader = torch.utils.data.DataLoader(train_data, batch_size=512, shuffle=True)"
   ]
  },
  {
   "cell_type": "code",
   "execution_count": 13,
   "id": "7486ca78-5e1c-4f94-afb5-9015303aaa09",
   "metadata": {
    "colab": {
     "base_uri": "https://localhost:8080/",
     "height": 382,
     "referenced_widgets": [
      "915d05c1f046462ebe574b6b306b6110",
      "df24beefb77f4549b7beed2e23558980",
      "a5a6545605cb475fb4bd6db5d32b0b24",
      "5959c15bd28a4059b8952689490ebe2f",
      "a3075bdd01e047faa3f1246dabaedcc7",
      "4d5e173f3cdd465b9b40f8b23d270e8a",
      "4340e450c8c9444784e3ac188b9230df",
      "c81f9b0a5dee4db396442599cb295097",
      "faf8ff98c59b4951b62cd8ad4e1d5bfa",
      "a955f09104b54e37b262198a3807761c",
      "d4d3328dd8914927b619350b49b6f81c"
     ]
    },
    "id": "7486ca78-5e1c-4f94-afb5-9015303aaa09",
    "outputId": "e3247ec9-d372-4fda-c69e-654d985bc905"
   },
   "outputs": [],
   "source": [
    "# Define the loss function and optimizer\n",
    "criterion = torch.nn.MSELoss()\n",
    "optimizer = torch.optim.Adam(map.parameters(), lr=0.001)"
   ]
  },
  {
   "cell_type": "code",
   "execution_count": 14,
   "id": "cb50afb7",
   "metadata": {},
   "outputs": [
    {
     "name": "stdout",
     "output_type": "stream",
     "text": [
      "Epoch 0, Batch 1, Loss 0.12102926522493362\n",
      "Epoch 100, Batch 1, Loss 0.037190042436122894\n",
      "Epoch 200, Batch 1, Loss 0.024732891470193863\n",
      "Epoch 300, Batch 1, Loss 0.018675537779927254\n",
      "Epoch 400, Batch 1, Loss 0.013148397207260132\n"
     ]
    }
   ],
   "source": [
    "max_epochs = 500\n",
    "# Train the model\n",
    "for epoch in range(max_epochs):\n",
    "    for batch_idx, (start, target) in enumerate(train_loader):\n",
    "        optimizer.zero_grad()\n",
    "\n",
    "        mapped = start\n",
    "\n",
    "        loss = 0.0\n",
    "        for i in range(iterations):\n",
    "            mapped = map(mapped)\n",
    "\n",
    "        loss = criterion(mapped[:, y_idx], target[:, y_idx])\n",
    "        loss.backward()\n",
    "\n",
    "        optimizer.step()\n",
    "    if epoch % 100 == 0:\n",
    "        print(f'Epoch {epoch}, Batch {batch_idx}, Loss {loss.item()}')"
   ]
  },
  {
   "cell_type": "markdown",
   "id": "054793e0",
   "metadata": {},
   "source": [
    "# Training data"
   ]
  },
  {
   "cell_type": "code",
   "execution_count": 15,
   "id": "0545bf25",
   "metadata": {},
   "outputs": [],
   "source": [
    "def project(z_start, z_mapped, z_target, idx, one_hot=False):\n",
    "    if len(idx) == 1:\n",
    "        start = z_start[:, idx[0]]\n",
    "        target = z_target[:, idx[0]]\n",
    "        mapped = z_mapped[:, idx[0]]\n",
    "    else:\n",
    "        if one_hot:\n",
    "            start = torch.argmax(z_start[:, idx], dim=1)\n",
    "            target = torch.argmax(z_target[:, idx], dim=1)\n",
    "            mapped = torch.argmax(z_mapped[:, idx], dim=1)\n",
    "        else:\n",
    "            # Use PCA to reduce the dimensionality of the data\n",
    "            _, _, V = torch.svd(z_target[:, idx])\n",
    "            start = torch.matmul(z_start[:, idx], V[:, 0])\n",
    "            target = torch.matmul(z_target[:, idx], V[:, 0])\n",
    "            mapped = torch.matmul(z_mapped[:, idx], V[:, 0])\n",
    "    return start, mapped, target\n",
    "\n",
    "\n",
    "def my_plot(z_start, z_mapped, z_target, plot_points, x_idx, y_idx, one_hot_y=False):\n",
    "    start_x, mapped_x, target_x = project(z_start, z_mapped, z_target, x_idx)\n",
    "    start_y, mapped_y, target_y = project(z_start, z_mapped, z_target, y_idx, one_hot_y)\n",
    "    plot_2D_start_end(start_x, start_y,\n",
    "                      mapped_x, mapped_y, \n",
    "                      target_x, target_y, \n",
    "                      plot_points)"
   ]
  },
  {
   "cell_type": "code",
   "execution_count": 16,
   "id": "86109c30",
   "metadata": {},
   "outputs": [
    {
     "data": {
      "application/vnd.jupyter.widget-view+json": {
       "model_id": "1778fca1789e43d3a99132477d3ca101",
       "version_major": 2,
       "version_minor": 0
      },
      "image/png": "[encoded data removed]",
      "text/html": [
       "\n",
       "            <div style=\"display: inline-block;\">\n",
       "                <div class=\"jupyter-widgets widget-label\" style=\"text-align: center;\">\n",
       "                    Figure\n",
       "                </div>\n",
       "                <img src='data:image/png;base64,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' width=640.0/>\n",
       "            </div>\n",
       "        "
      ],
      "text/plain": [
       "Canvas(toolbar=Toolbar(toolitems=[('Home', 'Reset original view', 'home', 'home'), ('Back', 'Back to previous …"
      ]
     },
     "metadata": {},
     "output_type": "display_data"
    }
   ],
   "source": [
    "\n",
    "plot_iterations = 1\n",
    "\n",
    "mapped_tensor = zh_start_tensor\n",
    "for i in range(plot_iterations):\n",
    "    mapped_tensor = map(mapped_tensor)\n",
    "mapped_tensor = mapped_tensor.detach()\n",
    "\n",
    "my_plot(zh_start_tensor, mapped_tensor, zh_target_tensor, plot_points=10, x_idx=x_idx, y_idx=y_idx, one_hot_y=one_hot_y)\n"
   ]
  },
  {
   "cell_type": "code",
   "execution_count": 17,
   "id": "8ac074be-5d27-480a-83fe-e1161e9d69ef",
   "metadata": {
    "id": "8ac074be-5d27-480a-83fe-e1161e9d69ef"
   },
   "outputs": [
    {
     "data": {
      "application/vnd.jupyter.widget-view+json": {
       "model_id": "b52a41106eab40bcaf594dc795e6949a",
       "version_major": 2,
       "version_minor": 0
      },
      "image/png": "[encoded data removed]",
      "text/html": [
       "\n",
       "            <div style=\"display: inline-block;\">\n",
       "                <div class=\"jupyter-widgets widget-label\" style=\"text-align: center;\">\n",
       "                    Figure\n",
       "                </div>\n",
       "                <img src='data:image/png;base64,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' width=640.0/>\n",
       "            </div>\n",
       "        "
      ],
      "text/plain": [
       "Canvas(toolbar=Toolbar(toolitems=[('Home', 'Reset original view', 'home', 'home'), ('Back', 'Back to previous …"
      ]
     },
     "metadata": {},
     "output_type": "display_data"
    }
   ],
   "source": [
    "plot_iterations = iterations\n",
    "\n",
    "mapped_tensor = zh_start_tensor\n",
    "for i in range(plot_iterations):\n",
    "    mapped_tensor = map(mapped_tensor)\n",
    "mapped_tensor = mapped_tensor.detach()\n",
    "\n",
    "my_plot(zh_start_tensor, mapped_tensor, zh_target_tensor, plot_points=10, x_idx=x_idx, y_idx=y_idx, one_hot_y=one_hot_y)"
   ]
  },
  {
   "cell_type": "markdown",
   "id": "ea123cd4",
   "metadata": {},
   "source": [
    "# Path"
   ]
  },
  {
   "cell_type": "code",
   "execution_count": 18,
   "id": "911b76b9",
   "metadata": {},
   "outputs": [
    {
     "data": {
      "application/vnd.jupyter.widget-view+json": {
       "model_id": "46d64cd2c5a24bf4af416ced5641eb27",
       "version_major": 2,
       "version_minor": 0
      },
      "image/png": "[encoded data removed]",
      "text/html": [
       "\n",
       "            <div style=\"display: inline-block;\">\n",
       "                <div class=\"jupyter-widgets widget-label\" style=\"text-align: center;\">\n",
       "                    Figure\n",
       "                </div>\n",
       "                <img src='data:image/png;base64,iVBORw0KGgoAAAANSUhEUgAAAoAAAAHgCAYAAAA10dzkAAAAOXRFWHRTb2Z0d2FyZQBNYXRwbG90bGliIHZlcnNpb24zLjguMSwgaHR0cHM6Ly9tYXRwbG90bGliLm9yZy/SrBM8AAAACXBIWXMAAA9hAAAPYQGoP6dpAABCxElEQVR4nO3de3xU1b3///eeC8kGyQxYBDIiYKoUhBFLtbQojVpFOqLtqZzWSrHUh22n9GBVtKBt1W/rBUvV6tdi259HffyoeOGc/hSj4hUvKNVSFesFBEvEBASFTBBzn/37Y2eumQkBQmaS9Xo+HnnMzNprr/XZazbO2z2TieU4jiMAAAAYw1PoAgAAANCzCIAAAACGIQACAAAYhgAIAABgGAIgAACAYQiAAAAAhiEAAgAAGIYACAAAYBgCIAAAgGEIgAAAAIYhAAIAABiGAAgAAGAYAiAAAIBhCIAAAACGIQACAAAYhgAIAABgGAIgAACAYQiAAAAAhiEAAgAAGIYACAAAYBgCIAAAgGEIgAAAAIYhAAIAABiGAAgAAGAYAiAAAIBhCIAAAACGIQACAAAYhgAIAABgGAIgAACAYQiAAAAAhiEAAgAAGIYACAAAYBgCIAAAgGEIgAAAAIYhAAIAABiGAAgAAGAYAiAAAIBhCIAAAACGIQACAAAYhgAIAABgGAIgAACAYQiAAAAAhiEAAgAAGIYACAAAYBgCIAAAgGEIgAAAAIYhAAIAABiGAAgAAGAYAiAAAIBhCIAAAACGIQACAAAYhgAIAABgGAIgAACAYQiAAAAAhiEAAgAAGIYACAAAYBhfoQtA94vH46qtrdXAgQNlWVahywEAGMpxHO3evVvl5eXyeLjmVEwIgH1QbW2tRowYUegyAACQJG3ZskWHH354octAGgJgHzRw4EBJ7j+4srKyAlcDADBVfX29RowYkXxdQvEgAPZBibd9y8rKCIAAgILj40jFhzfkAQAADEMABAAAMAwBEAAAwDAEQAAAAMMQAAEAAAxDAAQAADAMARAAAMAwBEAAAADDEAABAAAMQwAEAAAwDAEQAADAMARAAAAAw/gKXQD6nqVrqrV45XpJ0vxpYyRJS1Zt0qSRg7S2epeilRWaNXlkRv8lqzbp0AH99FZtTMMCpaqta5TPY0mW1NLmyGNJccftb/u9OuqwQ7SuJtZh7qDt0+7GVg0LlGpbrFGRcLkkacUbtbLax7D9Hp02bpjWVu9Kzjmw1Ke6htbk/pFwuU4YPThZ9/MbdqiptU0lPq/mTxujWZNHJutOHFf67fMbdmhPU6ta445mHFuuW889TpI0b9lreviN2oya0+vJtUaJeRJt2fN21jfXc5O9fX/2yTZv2WuqWlerSDh1rJ3VaaKurGNv0VPH0pfWDCg2luM4TqGLQPeqr69XIBBQLBZTWVlZj88/5YZnVFPXIEkKBW1JUk1dg7yW1Oa4basXnJKzf3fzWu5tm9OxPbste/uwgJ1Rd0Ki/kTdie3Zt+ljbbo+IkmqWFiVc97sfdPXKDFPvnk765st1/b92Sdb4rjSj7WzOk3UlXXsLXrqWPrSmpmq0K9HyI+3gNHtopUVCtp+BW2/opUVilZWKBS0FQmXKxS0Fa2s6NA/FLQVDgXktaRQsFSWJL/Hkr89wXmsVH/b71U4FMg5d9D2JcfwWlIkXK5IuFxW2hi235OsJTFn0HYvhgfbGpP7pdcdtP2y/Z7kMaXXnRgr/TZo++X3WLKk5FVIZd1PHY+nwxjpa5SYp8O89e/vtW+u56Y79skWCZcn1y17v3zPu2m6so69RU8dS19aM6DYcAWwD+L/uPbTzp3SYYdJL78sHX98oavp3L//LR15pLRxo1TBiyOA4sTrUfHiCiCQ8NhjUlubtGJFoSvZu0SNjzxS2DoAAL0SARBISISp3hQAe0OtAICiQwAEJKmlxb0CKEmvvy5t2VLQcjpVXy8995x7/7nnpFjH34YGAKAzBEBAkl58MTNIFfNbq0884QZWSWptlVauLGw9AIBehwAISB3fSi3mANibagUAFCUCICB1DFFPPy3t2VOYWjrT1iY9+mhm26OPuu0AAHQRARBYv1567z3J1/6HcXw+qalJeuqpwtaVy5o10scfZ9b6ySfuV9cAANBFBEDgnXeke+6Rfv1r9/G550pVVdLWrYWtK5f335ceeED6r/9yH8+dKz34oPu9gAAAdBF/Cxj45jfd2+uvd28tS/rGNwpWTqe+/3339u9/d289HumccwpXDwCgV+IKIAAAgGEIgAAAAIYhAAIAABiGAAgAAGAYAiAAAIBhCIAAAACGIQACAAAYhgAIAABgGAIgAACAYQiAAAAAhiEAAgAAGIYACAAAYBgCIAAAgGEIgAAAAIYhAAIAABiGAAgAAGAYAiAAAIBhCIAAAACGIQACAAAYhgAIAABgGAIgAACAYQiARaatrU2/+tWvNHr0aNm2rYqKCv3mN7+R4ziFLg0AAPQRvkIXgEyLFi3SkiVLdM899+iYY47RP/7xD82ZM0eBQEDz5s0rdHkAAKAPIAAWmZdeeklnn322IpGIJGnUqFFatmyZXnnllQJXBgAA+greAi4yX/3qV/X0009rw4YNkqQ33nhDL774oqZPn17gyg6S2lpp69bO+3zwgbRjx4HP1dQk/etfe+8Xj+/buO+/L9XV7VdJXbJrlztHukSN8bi0bZtUU3Pw5t9XmzdLn3wiNTRIb79d6GoAADlYDh8uKyrxeFxXXHGFbrzxRnm9XrW1tenaa6/VwoUL8+7T1NSkpqam5OP6+nqNGDFCsVhMZWVlPVH2/mlpkUaM0NIxlVoy/UJFKz+vWZNHSpKWrqnWklWbFJ10mPTLX2rJl89R9HsnJbenm7fsNa14o1Y+j6UBJT7NnzZGkrR45XrtaWpVa9zRjGPLdcI/nta1zmg19ivRhFBQn+xpVrSyQrMmj9S8Za/p4ddrJMdRuGGHPgmN0qSRg7S2epckRzV1jQoFSyVZilZW6JV/73TntCRfU6NKLEdHjBqmdTWxjNr87TUdMbi/3qyJybIkx5EmhALJ+RNjSZIjKRwK6OH/OlFL11Rr8cr1Un29pm58VU9O+JoaWh3Zfo9Oq/+31jaXapKvQc/7Pqcmj0/q318lPq+mHj1Ez29wA3Ni3lK/V1dGxmrW5JGptU2bu9Tv0Wnjhmlt9a5k+8PtNflzrKskzZ82Jrl2VetqFQmX69aThkhHHaV5//krrRgWVmlLo678vFf64heTc+Z6DtNryrW9u+xtnu6so6eOqafnMgVr2j3q6+sVCASK//XIQATAInPffffpsssu0+9+9zsdc8wxev311/Xzn/9cN910k84///yc+1x99dW65pprOrQX/T+4+nopENCUn9ypmsBQhYK2Vi84RZI05YZnVFPXoNAAn1Rb02F7uoqFVWpLO4tDQVuSVFPXkGzzWtKwpnrV9Mtcj8SY2WMk9sluS+yzLdaQc9u+yjfW5hsiyTWQJG+8TW0eb4factXYWd2rF5ySWtusuRP75aspe12z185rSZu+E5KOO04Vlz2UrDfkaZbKAsk5cz2H6TXl2t5d9jZPd9bRU8fU03OZgjXtHgTA4sVbwEXmsssu04IFC/Td735XEyZM0Pe//31dfPHFuv766/Pus3DhQsViseTPli1berDiAxdds1yhQImilRWptsoKhYK2ohOC7vb67Rnb00XC5bLkXqkK2n5FKysUraxQ0PbL77FktfeJ7lwnu7lRlhyFQwF3/PYxI+Fyd7B4XOEhtkJBW5FwuUJBu/3KnxQKlib3Sc5pSXZzg4JNnyocCnSoLVFTOBSQJcljSZaUMX9iLKt9n8Q4iWMINn6qyDsvyG7/12r7PYqMHaJQ/Q5FxgxWsKFednODbJ87VyRc7u6XNq/t9yaPNbm2aXPbfk/yeBPt2ceQvq6Jx4m181rK2CeycY0sJy67uUHRsvqMOXOeA3vZ3l16so6eOqaenssUrCn6PAdFZfDgwc4f//jHjLbrrrvOOeqoo7o8RiwWcyQ5sVisu8vrXrGY47jviDrO7t25+6xb5273+Q58vi99yR3rJz/Jvf2ZZ9ztS5Z0fcxHHnH3GTjwwOvL55BD3DlWrky1Pfig23bvvak1/Oijg1dDV73yiltLv36OM26ce/8Xvyh0VQAKpNe8HhmIK4BFZsaMGbr22mtVVVWlzZs3629/+5tuuukmfetb3yp0ad0v/Rcbqqtz93ntNfe2tVXavfvA5kv8okS+X0xYsSLztitefdW93bNHamvb/9ryaWmRPvvMvf+Pf6TaEzU++GCq7b33un/+fbV2rXvb3Jz65Z433yxcPQCAnAiARea2227TOeeco5/+9KcaO3as5s+frx//+Mf6zW9+U+jSut/jj6fuP/ZY7j6rVqXuP/nk/s+1e7f00Ufu/Xfe6bjdcVKh6umn3UDXFS+95N7G49KaNftfXz6rV6d+43f1ave2rU169FH3/sqVqb7p9wvluedS93ftcm8JgABQdAiARWbgwIG65ZZbVF1drYaGBm3atEm//e1v1a9fv0KX1v3SQ1++APjss6n7+3JlLtsTT6SC1I4d0saNmds3bEi1NTVJTz219zHb2qS//7176svnkUdS919+ORU0P/7YbUtcHZTcYywkx8kMgAlbtrhf9wMAKBoEQBRGLJa6oiVJL7zQ8S3e995zv1Muoapq/99mzQ5n+/o4l5dfdn+TeV/22VfpY+7a5b7lnG+eV15xv3+vUN56K/93OqYHWQBAwREAURiPP54Z5lpaOl7Byg46O3a4IWdftbW54bGzsbMfP/LI3r8QOnuft9/u+IXNB2LDBvcne858AdBxUm8NF0JnAfhghGMAwH4jAKIwcl0Rym7rSp+ueOWV1FumCS+8kPrrHTt3Zl6NlNzPCyZ+oSGf7qpvX8b/3//t/K9rFPJKW2dzP/VU5tvVAICCIgCi57W2un+S7f/8n1Tbb38rrVuXuipYVydt3y7NnZvqc8MN+/eLFo8/Ls2ZIw0d6j4+7jjp9NNTvzSxcqU0fbp03nnu41NPlX7wg/yfS5TcK339+knnnus+9vmkX/5Sev75fa8vn+efl379a8nb/gXQ553nvnUeiUhnn+22jRuX6v/LX0rvvuv+Bm5P27HDfTv8wgtTbbb7xdGaPFk66STpmWd6vi4AQG6F/h4adL+i/96lpibHaWx0nC1bUt9ht3Wr29bU5PbZs8dxWlsdZ8WKVB/Hcb8vMB7ft/nq693bUaPccaZPz2xP3F53nbt99uzM9lwSddx8s7uP37/3ffZVYiyfz53j9tsdp67Onfvii922n/0stT5vv51a25726afu83XffW4tluU4w4e792fOzDweAMYo+tcjg/kKHUBhoHy/0VxSkrrfv3/uPoccsu/zDRzYefvetu9LHZ3ts69yjRVo/2sjnjwX7wv12+IDBuy9T3euDQDggPAWMAAAgGEIgAAAAIYhAAIAABiGAAgAAGAYAiAAAIBhCIAAAACGIQACAAAYhgAIAABgGAIgAACAYQiAAAAAhiEAAgAAGIYACAAAYBgCIAAAgGEIgAAAAIYhAAIAABiGAAgAAGAYAiAAAIBhCIAAAACGIQACAAAYhgAIAABgGAIgAACAYQiAAAAAhiEAAgAAGIYACAAAYBhfoQtA77Z0TbWWrNqkaGWFZk0emXP74pXrtae5Va1tjmYcW64TRg/WklWbNGlIiR679G9q8frkv3WtDisrVU1dozyWVFbq19Sjh2jtu1J04nRJ0rW/ekwNLfEOc4SCpdq5pzm5ze+xdNVZx2jJqo2qqWuUJSlg+zV18vlae8YRmhSP6bErHlVL3MnY16/x8l38oEp8Hh1x24t6syamUr9Hp40bpuc37NCepla1xt1juPXc49zj+yygJT+5U5Nq1+v5a55QU2ubJEuSo9Y2J9n/hNGDtXjleklyj6t6l6KVFZKUbJ8/bYwkZazn0jXVWvzT/1eSo/m7WzQrfW0nTtcS+2uadGapnjxqshrueV/S+/JYUonPoxKfV/OnjdEr/96ph9+olSSdlVZLU2ubSnxeHTG4v9bVxCRJ4VBA723/VI0tbZoQCuiTPc0ZtSxZtUmTRg7S2updHW6jlRUZ9e3LebK/59a+jlkIvaVOAGaxHMdxCl0Euld9fb0CgYBisZjKysoO6lxTbnhGNXUNCgVtrV5wSt7tCV5LGhawVVPXIK8ltXVy9iW2h2IfSZJqAkO7XFcoaGfMK0neeJvaPF55nbjarK5f/M6u02tJm66PSJKmXPH/qSbuT46db//EMWccV9B2j6u9Pf1xYj3T1y/kbdXqa892B50/X1P2jFNNYGinc4eCtrbFGpL1Z9fSFdm1JOrPvg0Fba0evUP67ncly5KGDZO2bpVmztSUL/6k0/Mkl66eW/syZiH0ljqBg6EnX4+wb3gLGAckWlmhUNBOXs3KtT1o++X3WrIkRcLlyX0inw/K39oiOY78HvdKniR5LClo+xUJlytU4ii6Zrmia5bL9uc+XUPB0oxtfo/VPoc7nqX28bb8U6HYR4rUbZTfY3XY16+47OYGBeNNCocCsiTZfo8i4XL3GDypY0ge3yG73DHXr1bQ9sv2e2T7vbL9noz+iXVIHlf7mqW3Jx6nr2e0skLBht0KNtQrWhbLXNs1yxWKNyjyzguymxuT7R7LrTsxZnq96bUk+oRDgeT2cCgg2++V1X4/u5ZQ0E7Wn32b7xxI37ezPvu6z/6MWQi9pU4AZuEKYB/Ua/6P68MPpREj3Ptbt7pXjLI98og0Y4Z7/0BP1dGjpc2bpenTpUcf7bj9+uulK66QZs+W7rmna2Pecot08cWS3y81Nx9Yffn4/VJrq3T77dJPf+q2zZ8v/f730s9+Jv3f/+u2vf22NHbswamhq+6/P+cVQD3wQGHrAlAQveb1yEBcAQQAADAMARAAAMAwBEAAAADDEAABAAAMQwAEAAAwDAEQAADAMARAAAAAwxAAAQAADEMABAAAMAwBEAAAwDAEQAAAAMMQAAEAAAxDAAQAADAMARAAAMAwBEAAAADDEAABAAAMQwAEAAAwDAEQAADAMARAAAAAwxAAAQAADEMABAAAMAwBEAAAwDAEQAAAAMMQAIFi1daWv91xcm9znPz7AQDQjgAIFKvZs6W770493rBB+uY3pU2bUgHw3/9ObX/+een006Wmpp6sEgDQCxEAgWL1hS9Ic+ZIra3u4z/8QXrrLemooyRP+z/dqqpU/5/8RCopkfr37/laAQC9CgEQKFYzZuRus6x92wcAgCwEQKBYHXusNGJEZlt2wPNk/RM+88yDWxMAoE8gAALFyrIyA90hh0gnnpjZp7w8dT8clkKhnqkNANCrEQCBYpYeAL/8Zcnvz9w+enTq/umn90xNAIBejwBYhGpqajRr1iwdeuihsm1bEyZM0D/+8Y9Cl4VCOOWU1Gf+pkzpuP3II1P3p03rmZoAAL2er9AFINOuXbs0ZcoUnXzyyXrsscc0ZMgQvffeexo0aFChS0MhlJZKti199pl7BTBbMJi6P2FCj5UFAOjdCIBFZtGiRRoxYoTuuuuuZNvo9Lf5YJ7+/d0AWFbWeb/sXwgBACAPAmCRefjhhzVt2jTNnDlTzz33nEKhkH7605/qwgsvzLtPU1OTmtK+/Le+vr4nSs1r6ZpqLVm1SdHKCs2aPHKf9lu8cr32NLWqNe5oxrHlunVg/vElRzV1jfJ7LE2fMFzPb9ghSZp69BA9+fY2NbbENSEU0HvbP1VDS5vsb/9eVz79/2hW2lxNrW0q8Xk1f9oYvbJnhKoue0iRpg91Qvschw7op7dqY4qEy3XC6MEd9pnVyXE0tcYlOWptc9QSd+T3WPJ5rdS+7WuzdE21fv3QvxR3pKDt04ASv6KVFXrl3ztVta5Wx3zzan3isxWtbpJ87WtrlUsTp2txydfUdPGJavV41fr7V9w1O/e4va7zNSveUkub+2XSQdunuoZWhYKlkqzk8zZv2Wvu/OUBfbDzM0nS/GljJKnT5/es79+kdcOPkt3apAZficJNH+vhvGuUWsvscRPP86SRg7S2elen51O+c25/z8ViVKzH0pW6irV2wGSW4+T7m1IohNLSUknSJZdcopkzZ+rVV1/VRRddpDvuuEPnn39+zn2uvvpqXXPNNR3aY7GYyvZ21eggmHLDM6qpa1AoaGv1glPyd/zww9TXnGzdqil3v62auobkZq8lbZripL76pP1UTYyfzmtJ7Xkm4362UOwjra5erilT52eMEQra2lb3mdpkyevENWzQgA61DAvYHfZZXbpOuvhi95czmpvz1tehjrS1ydU/FLS1LdbgHofjSJalkG1JJaXu2jqNUn1MNYGhHdZh0/WRTufeW32J2ioWVnVYx1DQlqT8z+/992vUPwe4n1tsr1uOo82LMr+eJruGXOMm+iSez87Op3znXJfPxV6gWI+lK3UVa+04+Orr6xUIBAr2eoT8eM+oyMTjcX3xi1/Uddddp+OOO04/+tGPdOGFF+qOO+7Iu8/ChQsVi8WSP1u2bOnBijuKVlYoFLQVrazY5/2Ctl9+jyVLUiRcnrdfKGi3X7GS/B5LkXC5grZfQduvSLhctt8jS1I4FJDt90qS7NYmRdcsz5jL9nsUtN0rbhFfnbzxNkUatyTnCIcC8lpuLbn26ew4bL9Xtt8jv8dK1plr32hlhdq7KGj7kmsXCZfLa0nhnR8oFPtI0c+XpNY2Xq3omuUKOs2ymxvkb23udM2y6/N7U18mHbTdNwJCwdKM5y05fyiQXNtoZcVen9/w1vckx5Hd2iQ5jsJNH3eyRp684yYeR8Llez2f8tW0v+diMSrWY+lKXcVaO2A0B0XliCOOcC644IKMtj/+8Y9OeXl5l8eIxWKOJCcWi3V3ed1ryxbHca8TOc7Wrbn7rFiR6nOgRo1yx5k+Pff2665zt8+e3fUxb77Z3cfvP/D68jnySHeOF15ItV16qdt20UWp9dm+/eDV0FX33efWYlmOM3y4e3/mzEJXBaBAes3rkYG4AlhkpkyZovXr12e0bdiwQSNH8rkZAADQPQiARebiiy/WmjVrdN1112njxo2699579ec//1lz584tdGkAAKCPIAAWmeOPP15/+9vftGzZMo0fP16/+c1vdMstt+i8884rdGkAAKCP4GtgitCZZ56pM888c+8dAQAA9gNXAAEAAAxDAAQAADAMARAAAMAwBEAAAADDEAABAAAMQwAEAAAwDAEQAADAMARAAAAAwxAAAQAADEMABAAAMAwBEAAAwDAEQAAAAMMQAAEAAAxDAAQAADAMARAAAMAwBEAAAADDEAABAAAMQwAEAAAwDAEQAADAMARAAAAAwxAAAQAADEMABAAAMAwBEAAAwDAEQAAAAMMQAAEAAAxDAAQAADAMARAAAMAwBEAAAADDEAABAAAMQwAEAAAwjK/QBaDvWbqmWktWbVK0skKzJo/U0jXVWrxyvSRp/rQxmjV5ZM795i17TVXrahUJl+vWc49zx3lVik6crlmvP7ZPNUy54WnV1DUqaPvU1BpXQ0tc9n8s1pXP3KlXRpymFQuq5PNaGtDPpwElXtXUNcqv8bpq4nTNyjqOPU0tqmtoldeSIuFyra3eJclRTV2jbB2phstXyG5pVMOCKoWCpdrT1KY9Ta1qjTuacWy5JGnFG7Uq9Xt02rhhevLtbW49fo+ujIzLux5n3fai1tXEFD7lUj38/tyO6zxxuq4tOVmNl52qCds26oPb10qWJ7nG2c9D+jFNGjlIa6t3Jbdlr31nz2cuS9dU69qqd9TQMkD+S/9XA1oaNf+NhzVr632dPk+56pGUnE9SxrmTvS1fXdnn3N726+wYu3L83a2z+nuqBgB9m+U4jlPoItC96uvrFQgEFIvFVFZW1uPzT7nhGdXUNSgUtLV6wSnJx5KSbZKkDz+URoxw72/dqoo/rFWbI3ktadP1kdQ4sY+0+o4LpH04VUctqMrZHop9pG1lQ9Rm5b74HYp9pNWfPSfdc09G3QleS2rLKMORZLm1WVaH8bztTYl9svfPWI98x+A42nzjDOmFF6QTT3Tb5s/XlD3jVBMYmuyTmD973dPnSLQl6khsq1hYlbH26XKNky3XWoU+/Virb/+BNHOm9MADne6XXo+k5HyJ+4njyrUtV13Z59ze9uvsGLty/N2ts/p7qgagOxT69Qj58RYwul20skKhoJ282hKtrFDQ9ito+5NtuUTC5cmrbMlxShxF1yzf5xpCwVJJUtD2yfa7p7nd0qjomuWK1G2UJcnvtRS0/cm+fsUz5kocR9B2L5QnagsF7eQ+tuKS48huaUzOG7T98nssWe3HFAmXy5Jk+z2KhMtT9fg9na5HOBRwb3d+kHN7dM1y2U6rrHhc4a3vKVjqzVjj7OchvS1xHIlt2WufMU+OcXL1sf1eSY78rc0KNtQr+q/H8/bvrJ70+bLPnext+era1/32Ntbejr+7dVY/AHQHrgD2Qb3m/7iyrgBq2LCOfR55RJoxw71/oKfq6NHS5s3S9OnSo4923H799dIVV0izZ0v33NO1MW+5Rbr4Ysnvl5qbD6y+fCoqpPff73AFUL//vXTRRdIf/uC2bd8uDRlycGroqvvvl777Xfdq5LBh7vPayRVAAH1br3k9MhBXAAEAAAxDAAQAADAMARAAAMAwBEAAAADDEAABAAAMQwAEAAAwDAEQAADAMARAAAAAwxAAAQAADEMABAAAMAwBEAAAwDAEQAAAAMMQAAEAAAxDAAQAADAMARAAAMAwBEAAAADDEAABAAAMQwAEAAAwDAEQAADAMARAAAAAwxAAAQAADEMABAAAMAwBEAAAwDAEQPR9b78txeOZbU1N0saNhakHAIACIwCi71uxQjruOKmuzn28fr30+c8TAAEAxiIAou+bMUNaty4VAN9/X9q1S6qsLGRVAAAUDAEQfd/YsdKRR2a2nX66VFpamHoAACgwAiD6PstyrwKmy34MAIBBCIAwQ3rgsyzpG98oXC0AABQYARBmOOkkye937x9+uDR0aGHrAQCggAiARe6GG26QZVn6+c9/XuhSerd+/aThw93748YVthYAAAqMAFjEXn31Vf3pT39SOBwudCl9Qyjk3o4dW9g6AAAoMAJgkfr000913nnn6S9/+YsGDRpU6HL6hkQAHDassHUAAFBgvkIXgNzmzp2rSCSir3/96/rtb3/bad+mpiY1NTUlH9fX1x/s8jq1dE21lqzapGhlhWZNHplsn7fsNT38Rq0k6axjy3XCIEuL592rPX5bLbeslSSFgqXaFmvUMeUBfbKnWZN80pMXL1ejr58m3Pai3tlar5a4kzFf0PaprqE1eZtgSZpxbLkee3Oru8+R58u++Du6smmXtKZai1euV1NrXK1tcbXGHc3wjdCtkuYFv6yqhVUaFnBrGRYoVU1doyTJ9nt0ZcR9C3nxyvXa01Ch1sseVvnuj7VtYZUi4XJJ0oo3auXzWPJ5PZIctcYdtbQ58re3NbW2Ke644zW0xGW111yedfzRygrpyClafOZv1fRoTFr5uCRHJd4TNX/i25L3cC2ed68k6Yil/9KbH32mUr9XV0bcq5xLVm3SpJGDtLZ6lztWe1viuensuapaV5tRR2J7vn2Sz//E6Voy+RxF33lSs7be1+l50ZW2vc2XS3eMcTDGO9A6AKC7WI7jOHvvhp5033336dprr9Wrr76q0tJSVVZWauLEibrlllty9r/66qt1zTXXdGiPxWIqKys7yNV2NOWGZ1RT16BQ0NbqBack2ysWVqmt/WzzWtKwQ/yq2d3S6VheOWpLxqN957WUnDMh5GmWygKqqWvoMNemRTNUcfnDarPyXxwPBW1JytzfcSTLkre91Ow591coaEs1NaoZMLjjtthHUlmZaiy70xoTa5DelnhuuvJcJcZLbM+3jyTp/vs1ZdUe1QSGKvTpx1p9+w+kmTOlBx7IuV9X2jqdL4/uGONgjHegdQC9TX19vQKBQMFej5AfbwEXmS1btuiiiy7SX//6V5V28YuKFy5cqFgslvzZsmXLQa6yc9HKCoWCdvKKU0Li6ljifnTSYQo21MvfmgqBoWCpvJYUDgUUCtqKfE6ymxtlxeMKhwLyezqGwaDty7hNsNrnSe7jOLKbGxQt/VjRygoFbb9sv1d+j+X29dW5tTVukddK1RIKpp4H2+9RtLIiub9fcVnxuEL1O+S13Pki4XJZkvweS7bfK9vvkb89GSbaEiXZfk+yVivH8UcrKxR990kFG+ple5QcL+i0KLpmuaKtmxVsqFewoV7hof1lye2TqDEUtBUJl6fGynpuOnuusuvY2/Ob3L5muUKxjxT91+OZ7Tn260rb3ubLWUM3jHEwxjvQOgCg2zgoKn/7298cSY7X603+SHIsy3K8Xq/T2tq61zFisZgjyYnFYj1Q8QHYssVx3GtnjrN1a+4+K1ak+hyo885zx1m0KPf2665zt8+e3fUxb77Z3cfvP/D68jnySHeOF15ItV16qdt20UWp9dm+/eDV0FX33efWYlmOM3y4e3/mzEJXBaBAes3rkYH4DGCROfXUU/Xmm29mtM2ZM0df+MIX9Itf/EJer7dAlQEAgL6CAFhkBg4cqPHjx2e0DRgwQIceemiHdgAAgP3BZwABAAAMwxXAXmDVqlWFLgEAAPQhXAEEAAAwDAEQAADAMARAAAAAwxAAAQAADEMABAAAMAwBEAAAwDAEQAAAAMMQAAEAAAxDAAQAADAMARAAAMAwBEAAAADDEAABAAAMQwAEAAAwDAEQAADAMARAAAAAwxAAAQAADEMABAAAMAwBEAAAwDAEQAAAAMMQAIH90da2b+0AABQRAiCwP959V/qP/5A2bnQfO450113SnDmFrQsAgC4gAAL7Y9w46Z//lG6/3X3c2ir98IfS2LGFrQsAgC4gAAL7w7KkGTM6tudqAwCgyBAAgf2VHfZGjZKOOaYgpQAAsC8IgMD++trXJNtOPZ4xw70yCABAkSMAAvurpEQ6/vjUY97+BQD0EgRA4EB85SvurWW5VwQBAOgFCIDAgfjyl93bAQOkfv0KWwsAAF1EAAQOxKBB7u2AAYWtAwCAfWA5juMUugh0r/r6egUCAcViMZWVlRW6nPw+/FAaMUKStHTlOi355w5FKyskSUtWbVK0skKzPn5TS3/1Ry2ZfI4mTT1Oz2/YIUmaevQQra3e5faZPFLzlr2mqnW1ioTLdeu5x2npmmotXrlekjR/2hh3zOV/16T1r2rthK9q0oRRen7DDjW1xtXU2qa4I0mOQnXbtS0wRMMG9de2WKMGlvpU19CqcCggSVpXE5PfY+mqs47RrMkjpVWrtPTiG7W48nwpOCg51+KV69XU2qYSn1cDSryqqWuUJJ11bLlOGD1YS1Zt0qSRg7S2epcOHdBP62pikqRQsDTZNxQsVW1do0pbmnTahpe19ksna9LRw93j/uR1vfLuVlWNm6pjtm7UJwMCin77y5r1dfe3kLOPf9bkkVq6pjq1ru2Pr616W40tcU0IBfTJnmZNGjkoucaSo7qGVoWCpVq94NS8T+NZt72odTUxhYKl2lP/mbTnU0399z+19ojxUmubagKHKdjfr92NrcnnJ2FvNUw9ekjyfuI4ckk/tozzJ61/rj7Zc6WfU/nGz96Wfe51JtdzkH4u5Bof6M16zeuRgQiAfVCv+QeXFgCn/PYJ1exuVijo/lZtTV2DQkFbq8d/pilV21UTGCqvJbW1n62J+6GgrdULTlHFwiq1OW77pusjmnLDM6qpa5CkjDG98Ta1ebwZY2VwnC79Jm9iXq1apSn3v6+awNAOc+XitaRhAdutJV8NufbLqjvkNGqb41ebx5usOVTWT6uvOM1dz6zjX73glGRb9uPs+nLVtPmGSN7aRi2oyltv9nomnp+EvdWQfj+55jmkH5ukjOPsrE9n51S+8bO3ZZ97ncn3HHQ2N9Cb9ZrXIwPxFjCKQvT4YQoFbUUrKxStrEjel6TomuUKxT5SJFyuoO1X0PYrEi7P6BMJl8trubeSFK2sSPZNjtm6R5F3XlDI05wcy/Z75UnmE0eh2HZ5nbhCwVJ5LSlo+yRJ4VAgeRXQ77GS8ybqCzbtyZjLHdujoO1XKFia7BsJlyePL3EMiXElZfQNBUtlSbJbmty6bSt13PFqRd55QV4nrvDW9xSKfaToCeWpmrKOP9GWsa6VFbL9Hlntx5eoKbFf4tjTa8olUX8oWKqgJ65gQ70i776g0KcfKxTbLjmOgrYv4/lJr7OzGtLvp695tvRjyz7Ozvp0dk7l2zdb9rnXmVzPQfq50NkxAkC3ctDnxGIxR5ITi8UKXUrntmxxHPcakeNs3Zq7z4oVqT4H6rzz3HEWLcq9/brr3O2zZ3d9zGefdfc56qgDry+fI49053jhhVTbpZe6bRddlFqf7dsPXg1ddd99bi2W5TjDh7v3Z84sdFUACqTXvB4ZiCuAAAAAhiEAAgAAGIYACAAAYBgCIAAAgGEIgAAAAIYhAAIAABiGAAgAAGAYAiAAAIBhCIAAAACGIQACAAAYhgAIAABgGAIgAACAYQiAAAAAhiEAAgAAGIYACAAAYBgCIAAAgGEIgAAAAIYhAAIAABiGAAgAAGAYAiAAAIBhCIAAAACGIQACAAAYhgAIAABgGAIgAACAYXyFLgBAH/DBB9LTT0v9+qXa4vHC1QMA6BQBEMCBO/xw6YorpIYG97HjSNu3F7YmAEBevAUM4MB5PFIkIsViqTbHKVw9AIBOEQABdI8ZMwpdAQCgiwiAALrH17+e+RnA9PsAgKJCAATQPQYMkI4/PvW4tLRwtQAAOkUALDLXX3+9jj/+eA0cOFCHHXaYvvnNb2r9+vWFLgvomqlTU/dLSgpXBwCgUwTAIvPcc89p7ty5WrNmjZ588km1tLTo9NNP1549ewpdGrB3iQDo9Uo+vmQAAIoV/4UuMo8//njG47vvvluHHXaY1q5dq6npV1eAYjRsmHvL5/8AoKhxBbDIxdq/VmPw4MEFrgTYB7z9CwBFjSuARSwej+vnP/+5pkyZovHjx+ft19TUpKampuTj+vr6niiv2yydOF1L7nxT0VObNGvyyL33X1OtJas2KVpZkeyfr23xSvfzk/OnjdGsvYylpsFaPO9eqaRE89dUa9bkkZnbJS1euV5NrXFJjkp8Xh3hb9Vblz2kyIev69YcY7v921Ti82rq0UP02Jtb1RJ3FAqWSrI0aeQgra3epUkjB+n5DTu0p6lVLXFHtt+j08YN09rqXTr0lEv11rcP17Cn6rWtqkqRcLlOsMq1eN69airpr9ZLK9Xq8WrC0n/pkyYnOVaiztY2p31Mr66MjE0e17VVb6uxJa4JoYDe275bDS3uX+7weyz5vB5JjiRLJT6Pph49JKNOSZp69JD2edokSSU+r+YfM0CaOF1LvvodHdq4W28deoQie6oz1uas217UupqY/B5LV511TPL5mrfsNVWtq9WwQKm2xRo1LFCqmrpGSZLVXk1iH0kZz8uSVZsy1nJt9a6Mc6Gr51Li8f6M1d1yndPFPPbBrLc31QD0Fpbj8G2txSoajeqxxx7Tiy++qMMPPzxvv6uvvlrXXHNNh/ZYLKaysrKDWeKB+fBDacQITfnJnaoJDFUoaGv1glMy+zzySOr75dpP1Sk3PKOauoaM/p21SXLb//Xf0l//Ki1aJF1+eYf9FIupxumX6r/glMztUnK8bN54mzbdeFZGW/r8kuS1pLasf22Jts62yXEky8poHxZvVI2V+7dsc42VkH1cXZWrzlzzhPp7pa21qgkMTdbtdeLatCj1HYGjFlR1qEeSKhZW5a07+xgkdXhesmvMeT5lyT5vEo/3Z6zuluucLuaxD2a9vakGZKqvr1cgECj+1yMD8RZwkfrZz36mRx55RM8++2yn4U+SFi5cqFgslvzZsmVLD1XZPaJrlis0sF/yas5e+1dWKBS0M/rnawvafgVtf96x0/eLlmxXsKFewXhTsn/G9vbxbL9Xtt+joO1XuMySN96myIev5xzb7e/2jYTL5fe4QS4ULFUoaCsSLk/eBm1/crvt9yS3hXd+IG+8TaFSS15LioTLFY1XK9hQL9tplb+1RVY8rvDQ/hljJepMjenNOC7b75ElKRwKyPan/lPg91jJfW2/N1l7+tiJtsTxJY4xOm6g+3zu/ljhjze7a/Pp5ox1CYcCyXnSn5dIuFxey12bxG1CIv4m9sl+XrLXMvtcyCf7vDmQsbpbrnO6mMc+mPX2phqAXsNBUYnH487cuXOd8vJyZ8OGDfs1RiwWcyQ5sVism6vrZlu2OI57nchxtm7N3WfFilSfA3Xeee44ixbl3n7dde722bO7Puazz7r7HHXUgdeXz5FHunO88EKq7dJL3baLLkqtz/btB6+GrnrtNbeWIUMcZ/hw9/7MmYWuCkCB9JrXIwPxGcAiM3fuXN1777166KGHNHDgQG3btk2SFAgEZNt2gasDAAB9AW8BF5klS5YoFoupsrJSw4cPT/7cf//9hS4NAAD0EVwBLDIOv5MDAAAOMq4AAgAAGIYACAAAYBgCIAAAgGEIgAAAAIYhAAIAABiGAAgAAGAYAiAAAIBhCIAAAACGIQACAAAYhgAIAABgGAIgAACAYQiAAAAAhiEAAgAAGIYACAAAYBgCIAAAgGEIgAAAAIYhAAIAABiGAAgAAGAYAiAAAIBhCIAAAACGIQCi5zU0SO+/37F940apsdG9v3OntHVrxz5vvy05zsGtDwCAPs5X6AJgoNJS6fTTpeOOS7XNmyetWye98477uH9/acwY6YtfTPU55xxpxw7pued6tl4AAPoYrgCi51mWdMYZ0vLlqbYHH3TbLMt9XFoqnXii9MQTqT7/8z9SJNKztQIA0AcRAFEYM2bsva0rfQAAwD4jAKIwKiulQw5JPS4rk046KbNPJJK6IihJFRXSF77QI+UBANCXEQBRGCUl0sknpx6feqrUr19mn6FDpQkTUo9nzMgMhAAAYL8QAFE4Z5yRuj99eu4+lZWp+2eeeVDLAQDAFARAFM60aan7p52Wu096AMx+ixgAAOwXAiAKZ8iQ1P3PfS53nzFj3Fufr+NbxAAAYL8QAFHcEp/58/GVlQAAdBdeVdGppWuqtWTVJk0aOUhPvr1NDS3xbhnXY0lxR9LlK9yG3z6XastiXfaQHMsj/xWPyue1VOLzav60MZo1eaTmLXtNVetqFQmX69Zzj9NZt72odTUxhUMBjfrcAFWtq9Ux5QF9sPMzNZWfo5J5Ec1v/FSz0saft+w1rXijVqU6RldOnJ6xLX0dFq9cL0maevQQra3epUkjB2nt+s8UnThdOuwwLbnhGUUrKzRr8shuWaPOLLXKteQndyrq3ZmzXgAAOsMVQHRqyapNqqlrUNW62m4Lf1Ja0LOs5FW+XOFPkhyPV7IstcQdNbTEVdfQoiWrNkmSqtbVqs1xbyVpXU0seZvYtq4mprqGFjV4/Kqzy7SkMfPt5qp1tXIkNcirJZPPyVnDklWbVNfQorqGFlWtq02uSU2joyWTz9GSo09VTV1Dsq6DbYlnpGoCQ7XEN6pH5gMA9C0EQHQqWlmhUNBWJFwu2999p4sn8W0ujpP8276ePN/wYsXbJMeR32PJ9nsUtP2KVlZIkiLhcnkt91aSwqFA8jaxLRwKKGj7ZcdbFGyoV7T044zxI+FyWZJstSm6ZrlyiVZWKGj7FbT9ioTLk2sSKrUUXbNc0Q1PKxS0k3UdbNF4tUKxjxRt3dwj8wEA+hbLcZw8113QW9XX1ysQCCgWi6msrKzQ5eRXXy8F3MCm3bszvxg64Z13pHHj3C+KjsUObL5Zs6S//lVatEi6/PKO26+/XrriCmn2bOmee7o25qpV7vcZHnWUtGHDgdWXT0WF9P770gsvuH8eT5Lmz5d+/3vpooukP/zBbdu+PfMXawrh9dfdv/E8ZIj7uc2tW6WZM6UHHihsXQAKote8HhmIK4AAAACGIQACAAAYhgAIAABgGAIgAACAYQiAAAAAhiEAAgAAGIYACAAAYBgCIAAAgGEIgAAAAIYhAAIAABiGAAgAAGAYAiAAAIBhCIAAAACGIQACAAAYhgAIAABgGAIgAACAYQiAAAAAhiEAAgAAGIYACAAAYBgCIAAAgGEIgAAAAIYhAAIAABiGAAgAAGAYAiCAntHWVugKAADtCIAAut9nn0mtre79XbukH/9YWrGisDUBAJJ8hS4AQB+0Z4/7I0lPPSX5fNKNNxa2JgBAElcAARx8U6dKgUChqwAAtCMAAuh+/fplPp4xozB1AAByIgAC6H4EQAAoagRAAN0vPQAOGyZVVBSuFgBABwTAInX77bdr1KhRKi0t1Ze//GW98sorhS4J6DqvN/WZv/HjC1sLAKADAmARuv/++3XJJZfoqquu0j//+U8de+yxmjZtmrZv317o0oCuGzbMvSUAAkDRIQAWoZtuukkXXnih5syZo3HjxumOO+5Q//799d///d+FLg3oukQAHD26sHUAADrgewCLTHNzs9auXauFCxcm2zwej77+9a/r5ZdfzrlPU1OTmpqako/r6+sPep0Hy9I11VqyapOilRWaNXnkAe3XlbESfSaNHKS19V9QdOJ0qX+FFl/zhCRp/rQxmjV5ZJfrmrfsNa14o1alfo+ujIxL9k21e3XUYYfozZpYhz55j+EbVyv64jLNSq/bKtfiefdKJaWaeqZfaw8fq+gb2zXr60PyHufileslSVOPHqLnN+xQU2ubSnxeTT16iNZW71K00v2cXqLf/GljJKnT404fd0CJVzV1jbIvflAN/lJJkv9LF0m1PrUsqJLfY6nNcRR3JL/H0lVnHZOxtpNGDkrWMWvySM1b9poefqNWkhQOBfTwf53YYY3mLXtNVetqdUx5QB/s/Cyj7mur3lZDS1x+jyVJaok7ybpDwVJJlg4d0E9v1sTk81ryeazkejy/YUdyrR57c6ta4k7OGhLzNLbENePYcp0wenDG+uU7d3Idc661zt43e+7s5zR93vTnKNdci1euT54D+Z7rzs77ffn3dSB98m3f3/9WFKtiOp5iqgUHj+U4jrP3bugptbW1CoVCeumll/SVr3wl2X755Zfrueee09///vcO+1x99dW65pprOrTHYjGVlZUd1HoPSHOzdPfd7v05cyS/X1NueEY1dQ0KBW2tXnCK+1ckHnxQ8vvdPnl02C9X2zPPSBs3SiecIE2cmNHHa0ltjhTytUo+v2oa3X8WiX1zjS9Jqq2VHnnE/bzbd76jioVVamv/F5XeN709Xaf1prf5WrX6Z19OXlWbcs1jqmmIS5K8ctQmS6FAiVYv/Hqn6yMpeawJyWMP2pKU7Jf+uMNx5xg3xZFk5awj17F3eA7a27PXbPMNkQ5rlGtds49jX6WvT/ZaZdeQPo/XkoYF7Iz1y3fu5DrmxFidnROdzZ3rvNvbXLnWbG/nZPa4+c6N7uqTb3tXxu5Niul4urOW+vp6BQKB4n89MhBvAfcBCxcuVCwWS/5s2bKl0CV1Tb9+0o9+5P74/ZKkaGWFQkE7eZVCgwa52zsJfzn3y9V2yinuWO3hL71PJFzu9j1zoqJnHKOg7VfQ9if3zTW+JKm83B3zO9+RJEXC5bIk2X5PRt9Uu1fhUCBnn06P4cyJqbdUJUWnjUvWGDk25PY5+ahO1yfZP1yuoO2X7fckHyfmTe+XeJzzuHOM615Vc48xwe+xklfg/B5L7Xfl91gd1ja9jsSaJYRDgZxrFAmXy2u527Prtv2eDjUkhIKlCgXt5HPh91oZ65G+Vol9c9WQmMdqryV7/fb2vGav/d7O4ey5s5/T9Hn3Nlf6OdDV+XONm+/c6K4++bZ3ZezepJiOp5hqwcHDFcAi09zcrP79+2v58uX65je/mWw///zzVVdXp4ceemivY/B/XACAYsDrUfHiCmCR6devnyZNmqSnn3462RaPx/X0009nvCUMAACwv/glkCJ0ySWX6Pzzz9eXvvQlnXDCCbrlllu0Z88ezdnL26AAAABdQQAsQt/5zne0Y8cO/frXv9a2bds0ceJEPf744xo6dGihSwMAAH0AnwHsg/jMBQCgGPB6VLz4DCAAAIBhCIAAAACGIQACAAAYhgAIAABgGAIgAACAYQiAAAAAhiEAAgAAGIYACAAAYBgCIAAAgGH4U3B9UOKPu9TX1xe4EgCAyRKvQ/zRseJDAOyDdu/eLUkaMWJEgSsBAMB9XQoEAoUuA2n4W8B9UDweV21trQYOHCjLsgpdzkFXX1+vESNGaMuWLfytyb1grbqOteoa1qnrTFwrx3G0e/dulZeXy+PhU2fFhCuAfZDH49Hhhx9e6DJ6XFlZmTH/UT1QrFXXsVZdwzp1nWlrxZW/4kQcBwAAMAwBEAAAwDAEQPR6JSUluuqqq1RSUlLoUooea9V1rFXXsE5dx1qhmPBLIAAAAIbhCiAAAIBhCIAAAACGIQACAAAYhgAIAABgGAIgeq3Nmzfrggsu0OjRo2XbtioqKnTVVVepubk5Z/+NGzdq4MCBCgaDPVtoEejKWq1atUpnn322hg8frgEDBmjixIn661//WsCqC6Or59W6det00kknqbS0VCNGjNCNN95YoIoL59prr9VXv/pV9e/fP++/q1dffVWnnnqqgsGgBg0apGnTpumNN97o2UKLQFfWSpLuvvtuhcNhlZaW6rDDDtPcuXN7rkgYhQCIXuvdd99VPB7Xn/70J7311lu6+eabdccdd+iKK67o0LelpUXnnnuuTjrppAJUWnhdWauXXnpJ4XBY//M//6N169Zpzpw5mj17th555JECVt7zurJW9fX1Ov300zVy5EitXbtWv/vd73T11Vfrz3/+cwEr73nNzc2aOXOmotFozu2ffvqpzjjjDB1xxBH6+9//rhdffFEDBw7UtGnT1NLS0sPVFtbe1kqSbrrpJl155ZVasGCB3nrrLT311FOaNm1aD1YJozhAH3LjjTc6o0eP7tB++eWXO7NmzXLuuusuJxAI9HxhRSjfWqX7xje+4cyZM6eHKipe2Wv1xz/+0Rk0aJDT1NSUbPvFL37hjBkzphDlFVy+f1evvvqqI8n54IMPkm3r1q1zJDnvvfdeD1ZYPPKt1c6dOx3btp2nnnqq54uCkbgCiD4lFotp8ODBGW3PPPOMHnzwQd1+++0Fqqo45Vqr/eljgux1ePnllzV16lT169cv2TZt2jStX79eu3btKkSJRWnMmDE69NBDdeedd6q5uVkNDQ268847NXbsWI0aNarQ5RWVJ598UvF4XDU1NRo7dqwOP/xw/ed//qe2bNlS6NLQRxEA0Wds3LhRt912m3784x8n2z755BP94Ac/0N13323UH1/fm1xrle2BBx7Qq6++qjlz5vRgZcUn11pt27ZNQ4cOzeiXeLxt27Yera+YDRw4UKtWrdLSpUtl27YOOeQQPf7443rsscfk8/kKXV5Ref/99xWPx3Xdddfplltu0fLly7Vz506ddtppeT/XDBwIAiCKzoIFC2RZVqc/7777bsY+NTU1OuOMMzRz5kxdeOGFyfYLL7xQ3/ve9zR16tSePowe0Z1rle7ZZ5/VnDlz9Je//EXHHHNMTxzKQXew1qqv2Z91yqehoUEXXHCBpkyZojVr1mj16tUaP368IpGIGhoaDvKRHHzduVbxeFwtLS269dZbNW3aNE2ePFnLli3Te++9p2efffYgHwlMxP+Coehceuml+sEPftBpnyOPPDJ5v7a2VieffLK++tWvdvgQ/jPPPKOHH35YixcvliQ5jqN4PC6fz6c///nP+uEPf9jt9fek7lyrhOeee04zZszQzTffrNmzZ3dnuQXVnWs1bNgwffTRRxlticfDhg3rnoILZF/XqTP33nuvNm/erJdfflkejyfZNmjQID300EP67ne/e6DlFlR3rtXw4cMlSePGjUu2DRkyRJ/73Of0wQcf7HeNQD4EQBSdIUOGaMiQIV3qW1NTo5NPPlmTJk3SXXfdlXyRSXj55ZfV1taWfPzQQw9p0aJFeumllxQKhbq17kLozrWS3K+COfPMM7Vo0SL96Ec/6u5yC6o71+orX/mKrrzySrW0tMjv90tyP8M1ZswYDRo0qNtr70n7sk5789lnn8nj8ciyrGRb4nE8Hu+WOQqpO9dqypQpkqT169fr8MMPlyTt3LlTH3/8sUaOHNktcwDpeAsYvVZNTY0qKyt1xBFHaPHixdqxY4e2bduW8RmssWPHavz48cmfUCgkj8ej8ePH9/oX6n3RlbV69tlnFYlENG/ePH37299Obt+5c2cBK+95XVmr733ve+rXr58uuOACvfXWW7r//vv1hz/8QZdcckkBK+95H3zwgV5//XV98MEHamtr0+uvv67XX39dn376qSTptNNO065duzR37ly98847euuttzRnzhz5fD6dfPLJBa6+Z+1trY4++midffbZuuiii/TSSy/pX//6l84//3x94QtfMG6t0EMK/WvIwP666667HEk5fzrbx8SvgenKWp1//vk5t3/ta18rXOEF0NXz6o033nBOPPFEp6SkxAmFQs4NN9xQoIoLJ9858+yzzyb7PPHEE86UKVOcQCDgDBo0yDnllFOcl19+uXBFF0hX1ioWizk//OEPnWAw6AwePNj51re+lfEVOkB3shzHcQ56ygQAAEDR4C1gAAAAwxAAAQAADEMABAAAMAwBEAAAwDAEQAAAAMMQAAEAAAxDAAQAADAMARAAAMAwBEAAAADDEAABAAAMQwAEAAAwDAEQAADAMARAAAAAwxAAAQAADEMABAAAMAwBEAAAwDAEQAAAAMMQAAEAAAxDAAQAADAMARAAAMAwBEAAAADDEAABAAAMQwAEAAAwDAEQAADAMARAAAAAwxAAAQAADEMABAAAMAwBEAAAwDAEQAAAAMMQAAEAAAxDAAQAADDM/w9tzRwjlW+l0AAAAABJRU5ErkJggg==' width=640.0/>\n",
       "            </div>\n",
       "        "
      ],
      "text/plain": [
       "Canvas(toolbar=Toolbar(toolitems=[('Home', 'Reset original view', 'home', 'home'), ('Back', 'Back to previous …"
      ]
     },
     "metadata": {},
     "output_type": "display_data"
    }
   ],
   "source": [
    "plot_points = 10\n",
    "\n",
    "\n",
    "mapped_tensors = [zh_start_tensor[:plot_points, :]]\n",
    "for i in range(iterations):\n",
    "    mapped_tensors.append(map(mapped_tensors[i]).detach())\n",
    "\n",
    "\n",
    "plt.figure()\n",
    "\n",
    "for i, mapped_tensor in enumerate(mapped_tensors):\n",
    "    if i > 0:\n",
    "        start = mapped_tensors[i-1]\n",
    "        mapped = mapped_tensors[i]\n",
    "\n",
    "        start_x, mapped_x, target_x = project(start, mapped, zh_target_tensor, idx=x_idx)\n",
    "        start_y, mapped_y, target_y = project(start, mapped, zh_target_tensor, idx=y_idx, one_hot=one_hot_y)\n",
    "\n",
    "        dx = mapped_x-start_x\n",
    "        dy = mapped_y-start_y\n",
    "        plt.quiver(start_x, start_y, dx, dy, scale=1, scale_units='xy', angles='xy', color='r', width=0.005)\n",
    "\n",
    "plt.scatter(target_x, target_y, s=1)\n",
    "\n",
    "plt.gca().set_aspect('equal')\n",
    "plt.show()"
   ]
  },
  {
   "cell_type": "markdown",
   "id": "a8d68302",
   "metadata": {},
   "source": [
    "# Testing data"
   ]
  },
  {
   "cell_type": "code",
   "execution_count": 19,
   "id": "1c14b142",
   "metadata": {},
   "outputs": [
    {
     "data": {
      "application/vnd.jupyter.widget-view+json": {
       "model_id": "d65f0ea8f5b8443aba415bddbf277b8d",
       "version_major": 2,
       "version_minor": 0
      },
      "image/png": "[encoded data removed]",
      "text/html": [
       "\n",
       "            <div style=\"display: inline-block;\">\n",
       "                <div class=\"jupyter-widgets widget-label\" style=\"text-align: center;\">\n",
       "                    Figure\n",
       "                </div>\n",
       "                <img src='data:image/png;base64,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' width=640.0/>\n",
       "            </div>\n",
       "        "
      ],
      "text/plain": [
       "Canvas(toolbar=Toolbar(toolitems=[('Home', 'Reset original view', 'home', 'home'), ('Back', 'Back to previous …"
      ]
     },
     "metadata": {},
     "output_type": "display_data"
    }
   ],
   "source": [
    "zh_start_tensor_test = zh_start_tensor+torch.rand_like(zh_start_tensor)*0.2\n",
    "mapped_tensor = zh_start_tensor_test\n",
    "for i in range(iterations):\n",
    "    mapped_tensor = map(mapped_tensor)\n",
    "mapped_tensor = mapped_tensor.detach()\n",
    "\n",
    "my_plot(zh_start_tensor_test, mapped_tensor, zh_target_tensor, plot_points=10, x_idx=x_idx, y_idx=y_idx, one_hot_y=one_hot_y)\n"
   ]
  },
  {
   "cell_type": "code",
   "execution_count": 20,
   "id": "5e549cdb",
   "metadata": {},
   "outputs": [
    {
     "name": "stdout",
     "output_type": "stream",
     "text": [
      "i = 421\n",
      "tensor([0.1638, 0.1851, 0.1856, 0.2291, 0.1022, 0.2486, 0.2765, 0.2646, 0.1910,\n",
      "        0.1131])\n",
      "tensor([ 0.0287, -0.0157,  0.8399,  0.0951,  0.0128, -0.0208,  0.0143,  0.0135,\n",
      "         0.1193, -0.0462])\n",
      "tensor([0., 0., 1., 0., 0., 0., 0., 0., 0., 0.])\n",
      "6 -> 2 -> 2\n",
      "i = 279\n",
      "tensor([0.2078, 0.1568, 0.2030, 0.1665, 0.2204, 0.1352, 0.1427, 0.1428, 0.2056,\n",
      "        0.2162])\n",
      "tensor([ 0.0216,  0.8374, -0.0515,  0.2625, -0.0031,  0.0052,  0.0141, -0.0349,\n",
      "        -0.0420,  0.0024])\n",
      "tensor([0., 1., 0., 0., 0., 0., 0., 0., 0., 0.])\n",
      "4 -> 1 -> 1\n",
      "i = 580\n",
      "tensor([0.1555, 0.2565, 0.1345, 0.1794, 0.1845, 0.2396, 0.1942, 0.2939, 0.2584,\n",
      "        0.2016])\n",
      "tensor([ 0.0891, -0.0384,  0.9044, -0.1161, -0.0137,  0.0153,  0.0126, -0.0358,\n",
      "         0.1827,  0.0056])\n",
      "tensor([0., 0., 1., 0., 0., 0., 0., 0., 0., 0.])\n",
      "7 -> 2 -> 2\n",
      "i = 316\n",
      "tensor([0.2698, 0.2612, 0.1421, 0.1748, 0.2164, 0.1987, 0.1661, 0.1694, 0.1510,\n",
      "        0.1991])\n",
      "tensor([ 0.1121,  0.0368,  0.0553, -0.0589, -0.0072,  0.9206, -0.0100,  0.0523,\n",
      "         0.0292, -0.0079])\n",
      "tensor([0., 0., 0., 0., 0., 1., 0., 0., 0., 0.])\n",
      "0 -> 5 -> 5\n",
      "i = 974\n",
      "tensor([0.2613, 0.2481, 0.1152, 0.1155, 0.1362, 0.1480, 0.2528, 0.2468, 0.1337,\n",
      "        0.1523])\n",
      "tensor([ 0.0867, -0.0051,  0.0849, -0.0610,  0.7897, -0.0096,  0.0385,  0.0052,\n",
      "         0.0737, -0.0257])\n",
      "tensor([0., 0., 0., 0., 1., 0., 0., 0., 0., 0.])\n",
      "0 -> 4 -> 4\n"
     ]
    }
   ],
   "source": [
    "for i in torch.randperm(zh_start_tensor.shape[0])[:5]:\n",
    "    print(f'i = {i}')    \n",
    "    print(zh_start_tensor_test[i,y_idx])\n",
    "    print(mapped_tensor[i,y_idx])\n",
    "    print(zh_target_tensor[i,y_idx])\n",
    "    print(f'{torch.argmax(zh_start_tensor_test[i,y_idx])} -> {torch.argmax(mapped_tensor[i,y_idx])} -> {torch.argmax(zh_target_tensor[i,y_idx])}')\n",
    "\n"
   ]
  },
  {
   "cell_type": "code",
   "execution_count": null,
   "metadata": {},
   "outputs": [],
   "source": []
  }
 ],
 "metadata": {
  "accelerator": "GPU",
  "colab": {
   "include_colab_link": true,
   "provenance": []
  },
  "gpuClass": "standard",
  "jupytext": {
   "formats": "ipynb,py:percent,md"
  },
  "kernelspec": {
   "display_name": "Python 3 (ipykernel)",
   "language": "python",
   "name": "python3"
  },
  "language_info": {
   "codemirror_mode": {
    "name": "ipython",
    "version": 3
   },
   "file_extension": ".py",
   "mimetype": "text/x-python",
   "name": "python",
   "nbconvert_exporter": "python",
   "pygments_lexer": "ipython3",
   "version": "3.10.12"
  },
  "widgets": {
   "application/vnd.jupyter.widget-state+json": {
    "4340e450c8c9444784e3ac188b9230df": {
     "model_module": "@jupyter-widgets/controls",
     "model_module_version": "1.5.0",
     "model_name": "DescriptionStyleModel",
     "state": {
      "_model_module": "@jupyter-widgets/controls",
      "_model_module_version": "1.5.0",
      "_model_name": "DescriptionStyleModel",
      "_view_count": null,
      "_view_module": "@jupyter-widgets/base",
      "_view_module_version": "1.2.0",
      "_view_name": "StyleView",
      "description_width": ""
     }
    },
    "4d5e173f3cdd465b9b40f8b23d270e8a": {
     "model_module": "@jupyter-widgets/base",
     "model_module_version": "1.2.0",
     "model_name": "LayoutModel",
     "state": {
      "_model_module": "@jupyter-widgets/base",
      "_model_module_version": "1.2.0",
      "_model_name": "LayoutModel",
      "_view_count": null,
      "_view_module": "@jupyter-widgets/base",
      "_view_module_version": "1.2.0",
      "_view_name": "LayoutView",
      "align_content": null,
      "align_items": null,
      "align_self": null,
      "border": null,
      "bottom": null,
      "display": null,
      "flex": null,
      "flex_flow": null,
      "grid_area": null,
      "grid_auto_columns": null,
      "grid_auto_flow": null,
      "grid_auto_rows": null,
      "grid_column": null,
      "grid_gap": null,
      "grid_row": null,
      "grid_template_areas": null,
      "grid_template_columns": null,
      "grid_template_rows": null,
      "height": null,
      "justify_content": null,
      "justify_items": null,
      "left": null,
      "margin": null,
      "max_height": null,
      "max_width": null,
      "min_height": null,
      "min_width": null,
      "object_fit": null,
      "object_position": null,
      "order": null,
      "overflow": null,
      "overflow_x": null,
      "overflow_y": null,
      "padding": null,
      "right": null,
      "top": null,
      "visibility": null,
      "width": null
     }
    },
    "5959c15bd28a4059b8952689490ebe2f": {
     "model_module": "@jupyter-widgets/controls",
     "model_module_version": "1.5.0",
     "model_name": "HTMLModel",
     "state": {
      "_dom_classes": [],
      "_model_module": "@jupyter-widgets/controls",
      "_model_module_version": "1.5.0",
      "_model_name": "HTMLModel",
      "_view_count": null,
      "_view_module": "@jupyter-widgets/controls",
      "_view_module_version": "1.5.0",
      "_view_name": "HTMLView",
      "description": "",
      "description_tooltip": null,
      "layout": "IPY_MODEL_a955f09104b54e37b262198a3807761c",
      "placeholder": "​",
      "style": "IPY_MODEL_d4d3328dd8914927b619350b49b6f81c",
      "value": " 999/999 [00:08&lt;00:00, 114.60it/s, loss=0.000293, v_num=0]"
     }
    },
    "915d05c1f046462ebe574b6b306b6110": {
     "model_module": "@jupyter-widgets/controls",
     "model_module_version": "1.5.0",
     "model_name": "HBoxModel",
     "state": {
      "_dom_classes": [],
      "_model_module": "@jupyter-widgets/controls",
      "_model_module_version": "1.5.0",
      "_model_name": "HBoxModel",
      "_view_count": null,
      "_view_module": "@jupyter-widgets/controls",
      "_view_module_version": "1.5.0",
      "_view_name": "HBoxView",
      "box_style": "",
      "children": [
       "IPY_MODEL_df24beefb77f4549b7beed2e23558980",
       "IPY_MODEL_a5a6545605cb475fb4bd6db5d32b0b24",
       "IPY_MODEL_5959c15bd28a4059b8952689490ebe2f"
      ],
      "layout": "IPY_MODEL_a3075bdd01e047faa3f1246dabaedcc7"
     }
    },
    "a3075bdd01e047faa3f1246dabaedcc7": {
     "model_module": "@jupyter-widgets/base",
     "model_module_version": "1.2.0",
     "model_name": "LayoutModel",
     "state": {
      "_model_module": "@jupyter-widgets/base",
      "_model_module_version": "1.2.0",
      "_model_name": "LayoutModel",
      "_view_count": null,
      "_view_module": "@jupyter-widgets/base",
      "_view_module_version": "1.2.0",
      "_view_name": "LayoutView",
      "align_content": null,
      "align_items": null,
      "align_self": null,
      "border": null,
      "bottom": null,
      "display": "inline-flex",
      "flex": null,
      "flex_flow": "row wrap",
      "grid_area": null,
      "grid_auto_columns": null,
      "grid_auto_flow": null,
      "grid_auto_rows": null,
      "grid_column": null,
      "grid_gap": null,
      "grid_row": null,
      "grid_template_areas": null,
      "grid_template_columns": null,
      "grid_template_rows": null,
      "height": null,
      "justify_content": null,
      "justify_items": null,
      "left": null,
      "margin": null,
      "max_height": null,
      "max_width": null,
      "min_height": null,
      "min_width": null,
      "object_fit": null,
      "object_position": null,
      "order": null,
      "overflow": null,
      "overflow_x": null,
      "overflow_y": null,
      "padding": null,
      "right": null,
      "top": null,
      "visibility": null,
      "width": "100%"
     }
    },
    "a5a6545605cb475fb4bd6db5d32b0b24": {
     "model_module": "@jupyter-widgets/controls",
     "model_module_version": "1.5.0",
     "model_name": "FloatProgressModel",
     "state": {
      "_dom_classes": [],
      "_model_module": "@jupyter-widgets/controls",
      "_model_module_version": "1.5.0",
      "_model_name": "FloatProgressModel",
      "_view_count": null,
      "_view_module": "@jupyter-widgets/controls",
      "_view_module_version": "1.5.0",
      "_view_name": "ProgressView",
      "bar_style": "success",
      "description": "",
      "description_tooltip": null,
      "layout": "IPY_MODEL_c81f9b0a5dee4db396442599cb295097",
      "max": 999,
      "min": 0,
      "orientation": "horizontal",
      "style": "IPY_MODEL_faf8ff98c59b4951b62cd8ad4e1d5bfa",
      "value": 999
     }
    },
    "a955f09104b54e37b262198a3807761c": {
     "model_module": "@jupyter-widgets/base",
     "model_module_version": "1.2.0",
     "model_name": "LayoutModel",
     "state": {
      "_model_module": "@jupyter-widgets/base",
      "_model_module_version": "1.2.0",
      "_model_name": "LayoutModel",
      "_view_count": null,
      "_view_module": "@jupyter-widgets/base",
      "_view_module_version": "1.2.0",
      "_view_name": "LayoutView",
      "align_content": null,
      "align_items": null,
      "align_self": null,
      "border": null,
      "bottom": null,
      "display": null,
      "flex": null,
      "flex_flow": null,
      "grid_area": null,
      "grid_auto_columns": null,
      "grid_auto_flow": null,
      "grid_auto_rows": null,
      "grid_column": null,
      "grid_gap": null,
      "grid_row": null,
      "grid_template_areas": null,
      "grid_template_columns": null,
      "grid_template_rows": null,
      "height": null,
      "justify_content": null,
      "justify_items": null,
      "left": null,
      "margin": null,
      "max_height": null,
      "max_width": null,
      "min_height": null,
      "min_width": null,
      "object_fit": null,
      "object_position": null,
      "order": null,
      "overflow": null,
      "overflow_x": null,
      "overflow_y": null,
      "padding": null,
      "right": null,
      "top": null,
      "visibility": null,
      "width": null
     }
    },
    "c81f9b0a5dee4db396442599cb295097": {
     "model_module": "@jupyter-widgets/base",
     "model_module_version": "1.2.0",
     "model_name": "LayoutModel",
     "state": {
      "_model_module": "@jupyter-widgets/base",
      "_model_module_version": "1.2.0",
      "_model_name": "LayoutModel",
      "_view_count": null,
      "_view_module": "@jupyter-widgets/base",
      "_view_module_version": "1.2.0",
      "_view_name": "LayoutView",
      "align_content": null,
      "align_items": null,
      "align_self": null,
      "border": null,
      "bottom": null,
      "display": null,
      "flex": "2",
      "flex_flow": null,
      "grid_area": null,
      "grid_auto_columns": null,
      "grid_auto_flow": null,
      "grid_auto_rows": null,
      "grid_column": null,
      "grid_gap": null,
      "grid_row": null,
      "grid_template_areas": null,
      "grid_template_columns": null,
      "grid_template_rows": null,
      "height": null,
      "justify_content": null,
      "justify_items": null,
      "left": null,
      "margin": null,
      "max_height": null,
      "max_width": null,
      "min_height": null,
      "min_width": null,
      "object_fit": null,
      "object_position": null,
      "order": null,
      "overflow": null,
      "overflow_x": null,
      "overflow_y": null,
      "padding": null,
      "right": null,
      "top": null,
      "visibility": null,
      "width": null
     }
    },
    "d4d3328dd8914927b619350b49b6f81c": {
     "model_module": "@jupyter-widgets/controls",
     "model_module_version": "1.5.0",
     "model_name": "DescriptionStyleModel",
     "state": {
      "_model_module": "@jupyter-widgets/controls",
      "_model_module_version": "1.5.0",
      "_model_name": "DescriptionStyleModel",
      "_view_count": null,
      "_view_module": "@jupyter-widgets/base",
      "_view_module_version": "1.2.0",
      "_view_name": "StyleView",
      "description_width": ""
     }
    },
    "df24beefb77f4549b7beed2e23558980": {
     "model_module": "@jupyter-widgets/controls",
     "model_module_version": "1.5.0",
     "model_name": "HTMLModel",
     "state": {
      "_dom_classes": [],
      "_model_module": "@jupyter-widgets/controls",
      "_model_module_version": "1.5.0",
      "_model_name": "HTMLModel",
      "_view_count": null,
      "_view_module": "@jupyter-widgets/controls",
      "_view_module_version": "1.5.0",
      "_view_name": "HTMLView",
      "description": "",
      "description_tooltip": null,
      "layout": "IPY_MODEL_4d5e173f3cdd465b9b40f8b23d270e8a",
      "placeholder": "​",
      "style": "IPY_MODEL_4340e450c8c9444784e3ac188b9230df",
      "value": "Epoch 9: 100%"
     }
    },
    "faf8ff98c59b4951b62cd8ad4e1d5bfa": {
     "model_module": "@jupyter-widgets/controls",
     "model_module_version": "1.5.0",
     "model_name": "ProgressStyleModel",
     "state": {
      "_model_module": "@jupyter-widgets/controls",
      "_model_module_version": "1.5.0",
      "_model_name": "ProgressStyleModel",
      "_view_count": null,
      "_view_module": "@jupyter-widgets/base",
      "_view_module_version": "1.2.0",
      "_view_name": "StyleView",
      "bar_color": null,
      "description_width": ""
     }
    }
   }
  }
 },
 "nbformat": 4,
 "nbformat_minor": 5
}
