{
 "cells": [
  {
   "cell_type": "markdown",
   "metadata": {},
   "source": [
    "# TODO"
   ]
  },
  {
   "cell_type": "markdown",
   "id": "f6828844-3a74-49bd-8348-ceae45948da7",
   "metadata": {
    "id": "f6828844-3a74-49bd-8348-ceae45948da7"
   },
   "source": [
    "# Load data"
   ]
  },
  {
   "cell_type": "code",
   "execution_count": 17,
   "id": "a5713c2d-0108-4708-9f0d-021e183f6d1e",
   "metadata": {
    "id": "a5713c2d-0108-4708-9f0d-021e183f6d1e"
   },
   "outputs": [],
   "source": [
    "import torch\n",
    "import pandas as pd\n",
    "import matplotlib.pyplot as plt\n",
    "%matplotlib widget\n",
    "\n",
    "from iterativennsimple.Sequential2D import Sequential2D, Identity\n",
    "from iterativennsimple.Sequential1D import Sequential1D\n",
    "\n",
    "from iterativennsimple.utils.plot_2D_start_end import plot_2D_start_end"
   ]
  },
  {
   "cell_type": "code",
   "execution_count": 18,
   "metadata": {},
   "outputs": [],
   "source": [
    "# Turn a pandas dataframe into a pytorch tensor\n",
    "def df_to_tensor(df):\n",
    "    return torch.tensor(df.values, dtype=torch.float32)"
   ]
  },
  {
   "cell_type": "code",
   "execution_count": 19,
   "id": "9f5c3fcc-147d-4669-8ab2-3ddf16a88b4e",
   "metadata": {
    "id": "9f5c3fcc-147d-4669-8ab2-3ddf16a88b4e"
   },
   "outputs": [],
   "source": [
    "#name = 'regression_line'\n",
    "#name = 'pca_line'\n",
    "#name = 'circle'\n",
    "#name = 'regression_circle'\n",
    "#one_hot_y = False\n",
    "\n",
    "name = 'MNIST'\n",
    "one_hot_y = True\n",
    "\n",
    "# Read the start data\n",
    "z_start = pd.read_parquet(f'../data/processed/{name}_start.parquet')\n",
    "# Read the target data\n",
    "z_target = pd.read_parquet(f'../data/processed/{name}_target.parquet')"
   ]
  },
  {
   "cell_type": "markdown",
   "metadata": {},
   "source": [
    "## Data preprocessing"
   ]
  },
  {
   "cell_type": "code",
   "execution_count": 20,
   "metadata": {},
   "outputs": [],
   "source": [
    "z_start_tensor = df_to_tensor(z_start)\n",
    "z_target_tensor = df_to_tensor(z_target)\n",
    "\n",
    "# Only use the given number of sample\n",
    "max_num_samples = 1000\n",
    "num_samples = min(max_num_samples, z_start_tensor.shape[0])\n",
    "z_start_tensor = z_start_tensor[:num_samples]\n",
    "z_target_tensor = z_target_tensor[:num_samples]\n"
   ]
  },
  {
   "cell_type": "markdown",
   "metadata": {},
   "source": [
    "We have two views of the data, and here is where we reconcile them.   The dynamical systems view is to have vector $z_0$ (called \"z_start_tensor\" in the code) and $z_1$ (called \"z_target_tensor\" in the code) that are the initial and final states of the system.  We want to construct a function $f$ (or more precisely choose a set of parameters $\\theta$ that selects $f$ from some family of functions) such that $\\|f(z_0) - z_1\\|$ is small.  The machine learning view is to have a set of inputs $x$ (which is a subset of \"z_start_tensor\") and a set of outputs $y$ (which is a subset of \"z_target_tensor\") and to construct a function $g$ (or more precisely choose a set of parameters $\\phi$ that selects $g$ from some family of functions) such that $\\|g(x) - y\\|$ is small.   \n",
    "\n",
    "**The idea is to have $x$ and $y$ be subsets of $z_0$ and $z_1$ respectively!**   But how to do that!?"
   ]
  },
  {
   "cell_type": "markdown",
   "metadata": {},
   "source": [
    "Let's begin by writing \n",
    "\n",
    "$$\n",
    "z_i=\n",
    "\\begin{bmatrix}\n",
    "x_i \\\\\n",
    "y_i \\\\\n",
    "\\end{bmatrix}\n",
    "$$\n",
    "\n",
    "and **we assume that $x_0=x_1$**.  This may seem odd at first glance, but is actually quite natural.  For example, in our MNIST example the starting image in $x_0$ and the target image in $x_1$ are the same.  It is merely the classification in $y_0$ and $y_1$ that are different.  I.e., $y_0$ contains some noisy classification or uniform prior of $x_0$ and $y_1$ contains the correct classification of $x_0$.  In the case of the MNIST data, we have $x_0=x_1$ and $y_0\\neq y_1$.\n",
    "\n",
    "So, in slighltly more detail we choose $z_0$ and $z_1$ so that\n",
    "\n",
    "$$\n",
    "z_0=\n",
    "\\begin{bmatrix}\n",
    "x_0 \\\\\n",
    "y_0 \\\\\n",
    "\\end{bmatrix}\n",
    "$$\n",
    "\n",
    "and\n",
    "\n",
    "$$\n",
    "z_1=\n",
    "\\begin{bmatrix}\n",
    "x_0 \\\\\n",
    "y_1 \\\\\n",
    "\\end{bmatrix}\n",
    "$$"
   ]
  },
  {
   "cell_type": "code",
   "execution_count": 21,
   "metadata": {},
   "outputs": [
    {
     "name": "stdout",
     "output_type": "stream",
     "text": [
      "torch.Size([794]) torch.Size([794])\n",
      "tensor(784) tensor(10)\n"
     ]
    }
   ],
   "source": [
    "\n",
    "# compute a mask for the data where every entry in each column is the same\n",
    "# this is used to remove columns that are constant\n",
    "mask = (z_start_tensor == z_target_tensor).all(axis=0)\n",
    "mask.shape\n",
    "x_mask = mask\n",
    "y_mask = ~mask\n",
    "\n",
    "# print out the shape of the masks\n",
    "print(x_mask.shape, y_mask.shape)\n",
    "\n",
    "# print out number of true entries in each mask\n",
    "print(x_mask.sum(), y_mask.sum())\n"
   ]
  },
  {
   "cell_type": "markdown",
   "id": "1880ae29-6269-42a9-870f-fb52bb18cf36",
   "metadata": {
    "id": "1880ae29-6269-42a9-870f-fb52bb18cf36"
   },
   "source": [
    "# MLP model"
   ]
  },
  {
   "cell_type": "markdown",
   "metadata": {},
   "source": [
    "Now we start using Sequential2D to build our model.  This requires a little massaging of the data.  In particlar, remember that we now have an iterative map of the form\n",
    "\n",
    "$$\n",
    "\\begin{bmatrix}\n",
    "I   & 0   & 0   & 0 \\\\\n",
    "f_1 & 0   & 0   & 0 \\\\\n",
    "0   & f_2 & 0   & 0 \\\\\n",
    "0   & 0   & f_3 & 0 \\\\\n",
    "\\end{bmatrix}\n",
    "$$\n",
    "\n",
    "and a state vector that combines $x$, $y$, and *the hidden layers* in the following way.\n",
    "\n",
    "$$\n",
    "\\begin{bmatrix}\n",
    "I   & 0   & 0   & 0 \\\\\n",
    "f_1 & 0   & 0   & 0 \\\\\n",
    "0   & f_2 & 0   & 0 \\\\\n",
    "0   & 0   & f_3 & 0 \\\\\n",
    "\\end{bmatrix}\n",
    "\\circ\n",
    "\\begin{bmatrix}\n",
    "x_0 \\\\\n",
    "h_1 \\\\\n",
    "h_2 \\\\\n",
    "y_0 \\\\\n",
    "\\end{bmatrix}\n",
    "$$"
   ]
  },
  {
   "cell_type": "markdown",
   "metadata": {},
   "source": [
    "I am feeling a little silly today, so let's do the rest using Achilles and the Hare from Godel, Escher, Bach.\n",
    "\n",
    "![image.png](attachment:image.png)"
   ]
  },
  {
   "cell_type": "markdown",
   "metadata": {},
   "source": [
    "Achilles:  But... didn't you just say that an normal ML algorithm link and MLP ignores $y_0$?  Look, doesn't $y_0$ appear right up there?  \n",
    "\n",
    "Hare: Well, look at what happens after the first iteration.\n",
    "\n",
    "$$\n",
    "\\begin{bmatrix}\n",
    "I   & 0   & 0   & 0 \\\\\n",
    "f_1 & 0   & 0   & 0 \\\\\n",
    "0   & f_2 & 0   & 0 \\\\\n",
    "0   & 0   & f_3 & 0 \\\\\n",
    "\\end{bmatrix}\n",
    "\\circ\n",
    "\\begin{bmatrix}\n",
    "x_0 \\\\\n",
    "h_1 \\\\\n",
    "h_2 \\\\\n",
    "y_0 \\\\\n",
    "\\end{bmatrix}\n",
    "=\n",
    "\\begin{bmatrix}\n",
    "x_0 \\\\\n",
    "f_1(x_0) \\\\\n",
    "f_2(h_1) \\\\\n",
    "f_3(h_2) \\\\\n",
    "\\end{bmatrix}\n",
    "$$\n",
    "\n",
    "which **does not** contain $y_0$!  The MLP is cunningly designed to ignore the initial guess contained in $y_0$ :-)"
   ]
  },
  {
   "cell_type": "markdown",
   "metadata": {},
   "source": [
    "Achilles:  But... but... but...  what about the hidden layers $h_1$ and $h_2$?  Don't you need to choose them carefully since they are the input to the next layer\\iteration?  I remember reading that MLPs don't care about random initializations of the hidden layers since they will be overwritten by the training process!?\n",
    "\n",
    "Hare: Yes, but...  look at what happens after the second iteration.\n",
    "\n",
    "$$\n",
    "\\begin{bmatrix}\n",
    "I   & 0   & 0   & 0 \\\\\n",
    "f_1 & 0   & 0   & 0 \\\\\n",
    "0   & f_2 & 0   & 0 \\\\\n",
    "0   & 0   & f_3 & 0 \\\\\n",
    "\\end{bmatrix}\n",
    "\\circ\n",
    "\\begin{bmatrix}\n",
    "I   & 0   & 0   & 0 \\\\\n",
    "f_1 & 0   & 0   & 0 \\\\\n",
    "0   & f_2 & 0   & 0 \\\\\n",
    "0   & 0   & f_3 & 0 \\\\\n",
    "\\end{bmatrix}\n",
    "\\circ\n",
    "\\begin{bmatrix}\n",
    "x_0 \\\\\n",
    "h_1 \\\\\n",
    "h_2 \\\\\n",
    "y_0 \\\\\n",
    "\\end{bmatrix}\n",
    "=\n",
    "\\begin{bmatrix}\n",
    "x_0 \\\\\n",
    "f_1(x_0) \\\\\n",
    "f_2(f_1(x_0)) \\\\\n",
    "f_3(f_2(h_1)) \\\\\n",
    "\\end{bmatrix}\n",
    "$$\n"
   ]
  },
  {
   "cell_type": "markdown",
   "metadata": {},
   "source": [
    "Hare: And one more iteration gives\n",
    "\n",
    "$$\n",
    "\\begin{bmatrix}\n",
    "I   & 0   & 0   & 0 \\\\\n",
    "f_1 & 0   & 0   & 0 \\\\\n",
    "0   & f_2 & 0   & 0 \\\\\n",
    "0   & 0   & f_3 & 0 \\\\\n",
    "\\end{bmatrix}\n",
    "\\circ\n",
    "\\begin{bmatrix}\n",
    "I   & 0   & 0   & 0 \\\\\n",
    "f_1 & 0   & 0   & 0 \\\\\n",
    "0   & f_2 & 0   & 0 \\\\\n",
    "0   & 0   & f_3 & 0 \\\\\n",
    "\\end{bmatrix}\n",
    "\\circ\n",
    "\\begin{bmatrix}\n",
    "I   & 0   & 0   & 0 \\\\\n",
    "f_1 & 0   & 0   & 0 \\\\\n",
    "0   & f_2 & 0   & 0 \\\\\n",
    "0   & 0   & f_3 & 0 \\\\\n",
    "\\end{bmatrix}\n",
    "\\circ\n",
    "\\begin{bmatrix}\n",
    "x_0 \\\\\n",
    "h_1 \\\\\n",
    "h_2 \\\\\n",
    "y_0 \\\\\n",
    "\\end{bmatrix}\n",
    "=\n",
    "\\begin{bmatrix}\n",
    "x_0 \\\\\n",
    "f_1(x_0) \\\\\n",
    "f_2(f_1(x_0)) \\\\\n",
    "f_3(f_2(f_1(x_0))) \\\\\n",
    "\\end{bmatrix}\n",
    "$$\n",
    "\n",
    "Two neat things have happened. First notice that the hidden layers $h_1$ and $h_2$ have been overwritten by the training process, so their initiationlization is irrelevant.  Second, we have the last entry has the form $f_3(f_2(f_1(x_0)))$ which is exactly the form of the answer that the MLP would have given!"
   ]
  },
  {
   "cell_type": "markdown",
   "metadata": {},
   "source": [
    "Hare:  So, the MLP is a cunningly designed iterative map that ignores the initial guess $y_0$ and the hidden layers $h_1$ and $h_2$ and gives the same answer as the iterative map that we are trying to learn!  "
   ]
  },
  {
   "cell_type": "code",
   "execution_count": 22,
   "id": "ebbc9b74-d7dc-4dd6-bb72-88ed57f5b63e",
   "metadata": {
    "id": "ebbc9b74-d7dc-4dd6-bb72-88ed57f5b63e"
   },
   "outputs": [],
   "source": [
    "input_size = int(x_mask.sum())\n",
    "h1_size = 20\n",
    "h2_size = 20\n",
    "output_size = int(y_mask.sum())\n",
    "\n",
    "x_idx = torch.arange(0, input_size)\n",
    "h_idx = torch.arange(input_size, input_size+h1_size+h2_size)\n",
    "y_idx = torch.arange(input_size+h1_size+h2_size, input_size+h1_size+h2_size+output_size)\n",
    "\n",
    "total_size = input_size + h1_size + h2_size + output_size\n",
    "\n",
    "iterations = 3\n",
    "\n",
    "I = Identity(in_features=input_size, out_features=input_size)\n",
    "f1 = Sequential1D(torch.nn.Linear(in_features=input_size, out_features=h1_size), \n",
    "                  torch.nn.ReLU(), \n",
    "                  in_features=input_size, out_features=h1_size)\n",
    "f2 = Sequential1D(torch.nn.Linear(in_features=h1_size, out_features=h2_size), \n",
    "                  torch.nn.ReLU(), \n",
    "                  in_features=h1_size,    out_features=h2_size)\n",
    "f3 = torch.nn.Linear(in_features=h2_size,    out_features=output_size)    \n",
    "\n",
    "in_features_list  = [input_size, h1_size, h2_size, output_size]\n",
    "out_features_list = [input_size, h1_size, h2_size, output_size]\n",
    "blocks = [[I,    None, None, None],\n",
    "          [f1,   None, None, None],\n",
    "          [None, f2,   None, None],\n",
    "          [None, None, f3,   None]]\n",
    "\n",
    "def transpose_blocks(blocks):\n",
    "    return [[blocks[j][i] for j in range(len(blocks))] for i in range(len(blocks[0]))]\n",
    "\n",
    "map = Sequential2D(\n",
    "    in_features_list=in_features_list,\n",
    "    out_features_list=out_features_list,\n",
    "    blocks=transpose_blocks(blocks)\n",
    ")   "
   ]
  },
  {
   "cell_type": "code",
   "execution_count": 23,
   "metadata": {},
   "outputs": [],
   "source": [
    "zh_start_tensor = torch.cat((z_start_tensor[:, x_mask],\n",
    "                             torch.zeros(z_start_tensor.shape[0], len(h_idx)), \n",
    "                             z_start_tensor[:, y_mask]), dim=1)\n",
    "zh_target_tensor = torch.cat((z_target_tensor[:, x_mask], \n",
    "                             torch.zeros(z_target_tensor.shape[0], len(h_idx)), \n",
    "                             z_target_tensor[:, y_mask]), dim=1)"
   ]
  },
  {
   "cell_type": "code",
   "execution_count": 24,
   "id": "a7eeb2b8",
   "metadata": {},
   "outputs": [],
   "source": [
    "# a dataloader which returns a batch of start and target data\n",
    "class Data(torch.utils.data.Dataset):\n",
    "    def __init__(self, z_start, z_target):\n",
    "        self.z_start = z_start\n",
    "        self.z_target = z_target\n",
    "    def __len__(self):\n",
    "        return len(self.z_start)\n",
    "    def __getitem__(self, idx):\n",
    "        return self.z_start[idx], self.z_target[idx]\n",
    "    \n",
    "train_data = Data(zh_start_tensor, zh_target_tensor)\n",
    "train_loader = torch.utils.data.DataLoader(train_data, batch_size=512, shuffle=True)"
   ]
  },
  {
   "cell_type": "code",
   "execution_count": 25,
   "id": "7486ca78-5e1c-4f94-afb5-9015303aaa09",
   "metadata": {
    "colab": {
     "base_uri": "https://localhost:8080/",
     "height": 382,
     "referenced_widgets": [
      "915d05c1f046462ebe574b6b306b6110",
      "df24beefb77f4549b7beed2e23558980",
      "a5a6545605cb475fb4bd6db5d32b0b24",
      "5959c15bd28a4059b8952689490ebe2f",
      "a3075bdd01e047faa3f1246dabaedcc7",
      "4d5e173f3cdd465b9b40f8b23d270e8a",
      "4340e450c8c9444784e3ac188b9230df",
      "c81f9b0a5dee4db396442599cb295097",
      "faf8ff98c59b4951b62cd8ad4e1d5bfa",
      "a955f09104b54e37b262198a3807761c",
      "d4d3328dd8914927b619350b49b6f81c"
     ]
    },
    "id": "7486ca78-5e1c-4f94-afb5-9015303aaa09",
    "outputId": "e3247ec9-d372-4fda-c69e-654d985bc905"
   },
   "outputs": [],
   "source": [
    "# Define the loss function and optimizer\n",
    "criterion = torch.nn.MSELoss()\n",
    "optimizer = torch.optim.Adam(map.parameters(), lr=0.001)"
   ]
  },
  {
   "cell_type": "code",
   "execution_count": 26,
   "metadata": {},
   "outputs": [
    {
     "name": "stdout",
     "output_type": "stream",
     "text": [
      "Epoch 0, Batch 1, Loss 0.1289714127779007\n"
     ]
    },
    {
     "name": "stdout",
     "output_type": "stream",
     "text": [
      "Epoch 100, Batch 1, Loss 0.04598566144704819\n",
      "Epoch 200, Batch 1, Loss 0.03342331200838089\n",
      "Epoch 300, Batch 1, Loss 0.025372890755534172\n",
      "Epoch 400, Batch 1, Loss 0.02004929445683956\n"
     ]
    }
   ],
   "source": [
    "max_epochs = 500\n",
    "# Train the model\n",
    "for epoch in range(max_epochs):\n",
    "    for batch_idx, (start, target) in enumerate(train_loader):\n",
    "        optimizer.zero_grad()\n",
    "\n",
    "        mapped = start\n",
    "\n",
    "        loss = 0.0\n",
    "        for i in range(iterations):\n",
    "            mapped = map(mapped)\n",
    "\n",
    "        loss = criterion(mapped[:, y_idx], target[:, y_idx])\n",
    "        loss.backward()\n",
    "\n",
    "        optimizer.step()\n",
    "    if epoch % 100 == 0:\n",
    "        print(f'Epoch {epoch}, Batch {batch_idx}, Loss {loss.item()}')"
   ]
  },
  {
   "cell_type": "markdown",
   "id": "054793e0",
   "metadata": {},
   "source": [
    "# Training data"
   ]
  },
  {
   "cell_type": "code",
   "execution_count": 27,
   "metadata": {},
   "outputs": [],
   "source": [
    "def project(z_start, z_mapped, z_target, idx, one_hot=False):\n",
    "    if len(idx) == 1:\n",
    "        start = z_start[:, idx[0]]\n",
    "        target = z_target[:, idx[0]]\n",
    "        mapped = z_mapped[:, idx[0]]\n",
    "    else:\n",
    "        if one_hot:\n",
    "            start = torch.argmax(z_start[:, idx], dim=1)\n",
    "            target = torch.argmax(z_target[:, idx], dim=1)\n",
    "            mapped = torch.argmax(z_mapped[:, idx], dim=1)\n",
    "        else:\n",
    "            # Use PCA to reduce the dimensionality of the data\n",
    "            _, _, V = torch.svd(z_target[:, idx])\n",
    "            start = torch.matmul(z_start[:, idx], V[:, 0])\n",
    "            target = torch.matmul(z_target[:, idx], V[:, 0])\n",
    "            mapped = torch.matmul(z_mapped[:, idx], V[:, 0])\n",
    "    return start, mapped, target\n",
    "\n",
    "\n",
    "def my_plot(z_start, z_mapped, z_target, plot_points, x_idx, y_idx, one_hot_y=False):\n",
    "    start_x, mapped_x, target_x = project(z_start, z_mapped, z_target, x_idx)\n",
    "    start_y, mapped_y, target_y = project(z_start, z_mapped, z_target, y_idx, one_hot_y)\n",
    "    plot_2D_start_end(start_x, start_y,\n",
    "                      mapped_x, mapped_y, \n",
    "                      target_x, target_y, \n",
    "                      plot_points)"
   ]
  },
  {
   "cell_type": "code",
   "execution_count": 28,
   "metadata": {},
   "outputs": [
    {
     "data": {
      "application/vnd.jupyter.widget-view+json": {
       "model_id": "d3535c9db9074e6ea6979f81307ba644",
       "version_major": 2,
       "version_minor": 0
      },
      "image/png": "[encoded data removed]",
      "text/html": [
       "\n",
       "            <div style=\"display: inline-block;\">\n",
       "                <div class=\"jupyter-widgets widget-label\" style=\"text-align: center;\">\n",
       "                    Figure\n",
       "                </div>\n",
       "                <img src='data:image/png;base64,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' width=640.0/>\n",
       "            </div>\n",
       "        "
      ],
      "text/plain": [
       "Canvas(toolbar=Toolbar(toolitems=[('Home', 'Reset original view', 'home', 'home'), ('Back', 'Back to previous …"
      ]
     },
     "metadata": {},
     "output_type": "display_data"
    }
   ],
   "source": [
    "\n",
    "plot_iterations = 1\n",
    "\n",
    "mapped_tensor = zh_start_tensor\n",
    "for i in range(plot_iterations):\n",
    "    mapped_tensor = map(mapped_tensor)\n",
    "mapped_tensor = mapped_tensor.detach()\n",
    "\n",
    "my_plot(zh_start_tensor, mapped_tensor, zh_target_tensor, plot_points=10, x_idx=x_idx, y_idx=y_idx, one_hot_y=one_hot_y)\n"
   ]
  },
  {
   "cell_type": "code",
   "execution_count": 29,
   "id": "8ac074be-5d27-480a-83fe-e1161e9d69ef",
   "metadata": {
    "id": "8ac074be-5d27-480a-83fe-e1161e9d69ef"
   },
   "outputs": [
    {
     "data": {
      "application/vnd.jupyter.widget-view+json": {
       "model_id": "56f0963ee8ec428a975502f4e0f74f0b",
       "version_major": 2,
       "version_minor": 0
      },
      "image/png": "[encoded data removed]",
      "text/html": [
       "\n",
       "            <div style=\"display: inline-block;\">\n",
       "                <div class=\"jupyter-widgets widget-label\" style=\"text-align: center;\">\n",
       "                    Figure\n",
       "                </div>\n",
       "                <img src='data:image/png;base64,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' width=640.0/>\n",
       "            </div>\n",
       "        "
      ],
      "text/plain": [
       "Canvas(toolbar=Toolbar(toolitems=[('Home', 'Reset original view', 'home', 'home'), ('Back', 'Back to previous …"
      ]
     },
     "metadata": {},
     "output_type": "display_data"
    }
   ],
   "source": [
    "plot_iterations = iterations\n",
    "\n",
    "mapped_tensor = zh_start_tensor\n",
    "for i in range(plot_iterations):\n",
    "    mapped_tensor = map(mapped_tensor)\n",
    "mapped_tensor = mapped_tensor.detach()\n",
    "\n",
    "my_plot(zh_start_tensor, mapped_tensor, zh_target_tensor, plot_points=10, x_idx=x_idx, y_idx=y_idx, one_hot_y=one_hot_y)"
   ]
  },
  {
   "cell_type": "markdown",
   "metadata": {},
   "source": [
    "# Path"
   ]
  },
  {
   "cell_type": "code",
   "execution_count": 30,
   "metadata": {},
   "outputs": [
    {
     "data": {
      "application/vnd.jupyter.widget-view+json": {
       "model_id": "2f1734b93bfd481db905fb05b2ef0f1a",
       "version_major": 2,
       "version_minor": 0
      },
      "image/png": "[encoded data removed]",
      "text/html": [
       "\n",
       "            <div style=\"display: inline-block;\">\n",
       "                <div class=\"jupyter-widgets widget-label\" style=\"text-align: center;\">\n",
       "                    Figure\n",
       "                </div>\n",
       "                <img src='data:image/png;base64,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' width=640.0/>\n",
       "            </div>\n",
       "        "
      ],
      "text/plain": [
       "Canvas(toolbar=Toolbar(toolitems=[('Home', 'Reset original view', 'home', 'home'), ('Back', 'Back to previous …"
      ]
     },
     "metadata": {},
     "output_type": "display_data"
    }
   ],
   "source": [
    "plot_points = 10\n",
    "\n",
    "\n",
    "mapped_tensors = [zh_start_tensor[:plot_points, :]]\n",
    "for i in range(iterations):\n",
    "    mapped_tensors.append(map(mapped_tensors[i]).detach())\n",
    "\n",
    "\n",
    "plt.figure()\n",
    "\n",
    "for i, mapped_tensor in enumerate(mapped_tensors):\n",
    "    if i > 0:\n",
    "        start = mapped_tensors[i-1]\n",
    "        mapped = mapped_tensors[i]\n",
    "\n",
    "        start_x, mapped_x, target_x = project(start, mapped, zh_target_tensor, idx=x_idx)\n",
    "        start_y, mapped_y, target_y = project(start, mapped, zh_target_tensor, idx=y_idx, one_hot=one_hot_y)\n",
    "\n",
    "        dx = mapped_x-start_x\n",
    "        dy = mapped_y-start_y\n",
    "        plt.quiver(start_x, start_y, dx, dy, scale=1, scale_units='xy', angles='xy', color='r', width=0.005)\n",
    "\n",
    "plt.scatter(target_x, target_y, s=1)\n",
    "\n",
    "plt.gca().set_aspect('equal')\n",
    "plt.show()"
   ]
  },
  {
   "cell_type": "markdown",
   "id": "a8d68302",
   "metadata": {},
   "source": [
    "# Testing data"
   ]
  },
  {
   "cell_type": "code",
   "execution_count": 31,
   "id": "1c14b142",
   "metadata": {},
   "outputs": [
    {
     "data": {
      "application/vnd.jupyter.widget-view+json": {
       "model_id": "ade6606000914b509daa885e4d03e8fe",
       "version_major": 2,
       "version_minor": 0
      },
      "image/png": "[encoded data removed]",
      "text/html": [
       "\n",
       "            <div style=\"display: inline-block;\">\n",
       "                <div class=\"jupyter-widgets widget-label\" style=\"text-align: center;\">\n",
       "                    Figure\n",
       "                </div>\n",
       "                <img src='data:image/png;base64,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' width=640.0/>\n",
       "            </div>\n",
       "        "
      ],
      "text/plain": [
       "Canvas(toolbar=Toolbar(toolitems=[('Home', 'Reset original view', 'home', 'home'), ('Back', 'Back to previous …"
      ]
     },
     "metadata": {},
     "output_type": "display_data"
    }
   ],
   "source": [
    "zh_start_tensor_test = zh_start_tensor+torch.rand_like(zh_start_tensor)*0.2\n",
    "mapped_tensor = zh_start_tensor_test\n",
    "for i in range(iterations):\n",
    "    mapped_tensor = map(mapped_tensor)\n",
    "mapped_tensor = mapped_tensor.detach()\n",
    "\n",
    "my_plot(zh_start_tensor_test, mapped_tensor, zh_target_tensor, plot_points=10, x_idx=x_idx, y_idx=y_idx, one_hot_y=one_hot_y)\n"
   ]
  },
  {
   "cell_type": "code",
   "execution_count": 32,
   "metadata": {},
   "outputs": [
    {
     "name": "stdout",
     "output_type": "stream",
     "text": [
      "i = 317\n",
      "tensor([0.1673, 0.1263, 0.2643, 0.2271, 0.1462, 0.1770, 0.2939, 0.2678, 0.2132,\n",
      "        0.1792])\n",
      "tensor([ 2.0416e-02, -4.2899e-03,  3.0412e-02,  2.7875e-02,  2.6374e-03,\n",
      "         2.7408e-02, -2.7761e-03,  8.5930e-01, -3.6113e-05, -5.0249e-02])\n",
      "tensor([0., 0., 0., 0., 0., 0., 0., 1., 0., 0.])\n",
      "6 -> 7 -> 7\n",
      "i = 856\n",
      "tensor([0.1275, 0.1755, 0.2888, 0.1311, 0.2302, 0.1112, 0.1162, 0.1870, 0.2368,\n",
      "        0.2261])\n",
      "tensor([-0.0406,  0.0576,  1.1144,  0.0177,  0.0227, -0.0809, -0.0721,  0.0437,\n",
      "         0.1143, -0.0418])\n",
      "tensor([0., 0., 1., 0., 0., 0., 0., 0., 0., 0.])\n",
      "2 -> 2 -> 2\n",
      "i = 558\n",
      "tensor([0.1704, 0.2859, 0.1735, 0.2414, 0.2637, 0.2476, 0.1357, 0.2611, 0.2111,\n",
      "        0.1205])\n",
      "tensor([ 0.0222,  0.8380,  0.0943, -0.0375,  0.1113,  0.0481,  0.0398, -0.1393,\n",
      "        -0.0681,  0.0662])\n",
      "tensor([0., 1., 0., 0., 0., 0., 0., 0., 0., 0.])\n",
      "1 -> 1 -> 1\n",
      "i = 921\n",
      "tensor([0.1615, 0.2472, 0.1457, 0.1737, 0.1421, 0.2643, 0.1454, 0.1004, 0.1159,\n",
      "        0.2249])\n",
      "tensor([ 5.5659e-04,  9.0689e-01, -2.3568e-03,  8.3693e-02,  2.2662e-02,\n",
      "         1.6894e-02,  4.6387e-03, -2.9119e-02,  1.1905e-02, -2.0016e-02])\n",
      "tensor([0., 1., 0., 0., 0., 0., 0., 0., 0., 0.])\n",
      "5 -> 1 -> 1\n",
      "i = 775\n",
      "tensor([0.1649, 0.1201, 0.1883, 0.1177, 0.2231, 0.1248, 0.1822, 0.1033, 0.2492,\n",
      "        0.1932])\n",
      "tensor([ 0.0419,  0.0715,  0.0218, -0.0794,  0.0064, -0.0062, -0.0033,  0.7913,\n",
      "         0.0466, -0.0250])\n",
      "tensor([0., 0., 0., 0., 0., 0., 0., 1., 0., 0.])\n",
      "8 -> 7 -> 7\n"
     ]
    }
   ],
   "source": [
    "for i in torch.randperm(zh_start_tensor.shape[0])[:5]:\n",
    "    print(f'i = {i}')    \n",
    "    print(zh_start_tensor_test[i,y_idx])\n",
    "    print(mapped_tensor[i,y_idx])\n",
    "    print(zh_target_tensor[i,y_idx])\n",
    "    print(f'{torch.argmax(zh_start_tensor_test[i,y_idx])} -> {torch.argmax(mapped_tensor[i,y_idx])} -> {torch.argmax(zh_target_tensor[i,y_idx])}')\n",
    "\n"
   ]
  },
  {
   "cell_type": "code",
   "execution_count": null,
   "metadata": {},
   "outputs": [],
   "source": []
  }
 ],
 "metadata": {
  "accelerator": "GPU",
  "colab": {
   "include_colab_link": true,
   "provenance": []
  },
  "gpuClass": "standard",
  "jupytext": {
   "formats": "ipynb,py:percent,md"
  },
  "kernelspec": {
   "display_name": "Python 3 (ipykernel)",
   "language": "python",
   "name": "python3"
  },
  "language_info": {
   "codemirror_mode": {
    "name": "ipython",
    "version": 3
   },
   "file_extension": ".py",
   "mimetype": "text/x-python",
   "name": "python",
   "nbconvert_exporter": "python",
   "pygments_lexer": "ipython3",
   "version": "3.10.12"
  },
  "widgets": {
   "application/vnd.jupyter.widget-state+json": {
    "4340e450c8c9444784e3ac188b9230df": {
     "model_module": "@jupyter-widgets/controls",
     "model_module_version": "1.5.0",
     "model_name": "DescriptionStyleModel",
     "state": {
      "_model_module": "@jupyter-widgets/controls",
      "_model_module_version": "1.5.0",
      "_model_name": "DescriptionStyleModel",
      "_view_count": null,
      "_view_module": "@jupyter-widgets/base",
      "_view_module_version": "1.2.0",
      "_view_name": "StyleView",
      "description_width": ""
     }
    },
    "4d5e173f3cdd465b9b40f8b23d270e8a": {
     "model_module": "@jupyter-widgets/base",
     "model_module_version": "1.2.0",
     "model_name": "LayoutModel",
     "state": {
      "_model_module": "@jupyter-widgets/base",
      "_model_module_version": "1.2.0",
      "_model_name": "LayoutModel",
      "_view_count": null,
      "_view_module": "@jupyter-widgets/base",
      "_view_module_version": "1.2.0",
      "_view_name": "LayoutView",
      "align_content": null,
      "align_items": null,
      "align_self": null,
      "border": null,
      "bottom": null,
      "display": null,
      "flex": null,
      "flex_flow": null,
      "grid_area": null,
      "grid_auto_columns": null,
      "grid_auto_flow": null,
      "grid_auto_rows": null,
      "grid_column": null,
      "grid_gap": null,
      "grid_row": null,
      "grid_template_areas": null,
      "grid_template_columns": null,
      "grid_template_rows": null,
      "height": null,
      "justify_content": null,
      "justify_items": null,
      "left": null,
      "margin": null,
      "max_height": null,
      "max_width": null,
      "min_height": null,
      "min_width": null,
      "object_fit": null,
      "object_position": null,
      "order": null,
      "overflow": null,
      "overflow_x": null,
      "overflow_y": null,
      "padding": null,
      "right": null,
      "top": null,
      "visibility": null,
      "width": null
     }
    },
    "5959c15bd28a4059b8952689490ebe2f": {
     "model_module": "@jupyter-widgets/controls",
     "model_module_version": "1.5.0",
     "model_name": "HTMLModel",
     "state": {
      "_dom_classes": [],
      "_model_module": "@jupyter-widgets/controls",
      "_model_module_version": "1.5.0",
      "_model_name": "HTMLModel",
      "_view_count": null,
      "_view_module": "@jupyter-widgets/controls",
      "_view_module_version": "1.5.0",
      "_view_name": "HTMLView",
      "description": "",
      "description_tooltip": null,
      "layout": "IPY_MODEL_a955f09104b54e37b262198a3807761c",
      "placeholder": "​",
      "style": "IPY_MODEL_d4d3328dd8914927b619350b49b6f81c",
      "value": " 999/999 [00:08&lt;00:00, 114.60it/s, loss=0.000293, v_num=0]"
     }
    },
    "915d05c1f046462ebe574b6b306b6110": {
     "model_module": "@jupyter-widgets/controls",
     "model_module_version": "1.5.0",
     "model_name": "HBoxModel",
     "state": {
      "_dom_classes": [],
      "_model_module": "@jupyter-widgets/controls",
      "_model_module_version": "1.5.0",
      "_model_name": "HBoxModel",
      "_view_count": null,
      "_view_module": "@jupyter-widgets/controls",
      "_view_module_version": "1.5.0",
      "_view_name": "HBoxView",
      "box_style": "",
      "children": [
       "IPY_MODEL_df24beefb77f4549b7beed2e23558980",
       "IPY_MODEL_a5a6545605cb475fb4bd6db5d32b0b24",
       "IPY_MODEL_5959c15bd28a4059b8952689490ebe2f"
      ],
      "layout": "IPY_MODEL_a3075bdd01e047faa3f1246dabaedcc7"
     }
    },
    "a3075bdd01e047faa3f1246dabaedcc7": {
     "model_module": "@jupyter-widgets/base",
     "model_module_version": "1.2.0",
     "model_name": "LayoutModel",
     "state": {
      "_model_module": "@jupyter-widgets/base",
      "_model_module_version": "1.2.0",
      "_model_name": "LayoutModel",
      "_view_count": null,
      "_view_module": "@jupyter-widgets/base",
      "_view_module_version": "1.2.0",
      "_view_name": "LayoutView",
      "align_content": null,
      "align_items": null,
      "align_self": null,
      "border": null,
      "bottom": null,
      "display": "inline-flex",
      "flex": null,
      "flex_flow": "row wrap",
      "grid_area": null,
      "grid_auto_columns": null,
      "grid_auto_flow": null,
      "grid_auto_rows": null,
      "grid_column": null,
      "grid_gap": null,
      "grid_row": null,
      "grid_template_areas": null,
      "grid_template_columns": null,
      "grid_template_rows": null,
      "height": null,
      "justify_content": null,
      "justify_items": null,
      "left": null,
      "margin": null,
      "max_height": null,
      "max_width": null,
      "min_height": null,
      "min_width": null,
      "object_fit": null,
      "object_position": null,
      "order": null,
      "overflow": null,
      "overflow_x": null,
      "overflow_y": null,
      "padding": null,
      "right": null,
      "top": null,
      "visibility": null,
      "width": "100%"
     }
    },
    "a5a6545605cb475fb4bd6db5d32b0b24": {
     "model_module": "@jupyter-widgets/controls",
     "model_module_version": "1.5.0",
     "model_name": "FloatProgressModel",
     "state": {
      "_dom_classes": [],
      "_model_module": "@jupyter-widgets/controls",
      "_model_module_version": "1.5.0",
      "_model_name": "FloatProgressModel",
      "_view_count": null,
      "_view_module": "@jupyter-widgets/controls",
      "_view_module_version": "1.5.0",
      "_view_name": "ProgressView",
      "bar_style": "success",
      "description": "",
      "description_tooltip": null,
      "layout": "IPY_MODEL_c81f9b0a5dee4db396442599cb295097",
      "max": 999,
      "min": 0,
      "orientation": "horizontal",
      "style": "IPY_MODEL_faf8ff98c59b4951b62cd8ad4e1d5bfa",
      "value": 999
     }
    },
    "a955f09104b54e37b262198a3807761c": {
     "model_module": "@jupyter-widgets/base",
     "model_module_version": "1.2.0",
     "model_name": "LayoutModel",
     "state": {
      "_model_module": "@jupyter-widgets/base",
      "_model_module_version": "1.2.0",
      "_model_name": "LayoutModel",
      "_view_count": null,
      "_view_module": "@jupyter-widgets/base",
      "_view_module_version": "1.2.0",
      "_view_name": "LayoutView",
      "align_content": null,
      "align_items": null,
      "align_self": null,
      "border": null,
      "bottom": null,
      "display": null,
      "flex": null,
      "flex_flow": null,
      "grid_area": null,
      "grid_auto_columns": null,
      "grid_auto_flow": null,
      "grid_auto_rows": null,
      "grid_column": null,
      "grid_gap": null,
      "grid_row": null,
      "grid_template_areas": null,
      "grid_template_columns": null,
      "grid_template_rows": null,
      "height": null,
      "justify_content": null,
      "justify_items": null,
      "left": null,
      "margin": null,
      "max_height": null,
      "max_width": null,
      "min_height": null,
      "min_width": null,
      "object_fit": null,
      "object_position": null,
      "order": null,
      "overflow": null,
      "overflow_x": null,
      "overflow_y": null,
      "padding": null,
      "right": null,
      "top": null,
      "visibility": null,
      "width": null
     }
    },
    "c81f9b0a5dee4db396442599cb295097": {
     "model_module": "@jupyter-widgets/base",
     "model_module_version": "1.2.0",
     "model_name": "LayoutModel",
     "state": {
      "_model_module": "@jupyter-widgets/base",
      "_model_module_version": "1.2.0",
      "_model_name": "LayoutModel",
      "_view_count": null,
      "_view_module": "@jupyter-widgets/base",
      "_view_module_version": "1.2.0",
      "_view_name": "LayoutView",
      "align_content": null,
      "align_items": null,
      "align_self": null,
      "border": null,
      "bottom": null,
      "display": null,
      "flex": "2",
      "flex_flow": null,
      "grid_area": null,
      "grid_auto_columns": null,
      "grid_auto_flow": null,
      "grid_auto_rows": null,
      "grid_column": null,
      "grid_gap": null,
      "grid_row": null,
      "grid_template_areas": null,
      "grid_template_columns": null,
      "grid_template_rows": null,
      "height": null,
      "justify_content": null,
      "justify_items": null,
      "left": null,
      "margin": null,
      "max_height": null,
      "max_width": null,
      "min_height": null,
      "min_width": null,
      "object_fit": null,
      "object_position": null,
      "order": null,
      "overflow": null,
      "overflow_x": null,
      "overflow_y": null,
      "padding": null,
      "right": null,
      "top": null,
      "visibility": null,
      "width": null
     }
    },
    "d4d3328dd8914927b619350b49b6f81c": {
     "model_module": "@jupyter-widgets/controls",
     "model_module_version": "1.5.0",
     "model_name": "DescriptionStyleModel",
     "state": {
      "_model_module": "@jupyter-widgets/controls",
      "_model_module_version": "1.5.0",
      "_model_name": "DescriptionStyleModel",
      "_view_count": null,
      "_view_module": "@jupyter-widgets/base",
      "_view_module_version": "1.2.0",
      "_view_name": "StyleView",
      "description_width": ""
     }
    },
    "df24beefb77f4549b7beed2e23558980": {
     "model_module": "@jupyter-widgets/controls",
     "model_module_version": "1.5.0",
     "model_name": "HTMLModel",
     "state": {
      "_dom_classes": [],
      "_model_module": "@jupyter-widgets/controls",
      "_model_module_version": "1.5.0",
      "_model_name": "HTMLModel",
      "_view_count": null,
      "_view_module": "@jupyter-widgets/controls",
      "_view_module_version": "1.5.0",
      "_view_name": "HTMLView",
      "description": "",
      "description_tooltip": null,
      "layout": "IPY_MODEL_4d5e173f3cdd465b9b40f8b23d270e8a",
      "placeholder": "​",
      "style": "IPY_MODEL_4340e450c8c9444784e3ac188b9230df",
      "value": "Epoch 9: 100%"
     }
    },
    "faf8ff98c59b4951b62cd8ad4e1d5bfa": {
     "model_module": "@jupyter-widgets/controls",
     "model_module_version": "1.5.0",
     "model_name": "ProgressStyleModel",
     "state": {
      "_model_module": "@jupyter-widgets/controls",
      "_model_module_version": "1.5.0",
      "_model_name": "ProgressStyleModel",
      "_view_count": null,
      "_view_module": "@jupyter-widgets/base",
      "_view_module_version": "1.2.0",
      "_view_name": "StyleView",
      "bar_color": null,
      "description_width": ""
     }
    }
   }
  }
 },
 "nbformat": 4,
 "nbformat_minor": 5
}
