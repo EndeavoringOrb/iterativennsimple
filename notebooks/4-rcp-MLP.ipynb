{
 "cells": [
  {
   "cell_type": "markdown",
   "id": "f6828844-3a74-49bd-8348-ceae45948da7",
   "metadata": {
    "id": "f6828844-3a74-49bd-8348-ceae45948da7"
   },
   "source": [
    "# Load data"
   ]
  },
  {
   "cell_type": "code",
   "execution_count": 1,
   "id": "a5713c2d-0108-4708-9f0d-021e183f6d1e",
   "metadata": {
    "id": "a5713c2d-0108-4708-9f0d-021e183f6d1e"
   },
   "outputs": [],
   "source": [
    "import torch\n",
    "import pandas as pd\n",
    "import matplotlib.pyplot as plt\n",
    "%matplotlib widget\n",
    "import pathlib\n",
    "\n",
    "from iterativennsimple.Sequential2D import Sequential2D, Identity\n",
    "from iterativennsimple.Sequential1D import Sequential1D\n",
    "import iterativennsimple\n",
    "\n",
    "from iterativennsimple.utils.plot_2D_start_end import plot_2D_start_end"
   ]
  },
  {
   "cell_type": "code",
   "execution_count": 2,
   "id": "d0e79796",
   "metadata": {},
   "outputs": [],
   "source": [
    "# Turn a pandas dataframe into a pytorch tensor\n",
    "def df_to_tensor(df):\n",
    "    return torch.tensor(df.values, dtype=torch.float32)"
   ]
  },
  {
   "cell_type": "code",
   "execution_count": 3,
   "id": "9f5c3fcc-147d-4669-8ab2-3ddf16a88b4e",
   "metadata": {
    "id": "9f5c3fcc-147d-4669-8ab2-3ddf16a88b4e"
   },
   "outputs": [],
   "source": [
    "#name = 'regression_line'\n",
    "#name = 'pca_line'\n",
    "#name = 'circle'\n",
    "#name = 'regression_circle'\n",
    "#one_hot_y = False\n",
    "\n",
    "name = 'MNIST'\n",
    "one_hot_y = True\n",
    "\n",
    "# The directory in which the notebook is located.\n",
    "base_dir = pathlib.Path(iterativennsimple.__path__[0])\n",
    "# The directory where the data is stored.\n",
    "data_dir = base_dir / '../data/processed'\n",
    "\n",
    "\n",
    "# Read the start data\n",
    "z_start = pd.read_parquet(data_dir / f'{name}_start.parquet')\n",
    "# Read the target data\n",
    "z_target = pd.read_parquet(data_dir / f'{name}_target.parquet')"
   ]
  },
  {
   "cell_type": "markdown",
   "id": "78ba5bdc",
   "metadata": {},
   "source": [
    "## Data preprocessing"
   ]
  },
  {
   "cell_type": "code",
   "execution_count": 4,
   "id": "133ecd27",
   "metadata": {},
   "outputs": [],
   "source": [
    "z_start_tensor = df_to_tensor(z_start)\n",
    "z_target_tensor = df_to_tensor(z_target)\n",
    "\n",
    "# Only use the given number of sample\n",
    "max_num_samples = 1000\n",
    "num_samples = min(max_num_samples, z_start_tensor.shape[0])\n",
    "z_start_tensor = z_start_tensor[:num_samples]\n",
    "z_target_tensor = z_target_tensor[:num_samples]\n"
   ]
  },
  {
   "cell_type": "markdown",
   "id": "2d9b3a29",
   "metadata": {},
   "source": [
    "We have two views of the data, and here is where we reconcile them.   The dynamical systems view is to have vector $z_0$ (called \"z_start_tensor\" in the code) and $z_1$ (called \"z_target_tensor\" in the code) that are the initial and final states of the system.  We want to construct a function $f$ (or more precisely choose a set of parameters $\\theta$ that selects $f$ from some family of functions) such that $\\|f(z_0) - z_1\\|$ is small.  The machine learning view is to have a set of inputs $x$ (which is a subset of \"z_start_tensor\") and a set of outputs $y$ (which is a subset of \"z_target_tensor\") and to construct a function $g$ (or more precisely choose a set of parameters $\\phi$ that selects $g$ from some family of functions) such that $\\|g(x) - y\\|$ is small.   \n",
    "\n",
    "**The idea is to have $x$ and $y$ be subsets of $z_0$ and $z_1$ respectively!**   But how to do that!?"
   ]
  },
  {
   "cell_type": "markdown",
   "id": "4f1e3668",
   "metadata": {},
   "source": [
    "Let's begin by writing \n",
    "\n",
    "$$\n",
    "z_i=\n",
    "\\begin{bmatrix}\n",
    "x_i \\\\\n",
    "y_i \\\\\n",
    "\\end{bmatrix}\n",
    "$$\n",
    "\n",
    "and **we assume that $x_0=x_1$**.  This may seem odd at first glance, but is actually quite natural.  For example, in our MNIST example the starting image in $x_0$ and the target image in $x_1$ are the same.  It is merely the classification in $y_0$ and $y_1$ that are different.  I.e., $y_0$ contains some noisy classification or uniform prior of $x_0$ and $y_1$ contains the correct classification of $x_0$.  In the case of the MNIST data, we have $x_0=x_1$ and $y_0\\neq y_1$.\n",
    "\n",
    "So, in slighltly more detail we choose $z_0$ and $z_1$ so that\n",
    "\n",
    "$$\n",
    "z_0=\n",
    "\\begin{bmatrix}\n",
    "x_0 \\\\\n",
    "y_0 \\\\\n",
    "\\end{bmatrix}\n",
    "$$\n",
    "\n",
    "and\n",
    "\n",
    "$$\n",
    "z_1=\n",
    "\\begin{bmatrix}\n",
    "x_0 \\\\\n",
    "y_1 \\\\\n",
    "\\end{bmatrix}\n",
    "$$"
   ]
  },
  {
   "cell_type": "code",
   "execution_count": 5,
   "id": "701f8d98",
   "metadata": {},
   "outputs": [
    {
     "name": "stdout",
     "output_type": "stream",
     "text": [
      "torch.Size([794]) torch.Size([794])\n",
      "tensor(784) tensor(10)\n"
     ]
    }
   ],
   "source": [
    "\n",
    "# compute a mask for the data where every entry in each column is the same\n",
    "# this is used to remove columns that are constant\n",
    "mask = (z_start_tensor == z_target_tensor).all(axis=0)\n",
    "mask.shape\n",
    "x_mask = mask\n",
    "y_mask = ~mask\n",
    "\n",
    "# print out the shape of the masks\n",
    "print(x_mask.shape, y_mask.shape)\n",
    "\n",
    "# print out number of true entries in each mask\n",
    "print(x_mask.sum(), y_mask.sum())\n"
   ]
  },
  {
   "cell_type": "markdown",
   "id": "1880ae29-6269-42a9-870f-fb52bb18cf36",
   "metadata": {
    "id": "1880ae29-6269-42a9-870f-fb52bb18cf36"
   },
   "source": [
    "# MLP model"
   ]
  },
  {
   "cell_type": "markdown",
   "id": "11bc5490",
   "metadata": {},
   "source": [
    "Now we start using Sequential2D to build our model.  This requires a little massaging of the data.  In particlar, remember that we now have an iterative map of the form\n",
    "\n",
    "$$\n",
    "\\begin{bmatrix}\n",
    "I   & 0   & 0   & 0 \\\\\n",
    "f_1 & 0   & 0   & 0 \\\\\n",
    "0   & f_2 & 0   & 0 \\\\\n",
    "0   & 0   & f_3 & 0 \\\\\n",
    "\\end{bmatrix}\n",
    "$$\n",
    "\n",
    "and a state vector that combines $x$, $y$, and *the hidden layers* in the following way.\n",
    "\n",
    "$$\n",
    "\\begin{bmatrix}\n",
    "I   & 0   & 0   & 0 \\\\\n",
    "f_1 & 0   & 0   & 0 \\\\\n",
    "0   & f_2 & 0   & 0 \\\\\n",
    "0   & 0   & f_3 & 0 \\\\\n",
    "\\end{bmatrix}\n",
    "\\circ\n",
    "\\begin{bmatrix}\n",
    "x_0 \\\\\n",
    "h_1 \\\\\n",
    "h_2 \\\\\n",
    "y_0 \\\\\n",
    "\\end{bmatrix}\n",
    "$$"
   ]
  },
  {
   "cell_type": "markdown",
   "id": "0fc9ed2c",
   "metadata": {},
   "source": [
    "I am feeling a little silly today, so let's do the rest using Achilles and the Hare from Godel, Escher, Bach.\n",
    "\n",
    "![Godel, Escher, Bach](https://www.newworldai.com/wp-content/uploads/G%C3%B6del-Escher-Bach-621x400.jpg)"
   ]
  },
  {
   "cell_type": "markdown",
   "id": "7daa36af",
   "metadata": {},
   "source": [
    "Achilles:  But... didn't you just say that an normal ML algorithm link and MLP ignores $y_0$?  Look, doesn't $y_0$ appear right up there?  \n",
    "\n",
    "Hare: Well, look at what happens after the first iteration.\n",
    "\n",
    "$$\n",
    "\\begin{bmatrix}\n",
    "I   & 0   & 0   & 0 \\\\\n",
    "f_1 & 0   & 0   & 0 \\\\\n",
    "0   & f_2 & 0   & 0 \\\\\n",
    "0   & 0   & f_3 & 0 \\\\\n",
    "\\end{bmatrix}\n",
    "\\circ\n",
    "\\begin{bmatrix}\n",
    "x_0 \\\\\n",
    "h_1 \\\\\n",
    "h_2 \\\\\n",
    "y_0 \\\\\n",
    "\\end{bmatrix}\n",
    "=\n",
    "\\begin{bmatrix}\n",
    "x_0 \\\\\n",
    "f_1(x_0) \\\\\n",
    "f_2(h_1) \\\\\n",
    "f_3(h_2) \\\\\n",
    "\\end{bmatrix}\n",
    "$$\n",
    "\n",
    "which **does not** contain $y_0$!  The MLP is cunningly designed to ignore the initial guess contained in $y_0$ :-)"
   ]
  },
  {
   "cell_type": "markdown",
   "id": "3c74a4ef",
   "metadata": {},
   "source": [
    "Achilles:  But... but... but...  what about the hidden layers $h_1$ and $h_2$?  Don't you need to choose them carefully since they are the input to the next layer\\iteration?  I remember reading that MLPs don't care about random initializations of the hidden layers since they will be overwritten by the training process!?\n",
    "\n",
    "Hare: Yes, but...  look at what happens after the second iteration.\n",
    "\n",
    "$$\n",
    "\\begin{bmatrix}\n",
    "I   & 0   & 0   & 0 \\\\\n",
    "f_1 & 0   & 0   & 0 \\\\\n",
    "0   & f_2 & 0   & 0 \\\\\n",
    "0   & 0   & f_3 & 0 \\\\\n",
    "\\end{bmatrix}\n",
    "\\circ\n",
    "\\begin{bmatrix}\n",
    "I   & 0   & 0   & 0 \\\\\n",
    "f_1 & 0   & 0   & 0 \\\\\n",
    "0   & f_2 & 0   & 0 \\\\\n",
    "0   & 0   & f_3 & 0 \\\\\n",
    "\\end{bmatrix}\n",
    "\\circ\n",
    "\\begin{bmatrix}\n",
    "x_0 \\\\\n",
    "h_1 \\\\\n",
    "h_2 \\\\\n",
    "y_0 \\\\\n",
    "\\end{bmatrix}\n",
    "=\n",
    "\\begin{bmatrix}\n",
    "x_0 \\\\\n",
    "f_1(x_0) \\\\\n",
    "f_2(f_1(x_0)) \\\\\n",
    "f_3(f_2(h_1)) \\\\\n",
    "\\end{bmatrix}\n",
    "$$\n"
   ]
  },
  {
   "cell_type": "markdown",
   "id": "19538528",
   "metadata": {},
   "source": [
    "Hare: And one more iteration gives\n",
    "\n",
    "$$\n",
    "\\begin{bmatrix}\n",
    "I   & 0   & 0   & 0 \\\\\n",
    "f_1 & 0   & 0   & 0 \\\\\n",
    "0   & f_2 & 0   & 0 \\\\\n",
    "0   & 0   & f_3 & 0 \\\\\n",
    "\\end{bmatrix}\n",
    "\\circ\n",
    "\\begin{bmatrix}\n",
    "I   & 0   & 0   & 0 \\\\\n",
    "f_1 & 0   & 0   & 0 \\\\\n",
    "0   & f_2 & 0   & 0 \\\\\n",
    "0   & 0   & f_3 & 0 \\\\\n",
    "\\end{bmatrix}\n",
    "\\circ\n",
    "\\begin{bmatrix}\n",
    "I   & 0   & 0   & 0 \\\\\n",
    "f_1 & 0   & 0   & 0 \\\\\n",
    "0   & f_2 & 0   & 0 \\\\\n",
    "0   & 0   & f_3 & 0 \\\\\n",
    "\\end{bmatrix}\n",
    "\\circ\n",
    "\\begin{bmatrix}\n",
    "x_0 \\\\\n",
    "h_1 \\\\\n",
    "h_2 \\\\\n",
    "y_0 \\\\\n",
    "\\end{bmatrix}\n",
    "=\n",
    "\\begin{bmatrix}\n",
    "x_0 \\\\\n",
    "f_1(x_0) \\\\\n",
    "f_2(f_1(x_0)) \\\\\n",
    "f_3(f_2(f_1(x_0))) \\\\\n",
    "\\end{bmatrix}\n",
    "$$\n",
    "\n",
    "Two neat things have happened. First notice that the hidden layers $h_1$ and $h_2$ have been overwritten by the training process, so their initiationlization is irrelevant.  Second, we have the last entry has the form $f_3(f_2(f_1(x_0)))$ which is exactly the form of the answer that the MLP would have given!"
   ]
  },
  {
   "cell_type": "markdown",
   "id": "1fddde4e",
   "metadata": {},
   "source": [
    "Hare:  So, the MLP is a cunningly designed iterative map that ignores the initial guess $y_0$ and the hidden layers $h_1$ and $h_2$ and gives the same answer as the iterative map that we are trying to learn!  "
   ]
  },
  {
   "cell_type": "code",
   "execution_count": 6,
   "id": "ebbc9b74-d7dc-4dd6-bb72-88ed57f5b63e",
   "metadata": {
    "id": "ebbc9b74-d7dc-4dd6-bb72-88ed57f5b63e"
   },
   "outputs": [],
   "source": [
    "input_size = int(x_mask.sum())\n",
    "h1_size = 20\n",
    "h2_size = 20\n",
    "output_size = int(y_mask.sum())\n",
    "\n",
    "x_idx = torch.arange(0, input_size)\n",
    "h_idx = torch.arange(input_size, input_size+h1_size+h2_size)\n",
    "y_idx = torch.arange(input_size+h1_size+h2_size, input_size+h1_size+h2_size+output_size)\n",
    "\n",
    "total_size = input_size + h1_size + h2_size + output_size\n",
    "\n",
    "iterations = 3\n",
    "\n",
    "I = Identity(in_features=input_size, out_features=input_size)\n",
    "f1 = Sequential1D(torch.nn.Linear(in_features=input_size, out_features=h1_size), \n",
    "                  torch.nn.ReLU(), \n",
    "                  in_features=input_size, out_features=h1_size)\n",
    "f2 = Sequential1D(torch.nn.Linear(in_features=h1_size, out_features=h2_size), \n",
    "                  torch.nn.ReLU(), \n",
    "                  in_features=h1_size,    out_features=h2_size)\n",
    "f3 = torch.nn.Linear(in_features=h2_size,    out_features=output_size)    \n",
    "\n",
    "in_features_list  = [input_size, h1_size, h2_size, output_size]\n",
    "out_features_list = [input_size, h1_size, h2_size, output_size]\n",
    "blocks = [[I,    None, None, None],\n",
    "          [f1,   None, None, None],\n",
    "          [None, f2,   None, None],\n",
    "          [None, None, f3,   None]]\n",
    "\n",
    "def transpose_blocks(blocks):\n",
    "    return [[blocks[j][i] for j in range(len(blocks))] for i in range(len(blocks[0]))]\n",
    "\n",
    "map = Sequential2D(\n",
    "    in_features_list=in_features_list,\n",
    "    out_features_list=out_features_list,\n",
    "    blocks=transpose_blocks(blocks)\n",
    ")   "
   ]
  },
  {
   "cell_type": "code",
   "execution_count": 7,
   "id": "c367059b",
   "metadata": {},
   "outputs": [],
   "source": [
    "zh_start_tensor = torch.cat((z_start_tensor[:, x_mask],\n",
    "                             torch.zeros(z_start_tensor.shape[0], len(h_idx)), \n",
    "                             z_start_tensor[:, y_mask]), dim=1)\n",
    "zh_target_tensor = torch.cat((z_target_tensor[:, x_mask], \n",
    "                             torch.zeros(z_target_tensor.shape[0], len(h_idx)), \n",
    "                             z_target_tensor[:, y_mask]), dim=1)"
   ]
  },
  {
   "cell_type": "code",
   "execution_count": 8,
   "id": "a7eeb2b8",
   "metadata": {},
   "outputs": [],
   "source": [
    "# a dataloader which returns a batch of start and target data\n",
    "class Data(torch.utils.data.Dataset):\n",
    "    def __init__(self, z_start, z_target):\n",
    "        self.z_start = z_start\n",
    "        self.z_target = z_target\n",
    "    def __len__(self):\n",
    "        return len(self.z_start)\n",
    "    def __getitem__(self, idx):\n",
    "        return self.z_start[idx], self.z_target[idx]\n",
    "    \n",
    "train_data = Data(zh_start_tensor, zh_target_tensor)\n",
    "train_loader = torch.utils.data.DataLoader(train_data, batch_size=512, shuffle=True)"
   ]
  },
  {
   "cell_type": "code",
   "execution_count": 9,
   "id": "7486ca78-5e1c-4f94-afb5-9015303aaa09",
   "metadata": {
    "colab": {
     "base_uri": "https://localhost:8080/",
     "height": 382,
     "referenced_widgets": [
      "915d05c1f046462ebe574b6b306b6110",
      "df24beefb77f4549b7beed2e23558980",
      "a5a6545605cb475fb4bd6db5d32b0b24",
      "5959c15bd28a4059b8952689490ebe2f",
      "a3075bdd01e047faa3f1246dabaedcc7",
      "4d5e173f3cdd465b9b40f8b23d270e8a",
      "4340e450c8c9444784e3ac188b9230df",
      "c81f9b0a5dee4db396442599cb295097",
      "faf8ff98c59b4951b62cd8ad4e1d5bfa",
      "a955f09104b54e37b262198a3807761c",
      "d4d3328dd8914927b619350b49b6f81c"
     ]
    },
    "id": "7486ca78-5e1c-4f94-afb5-9015303aaa09",
    "outputId": "e3247ec9-d372-4fda-c69e-654d985bc905"
   },
   "outputs": [],
   "source": [
    "# Define the loss function and optimizer\n",
    "criterion = torch.nn.MSELoss()\n",
    "optimizer = torch.optim.Adam(map.parameters(), lr=0.001)"
   ]
  },
  {
   "cell_type": "code",
   "execution_count": 10,
   "id": "cb50afb7",
   "metadata": {},
   "outputs": [
    {
     "name": "stdout",
     "output_type": "stream",
     "text": [
      "Epoch 0, Batch 1, Loss 0.09688413888216019\n"
     ]
    },
    {
     "name": "stdout",
     "output_type": "stream",
     "text": [
      "Epoch 100, Batch 1, Loss 0.026418184861540794\n",
      "Epoch 200, Batch 1, Loss 0.015108413062989712\n",
      "Epoch 300, Batch 1, Loss 0.01068044826388359\n",
      "Epoch 400, Batch 1, Loss 0.007884982042014599\n"
     ]
    }
   ],
   "source": [
    "max_epochs = 500\n",
    "# Train the model\n",
    "for epoch in range(max_epochs):\n",
    "    for batch_idx, (start, target) in enumerate(train_loader):\n",
    "        optimizer.zero_grad()\n",
    "\n",
    "        mapped = start\n",
    "\n",
    "        loss = 0.0\n",
    "        for i in range(iterations):\n",
    "            mapped = map(mapped)\n",
    "\n",
    "        loss = criterion(mapped[:, y_idx], target[:, y_idx])\n",
    "        loss.backward()\n",
    "\n",
    "        optimizer.step()\n",
    "    if epoch % 100 == 0:\n",
    "        print(f'Epoch {epoch}, Batch {batch_idx}, Loss {loss.item()}')"
   ]
  },
  {
   "cell_type": "markdown",
   "id": "054793e0",
   "metadata": {},
   "source": [
    "# Training data"
   ]
  },
  {
   "cell_type": "code",
   "execution_count": 11,
   "id": "0545bf25",
   "metadata": {},
   "outputs": [],
   "source": [
    "def project(z_start, z_mapped, z_target, idx, one_hot=False):\n",
    "    if len(idx) == 1:\n",
    "        start = z_start[:, idx[0]]\n",
    "        target = z_target[:, idx[0]]\n",
    "        mapped = z_mapped[:, idx[0]]\n",
    "    else:\n",
    "        if one_hot:\n",
    "            start = torch.argmax(z_start[:, idx], dim=1)\n",
    "            target = torch.argmax(z_target[:, idx], dim=1)\n",
    "            mapped = torch.argmax(z_mapped[:, idx], dim=1)\n",
    "        else:\n",
    "            # Use PCA to reduce the dimensionality of the data\n",
    "            _, _, V = torch.svd(z_target[:, idx])\n",
    "            start = torch.matmul(z_start[:, idx], V[:, 0])\n",
    "            target = torch.matmul(z_target[:, idx], V[:, 0])\n",
    "            mapped = torch.matmul(z_mapped[:, idx], V[:, 0])\n",
    "    return start, mapped, target\n",
    "\n",
    "\n",
    "def my_plot(z_start, z_mapped, z_target, plot_points, x_idx, y_idx, one_hot_y=False):\n",
    "    start_x, mapped_x, target_x = project(z_start, z_mapped, z_target, x_idx)\n",
    "    start_y, mapped_y, target_y = project(z_start, z_mapped, z_target, y_idx, one_hot_y)\n",
    "    plot_2D_start_end(start_x, start_y,\n",
    "                      mapped_x, mapped_y, \n",
    "                      target_x, target_y, \n",
    "                      plot_points)"
   ]
  },
  {
   "cell_type": "code",
   "execution_count": 12,
   "id": "86109c30",
   "metadata": {},
   "outputs": [
    {
     "data": {
      "application/vnd.jupyter.widget-view+json": {
       "model_id": "df0f43b95f5244ddb456abc65fb51639",
       "version_major": 2,
       "version_minor": 0
      },
      "image/png": "[encoded data removed]",
      "text/html": [
       "\n",
       "            <div style=\"display: inline-block;\">\n",
       "                <div class=\"jupyter-widgets widget-label\" style=\"text-align: center;\">\n",
       "                    Figure\n",
       "                </div>\n",
       "                <img src='data:image/png;base64,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' width=640.0/>\n",
       "            </div>\n",
       "        "
      ],
      "text/plain": [
       "Canvas(toolbar=Toolbar(toolitems=[('Home', 'Reset original view', 'home', 'home'), ('Back', 'Back to previous …"
      ]
     },
     "metadata": {},
     "output_type": "display_data"
    }
   ],
   "source": [
    "\n",
    "plot_iterations = 1\n",
    "\n",
    "mapped_tensor = zh_start_tensor\n",
    "for i in range(plot_iterations):\n",
    "    mapped_tensor = map(mapped_tensor)\n",
    "mapped_tensor = mapped_tensor.detach()\n",
    "\n",
    "my_plot(zh_start_tensor, mapped_tensor, zh_target_tensor, plot_points=10, x_idx=x_idx, y_idx=y_idx, one_hot_y=one_hot_y)\n"
   ]
  },
  {
   "cell_type": "code",
   "execution_count": 13,
   "id": "8ac074be-5d27-480a-83fe-e1161e9d69ef",
   "metadata": {
    "id": "8ac074be-5d27-480a-83fe-e1161e9d69ef"
   },
   "outputs": [
    {
     "data": {
      "application/vnd.jupyter.widget-view+json": {
       "model_id": "1e4ac520ab0c4f2db3bb19e8a780a823",
       "version_major": 2,
       "version_minor": 0
      },
      "image/png": "[encoded data removed]",
      "text/html": [
       "\n",
       "            <div style=\"display: inline-block;\">\n",
       "                <div class=\"jupyter-widgets widget-label\" style=\"text-align: center;\">\n",
       "                    Figure\n",
       "                </div>\n",
       "                <img src='data:image/png;base64,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' width=640.0/>\n",
       "            </div>\n",
       "        "
      ],
      "text/plain": [
       "Canvas(toolbar=Toolbar(toolitems=[('Home', 'Reset original view', 'home', 'home'), ('Back', 'Back to previous …"
      ]
     },
     "metadata": {},
     "output_type": "display_data"
    }
   ],
   "source": [
    "plot_iterations = iterations\n",
    "\n",
    "mapped_tensor = zh_start_tensor\n",
    "for i in range(plot_iterations):\n",
    "    mapped_tensor = map(mapped_tensor)\n",
    "mapped_tensor = mapped_tensor.detach()\n",
    "\n",
    "my_plot(zh_start_tensor, mapped_tensor, zh_target_tensor, plot_points=10, x_idx=x_idx, y_idx=y_idx, one_hot_y=one_hot_y)"
   ]
  },
  {
   "cell_type": "markdown",
   "id": "ea123cd4",
   "metadata": {},
   "source": [
    "# Path"
   ]
  },
  {
   "cell_type": "code",
   "execution_count": 14,
   "id": "911b76b9",
   "metadata": {},
   "outputs": [
    {
     "data": {
      "application/vnd.jupyter.widget-view+json": {
       "model_id": "9a9ff8d1f8d74795aebb5d9fa44f5765",
       "version_major": 2,
       "version_minor": 0
      },
      "image/png": "[encoded data removed]",
      "text/html": [
       "\n",
       "            <div style=\"display: inline-block;\">\n",
       "                <div class=\"jupyter-widgets widget-label\" style=\"text-align: center;\">\n",
       "                    Figure\n",
       "                </div>\n",
       "                <img src='data:image/png;base64,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' width=640.0/>\n",
       "            </div>\n",
       "        "
      ],
      "text/plain": [
       "Canvas(toolbar=Toolbar(toolitems=[('Home', 'Reset original view', 'home', 'home'), ('Back', 'Back to previous …"
      ]
     },
     "metadata": {},
     "output_type": "display_data"
    }
   ],
   "source": [
    "plot_points = 10\n",
    "\n",
    "\n",
    "mapped_tensors = [zh_start_tensor[:plot_points, :]]\n",
    "for i in range(iterations):\n",
    "    mapped_tensors.append(map(mapped_tensors[i]).detach())\n",
    "\n",
    "\n",
    "plt.figure()\n",
    "\n",
    "for i, mapped_tensor in enumerate(mapped_tensors):\n",
    "    if i > 0:\n",
    "        start = mapped_tensors[i-1]\n",
    "        mapped = mapped_tensors[i]\n",
    "\n",
    "        start_x, mapped_x, target_x = project(start, mapped, zh_target_tensor, idx=x_idx)\n",
    "        start_y, mapped_y, target_y = project(start, mapped, zh_target_tensor, idx=y_idx, one_hot=one_hot_y)\n",
    "\n",
    "        dx = mapped_x-start_x\n",
    "        dy = mapped_y-start_y\n",
    "        plt.quiver(start_x, start_y, dx, dy, scale=1, scale_units='xy', angles='xy', color='r', width=0.005)\n",
    "\n",
    "plt.scatter(target_x, target_y, s=1)\n",
    "\n",
    "plt.gca().set_aspect('equal')\n",
    "plt.show()"
   ]
  },
  {
   "cell_type": "markdown",
   "id": "a8d68302",
   "metadata": {},
   "source": [
    "# Testing data"
   ]
  },
  {
   "cell_type": "code",
   "execution_count": 15,
   "id": "1c14b142",
   "metadata": {},
   "outputs": [
    {
     "data": {
      "application/vnd.jupyter.widget-view+json": {
       "model_id": "c101ff78155d409ab9487751d3b1bad4",
       "version_major": 2,
       "version_minor": 0
      },
      "image/png": "[encoded data removed]",
      "text/html": [
       "\n",
       "            <div style=\"display: inline-block;\">\n",
       "                <div class=\"jupyter-widgets widget-label\" style=\"text-align: center;\">\n",
       "                    Figure\n",
       "                </div>\n",
       "                <img src='data:image/png;base64,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' width=640.0/>\n",
       "            </div>\n",
       "        "
      ],
      "text/plain": [
       "Canvas(toolbar=Toolbar(toolitems=[('Home', 'Reset original view', 'home', 'home'), ('Back', 'Back to previous …"
      ]
     },
     "metadata": {},
     "output_type": "display_data"
    }
   ],
   "source": [
    "zh_start_tensor_test = zh_start_tensor+torch.rand_like(zh_start_tensor)*0.2\n",
    "mapped_tensor = zh_start_tensor_test\n",
    "for i in range(iterations):\n",
    "    mapped_tensor = map(mapped_tensor)\n",
    "mapped_tensor = mapped_tensor.detach()\n",
    "\n",
    "my_plot(zh_start_tensor_test, mapped_tensor, zh_target_tensor, plot_points=10, x_idx=x_idx, y_idx=y_idx, one_hot_y=one_hot_y)\n"
   ]
  },
  {
   "cell_type": "code",
   "execution_count": 16,
   "id": "5e549cdb",
   "metadata": {},
   "outputs": [
    {
     "name": "stdout",
     "output_type": "stream",
     "text": [
      "i = 538\n",
      "tensor([0.1844, 0.2170, 0.2312, 0.1357, 0.1160, 0.1098, 0.2372, 0.1318, 0.1877,\n",
      "        0.2489])\n",
      "tensor([-0.0395, -0.0541,  0.0813,  0.0012,  1.0629, -0.1036,  0.0235, -0.0352,\n",
      "         0.1006, -0.1702])\n",
      "tensor([0., 0., 0., 0., 1., 0., 0., 0., 0., 0.])\n",
      "9 -> 4 -> 4\n",
      "i = 678\n",
      "tensor([0.2576, 0.2862, 0.1559, 0.1303, 0.1833, 0.2079, 0.2136, 0.1482, 0.2512,\n",
      "        0.1192])\n",
      "tensor([-0.0041, -0.0093,  0.0038,  0.0033, -0.0093,  0.0709, -0.0173,  1.0480,\n",
      "         0.0498, -0.0890])\n",
      "tensor([0., 0., 0., 0., 0., 0., 0., 1., 0., 0.])\n",
      "1 -> 7 -> 7\n",
      "i = 213\n",
      "tensor([0.1141, 0.1296, 0.2101, 0.2041, 0.1027, 0.2297, 0.1968, 0.1963, 0.1852,\n",
      "        0.2538])\n",
      "tensor([-0.0050, -0.0300,  0.0183,  0.0095,  0.0033,  0.0603,  0.8713,  0.0075,\n",
      "         0.0831,  0.1024])\n",
      "tensor([0., 0., 0., 0., 0., 0., 1., 0., 0., 0.])\n",
      "9 -> 6 -> 6\n",
      "i = 370\n",
      "tensor([0.1482, 0.1209, 0.1584, 0.1362, 0.1867, 0.2895, 0.1685, 0.2376, 0.1329,\n",
      "        0.2735])\n",
      "tensor([ 0.8756,  0.0414, -0.0160,  0.0110, -0.0366, -0.0375, -0.0325, -0.0256,\n",
      "        -0.0147,  0.0746])\n",
      "tensor([1., 0., 0., 0., 0., 0., 0., 0., 0., 0.])\n",
      "5 -> 0 -> 0\n",
      "i = 733\n",
      "tensor([0.2655, 0.1588, 0.2700, 0.2606, 0.2649, 0.2757, 0.1635, 0.1166, 0.1777,\n",
      "        0.1044])\n",
      "tensor([-0.0324,  0.9685, -0.0530, -0.0700, -0.1233,  0.0261,  0.0429, -0.0164,\n",
      "         0.1362,  0.0714])\n",
      "tensor([0., 1., 0., 0., 0., 0., 0., 0., 0., 0.])\n",
      "5 -> 1 -> 1\n"
     ]
    }
   ],
   "source": [
    "for i in torch.randperm(zh_start_tensor.shape[0])[:5]:\n",
    "    print(f'i = {i}')    \n",
    "    print(zh_start_tensor_test[i,y_idx])\n",
    "    print(mapped_tensor[i,y_idx])\n",
    "    print(zh_target_tensor[i,y_idx])\n",
    "    print(f'{torch.argmax(zh_start_tensor_test[i,y_idx])} -> {torch.argmax(mapped_tensor[i,y_idx])} -> {torch.argmax(zh_target_tensor[i,y_idx])}')\n",
    "\n"
   ]
  },
  {
   "cell_type": "code",
   "execution_count": null,
   "metadata": {},
   "outputs": [],
   "source": []
  }
 ],
 "metadata": {
  "accelerator": "GPU",
  "colab": {
   "include_colab_link": true,
   "provenance": []
  },
  "gpuClass": "standard",
  "jupytext": {
   "formats": "ipynb,py:percent,md"
  },
  "kernelspec": {
   "display_name": "Python 3 (ipykernel)",
   "language": "python",
   "name": "python3"
  },
  "language_info": {
   "codemirror_mode": {
    "name": "ipython",
    "version": 3
   },
   "file_extension": ".py",
   "mimetype": "text/x-python",
   "name": "python",
   "nbconvert_exporter": "python",
   "pygments_lexer": "ipython3",
   "version": "3.10.12"
  },
  "widgets": {
   "application/vnd.jupyter.widget-state+json": {
    "4340e450c8c9444784e3ac188b9230df": {
     "model_module": "@jupyter-widgets/controls",
     "model_module_version": "1.5.0",
     "model_name": "DescriptionStyleModel",
     "state": {
      "_model_module": "@jupyter-widgets/controls",
      "_model_module_version": "1.5.0",
      "_model_name": "DescriptionStyleModel",
      "_view_count": null,
      "_view_module": "@jupyter-widgets/base",
      "_view_module_version": "1.2.0",
      "_view_name": "StyleView",
      "description_width": ""
     }
    },
    "4d5e173f3cdd465b9b40f8b23d270e8a": {
     "model_module": "@jupyter-widgets/base",
     "model_module_version": "1.2.0",
     "model_name": "LayoutModel",
     "state": {
      "_model_module": "@jupyter-widgets/base",
      "_model_module_version": "1.2.0",
      "_model_name": "LayoutModel",
      "_view_count": null,
      "_view_module": "@jupyter-widgets/base",
      "_view_module_version": "1.2.0",
      "_view_name": "LayoutView",
      "align_content": null,
      "align_items": null,
      "align_self": null,
      "border": null,
      "bottom": null,
      "display": null,
      "flex": null,
      "flex_flow": null,
      "grid_area": null,
      "grid_auto_columns": null,
      "grid_auto_flow": null,
      "grid_auto_rows": null,
      "grid_column": null,
      "grid_gap": null,
      "grid_row": null,
      "grid_template_areas": null,
      "grid_template_columns": null,
      "grid_template_rows": null,
      "height": null,
      "justify_content": null,
      "justify_items": null,
      "left": null,
      "margin": null,
      "max_height": null,
      "max_width": null,
      "min_height": null,
      "min_width": null,
      "object_fit": null,
      "object_position": null,
      "order": null,
      "overflow": null,
      "overflow_x": null,
      "overflow_y": null,
      "padding": null,
      "right": null,
      "top": null,
      "visibility": null,
      "width": null
     }
    },
    "5959c15bd28a4059b8952689490ebe2f": {
     "model_module": "@jupyter-widgets/controls",
     "model_module_version": "1.5.0",
     "model_name": "HTMLModel",
     "state": {
      "_dom_classes": [],
      "_model_module": "@jupyter-widgets/controls",
      "_model_module_version": "1.5.0",
      "_model_name": "HTMLModel",
      "_view_count": null,
      "_view_module": "@jupyter-widgets/controls",
      "_view_module_version": "1.5.0",
      "_view_name": "HTMLView",
      "description": "",
      "description_tooltip": null,
      "layout": "IPY_MODEL_a955f09104b54e37b262198a3807761c",
      "placeholder": "​",
      "style": "IPY_MODEL_d4d3328dd8914927b619350b49b6f81c",
      "value": " 999/999 [00:08&lt;00:00, 114.60it/s, loss=0.000293, v_num=0]"
     }
    },
    "915d05c1f046462ebe574b6b306b6110": {
     "model_module": "@jupyter-widgets/controls",
     "model_module_version": "1.5.0",
     "model_name": "HBoxModel",
     "state": {
      "_dom_classes": [],
      "_model_module": "@jupyter-widgets/controls",
      "_model_module_version": "1.5.0",
      "_model_name": "HBoxModel",
      "_view_count": null,
      "_view_module": "@jupyter-widgets/controls",
      "_view_module_version": "1.5.0",
      "_view_name": "HBoxView",
      "box_style": "",
      "children": [
       "IPY_MODEL_df24beefb77f4549b7beed2e23558980",
       "IPY_MODEL_a5a6545605cb475fb4bd6db5d32b0b24",
       "IPY_MODEL_5959c15bd28a4059b8952689490ebe2f"
      ],
      "layout": "IPY_MODEL_a3075bdd01e047faa3f1246dabaedcc7"
     }
    },
    "a3075bdd01e047faa3f1246dabaedcc7": {
     "model_module": "@jupyter-widgets/base",
     "model_module_version": "1.2.0",
     "model_name": "LayoutModel",
     "state": {
      "_model_module": "@jupyter-widgets/base",
      "_model_module_version": "1.2.0",
      "_model_name": "LayoutModel",
      "_view_count": null,
      "_view_module": "@jupyter-widgets/base",
      "_view_module_version": "1.2.0",
      "_view_name": "LayoutView",
      "align_content": null,
      "align_items": null,
      "align_self": null,
      "border": null,
      "bottom": null,
      "display": "inline-flex",
      "flex": null,
      "flex_flow": "row wrap",
      "grid_area": null,
      "grid_auto_columns": null,
      "grid_auto_flow": null,
      "grid_auto_rows": null,
      "grid_column": null,
      "grid_gap": null,
      "grid_row": null,
      "grid_template_areas": null,
      "grid_template_columns": null,
      "grid_template_rows": null,
      "height": null,
      "justify_content": null,
      "justify_items": null,
      "left": null,
      "margin": null,
      "max_height": null,
      "max_width": null,
      "min_height": null,
      "min_width": null,
      "object_fit": null,
      "object_position": null,
      "order": null,
      "overflow": null,
      "overflow_x": null,
      "overflow_y": null,
      "padding": null,
      "right": null,
      "top": null,
      "visibility": null,
      "width": "100%"
     }
    },
    "a5a6545605cb475fb4bd6db5d32b0b24": {
     "model_module": "@jupyter-widgets/controls",
     "model_module_version": "1.5.0",
     "model_name": "FloatProgressModel",
     "state": {
      "_dom_classes": [],
      "_model_module": "@jupyter-widgets/controls",
      "_model_module_version": "1.5.0",
      "_model_name": "FloatProgressModel",
      "_view_count": null,
      "_view_module": "@jupyter-widgets/controls",
      "_view_module_version": "1.5.0",
      "_view_name": "ProgressView",
      "bar_style": "success",
      "description": "",
      "description_tooltip": null,
      "layout": "IPY_MODEL_c81f9b0a5dee4db396442599cb295097",
      "max": 999,
      "min": 0,
      "orientation": "horizontal",
      "style": "IPY_MODEL_faf8ff98c59b4951b62cd8ad4e1d5bfa",
      "value": 999
     }
    },
    "a955f09104b54e37b262198a3807761c": {
     "model_module": "@jupyter-widgets/base",
     "model_module_version": "1.2.0",
     "model_name": "LayoutModel",
     "state": {
      "_model_module": "@jupyter-widgets/base",
      "_model_module_version": "1.2.0",
      "_model_name": "LayoutModel",
      "_view_count": null,
      "_view_module": "@jupyter-widgets/base",
      "_view_module_version": "1.2.0",
      "_view_name": "LayoutView",
      "align_content": null,
      "align_items": null,
      "align_self": null,
      "border": null,
      "bottom": null,
      "display": null,
      "flex": null,
      "flex_flow": null,
      "grid_area": null,
      "grid_auto_columns": null,
      "grid_auto_flow": null,
      "grid_auto_rows": null,
      "grid_column": null,
      "grid_gap": null,
      "grid_row": null,
      "grid_template_areas": null,
      "grid_template_columns": null,
      "grid_template_rows": null,
      "height": null,
      "justify_content": null,
      "justify_items": null,
      "left": null,
      "margin": null,
      "max_height": null,
      "max_width": null,
      "min_height": null,
      "min_width": null,
      "object_fit": null,
      "object_position": null,
      "order": null,
      "overflow": null,
      "overflow_x": null,
      "overflow_y": null,
      "padding": null,
      "right": null,
      "top": null,
      "visibility": null,
      "width": null
     }
    },
    "c81f9b0a5dee4db396442599cb295097": {
     "model_module": "@jupyter-widgets/base",
     "model_module_version": "1.2.0",
     "model_name": "LayoutModel",
     "state": {
      "_model_module": "@jupyter-widgets/base",
      "_model_module_version": "1.2.0",
      "_model_name": "LayoutModel",
      "_view_count": null,
      "_view_module": "@jupyter-widgets/base",
      "_view_module_version": "1.2.0",
      "_view_name": "LayoutView",
      "align_content": null,
      "align_items": null,
      "align_self": null,
      "border": null,
      "bottom": null,
      "display": null,
      "flex": "2",
      "flex_flow": null,
      "grid_area": null,
      "grid_auto_columns": null,
      "grid_auto_flow": null,
      "grid_auto_rows": null,
      "grid_column": null,
      "grid_gap": null,
      "grid_row": null,
      "grid_template_areas": null,
      "grid_template_columns": null,
      "grid_template_rows": null,
      "height": null,
      "justify_content": null,
      "justify_items": null,
      "left": null,
      "margin": null,
      "max_height": null,
      "max_width": null,
      "min_height": null,
      "min_width": null,
      "object_fit": null,
      "object_position": null,
      "order": null,
      "overflow": null,
      "overflow_x": null,
      "overflow_y": null,
      "padding": null,
      "right": null,
      "top": null,
      "visibility": null,
      "width": null
     }
    },
    "d4d3328dd8914927b619350b49b6f81c": {
     "model_module": "@jupyter-widgets/controls",
     "model_module_version": "1.5.0",
     "model_name": "DescriptionStyleModel",
     "state": {
      "_model_module": "@jupyter-widgets/controls",
      "_model_module_version": "1.5.0",
      "_model_name": "DescriptionStyleModel",
      "_view_count": null,
      "_view_module": "@jupyter-widgets/base",
      "_view_module_version": "1.2.0",
      "_view_name": "StyleView",
      "description_width": ""
     }
    },
    "df24beefb77f4549b7beed2e23558980": {
     "model_module": "@jupyter-widgets/controls",
     "model_module_version": "1.5.0",
     "model_name": "HTMLModel",
     "state": {
      "_dom_classes": [],
      "_model_module": "@jupyter-widgets/controls",
      "_model_module_version": "1.5.0",
      "_model_name": "HTMLModel",
      "_view_count": null,
      "_view_module": "@jupyter-widgets/controls",
      "_view_module_version": "1.5.0",
      "_view_name": "HTMLView",
      "description": "",
      "description_tooltip": null,
      "layout": "IPY_MODEL_4d5e173f3cdd465b9b40f8b23d270e8a",
      "placeholder": "​",
      "style": "IPY_MODEL_4340e450c8c9444784e3ac188b9230df",
      "value": "Epoch 9: 100%"
     }
    },
    "faf8ff98c59b4951b62cd8ad4e1d5bfa": {
     "model_module": "@jupyter-widgets/controls",
     "model_module_version": "1.5.0",
     "model_name": "ProgressStyleModel",
     "state": {
      "_model_module": "@jupyter-widgets/controls",
      "_model_module_version": "1.5.0",
      "_model_name": "ProgressStyleModel",
      "_view_count": null,
      "_view_module": "@jupyter-widgets/base",
      "_view_module_version": "1.2.0",
      "_view_name": "StyleView",
      "bar_color": null,
      "description_width": ""
     }
    }
   }
  }
 },
 "nbformat": 4,
 "nbformat_minor": 5
}
