{
 "cells": [
  {
   "cell_type": "markdown",
   "metadata": {},
   "source": [
    "# TODO"
   ]
  },
  {
   "cell_type": "markdown",
   "id": "f6828844-3a74-49bd-8348-ceae45948da7",
   "metadata": {
    "id": "f6828844-3a74-49bd-8348-ceae45948da7"
   },
   "source": [
    "# Load data"
   ]
  },
  {
   "cell_type": "code",
   "execution_count": 1,
   "id": "a5713c2d-0108-4708-9f0d-021e183f6d1e",
   "metadata": {
    "id": "a5713c2d-0108-4708-9f0d-021e183f6d1e"
   },
   "outputs": [],
   "source": [
    "import torch\n",
    "import pandas as pd\n",
    "import matplotlib.pyplot as plt\n",
    "%matplotlib widget\n",
    "\n",
    "from iterativennsimple.Sequential2D import Sequential2D, Identity\n",
    "from iterativennsimple.Sequential1D import Sequential1D\n",
    "\n",
    "from iterativennsimple.utils.plot_2D_start_end import plot_2D_start_end"
   ]
  },
  {
   "cell_type": "code",
   "execution_count": 2,
   "metadata": {},
   "outputs": [],
   "source": [
    "# Turn a pandas dataframe into a pytorch tensor\n",
    "def df_to_tensor(df):\n",
    "    return torch.tensor(df.values, dtype=torch.float32)"
   ]
  },
  {
   "cell_type": "code",
   "execution_count": 3,
   "id": "9f5c3fcc-147d-4669-8ab2-3ddf16a88b4e",
   "metadata": {
    "id": "9f5c3fcc-147d-4669-8ab2-3ddf16a88b4e"
   },
   "outputs": [],
   "source": [
    "#name = 'regression_line'\n",
    "#name = 'pca_line'\n",
    "#name = 'circle'\n",
    "#name = 'regression_circle'\n",
    "#one_hot_y = False\n",
    "\n",
    "name = 'MNIST'\n",
    "one_hot_y = True\n",
    "\n",
    "# Read the start data\n",
    "z_start = pd.read_parquet(f'../data/processed/{name}_start.parquet')\n",
    "# Read the target data\n",
    "z_target = pd.read_parquet(f'../data/processed/{name}_target.parquet')"
   ]
  },
  {
   "cell_type": "markdown",
   "metadata": {},
   "source": [
    "## Data preprocessing"
   ]
  },
  {
   "cell_type": "code",
   "execution_count": 4,
   "metadata": {},
   "outputs": [],
   "source": [
    "z_start_tensor = df_to_tensor(z_start)\n",
    "z_target_tensor = df_to_tensor(z_target)\n",
    "\n",
    "# Only use the given number of sample\n",
    "max_num_samples = 1000\n",
    "num_samples = min(max_num_samples, z_start_tensor.shape[0])\n",
    "z_start_tensor = z_start_tensor[:num_samples]\n",
    "z_target_tensor = z_target_tensor[:num_samples]\n"
   ]
  },
  {
   "cell_type": "markdown",
   "metadata": {},
   "source": [
    "We have two views of the data, and here is where we reconcile them.   The dynamical systems view is to have vector $z_0$ (called \"z_start_tensor\" in the code) and $z_1$ (called \"z_target_tensor\" in the code) that are the initial and final states of the system.  We want to construct a function $f$ (or more precisely choose a set of parameters $\\theta$ that selects $f$ from some family of functions) such that $\\|f(z_0) - z_1\\|$ is small.  The machine learning view is to have a set of inputs $x$ (which is a subset of \"z_start_tensor\") and a set of outputs $y$ (which is a subset of \"z_target_tensor\") and to construct a function $g$ (or more precisely choose a set of parameters $\\phi$ that selects $g$ from some family of functions) such that $\\|g(x) - y\\|$ is small.   \n",
    "\n",
    "**The idea is to have $x$ and $y$ be subsets of $z_0$ and $z_1$ respectively!**   But how to do that!?"
   ]
  },
  {
   "cell_type": "markdown",
   "metadata": {},
   "source": [
    "Let's begin by writing \n",
    "\n",
    "$$\n",
    "z_i=\n",
    "\\begin{bmatrix}\n",
    "x_i \\\\\n",
    "y_i \\\\\n",
    "\\end{bmatrix}\n",
    "$$\n",
    "\n",
    "and **we assume that $x_0=x_1$**.  This may seem odd at first glance, but is actually quite natural.  For example, in our MNIST example the starting image in $x_0$ and the target image in $x_1$ are the same.  It is merely the classification in $y_0$ and $y_1$ that are different.  I.e., $y_0$ contains some noisy classification or uniform prior of $x_0$ and $y_1$ contains the correct classification of $x_0$.  In the case of the MNIST data, we have $x_0=x_1$ and $y_0\\neq y_1$.\n",
    "\n",
    "So, in slighltly more detail we choose $z_0$ and $z_1$ so that\n",
    "\n",
    "$$\n",
    "z_0=\n",
    "\\begin{bmatrix}\n",
    "x_0 \\\\\n",
    "y_0 \\\\\n",
    "\\end{bmatrix}\n",
    "$$\n",
    "\n",
    "and\n",
    "\n",
    "$$\n",
    "z_1=\n",
    "\\begin{bmatrix}\n",
    "x_0 \\\\\n",
    "y_1 \\\\\n",
    "\\end{bmatrix}\n",
    "$$"
   ]
  },
  {
   "cell_type": "code",
   "execution_count": 5,
   "metadata": {},
   "outputs": [
    {
     "name": "stdout",
     "output_type": "stream",
     "text": [
      "torch.Size([794]) torch.Size([794])\n",
      "tensor(784) tensor(10)\n"
     ]
    }
   ],
   "source": [
    "\n",
    "# compute a mask for the data where every entry in each column is the same\n",
    "# this is used to remove columns that are constant\n",
    "mask = (z_start_tensor == z_target_tensor).all(axis=0)\n",
    "mask.shape\n",
    "x_mask = mask\n",
    "y_mask = ~mask\n",
    "\n",
    "# print out the shape of the masks\n",
    "print(x_mask.shape, y_mask.shape)\n",
    "\n",
    "# print out number of true entries in each mask\n",
    "print(x_mask.sum(), y_mask.sum())\n"
   ]
  },
  {
   "cell_type": "markdown",
   "id": "1880ae29-6269-42a9-870f-fb52bb18cf36",
   "metadata": {
    "id": "1880ae29-6269-42a9-870f-fb52bb18cf36"
   },
   "source": [
    "# MLP model"
   ]
  },
  {
   "cell_type": "markdown",
   "metadata": {},
   "source": [
    "Now we start using Sequential2D to build our model.  This requires a little massaging of the data.  In particlar, remember that we now have an iterative map of the form\n",
    "\n",
    "$$\n",
    "\\begin{bmatrix}\n",
    "I   & 0   & 0   & 0 \\\\\n",
    "f_1 & 0   & 0   & 0 \\\\\n",
    "0   & f_2 & 0   & 0 \\\\\n",
    "0   & 0   & f_3 & 0 \\\\\n",
    "\\end{bmatrix}\n",
    "$$\n",
    "\n",
    "and a state vector that combines $x$, $y$, and *the hidden layers* in the following way.\n",
    "\n",
    "$$\n",
    "\\begin{bmatrix}\n",
    "I   & 0   & 0   & 0 \\\\\n",
    "f_1 & 0   & 0   & 0 \\\\\n",
    "0   & f_2 & 0   & 0 \\\\\n",
    "0   & 0   & f_3 & 0 \\\\\n",
    "\\end{bmatrix}\n",
    "\\circ\n",
    "\\begin{bmatrix}\n",
    "x_0 \\\\\n",
    "h_1 \\\\\n",
    "h_2 \\\\\n",
    "y_0 \\\\\n",
    "\\end{bmatrix}\n",
    "$$"
   ]
  },
  {
   "cell_type": "markdown",
   "metadata": {},
   "source": [
    "I am feeling a little silly today, so let's do the rest using Achilles and the Hare from Godel, Escher, Bach.\n",
    "\n",
    "![image.png](attachment:image.png)"
   ]
  },
  {
   "cell_type": "markdown",
   "metadata": {},
   "source": [
    "Achilles:  But... didn't you just say that an normal ML algorithm link and MLP ignores $y_0$?  Look, doesn't $y_0$ appear right up there?  \n",
    "\n",
    "Hare: Well, look at what happens after the first iteration.\n",
    "\n",
    "$$\n",
    "\\begin{bmatrix}\n",
    "I   & 0   & 0   & 0 \\\\\n",
    "f_1 & 0   & 0   & 0 \\\\\n",
    "0   & f_2 & 0   & 0 \\\\\n",
    "0   & 0   & f_3 & 0 \\\\\n",
    "\\end{bmatrix}\n",
    "\\circ\n",
    "\\begin{bmatrix}\n",
    "x_0 \\\\\n",
    "h_1 \\\\\n",
    "h_2 \\\\\n",
    "y_0 \\\\\n",
    "\\end{bmatrix}\n",
    "=\n",
    "\\begin{bmatrix}\n",
    "x_0 \\\\\n",
    "f_1(x_0) \\\\\n",
    "f_2(h_1) \\\\\n",
    "f_3(h_2) \\\\\n",
    "\\end{bmatrix}\n",
    "$$\n",
    "\n",
    "which **does not** contain $y_0$!  The MLP is cunningly designed to ignore the initial guess contained in $y_0$ :-)"
   ]
  },
  {
   "cell_type": "markdown",
   "metadata": {},
   "source": [
    "Achilles:  But... but... but...  what about the hidden layers $h_1$ and $h_2$?  Don't you need to choose them carefully since they are the input to the next layer\\iteration?  I remember reading that MLPs don't care about random initializations of the hidden layers since they will be overwritten by the training process!?\n",
    "\n",
    "Hare: Yes, but...  look at what happens after the second iteration.\n",
    "\n",
    "$$\n",
    "\\begin{bmatrix}\n",
    "I   & 0   & 0   & 0 \\\\\n",
    "f_1 & 0   & 0   & 0 \\\\\n",
    "0   & f_2 & 0   & 0 \\\\\n",
    "0   & 0   & f_3 & 0 \\\\\n",
    "\\end{bmatrix}\n",
    "\\circ\n",
    "\\begin{bmatrix}\n",
    "I   & 0   & 0   & 0 \\\\\n",
    "f_1 & 0   & 0   & 0 \\\\\n",
    "0   & f_2 & 0   & 0 \\\\\n",
    "0   & 0   & f_3 & 0 \\\\\n",
    "\\end{bmatrix}\n",
    "\\circ\n",
    "\\begin{bmatrix}\n",
    "x_0 \\\\\n",
    "h_1 \\\\\n",
    "h_2 \\\\\n",
    "y_0 \\\\\n",
    "\\end{bmatrix}\n",
    "=\n",
    "\\begin{bmatrix}\n",
    "x_0 \\\\\n",
    "f_1(x_0) \\\\\n",
    "f_2(f_1(x_0)) \\\\\n",
    "f_3(f_2(h_1)) \\\\\n",
    "\\end{bmatrix}\n",
    "$$\n"
   ]
  },
  {
   "cell_type": "markdown",
   "metadata": {},
   "source": [
    "Hare: And one more iteration gives\n",
    "\n",
    "$$\n",
    "\\begin{bmatrix}\n",
    "I   & 0   & 0   & 0 \\\\\n",
    "f_1 & 0   & 0   & 0 \\\\\n",
    "0   & f_2 & 0   & 0 \\\\\n",
    "0   & 0   & f_3 & 0 \\\\\n",
    "\\end{bmatrix}\n",
    "\\circ\n",
    "\\begin{bmatrix}\n",
    "I   & 0   & 0   & 0 \\\\\n",
    "f_1 & 0   & 0   & 0 \\\\\n",
    "0   & f_2 & 0   & 0 \\\\\n",
    "0   & 0   & f_3 & 0 \\\\\n",
    "\\end{bmatrix}\n",
    "\\circ\n",
    "\\begin{bmatrix}\n",
    "I   & 0   & 0   & 0 \\\\\n",
    "f_1 & 0   & 0   & 0 \\\\\n",
    "0   & f_2 & 0   & 0 \\\\\n",
    "0   & 0   & f_3 & 0 \\\\\n",
    "\\end{bmatrix}\n",
    "\\circ\n",
    "\\begin{bmatrix}\n",
    "x_0 \\\\\n",
    "h_1 \\\\\n",
    "h_2 \\\\\n",
    "y_0 \\\\\n",
    "\\end{bmatrix}\n",
    "=\n",
    "\\begin{bmatrix}\n",
    "x_0 \\\\\n",
    "f_1(x_0) \\\\\n",
    "f_2(f_1(x_0)) \\\\\n",
    "f_3(f_2(f_1(x_0))) \\\\\n",
    "\\end{bmatrix}\n",
    "$$\n",
    "\n",
    "Two neat things have happened. First notice that the hidden layers $h_1$ and $h_2$ have been overwritten by the training process, so their initiationlization is irrelevant.  Second, we have the last entry has the form $f_3(f_2(f_1(x_0)))$ which is exactly the form of the answer that the MLP would have given!"
   ]
  },
  {
   "cell_type": "markdown",
   "metadata": {},
   "source": [
    "Hare:  So, the MLP is a cunningly designed iterative map that ignores the initial guess $y_0$ and the hidden layers $h_1$ and $h_2$ and gives the same answer as the iterative map that we are trying to learn!  "
   ]
  },
  {
   "cell_type": "code",
   "execution_count": 6,
   "id": "ebbc9b74-d7dc-4dd6-bb72-88ed57f5b63e",
   "metadata": {
    "id": "ebbc9b74-d7dc-4dd6-bb72-88ed57f5b63e"
   },
   "outputs": [],
   "source": [
    "input_size = int(x_mask.sum())\n",
    "h1_size = 20\n",
    "h2_size = 20\n",
    "output_size = int(y_mask.sum())\n",
    "\n",
    "x_idx = torch.arange(0, input_size)\n",
    "h_idx = torch.arange(input_size, input_size+h1_size+h2_size)\n",
    "y_idx = torch.arange(input_size+h1_size+h2_size, input_size+h1_size+h2_size+output_size)\n",
    "\n",
    "total_size = input_size + h1_size + h2_size + output_size\n",
    "\n",
    "iterations = 3\n",
    "\n",
    "I = Identity(in_features=input_size, out_features=input_size)\n",
    "f1 = Sequential1D(torch.nn.Linear(in_features=input_size, out_features=h1_size), \n",
    "                  torch.nn.ReLU(), \n",
    "                  in_features=input_size, out_features=h1_size)\n",
    "f2 = Sequential1D(torch.nn.Linear(in_features=h1_size, out_features=h2_size), \n",
    "                  torch.nn.ReLU(), \n",
    "                  in_features=h1_size,    out_features=h2_size)\n",
    "f3 = torch.nn.Linear(in_features=h2_size,    out_features=output_size)    \n",
    "\n",
    "in_features_list  = [input_size, h1_size, h2_size, output_size]\n",
    "out_features_list = [input_size, h1_size, h2_size, output_size]\n",
    "blocks = [[I,    None, None, None],\n",
    "          [f1,   None, None, None],\n",
    "          [None, f2,   None, None],\n",
    "          [None, None, f3,   None]]\n",
    "\n",
    "def transpose_blocks(blocks):\n",
    "    return [[blocks[j][i] for j in range(len(blocks))] for i in range(len(blocks[0]))]\n",
    "\n",
    "map = Sequential2D(\n",
    "    in_features_list=in_features_list,\n",
    "    out_features_list=out_features_list,\n",
    "    blocks=transpose_blocks(blocks)\n",
    ")   "
   ]
  },
  {
   "cell_type": "code",
   "execution_count": 7,
   "metadata": {},
   "outputs": [],
   "source": [
    "zh_start_tensor = torch.cat((z_start_tensor[:, x_mask],\n",
    "                             torch.zeros(z_start_tensor.shape[0], len(h_idx)), \n",
    "                             z_start_tensor[:, y_mask]), dim=1)\n",
    "zh_target_tensor = torch.cat((z_target_tensor[:, x_mask], \n",
    "                             torch.zeros(z_target_tensor.shape[0], len(h_idx)), \n",
    "                             z_target_tensor[:, y_mask]), dim=1)"
   ]
  },
  {
   "cell_type": "code",
   "execution_count": 8,
   "id": "a7eeb2b8",
   "metadata": {},
   "outputs": [],
   "source": [
    "# a dataloader which returns a batch of start and target data\n",
    "class Data(torch.utils.data.Dataset):\n",
    "    def __init__(self, z_start, z_target):\n",
    "        self.z_start = z_start\n",
    "        self.z_target = z_target\n",
    "    def __len__(self):\n",
    "        return len(self.z_start)\n",
    "    def __getitem__(self, idx):\n",
    "        return self.z_start[idx], self.z_target[idx]\n",
    "    \n",
    "train_data = Data(zh_start_tensor, zh_target_tensor)\n",
    "train_loader = torch.utils.data.DataLoader(train_data, batch_size=512, shuffle=True)"
   ]
  },
  {
   "cell_type": "code",
   "execution_count": 9,
   "id": "7486ca78-5e1c-4f94-afb5-9015303aaa09",
   "metadata": {
    "colab": {
     "base_uri": "https://localhost:8080/",
     "height": 382,
     "referenced_widgets": [
      "915d05c1f046462ebe574b6b306b6110",
      "df24beefb77f4549b7beed2e23558980",
      "a5a6545605cb475fb4bd6db5d32b0b24",
      "5959c15bd28a4059b8952689490ebe2f",
      "a3075bdd01e047faa3f1246dabaedcc7",
      "4d5e173f3cdd465b9b40f8b23d270e8a",
      "4340e450c8c9444784e3ac188b9230df",
      "c81f9b0a5dee4db396442599cb295097",
      "faf8ff98c59b4951b62cd8ad4e1d5bfa",
      "a955f09104b54e37b262198a3807761c",
      "d4d3328dd8914927b619350b49b6f81c"
     ]
    },
    "id": "7486ca78-5e1c-4f94-afb5-9015303aaa09",
    "outputId": "e3247ec9-d372-4fda-c69e-654d985bc905"
   },
   "outputs": [],
   "source": [
    "# Define the loss function and optimizer\n",
    "criterion = torch.nn.MSELoss()\n",
    "optimizer = torch.optim.Adam(map.parameters(), lr=0.001)"
   ]
  },
  {
   "cell_type": "code",
   "execution_count": 10,
   "metadata": {},
   "outputs": [
    {
     "name": "stdout",
     "output_type": "stream",
     "text": [
      "Epoch 0, Batch 1, Loss 0.10628494620323181\n",
      "Epoch 100, Batch 1, Loss 0.028525762259960175\n",
      "Epoch 200, Batch 1, Loss 0.0149749256670475\n",
      "Epoch 300, Batch 1, Loss 0.009621228091418743\n",
      "Epoch 400, Batch 1, Loss 0.007023852784186602\n"
     ]
    }
   ],
   "source": [
    "max_epochs = 500\n",
    "# Train the model\n",
    "for epoch in range(max_epochs):\n",
    "    for batch_idx, (start, target) in enumerate(train_loader):\n",
    "        optimizer.zero_grad()\n",
    "\n",
    "        mapped = start\n",
    "\n",
    "        loss = 0.0\n",
    "        for i in range(iterations):\n",
    "            mapped = map(mapped)\n",
    "\n",
    "        loss = criterion(mapped[:, y_idx], target[:, y_idx])\n",
    "        loss.backward()\n",
    "\n",
    "        optimizer.step()\n",
    "    if epoch % 100 == 0:\n",
    "        print(f'Epoch {epoch}, Batch {batch_idx}, Loss {loss.item()}')"
   ]
  },
  {
   "cell_type": "markdown",
   "id": "054793e0",
   "metadata": {},
   "source": [
    "# Training data"
   ]
  },
  {
   "cell_type": "code",
   "execution_count": 11,
   "metadata": {},
   "outputs": [],
   "source": [
    "def project(z_start, z_mapped, z_target, idx, one_hot=False):\n",
    "    if len(idx) == 1:\n",
    "        start = z_start[:, idx[0]]\n",
    "        target = z_target[:, idx[0]]\n",
    "        mapped = z_mapped[:, idx[0]]\n",
    "    else:\n",
    "        if one_hot:\n",
    "            start = torch.argmax(z_start[:, idx], dim=1)\n",
    "            target = torch.argmax(z_target[:, idx], dim=1)\n",
    "            mapped = torch.argmax(z_mapped[:, idx], dim=1)\n",
    "        else:\n",
    "            # Use PCA to reduce the dimensionality of the data\n",
    "            _, _, V = torch.svd(z_target[:, idx])\n",
    "            start = torch.matmul(z_start[:, idx], V[:, 0])\n",
    "            target = torch.matmul(z_target[:, idx], V[:, 0])\n",
    "            mapped = torch.matmul(z_mapped[:, idx], V[:, 0])\n",
    "    return start, mapped, target\n",
    "\n",
    "\n",
    "def my_plot(z_start, z_mapped, z_target, plot_points, x_idx, y_idx, one_hot_y=False):\n",
    "    start_x, mapped_x, target_x = project(z_start, z_mapped, z_target, x_idx)\n",
    "    start_y, mapped_y, target_y = project(z_start, z_mapped, z_target, y_idx, one_hot_y)\n",
    "    plot_2D_start_end(start_x, start_y,\n",
    "                      mapped_x, mapped_y, \n",
    "                      target_x, target_y, \n",
    "                      plot_points)"
   ]
  },
  {
   "cell_type": "code",
   "execution_count": 12,
   "metadata": {},
   "outputs": [
    {
     "data": {
      "application/vnd.jupyter.widget-view+json": {
       "model_id": "442a6b37bf1244c8b0110f0febab5ac4",
       "version_major": 2,
       "version_minor": 0
      },
      "image/png": "[encoded data removed]",
      "text/html": [
       "\n",
       "            <div style=\"display: inline-block;\">\n",
       "                <div class=\"jupyter-widgets widget-label\" style=\"text-align: center;\">\n",
       "                    Figure\n",
       "                </div>\n",
       "                <img src='data:image/png;base64,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' width=640.0/>\n",
       "            </div>\n",
       "        "
      ],
      "text/plain": [
       "Canvas(toolbar=Toolbar(toolitems=[('Home', 'Reset original view', 'home', 'home'), ('Back', 'Back to previous …"
      ]
     },
     "metadata": {},
     "output_type": "display_data"
    }
   ],
   "source": [
    "\n",
    "plot_iterations = 1\n",
    "\n",
    "mapped_tensor = zh_start_tensor\n",
    "for i in range(plot_iterations):\n",
    "    mapped_tensor = map(mapped_tensor)\n",
    "mapped_tensor = mapped_tensor.detach()\n",
    "\n",
    "my_plot(zh_start_tensor, mapped_tensor, zh_target_tensor, plot_points=10, x_idx=x_idx, y_idx=y_idx, one_hot_y=one_hot_y)\n"
   ]
  },
  {
   "cell_type": "code",
   "execution_count": 13,
   "id": "8ac074be-5d27-480a-83fe-e1161e9d69ef",
   "metadata": {
    "id": "8ac074be-5d27-480a-83fe-e1161e9d69ef"
   },
   "outputs": [
    {
     "data": {
      "application/vnd.jupyter.widget-view+json": {
       "model_id": "2b55919c6a5c4849962539ba2b60c5cc",
       "version_major": 2,
       "version_minor": 0
      },
      "image/png": "[encoded data removed]",
      "text/html": [
       "\n",
       "            <div style=\"display: inline-block;\">\n",
       "                <div class=\"jupyter-widgets widget-label\" style=\"text-align: center;\">\n",
       "                    Figure\n",
       "                </div>\n",
       "                <img src='data:image/png;base64,iVBORw0KGgoAAAANSUhEUgAAAoAAAAHgCAYAAAA10dzkAAAAOXRFWHRTb2Z0d2FyZQBNYXRwbG90bGliIHZlcnNpb24zLjguMSwgaHR0cHM6Ly9tYXRwbG90bGliLm9yZy/SrBM8AAAACXBIWXMAAA9hAAAPYQGoP6dpAABCu0lEQVR4nO3df3hU5Z338c85M5kMhMwAUXBAJNS2CCHFoK6tIKXa4qDW/rK5tPYBqWP7WHfB9bk02n264lWtpnRdoXa1Ni4/rlZt1j5tXZSU3eKPBVEpYKSAaC0oQgAFzEAgv2bO88cwJzPJJEwgyZDc75cXV+bc55z7/t73mUw+OZNEy3EcRwAAADCGnesCAAAA0LcIgAAAAIYhAAIAABiGAAgAAGAYAiAAAIBhCIAAAACGIQACAAAYhgAIAABgGAIgAACAYQiAAAAAhiEAAgAAGIYACAAAYBgCIAAAgGEIgAAAAIYhAAIAABiGAAgAAGAYAiAAAIBhCIAAAACGIQACAAAYhgAIAABgGAIgAACAYQiAAAAAhiEAAgAAGIYACAAAYBgCIAAAgGEIgAAAAIYhAAIAABiGAAgAAGAYAiAAAIBhCIAAAACGIQACAAAYhgAIAABgGAIgAACAYQiAAAAAhiEAAgAAGIYACAAAYBgCIAAAgGEIgAAAAIYhAAIAABiGAAgAAGAYAiAAAIBhCIAAAACGIQACAAAYhgAIAABgGAIgAACAYQiAAAAAhiEAAgAAGIYACAAAYBgCIAAAgGEIgAAAAIYhAAIAABiGAAgAAGAYAiAAAIBhCIAAAACGIQACAAAYhgAIAABgGG+uC4A54vG49uzZo8LCQlmWletyAGDAcBxHhw8f1qhRo2Tb3NvBiREA0Wf27NmjMWPG5LoMABiwdu3apbPPPjvXZaAfIACizxQWFkpKvEAFAoEcVwMAA0c0GtWYMWPc11ngRAiA6DPJt30DgQABEAB6AT9eg2zxgwIAAACGIQACAAAYhgAIAABgGAIgAACAYQiAAAAAhiEAAgAAGIYACAAAYBgCIAAAgGH4Q9BAfxSPSe+9Ih3ZJw0ZKY29RLI9ua4KANBPEACB/mbrs1JNhRTd09YWGCWFK6WJ1+SuLgBAv8FbwEB/svVZqXp2eviTpGhdon3rs7mpCwDQrxAAgf4iHkvc+ZOTYefxtpq7EscBANAF3gLGgFO9vVpVm6sUKY2ofHy5217xcoVqdtYoXByWJPdx5fRK95yyEWXatH+TIqURbdi3QTU7azRh+AQdbDyoshFlqtlZo7gTlyR5La9anVYFfAFJkiVLZxeera0Htirfk69zh56rLQe2uPucdsHtynFXumMvXL9QjbFGt1+v7ZXP49OYwjHadnCbhuQNUbQ5Kg33SMPHpPVjO44cy9KshqOq/HC3rvvdNdpy5H133HxPvvI9+Zo6eqrW7F6jIy1HFHfispT4n8afVXCW9h3dlzbP5Bok16/9mia3h/uHa9vBbe46pq5x5fTKDtdl4fqFaoo1ada4Wbpg5AUZr1O21zdZZ9mIMq3dvVaOHE0bPU1rd69VU6xJ+Z58zZsyT5K6HKd6e7UWbVwkS5bmTZnX6Zw7c92K67TlwBaVFJXo6aufzrru7s77RLKtFwAkyXIcJ9PtBKDHRaNRBYNB1dfXKxAI9No4M5+ZqbqGOoUKQlp17Sq3ffLyyYo7cdlW4sZ38nHt7Fr3HNuyFXfiChWEtO/oPjfsSXL39ZT2Y59yf46j2p27VDrunE7Hy6b+1DVIrl/7NW1fc3IuqWtcO7s2rd/Uc2zL1sjBIzNepxNpf61S59V+jqGCkCR1OU5qXV3NuTOly0rdx5vnbM667u7O+0SyrRcDU1+9vmLg4C1gDDiR0ohCBSFFSiNp7eHisGzLVrg4nPY49Zxwcdg9N3lMSVGJuy8ZHqXEnTpJCvgCCvgCCvqCKikqkSVLfo9fJUUl7rHJu23t60mO7ff40/r1e/wK+AIqKSqRbdnuXUY5Tod/djwuy3EUbjgqSSoZ0hYAk7UEfUGFi8MK+ALuHKzj/4UKQh3m2X792q9pcjtZX3Iu7de1/XXxe/yyZClcHO70Op1I+2sVLg4r6Asq4Au4j5NzjpRGTjhOpDTiXr+u5tyZ5HVOvd7Z1N3deZ/Iya4nADNxBxB9hu9QT1E8Jj08KfELH3Kkp45KQ21pVjI8WonfBr5tM38SBjAMr6/oLu4AAv2F7Un8qRdJapH0t1bp7ZbEncDkHcbwg4Q/AMAJEQCB/mTiNVL5cmlfQGqV9LEjfRhP3PkrX87fAQQAZIUACPQ3E6+RPFe2bQ+5IfG2L+EPAJAlAiDQ3ziO9Nxzbdtr/8LbvgCAbiEAAv3Npk3S7t1t2+vWSR99lLt6AAD9DgEQ6G82bpQWLZKCQem886QFCxIhEACALPFnYNBn+DMFPcRxJMuSzjhDGjtW2rChrQ2AkXh9RXdxBxDobzIFPcIfAKAbCIAAAACGIQACAAAYhgAIAABgGAIgAACAYQiAAAAAhiEAAgAAGIYACAAAYBgCIAAAgGEIgAAAAIYhAAIAABiGAAgAAGAYAiAAAIBhCIAAAACGIQACAAAYhgAIAABgGAIgAACAYQiAAAAAhiEAAgAAGIYACAAAYBgCIAAAgGEIgAAAAIYhAAIAABiGAIisxGIx/fCHP9S4ceM0aNAgnXvuufrRj34kx3FyXRoAAOgmb64LQP9QWVmpRx99VMuWLVNJSYn+/Oc/a+7cuQoGg5o3b16uywMAAN1AAERWXnnlFX3lK1/RVVddJUkqLi7WU089pddffz3HlQEAgO7iLWBk5ZJLLtGf/vQnvf3225Kk2tparVmzRrNmzcpxZQAAoLu4A4is3HXXXYpGozrvvPPk8XgUi8V0//3364Ybbuj0nKamJjU1Nbnb0Wi0L0rtc9Xbq7V442I1tDQo5sQ0a9wsVU6vdNsdOZo/Zb7Kx5erenu1qjZXKVIakST38YZ9G7Ryx0pZshRXXF7Lq8F5g93zMo3X9OORasprlrOsVLZs/dNn/ymtz/b9P7/jeUmS1/JqZvFMrd29Vk2xxPXxeXwdaiwbUaZN+ze5fS3euNg9PnnOtNHTtHb3WneOkrRo4yI1x5rdPiXpvlfvkyNHtmzFFVeoIKRDjYfUFGty1ys5t+T5rfFWtTqt8lpeeW2vO+aYwjHaemCr8j35uuOiO9LWp33tZSPKtGb3GlmyNHX0VHc+qedUvFyhmp01CheH3euWXLf2a9/+2EzPhc7OPZnjsj33RHXl2qnMF0DvsBx+ih9ZePrpp3XHHXdo4cKFKikp0RtvvKHbbrtNDz30kObMmZPxnAULFujee+/t0F5fX69AINDbJfeZmc/MVF1DnbttW7ZqZ9emtYcKQlp17Sq3LVQQkiT38b6j+xR34h36Tp7X1Xipx6b22VX/tmV3GK99jcljUvtqL7WfTMd1dW779epqbp1pvz7ta0+tL3U+qedMXj7ZPTb1umVa+/bHttfVuSdzXLbnnqiuXDuV+SI70WhUwWBwwL2+ovfwFjCycscdd+iuu+7Sddddp9LSUv2v//W/9I//+I964IEHOj3n7rvvVn19vftv165dfVhx34mURhT0BeW1vLJkKVwcTmsP+ALuXbRIaUShgpAipZG0x+HisCxZso9/Snotb9p5mcbzN8VlHc9wtuwOfbbvP8lreRUuDif68Pjl9/gz1hguDqf1lXp88pxkP8nzI6URBXyBtD4jpRFZstw6pURw83v8aeuVHDt5vtfyuvWmjllSVCJLlvwef4f1aV97uDisgC+goC+YNp9U4eKwbMtOu26Zjst0bKZr09m5J3NctueeqK5cO5X5Augd3AFEVoqKinTffffplltucdseeOABLVmyxP25wBPhO9QedsYZ0tix0oYNua4EQI7x+oru4mcAkZUvf/nLuv/++3XOOeeopKREmzZt0kMPPaTvfOc7uS4NAAB0EwEQWfnZz36mH/7wh/r+97+v/fv3a9SoUfre976nf/7nf851aQAAoJt4Cxh9hrcoehhvAQM4jtdXdBe/BAIAAGAYAiAAAIBhCIAAAACGIQACAAAYhgAIAABgGAIgAACAYQiAAAAAhiEAAgAAGIYACAAAYBgCIAAAgGEIgAAAAIYhAAIAABiGAAgAAGAYAiAAAIBhCIAAAACGIQACAAAYhgAIAABgGAIgAACAYQiAAAAAhiEAAgAAGIYACAAAYBgCIAAAgGEIgAAAAIYhAAIAABiGAAgAAGAYAiAAAIBhvLkuADBCPCa994p0ZJ80ZKQ09hLJ9uS6qtMH6wMAfYoACPS2rc9KNRVSdE9bW2CUFK6UJl6Tu7pOF6wPAPQ53gIGetPWZ6Xq2enhRpKidYn2rc/mpq7TBesDADlBAAR6SzyWuLMlJ8PO4201dyWOMxHrAwA5w1vAMEb19mot3rhYjhzNnzJf5ePLMx5TtblKklTXUCdJChWE3P11DXUqKSrR01c/rert1Vq0cZGaY83yeXyaNnqaVr+/Wk2xJs0aN0sXeAKqCkhl+UVaM8ivI5aluGWppKlZXz/SoAeGD1WrZankd9fo65PmuH3le/J1duHZ2nJgiyTJa3lVkFegswvP1tYDW5Xvyddl51ym1T8eqaa8Zs16uUKb9m9y65Uk27Lls33K9+Rr3pR52rBvg2p21mjC8Ak62HhQkdKIyseX67oV12nLgS3uHMtGlGnT/k2KlEYkyV2vaaOnadXOVWp1WuX3+NUYa1Senae7/u4uSVLV5ipFSiPasG+DVu5YKUuWHDmaNW6WKqdXdljfSGlE5b5Q2p2/6sIhqgoGFKmPJvoMBhSpr1f5e69I4y7t9JpWba7ScP9wbTu4TeHisC4YeUHbGOPL08dsd80rXq5Qzc4ahYvDaXW2V/FyhVbuWKl8T77uuOiOjM+dvtLVfPrzWAD6luU4TqZvv4EeF41GFQwGVV9fr0Ag0Ofjz3xmZlqoW3Xtqi6P6crmOZs7HGtbtuJO3H08Mq9Qdc31sh1HcctqO9lxFGqNqS6v7fuvUEEoq3E7Gyv5OJNQQUj7ju5LOyY5/9JlpRn7TQbCZE2djZF6XKZxbMtW7exadzu5ZqGCkFaN/67025va9p0VUt2gPIVaWhN95nkVamnVqot/JJVem3Fuma7ByMEj28a4dlX6mO2u+eTlkxV34h3qbC95XOra5UpX8+nPY+HU5Pr1Ff0PbwHDGJHSiIK+oAK+gHuHK9MxoYJQ2l2/5HayraSoxD024AvI7/Er4AsoXByW3+OXJUvh4rAi58xSqKVV4YajCsRisuNxyXFU0tSkSH1U3uT2kHPS+gr6gu4YUuIOYLLNkiW/x58YqykuKy6Fi8Np9UqJIJTsK1IaUbg4LNuyVVJUolBByJ1/cpzk/JJ9RUojaesVLg7LayUCq9/jlyTl2XnucclzwsVhWbJky3bXIdP6Rkojid/2Td1X85FCLa2K1EcVqY+6j9sfl6m/kqIS2ZadWPfUMdqP2U5yXdrXmem45Np39tzpK13Npz+PBaBvcQcQfca471DjMenhSYlfaJAj7WyVlh2Vbhosne2VZCV+2/W2zSf3J0/OOEMaO1basKGnK+8bqetzKCYtPiJdO0gqyTt+wCmuD2AQ415fccq4Awj0FtuT+FMmkiRLejvx1mbi4/G3hMMPmhtuUtcnbW0k1gcAehcBEOhNE6+RypdLgVB6yAmMSrSb/nfukuvz7vGXondapbjD+gBAL+O3gIHeNvEayf6U9H8mJrb3xaWvPycVj8ttXaeLs2dIO1sSj485UumD0je+x50/AOhF3AEE+sJzz6dvP78yN3Wcjv74R6mlpW17w/uEPwDoZQRAoC+sWCH5E789K79f+s//zG09pxPWBgD6HG8BA72ttVWKRKQbbpBuvln6xS8kj0eKxyWb78EUDkvl5dLVV0v33CN96lPS4cNSYWGuKwOAAYuvPkBv83oT4c97/PutvLzENuEv4frrpUGDEo9tW/rGNwh/ANDL+AoEAABgGAIgAACAYQiAAAAAhiEAAgAAGIYACAAAYBgCIAAAgGEIgAAAAIYhAAIAABiGAAgAAGAYAiAAAIBhCIAAAACGIQACAAAYhgAIAABgGAIgAACAYQiAAAAAhiEAAgAAGIYACAAAYBgCIAAAgGEIgAAAAIYhAAIAABiGAAgAAGAYAiAAAIBhvLkuAEAPisek916RjuyThoyUxl4i2Z5cV4W+MtCv/0CfH9CHCIDI2u7du1VRUaGVK1fq6NGj+uQnP6klS5bowgsvzHVpkKStz0o1FVJ0T1tbYJQUrpQmXpO7utA3Bvr1H+jzA/oYbwEjK4cOHdLUqVOVl5enlStXauvWrfqXf/kXDRs2LNelQUp8cayenf7FUZKidYn2rc/mpi70jYF+/Qf6/IAc4A4gslJZWakxY8ZoyZIlbtu4ceNyWBFc8VjizoicDDsdSZZUc5d03lW8XTYQDfTrP9DnB+SI5ThOps8qIM3EiRN1xRVX6IMPPtBLL72k0aNH6/vf/75uvvnmTs9pampSU1OTux2NRjVmzBjV19crEAj0RdmnrOLlCtXsrFG4OKzK6ZVue/X2alVtrlKkNCJJaY8XbVyk5lizfB6f5k+Z7+4vOxLUmoa/qHmIX/m+Ap1deLa2Htgqr+3VIO8gzZ8yX+XjyzuMUTaiTGt3r1VDS4NanVb5PX5dds5lWvuXFXJsW9POuVBr976mJstSvuNo6rFGbcrP1/BYTFvzffI4jrySfL4hmn/h/1H5+HJVb6/W4o2Ldbj5sOKKK1QQUkNLg461HlNrvFUTiybqg8MfuGPali3HcTSxaKIONh5U2YgyrX5/tRpjjfJaXhXkFWjelHltcz1ec1Os7fon1yM5/sL1C9UYa1SenadBTp7mL31H+trXVRV6X2UjyrRp/yZFSiP6f+/8P205sEUlRSX6+qe+7vaf3J9cs9T12rR/k4b7h2vbwW1p1y45blOsyZ1Lpj5S2ypertDzO56XJHktr+6++O60a56cT9XmKg33D9fWA1uV78nXHRfdkXY9U7W/to4cTRs9TZv2b8o4t87OXbN7jax4q+bt/UDlh48k6j2zSDUFgxVuOKrKDw+0nThnhTTu0oxzzPS87qz27uiR/nb8j7Ts6kR/hUO0eFhQjqT5h+rdOUty59entfVBn9mKRqMKBoP96vUVuUUARFb8fr8k6fbbb9c3v/lNrV+/XvPnz9djjz2mOXPmZDxnwYIFuvfeezu096cXqMnLJyvuxGVbtmpn17rtM5+ZqbqGOoUKQpLU4XFSapvtWIpbnX+6hQpCWnXtqg5j2JatuBNPOza1zZaleMrdEdtxFLcsyXEky8o4RrLvk5WpprS5Zth/ovFDHzVLw4apztPgnh8qCHVYz9T+U9ess/VKvXYZx83QR2pb8jmQaZ5dzqfd9UyVqdbk40xzO9G5oZZWrfog8fbo5OIxiluWbMdR7c5dbSd+4wmp9NqMc2zfd1e1d0eP9Lf5Gem3NyX6O3uU6vISb1ylzlmSO78+ra0P+swWARDdxc8AIivxeFxTpkzRj3/8Y5WVlem73/2ubr75Zj322GOdnnP33Xervr7e/bdr165Ojz1dhYvDsi1b4eJwWnukNKJQQUiR0kiHxwFfQH6PXwFfIG1/WOMVONIqv7wK+oIqKSqRJUt5dp57bKYxwsVhBX1Bea3EFz6/x59oa4grcEwKn3mBgrGY/PG4grGYwu8cVqi5VSVNzbIcR954XP54XAHvYHeMSGlEQV9Q9vGXgFBBSAFfQHl2nixZKikqSRvTtmy3PVmT35P4psBrJeaTNtfjNfs9fvdf6hwjpRH3/Dw7TwFrsCLPfahIwyT3/OSalhSVSJJKikrS+k/uz7ReoYKQSopKOly75Lipc8nUR2pb6vley9vhmqeel7ymfo+/w/Xs6toGfAG37kxz6+zcgC+goHewIvXRtnp3HpbtOAo3HE0/ccjITufY1fxPRY/0d7xuSYrURxVsjCnQGkubc/vj+qy2PugT6C3cAURWxo4dqy996Uuqqqpy2x599FHdd9992r17d1Z9GP8d6tKl0ty50pNPStdff+r9nXGGNHastP516eFJiR+Id+LS4iPSpfnSFN/xA63Eb0vetvn0/Rmp1aulyy+XKiulO+/MdTX9SzzWdv3lSMsbpNEe6XL/8QP6wfXvSur8ks/vafnSBf3o+d0HjH99RbdxBxBZmTp1qrZv357W9vbbb2vs2LE5qggu25P4UxiS9KEjfexIb7ce33n8LeDwg0Z/cRzQUq9/o6T3YgPr+vP8BnoFARBZ+cd//Ee9+uqr+vGPf6y//vWvevLJJ/X444/r1ltvzXVpkBJ/B618ufTeoMT2u61Si5O4M1K+nL+TNtAlr//uIVJc0v649HF84Fz/9s/vv/H8Bk4VARBZueiii/S73/1OTz31lCZNmqQf/ehHevjhh3XDDTfkujQkTbxGOnRu4nGrpE/838TbYnxxNMPEa6T4jLbtYTcNrOs/8Rrp408mHvP8Bk4ZfwcQWbv66qt19dVX57oMdGb/funV19q21/9Nuom3xYzR2iqtXNm2/cq2gfW26IcfSutebdvm+Q2cEu4AAgPFypWJP/2StGJF+jYGtnXrpEOH2rZffFE6fDhn5fQ4nt9AjyIAAgPF3/4mLVqUeDxrlvTVr0rbtuW0JPSh2lrp0UelvDyprEy64w7p1VdPfF5/8e67bc/vcJjnN3CKeAsYGCgWLJD27pXmz5dGjpQeeYQ7JCa59dbEH/6+7TapsFC6776Bdf0XLJD27eP5DfQQ7gACA0W7/+tHp20YmAb69R/o8wP6GAEQAADAMARAAAAAwxAAAQAADEMABAAAMAwBEAAAwDAEQAAAAMMQAAEAAAxDAAQAADAMARAAAMAwBEAAAADDEAABAAAMQwAEAAAwDAEQAADAMARAAAAAwxAAAQAADEMABAAAMAwBEAAAwDAEQAAAAMMQAAEAAAxDAAQAADAMARAAAMAwBEAAAADDEAABAAAMQwAEAAAwDAEQAADAMARAAAAAw3hzXQDQ16q3V6tqc5UipRGVjy932xZtXCRLluZNmee2Zzo303GpfUrS4o2L5cjR/CnzJUlVm6skHVHdkhIFmh/SkeUPKlwcVuX0Srfvipcr9PyO593tgC+gaHNUkuT3+HXHRXdow74NWrljpfI9+brshqHa9Mlmlb1coU37NyXmE7hU1V8Ypgenb1DLslJJUklRiQ42HnTnW/FyhWp21mjC8Ak62HhQZSPKtHb3WjlyNKZwjLYe2Cqv7dUg7yDNnzI/bY4L1y9UY6xRkhQqCKmuoc4d44PDH6gp1qR8T76mjp6q1e+vVlOsSbPGzUqbZ9LMZ2aqrqFOoYKQIr5pqvrppzU88Jy2Lf+1wsVhXTDygrTrlOm6dXY9O9uX3E6dc+o1KhtRpk37N3X4mLyu2dSTrc5qa/+87O6csx2vp3Wn/5OtpXrXf6rqp59W5MCH6vkZAGaxHMdxcl0EzBCNRhUMBlVfX69AIJCzOlKDx6prV6W1SUpr7+zc9sel9ikp7Rh325FktfVlW7ZqZ9e625OXT1bciXdad6ggpH1H97nH2DFHcY8l27IVd+KJeqYu08wnZ6juDF/G81ddu6rDOMnzOxsz0xqdSGqf7eeZVHo8oEpSyDNMdbFD7hrZlq2Rg0emXadM1y21rkzXrf2+5HZqfanXKNne/mPqMSeqJ1ud1dbZ8yrbOcvvly6+WHrppS7H62nd6f9ka5n5m8tV17hfoUafVn1vw6mWPKCcLq+v6D94CxjGiZRGEnedjt/VSbYFfAEFfcG09kznZjoutc9IaURBX1ABX8DdDhWEFFKh5DgKyC/bshUuDqf13X474Gt7Efd7/IqURhQuDsuSJb/Hr3Bto0LRxHmp84k896Hy4m1Js6SoJG1/uDgs27Ld9nBx2K23pKhElizl2Xlu/alz9Hv87nYyFCXHCPqC8nv8CvqCCheH5ff4ZcnqMK/254cKQooEvqjQR80qaRnurk3765TpunXVnmlfcjt1zqnXKLmW7T+mHnOierKVTX8nM+dsx+tp3en/ZGuJfOI6hT5qVuS9s062TADHcQcQfcb471CXLpXmzpWefFK6/vpT7++MM6SxY6UNKXdC6uqkUaOkG2+Uliw59TH6yurV0uWXS5WV0p135rqa/q2TO4ADwt69UigkzZmT+HyCy/jXV3QbdwABAAAMQwAEAAAwDAEQAADAMARAAAAAwxAAAQAADEMABAAAMAwBEAAAwDAEQAAAAMMQAAEAAAxDAAQAADAMARAAAMAwBEAAAADDEAABAAAMQwAEAAAwDAEQAADAMARAAAAAwxAAAQAADEMABAAAMAwBEAAAwDAEQAAAAMMQAAEAAAxDAAQAADAMARAAAMAwBEAAAADDEAABAAAMQwAEAAAwDAEQAADAMARAAAAAwxAAAQAADOPNdQEA+pF4THrvFenIPmnISGnsJZLtyXVVAIBu4g4gTsqDDz4oy7J022235boU9JWtz0oPT5KWXS399qbEx4cnJdoBAP0KARDdtn79ev3iF7/QZz7zmVyXgr6y9VmperYU3ZPeHq1LtBMCAaBfIQCiW44cOaIbbrhBv/zlLzVs2LBcl4O+EI9JNRWSnAw7j7fV3JU4DgDQL/AzgOiWW2+9VVdddZW++MUv6r777uvy2KamJjU1Nbnb0Wi0t8vLWvX2alVtrlKkNKLy8eVdbkvSwvUL1RhrlC1bjhzNGjdLF4y8IO2cZL+LNi7S0ZajanVa5bW88tpe5XvyNVUhrX3kPDU1/0S+px7R/CnztWHfBtXsrNGE4RP07sfvqinWlNZ32Ygyrdm9RpYsTR09VZv2b1KkNKIN+zbo+YVnSVaz7OWTNWH4BG07uE3hkZ/XBV8YpqrPvqnhK67T1gNbZVmW4k5cXivx6R5zYpo1bpbei76nLQe2yLZsDckbommjp7n9l48v13Urrkvsl6UhQy3Nd4ao/PARVRcO0aJhQR21LLValvyOozsOfiyte1ALd/w+4xxS+5Wkipcr9PyO5yVJV467UpW6Iu3aLNq4SJYszZsyL+2cmp01CheHVTm9UtXbq/XAaw+o1WlVSVGJnr766R55LvS0U+m/t2s7Vad7fQA6ZzmOk+nbeqCDp59+Wvfff7/Wr18vv9+vGTNm6Pzzz9fDDz+c8fgFCxbo3nvv7dBeX1+vQCDQy9V2beYzM1XXUKdQQUirrl3V5bYk1TXUpZ1vW7ZGDh6Zdk5qv5nYjqW41fbpFioIad/RfYo78U77ti3b3Z983Nl5kmTL1siPGlV3hq/L+af2274tOZ/SZaVp+0MtrVr1wR7NPCukukF5HfapoEh1zfWdziF1nSYvn5w2r9qz/1W6/HKpslIzP/Hf7hpmOse2bNXOru2w1pvnbO5yzp1pf+172qn0f1Ln+v3SxRdLL710EtV2T2+vXQd790qhkDRnjrR0ae+P149Eo1EFg8HT4vUV/QNvASMru3bt0vz58/XrX/9afr8/q3Puvvtu1dfXu/927drVy1VmL1IaUagg5N7h62o7UhqR35OYsy1bliyFi8MdzkmeF/AF3LttXssrv8evoC+osMYreKRVfnkV8AUUKY0oXByWbdkqKSqR3+Pv0He4OKyAL5A4vzjsjhcuDktxR3Lknm9btsJnfV6R5z5UqNGnkqISWbJkW7Zbi9fyumOUFJUk5mTZCvgCaf1LatsvS4FYTJH6xB3cyP8cUKAlJm88LjmO/PG4IvVRRc6Z1ekc2q9TuDic8XHqGgZ9wQ7n2JbtHh8pjbjrnKy1J54LPe1U+u/t2k7V6V4fgM5xBxBZ+f3vf6+vfe1r8nja/uRHLBaTZVmybVtNTU1p+zIx/jvUpUuluXOlJ5+Urr/+1Ps74wxp7Fhpw4a2tro6adQo6cYbpSVLTn0MKfGzfQ9PSvzCRywu/eSw9Ll8aUb+8QMsKTBKum3zyf9JmNWr3TuAuvPOnqnbVH14B7DPcQewU8a/vqLbuAOIrFx++eXavHmz3njjDfffhRdeqBtuuEFvvPHGCcMf+jHbI4UrE4/fi0vNkt5uOb7TSnwIP8jfAwSAfoRfAkFWCgsLNWnSpLS2goICFRUVdWjHADTxGql8ufS/b5TUINXFpcNxafSYRPibeE2uKwQAdAMBEEB2JnxZ+mCopEOJ7TNukW57gDt/ANAPEQBx0l588cVcl4C+tHWrtGNH2/a6twh/ANBP8TOAALKzYkXiFwykxMf//m/p2LHc1gQAOCkEQADZGT++7TeOy8ullSulPXu6PgcAcFriLWAA2fnqVxN/hiPp85/PWSkAgFPDHUAAAADDEAABAAAMQwAEAAAwDAEQAADAMARAAAAAwxAAAQAADEMABAAAMAwBEAAAwDAEQAAAAMMQAAEAAAxDAAQAADAMARAAAMAwBEAAAADDEAABAAAMQwAEAAAwDAEQAADAMARAAAAAwxAAAQAADEMABAAAMAwBEAAAwDAEQAAAAMMQAAEAAAxDAAQAADAMARAAAMAwBEAAAADDEAABAAAM4811AUB/U/FyhWp21ihcHFbl9Eq3beWOlcr35OuOi+5Q+fhySVL19mpVba5S2YgybdIalX1vtDY1P6Kyl9/Q2t1r5cjR/CnzJUlVm6sUKY24556o34U/HqnGvGbZyycr7sTl9/h1x6e/q3JJ1aP2q+qZmYlx929S2Ygyrdm9RpYsDc4brLqGOnktr8YPH69tB7dpwvAJevfjd9UUa9LEoon64PAHaoo1qTne7PbdGGuUJHl/OVEFqtXUlyu0ZvcaHW05qlanVZLk9/h17tBztfXAVnksjwbnDda00dO0af+mDnOr3l6txRsXy5Gjad5PatNPP62ygv/Rpmf+W8P9w7Xt4DZ3jZNrPnLwSO1t2CuP5VFBXoGmjp7q9p1cw9S5zpsyT5K0eONiNcWaJEmt8Va1Oq2J9Tq+ptXbq7Vo4yI1x5rl8/g0f8r8DrU+8NoDanVa5bW8mlk8U5v2b+pQZ6rktW9/TLK9/Xpkku2xacedYl89KXVMKfNzHEBuWI7jOLkuAmaIRqMKBoOqr69XIBDIdTknbfLxwGVbtmpn16a1SVKoIKRV166SJM18ZqbqGupkW3binJijuMdyt5PHS1JdQ13audn0217IP0KrrlutmY9NUZ2/uW3clPF6SrZ9Jo9rP7fUOdiyFJcj27EUt5y0c2tn16atQ2d9S0pbayl9bTNJ1tR+PbuqNdPcU58LXZ1TO7vWbW8/RibZHpt23Ldfli6+WHrppZPqqyeljillfo53y969UigkzZkjLV3ac4UOAAPl9RV9h7eAgW4KF4dlW7bCxeG0NkuW/B6/e7dDkiKlEYUKQgoXhxVyAgq//rFCCihcHFbQF1TAF1CkNOIel3ruifr1N8WleCJYSIm7b5Fx1yX2v39W27jHPwZ8AQV9QfeLsdfyqqSoRLZlq6SoRH6PX5YslRSVKOgLyu/xp/Wd5G2JK9jicfv0Wm1vJPg9fpUUlciSJa/lVcAXcGtoP7dIacRdg/DgMoU+ala4caxCBSG3ruQaJ9c8VBBy+w76gml9p651cq7J9uR8/B6/W2/qmkZKIwr4AvJ7/O41aV9r8jyv5XXHbV9n+3MyHdPZtc4k22OzOa474/aU1DFzMT6AznEHEH3G+O9Qly6V5s6VnnxSuv76U+/vjDOksWOlDRva2urqpFGjpBtvlJYsOfUx2kvegZk9W1q2rOf6Xb1auvxyqbJSuvPOnuvXRH5/xjuAAwJ3ADtl/Osruo07gAAAAIYhAAIAABiGAAgAAGAYAiAAAIBhCIAAAACGIQACAAAYhgAIAABgGAIgAACAYQiAAAAAhiEAAgAAGIYACAAAYBgCIAAAgGEIgAAAAIYhAAIAABiGAAgAAGAYAiAAAIBhCIAAAACGIQACAAAYhgAIAABgGAIgAACAYQiAAAAAhiEAAgAAGIYACAAAYBgCIAAAgGEIgAAAAIYhAAIAABiGAAgAAGAYAiAAAIBhCIAAAACGIQACAAAYhgCIrDzwwAO66KKLVFhYqBEjRuirX/2qtm/fnuuyYJJ4TNrxP9LmZxIf47FcVwQA/ZY31wWgf3jppZd066236qKLLlJra6t+8IMfaObMmdq6dasKCgpyXR4Guq3PSjUVUnRPW1tglBSulCZek7u6AKCfIgAiKzU1NWnbS5cu1YgRI7RhwwZNnz49R1XBCFuflapnS3LS26N1ifby5YRAAOgm3gLGSamvr5ckDR8+PMeVYECLxxJ3/tqHP6mtreYu3g4GgG7iDiC6LR6P67bbbtPUqVM1adKkTo9rampSU1OTux2NRvuivB5Xvb1aVZurFCmNqHx8ebeOS7aVjSjTWq2W88h5mh/bKG33ZNVnxcsVqtlZo3BxWJLcx5XTK1Vxw1DVnN+s8MsVie2XK1Szo0YjF35Ke8/4s/J/dZEuO+cyrd29Vo4cjSkcoy0HtkiSvJZXBXkFmjdlniSpanOVhvuHa9vBbRnHcuup/bFqnijRhCNv6eAzM936r1txnbYc2KKSohKNDYztcG7qPCqnV6p6e7UWbVyk5lizmmPNiiuu0MJP6WjRb+Q89QfNnzJf5ePLVb3uQVUFpIgzRJK0eFhQTZYlScp3HM07VC859aqqvkyRslvT1n3xxsVy5Kggr0B1DXWyLVtD8oa4fVe8XKHndzwvSSopKtHTVz+ddt78KfO1Yd8G95grx13pzif1Wm/Yt0Erd6xUvidfd1x0R6LuLp4zybXyWl7NLJ6pTfs3KVIakSQtXL9QjbFG+T3+jH1lulap16d6e7WqflysyFuNSh21q+dmalv763Sqsv3c6UunY01ALliO42T61hro1C233KKVK1dqzZo1Ovvsszs9bsGCBbr33ns7tNfX1ysQCPRmiT1q5jMzVddQp1BBSKuuXdWt45JttmUr7sQlSSEFpIKCrPqcvHyy4k5ctpW4WZ98XDu7VpP/fZLiHqtt+/ixchzpeEhKHTeTUEFIklTXUOe2ZRrLrWfZZMUVT9x8s+TWX7qsNO389uemzqN2dq27LmlS6k72O/OpaaprrleopTVRZ17696yp7ZnWvbM5r7p2Vdt6Hbd5zua080IFIe07us89JnU+qdc69Ri37i6eM5nWKtN1yNRX+2PaXx/32MO2Vv19hvYMa5Ta1v46napsP3eytnevFApJc+ZIS5eeHjWdJqLRqILBYL97fUXu8BYwuuXv//7vtWLFCr3wwgtdhj9Juvvuu1VfX+/+27VrVx9V2bMipRGFCkLuHZjuHJdsCxeHFXT8ChxpVcRzSdZ9hovDsi1b4eJw2mNJCtc2yo6rbbs4LFu2Qh81y3Ikv8efGNcXVMAXUElRiduv1/Iq6AsqUhpxaykpKul0LLeesz4vO+aoJDo4rf5k3yVFJRnPbd8WKY0o4AvI7/HLPv4yFPqoWcG4TwFfwO03cs4shVpaFamPKlIfVbA1Jn9jTP54XMFYzG0P5Q/vsO7JeSeDk23ZaX2n1pesP/W8SGmkwxwyXetwcViWLPk9/ra6u7i+ybG8llfh4rB7XKQ0Ir/HL0md9pXpWqWKlEYUOtCiyJv+ju2dPDdT2zq77icr2+d5XzodawJygTuAyIrjOPqHf/gH/e53v9OLL76oT33qU93uw/jvUJculebOlZ58Urr++lPv74wzpLFjpQ0b2trq6qRRo6Qbb5SWLDn1MdpL3oGZPVtatqzn+l29Wrr8cqmyUrrzzrb2eEx6eFLiFz7kSFtapGeOSd8cJE3Mk2Qlfhv4ts2S7em5evozv1+6+GLppZdyXUnP64E7gAOV8a+v6DbuACIrt956q371q1/pySefVGFhofbu3au9e/fq2LFjuS4NA5ntSfypF0mSJb2deMs38THxdrHCDxL+AKCbCIDIyqOPPqr6+nrNmDFDoVDI/feb3/wm16VhoJt4TeJPvQw5S3rneAB8p1UaEuJPwADASeK3gJEVflIAOTXxGumjoHRsRmL7qCN99nFp4qU5LQsA+ivuAALoH557vuttAEDWCIAA+ofVq6VLLkk8vuSSxDYA4KQQAAGc/mIxacUK6ZZbEtu33CI9+2yiHQDQbfwMIIDTn8cjjRyZ3tZ+GwCQNe4AAgAAGIYACAAAYBgCIAAAgGEIgAAAAIYhAAIAABiGAAgAAGAYAiAAAIBhCIAAAACGIQACAAAYhgAIAABgGAIgAACAYQiAAAAAhiEAAgAAGIYACAAAYBgCIAAAgGEIgAAAAIYhAAIAABiGAAgAAGAYAiAAAIBhCIAAAACGIQACAAAYhgAIAABgGAIgAACAYQiAAAAAhiEAAgAAGIYACAAAYBhvrgsAslXxcoVqdtZo5OCRqmuo67DfkiVHzgnbsuH3+JXvydfh5sOKK+6227I1oWiCth3cpgnDJ2jX4V2yZGnelHmSpKrNVRruH+7uP9h4UJHSiMrHl6tatVr8yHlqav6J9KuHJEn5nnxNHT1Vq99frcZYo7yWV4PzBqsgr0B1DXXyWl7dffHdifO3V6tqc5XbXyp33znfVPqe00tXcwAA9B3uAKLfqNlZo7gTzxj+JGUMeicT/iSpMdao+ub6tPAnSXHFteXAFsWdxMdoc1T1zfWq2lylqs1VqmuoS9tf11Cnqs1VkqQqva76IV41qlWNsUZ3jJqdNWqMNUqSWp1WRZuj7hxbnda284/3n9xO5e7b8fRJzbevdDUHAEDfIQCi3wgXh2VbtkIFoYz7LVlZtWXD7/Er6AvKbvcpYstWSVGJbCvxMeALKOgLKlIaUaQ0olBBKG1/qCCkSGlEkhTR3yl4pFV+eeX3+N0xwsVh+T1+SZLX8irgC7hz9FretvOP95/cTuXuG3fdSc23r3Q1BwBA3+EtYPQbldMrVTm9MtdldKmrtzXLNVnlf/+w9OST0vXXn1TfnfXv7qvLfHf0dNHVHAAAfYc7gAAAAIYhAAIAABiGAAgAAGAYAiAAAIBhCIAAAACGIQACAAAYhgAIAABgGAIgAACAYQiAAAAAhiEAAgAAGIYACAAAYBgCIAAAgGEIgAAAAIYhAAIAABiGAAgAAGAYAiAAAIBhCIAAAACGIQACAAAYhgAIAABgGAIgAACAYQiAAAAAhiEAAgAAGIYACAAAYBgCIAAAgGEIgAAAAIYhAAIAABiGAAgAAGAYAiAAAIBhCIAAAACGIQACfSAWd/TX/UckSW/vO6xY3Dnl/lrijj4+1qJ17x5w+0t+fP/g0bT2ntJb/Sf72bKnvtN+Y3FH7+w7LEl6pwfWsLfEWlu1Ze1z+vOKx7Vl7XOKtbZ2a/8pjR13FHekj4409cr1z7Xefn4DJiEAolt+/vOfq7i4WH6/XxdffLFef/31XJd02qv5S52mVa7WYy+9K0l6ZPVfNa1ytWr+UndK/R1ubNWug0d1/S9f1bTK1Xrg+a36yiNrJEmv/e2g236y42Qa95rj/a/f2XP91/ylTvOf3iRJerZ2T8Z+k3P++YuJNfz5i+/26Nx6yqY/LtNH931aJf/1LV345ztU8l/f0kf3fVqb/rgsq/2nIrlGLbG43v2wocevf66lPv9e39Hzz2/ANARAZO03v/mNbr/9dt1zzz3auHGjJk+erCuuuEL79+/PdWmnrZq/1OmWX21UXX1jWvve+kbd8quN3f7i1Vl/dfWN+sXLO7TvcFOPjNPZuPujPdt/st8DDc2d9tvTa9hbNv1xmSa/Mk9nOgfS2s90DmjyK/O07rHvd7n/VEJgf1mjk9Vbzz/AZARAZO2hhx7SzTffrLlz52rixIl67LHHNHjwYP37v/97rks7LcXiju79z63K9CZVsu3e/9ya9dtYXfXXmZMZpzvjnkr/2fa74NktPT52T4u1tmrUunslSbaVvi+5/Xd1T3a5P7Tu3pN6O7i3rs/pYqDPD8gVb64LQP/Q3NysDRs26O6773bbbNvWF7/4Ra1bty7jOU1NTWpqavuOPRqN9nqdp5PXdxzscEcmKW/oq/KNeE6H7RbdvPIy/ftVi7rs67oV12nLgS2KDRst1f+DJOkPlw7R8ln5ymt8VS0ff7bTc/NHPaXDgVpd9Ot83fV3d6p8fLmqt1eranOVykaUac3uNWqONcvn8Wn+lPkqH18uSap4uUIrd6yU1/bpsDVLeUOlxk+sVsX3RmvVBfs1JO8utUYnq3HP9frIelGXVT+gW8u+656fSXLcSGlEY7yXd1ifd8bvV8G5D6r5wAy1fPzZtP2Di3+mP523W1OvGK9owR/lP7zXHXvqUz9UU+yYYk5ME4sm6mDjQUVKIx1qqXi5Qs/veF6SdOW4K1U5vVLV26u1cP1CNcYSY9my5fP41Bpvzdhf9fZqLdq4SJYszZsyT+Xjy/XWa3/U8jOllQVj5HEceeOSz3I07VijNuXnq6ypSWsH+eVImn+oXvoopqpPDFNZc5PWDPLLkjTvUL1+/czV+lvTboUKQjrUeEhNsSZNLJqoDw5/IEeOpo2epk37NylSGpEkLd64WC3xuA5al0v6rPKGvqrLFn1SMUvKiyaeF96hrypa9KJuXvmsPji2Le3cplhTh3mWjSjTpv2b3I/Jec98ZqbqGuoU8AVUkFfQYX1Tr22m50Dqc27t7rVy5Gj+lPluLcnt9ucmP4/yhr6qxk/WaNoj52nauqOSjn8eFb2oQ8fGZnz+ZaoptU1SlzWfyInmnKu+gGxYjuPwbRNOaM+ePRo9erReeeUVfe5zn3Pb77zzTr300kt67bXXOpyzYMEC3XvvvR3a6+vrFQgEerXe08Ef3tit+U+/4W5/4sAHunjXX/TK2M/oowuXy/Z9LEmyZOvNObVd9lW6rFSS5DjSkbcelCSdec4CNRY0Kt48VA3v3iVJ8rc06mtbXtSO4aP06jmfkSQNOe9uWVbi0zxUENKqa1e5X8xty1bcibvjJPdL0uTlk9198eahkpSoOS73vQPHsXTkrQdUcO6Dsn0fp52fSXLcUEFIt35yibs+Iw9/pMve/bNWfu3PivmPpM0pach5d8mylLjtY3Ucu71MtaTOybZs1c6udWs6kfZrl9r25xWP66aPFitupd/esx1HcctyP0pSqKVVisZVV+Tr0F6X1/X35MnrFSoISZJbR3K9UteifZslW446ntvZGKljrbp2lfscbL8eSanXNtNzINNzrn0tmc5Nfh6lzi3v2GAd3PnPbpvjWLIsJ6uaUtuSY5/oeduZE825L/uKRqMKBoPGvL7i1PEWMHrN3Xffrfr6evffrl27cl1SnxpR6E/b/lvR2Xrq/LDeGzZKzQdmKB7Lk+NIF54x44R9lRSVSJLijaPdto+jYcWbh6r5QNv5jXl+PXV+2A1/ktQa/YwcR8qz8927HpHSiEIFIYWLwwr4AvJ7/Ar4Au5+SQoXh2XJUp6dr+YDMxI1Nw9Vy+HJbu2t0cQ4zQdmaHj+yLTzM0mOGymNpK3PvsIz9NT5YTUc+mKHOSXFG0fLcaR4bJAcx0obu8BbKK/llSVLJUUl7hjthYvDHR5HSiPye9pqsWXL7/F32l+kNKKAL6CgL+i2DRo2WuGGo7IcR954XP5YXIFYTOGGowq1tCrccFTBWEyBWEyR+qgixw677YFYTMHj7Z/IT1zfUEFIfo/fHT/oCyrgCyhcHHZriZRGFPQFNdhb6K5X84EZcloHKd46KK0t3jxUF54xo8O5meaZHCN1rGRNkhTwBTKub+q17erah4vD7nxSa2n//EtKPk+aD8xQvHWQnNZBOvzxzLS5tUY/k/H5l6mm1LYT1Xwip3p+b/UFZIM7gMhKc3OzBg8erGeeeUZf/epX3fY5c+bo448/1h/+8IcT9mHad6ixuKNplau1t74x488vWZLOCvq1puIyedr/YNhJ9NeZ7o7T3XFPtv9s+3UcR/uiTT06dk+Ltbbqo/s+rTOdAx1+xk+S4o7kyJIlp9P9+60infl/35bH272fzOmt63O6GOjz6ymmvb7i1HEHEFnx+Xy64IIL9Kc//clti8fj+tOf/pT2ljDaeGxL93x5oqTEF6lUye17vjwx6y9aXfXXmZMZpzvjnkr/2fa74JqSHh+7p3m8Xu353D2SEmEuVXL79dC3utxf97l7uh3+pN67PqeLgT4/IFcIgMja7bffrl/+8pdatmyZtm3bpltuuUUNDQ2aO3durks7bYUnhfTot6forGD628FnBf169NtTFJ4U6pH+QkG/vjd9nEI9NE62455q/9n021tj97SyK+ao9pLF+tAqSmvfbxWp9pLF+tz//rcu95ddMeekx+4va3SyBvr8gFzgLWB0yyOPPKKFCxdq7969Ov/887V48WJdfPHFWZ1r8lsUsbij13cc1P7DjRpR6NffjRt+SncsOuuvp8fp7Xl0p9/enltPibW26q3X/qhjh3Zr0LDROu/iK9Lu7J1o/ymN3U/W6GQN9PmdCpNfX3FyCIDoM7xAAUDv4PUV3cVbwAAAAIYhAAIAABiGAAgAAGAYAiAAAIBhCIAAAACGIQACAAAYhgAIAABgGAIgAACAYQiAAAAAhumZ//8QkIXk/3QmGo3muBIAGFiSr6v8z72QLQIg+szhw4clSWPGjMlxJQAwMB0+fFjBYDDXZaAf4P8FjD4Tj8e1Z88eFRYWyrLM+h+4R6NRjRkzRrt27eL/09kF1il7rFX2TFgrx3F0+PBhjRo1SrbNT3fhxLgDiD5j27bOPvvsXJeRU4FAYMB+AepJrFP2WKvsDfS14s4fuoNvEwAAAAxDAAQAADAMARDoA/n5+brnnnuUn5+f61JOa6xT9lir7LFWQEf8EggAAIBhuAMIAABgGAIgAACAYQiAAAAAhiEAAgAAGIYACPSinTt36qabbtK4ceM0aNAgnXvuubrnnnvU3Nyc8fi//vWvKiws1NChQ/u20BzLZp1efPFFfeUrX1EoFFJBQYHOP/98/frXv85h1bmR7XPqzTff1KWXXiq/368xY8boJz/5SY4qzp37779fl1xyiQYPHtzp59T69et1+eWXa+jQoRo2bJiuuOIK1dbW9m2hQA4QAIFe9NZbbykej+sXv/iFtmzZon/913/VY489ph/84Acdjm1padH111+vSy+9NAeV5lY26/TKK6/oM5/5jH7729/qzTff1Ny5czV79mytWLEih5X3vWzWKhqNaubMmRo7dqw2bNighQsXasGCBXr88cdzWHnfa25u1je/+U3dcsstGfcfOXJE4XBY55xzjl577TWtWbNGhYWFuuKKK9TS0tLH1QJ9zAHQp37yk58448aN69B+5513Ot/+9redJUuWOMFgsO8LO810tk6prrzySmfu3Ll9VNHpq/1a/du//ZszbNgwp6mpyW2rqKhwxo8fn4vycq6zz6n169c7kpz333/fbXvzzTcdSc4777zThxUCfY87gEAfq6+v1/Dhw9PaVq9erf/4j//Qz3/+8xxVdfrJtE4nc4wJ2q/DunXrNH36dPl8Prftiiuu0Pbt23Xo0KFclHhaGj9+vIqKivTEE0+oublZx44d0xNPPKEJEyaouLg41+UBvYoACPShv/71r/rZz36m733ve27bgQMHdOONN2rp0qUD+n9U3x2Z1qm96upqrV+/XnPnzu3Dyk4/mdZq7969GjlyZNpxye29e/f2aX2ns8LCQr344ov61a9+pUGDBmnIkCGqqanRypUr5fV6c10e0KsIgMBJuOuuu2RZVpf/3nrrrbRzdu/erXA4rG9+85u6+eab3fabb75Z3/rWtzR9+vS+nkav68l1SvXCCy9o7ty5+uUvf6mSkpK+mEqv6621GmhOZp06c+zYMd10002aOnWqXn31Va1du1aTJk3SVVddpWPHjvXyTIDc4n8FB5yEDz/8UAcOHOjymE984hPuW3B79uzRjBkz9NnPflZLly6Vbbd97zV06FAdOXLE3XYcR/F4XB6PR48//ri+853v9M4k+kBPrlPSSy+9pKuuukoPPfSQvvvd7/ZK3bnQk2s1e/ZsRaNR/f73v3fbXnjhBV122WU6ePCghg0b1itz6AvdXSdJWrp0qW677TZ9/PHHacc98cQT+sEPfqC6ujp3/ZqbmzVs2DA98cQTuu6663q8fuB0wT1u4CSceeaZOvPMM7M6dvfu3frCF76gCy64QEuWLOkQatatW6dYLOZu/+EPf1BlZaVeeeUVjR49ukfr7ms9uU5S4k/BXH311aqsrBxQ4U/q2bX63Oc+p3/6p39SS0uL8vLyJEn/9V//pfHjx/fr8Cd1b51O5OjRo7JtW5ZluW3J7Xg83iNjAKcr3gIGetHu3bs1Y8YMnXPOOfrpT3+qDz/8UHv37k37OawJEyZo0qRJ7r/Ro0fLtm1NmjSp33+xzlY26/TCCy/oqquu0rx58/SNb3zD3X/w4MEcVt73slmrb33rW/L5fLrpppu0ZcsW/eY3v9GiRYt0++2357Dyvvf+++/rjTfe0Pvvv69YLKY33nhDb7zxhnvH/Utf+pIOHTqkW2+9Vdu2bdOWLVs0d+5ceb1efeELX8hx9UAvy/FvIQMD2pIlSxxJGf91dY5pfwYmm3WaM2dOxv2f//znc1d4DmT7nKqtrXWmTZvm5OfnO6NHj3YefPDBHFWcO509Z1544QX3mFWrVjlTp051gsGgM2zYMOeyyy5z1q1bl7uigT7CzwACAAAYhreAAQAADEMABAAAMAwBEAAAwDAEQAAAAMMQAAEAAAxDAAQAADAMARAAAMAwBEAAAADDEAABAAAMQwAEAAAwDAEQAADAMARAAAAAwxAAAQAADEMABAAAMAwBEAAAwDAEQAAAAMMQAAEAAAxDAAQAADAMARAAAMAwBEAAAADDEAABAAAMQwAEAAAwDAEQAADAMARAAAAAwxAAAQAADEMABAAAMAwBEAAAwDAEQAAAAMMQAAEAAAxDAAQAADAMARAAAMAw/x/lgBTjG+FiTQAAAABJRU5ErkJggg==' width=640.0/>\n",
       "            </div>\n",
       "        "
      ],
      "text/plain": [
       "Canvas(toolbar=Toolbar(toolitems=[('Home', 'Reset original view', 'home', 'home'), ('Back', 'Back to previous …"
      ]
     },
     "metadata": {},
     "output_type": "display_data"
    }
   ],
   "source": [
    "plot_iterations = iterations\n",
    "\n",
    "mapped_tensor = zh_start_tensor\n",
    "for i in range(plot_iterations):\n",
    "    mapped_tensor = map(mapped_tensor)\n",
    "mapped_tensor = mapped_tensor.detach()\n",
    "\n",
    "my_plot(zh_start_tensor, mapped_tensor, zh_target_tensor, plot_points=10, x_idx=x_idx, y_idx=y_idx, one_hot_y=one_hot_y)"
   ]
  },
  {
   "cell_type": "markdown",
   "metadata": {},
   "source": [
    "# Path"
   ]
  },
  {
   "cell_type": "code",
   "execution_count": 14,
   "metadata": {},
   "outputs": [
    {
     "data": {
      "application/vnd.jupyter.widget-view+json": {
       "model_id": "0563e3d6b1f648b683df4e9f146db315",
       "version_major": 2,
       "version_minor": 0
      },
      "image/png": "[encoded data removed]",
      "text/html": [
       "\n",
       "            <div style=\"display: inline-block;\">\n",
       "                <div class=\"jupyter-widgets widget-label\" style=\"text-align: center;\">\n",
       "                    Figure\n",
       "                </div>\n",
       "                <img src='data:image/png;base64,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' width=640.0/>\n",
       "            </div>\n",
       "        "
      ],
      "text/plain": [
       "Canvas(toolbar=Toolbar(toolitems=[('Home', 'Reset original view', 'home', 'home'), ('Back', 'Back to previous …"
      ]
     },
     "metadata": {},
     "output_type": "display_data"
    }
   ],
   "source": [
    "plot_points = 10\n",
    "\n",
    "\n",
    "mapped_tensors = [zh_start_tensor[:plot_points, :]]\n",
    "for i in range(iterations):\n",
    "    mapped_tensors.append(map(mapped_tensors[i]).detach())\n",
    "\n",
    "\n",
    "plt.figure()\n",
    "\n",
    "for i, mapped_tensor in enumerate(mapped_tensors):\n",
    "    if i > 0:\n",
    "        start = mapped_tensors[i-1]\n",
    "        mapped = mapped_tensors[i]\n",
    "\n",
    "        start_x, mapped_x, target_x = project(start, mapped, zh_target_tensor, idx=x_idx)\n",
    "        start_y, mapped_y, target_y = project(start, mapped, zh_target_tensor, idx=y_idx, one_hot=one_hot_y)\n",
    "\n",
    "        dx = mapped_x-start_x\n",
    "        dy = mapped_y-start_y\n",
    "        plt.quiver(start_x, start_y, dx, dy, scale=1, scale_units='xy', angles='xy', color='r', width=0.005)\n",
    "\n",
    "plt.scatter(target_x, target_y, s=1)\n",
    "\n",
    "plt.gca().set_aspect('equal')\n",
    "plt.show()"
   ]
  },
  {
   "cell_type": "markdown",
   "id": "a8d68302",
   "metadata": {},
   "source": [
    "# Testing data"
   ]
  },
  {
   "cell_type": "code",
   "execution_count": 15,
   "id": "1c14b142",
   "metadata": {},
   "outputs": [
    {
     "data": {
      "application/vnd.jupyter.widget-view+json": {
       "model_id": "23f6fdb1f9cc4453947cf98ce629ecc5",
       "version_major": 2,
       "version_minor": 0
      },
      "image/png": "[encoded data removed]",
      "text/html": [
       "\n",
       "            <div style=\"display: inline-block;\">\n",
       "                <div class=\"jupyter-widgets widget-label\" style=\"text-align: center;\">\n",
       "                    Figure\n",
       "                </div>\n",
       "                <img src='data:image/png;base64,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' width=640.0/>\n",
       "            </div>\n",
       "        "
      ],
      "text/plain": [
       "Canvas(toolbar=Toolbar(toolitems=[('Home', 'Reset original view', 'home', 'home'), ('Back', 'Back to previous …"
      ]
     },
     "metadata": {},
     "output_type": "display_data"
    }
   ],
   "source": [
    "zh_start_tensor_test = zh_start_tensor+torch.rand_like(zh_start_tensor)*0.2\n",
    "mapped_tensor = zh_start_tensor_test\n",
    "for i in range(iterations):\n",
    "    mapped_tensor = map(mapped_tensor)\n",
    "mapped_tensor = mapped_tensor.detach()\n",
    "\n",
    "my_plot(zh_start_tensor_test, mapped_tensor, zh_target_tensor, plot_points=10, x_idx=x_idx, y_idx=y_idx, one_hot_y=one_hot_y)\n"
   ]
  },
  {
   "cell_type": "code",
   "execution_count": 16,
   "metadata": {},
   "outputs": [
    {
     "name": "stdout",
     "output_type": "stream",
     "text": [
      "i = 16\n",
      "tensor([0.2027, 0.1827, 0.2111, 0.1086, 0.1476, 0.2017, 0.2578, 0.1294, 0.2497,\n",
      "        0.2143])\n",
      "tensor([ 0.1032, -0.0189,  0.0349,  0.0318,  0.0069, -0.0849,  0.0039,  0.0584,\n",
      "         0.8448,  0.0040])\n",
      "tensor([0., 0., 0., 0., 0., 0., 0., 0., 1., 0.])\n",
      "6 -> 8 -> 8\n",
      "i = 937\n",
      "tensor([0.1958, 0.1284, 0.2810, 0.2327, 0.2700, 0.2157, 0.2720, 0.2002, 0.1119,\n",
      "        0.1927])\n",
      "tensor([ 0.0054,  0.1490, -0.0080,  0.0222, -0.0170, -0.0506,  0.0140, -0.0479,\n",
      "         0.0706,  0.8695])\n",
      "tensor([0., 0., 0., 0., 0., 0., 0., 0., 0., 1.])\n",
      "2 -> 9 -> 9\n",
      "i = 460\n",
      "tensor([0.2513, 0.2711, 0.2768, 0.1237, 0.1457, 0.2127, 0.2340, 0.2710, 0.1111,\n",
      "        0.2782])\n",
      "tensor([ 0.9291, -0.0064, -0.0119, -0.0411,  0.0020, -0.0047, -0.0072, -0.0120,\n",
      "         0.0388,  0.0611])\n",
      "tensor([1., 0., 0., 0., 0., 0., 0., 0., 0., 0.])\n",
      "9 -> 0 -> 0\n",
      "i = 369\n",
      "tensor([0.2283, 0.1153, 0.1835, 0.1140, 0.1674, 0.1408, 0.2882, 0.1876, 0.2801,\n",
      "        0.1640])\n",
      "tensor([-0.0186, -0.0067,  0.0240,  0.0229, -0.0027,  0.0117, -0.0023,  0.0963,\n",
      "         0.0244,  0.8320])\n",
      "tensor([0., 0., 0., 0., 0., 0., 0., 0., 0., 1.])\n",
      "6 -> 9 -> 9\n",
      "i = 179\n",
      "tensor([0.1755, 0.1728, 0.2870, 0.2858, 0.1427, 0.1203, 0.1827, 0.1790, 0.2060,\n",
      "        0.2856])\n",
      "tensor([-0.0642,  0.0899,  0.0676,  0.1869, -0.0179,  0.0050,  0.0312,  0.9562,\n",
      "         0.0481, -0.1340])\n",
      "tensor([0., 0., 0., 0., 0., 0., 0., 1., 0., 0.])\n",
      "2 -> 7 -> 7\n"
     ]
    }
   ],
   "source": [
    "for i in torch.randperm(zh_start_tensor.shape[0])[:5]:\n",
    "    print(f'i = {i}')    \n",
    "    print(zh_start_tensor_test[i,y_idx])\n",
    "    print(mapped_tensor[i,y_idx])\n",
    "    print(zh_target_tensor[i,y_idx])\n",
    "    print(f'{torch.argmax(zh_start_tensor_test[i,y_idx])} -> {torch.argmax(mapped_tensor[i,y_idx])} -> {torch.argmax(zh_target_tensor[i,y_idx])}')\n",
    "\n"
   ]
  },
  {
   "cell_type": "code",
   "execution_count": null,
   "metadata": {},
   "outputs": [],
   "source": []
  }
 ],
 "metadata": {
  "accelerator": "GPU",
  "colab": {
   "include_colab_link": true,
   "provenance": []
  },
  "gpuClass": "standard",
  "jupytext": {
   "formats": "ipynb,py:percent,md"
  },
  "kernelspec": {
   "display_name": "Python 3 (ipykernel)",
   "language": "python",
   "name": "python3"
  },
  "language_info": {
   "codemirror_mode": {
    "name": "ipython",
    "version": 3
   },
   "file_extension": ".py",
   "mimetype": "text/x-python",
   "name": "python",
   "nbconvert_exporter": "python",
   "pygments_lexer": "ipython3",
   "version": "3.10.8"
  },
  "widgets": {
   "application/vnd.jupyter.widget-state+json": {
    "4340e450c8c9444784e3ac188b9230df": {
     "model_module": "@jupyter-widgets/controls",
     "model_module_version": "1.5.0",
     "model_name": "DescriptionStyleModel",
     "state": {
      "_model_module": "@jupyter-widgets/controls",
      "_model_module_version": "1.5.0",
      "_model_name": "DescriptionStyleModel",
      "_view_count": null,
      "_view_module": "@jupyter-widgets/base",
      "_view_module_version": "1.2.0",
      "_view_name": "StyleView",
      "description_width": ""
     }
    },
    "4d5e173f3cdd465b9b40f8b23d270e8a": {
     "model_module": "@jupyter-widgets/base",
     "model_module_version": "1.2.0",
     "model_name": "LayoutModel",
     "state": {
      "_model_module": "@jupyter-widgets/base",
      "_model_module_version": "1.2.0",
      "_model_name": "LayoutModel",
      "_view_count": null,
      "_view_module": "@jupyter-widgets/base",
      "_view_module_version": "1.2.0",
      "_view_name": "LayoutView",
      "align_content": null,
      "align_items": null,
      "align_self": null,
      "border": null,
      "bottom": null,
      "display": null,
      "flex": null,
      "flex_flow": null,
      "grid_area": null,
      "grid_auto_columns": null,
      "grid_auto_flow": null,
      "grid_auto_rows": null,
      "grid_column": null,
      "grid_gap": null,
      "grid_row": null,
      "grid_template_areas": null,
      "grid_template_columns": null,
      "grid_template_rows": null,
      "height": null,
      "justify_content": null,
      "justify_items": null,
      "left": null,
      "margin": null,
      "max_height": null,
      "max_width": null,
      "min_height": null,
      "min_width": null,
      "object_fit": null,
      "object_position": null,
      "order": null,
      "overflow": null,
      "overflow_x": null,
      "overflow_y": null,
      "padding": null,
      "right": null,
      "top": null,
      "visibility": null,
      "width": null
     }
    },
    "5959c15bd28a4059b8952689490ebe2f": {
     "model_module": "@jupyter-widgets/controls",
     "model_module_version": "1.5.0",
     "model_name": "HTMLModel",
     "state": {
      "_dom_classes": [],
      "_model_module": "@jupyter-widgets/controls",
      "_model_module_version": "1.5.0",
      "_model_name": "HTMLModel",
      "_view_count": null,
      "_view_module": "@jupyter-widgets/controls",
      "_view_module_version": "1.5.0",
      "_view_name": "HTMLView",
      "description": "",
      "description_tooltip": null,
      "layout": "IPY_MODEL_a955f09104b54e37b262198a3807761c",
      "placeholder": "​",
      "style": "IPY_MODEL_d4d3328dd8914927b619350b49b6f81c",
      "value": " 999/999 [00:08&lt;00:00, 114.60it/s, loss=0.000293, v_num=0]"
     }
    },
    "915d05c1f046462ebe574b6b306b6110": {
     "model_module": "@jupyter-widgets/controls",
     "model_module_version": "1.5.0",
     "model_name": "HBoxModel",
     "state": {
      "_dom_classes": [],
      "_model_module": "@jupyter-widgets/controls",
      "_model_module_version": "1.5.0",
      "_model_name": "HBoxModel",
      "_view_count": null,
      "_view_module": "@jupyter-widgets/controls",
      "_view_module_version": "1.5.0",
      "_view_name": "HBoxView",
      "box_style": "",
      "children": [
       "IPY_MODEL_df24beefb77f4549b7beed2e23558980",
       "IPY_MODEL_a5a6545605cb475fb4bd6db5d32b0b24",
       "IPY_MODEL_5959c15bd28a4059b8952689490ebe2f"
      ],
      "layout": "IPY_MODEL_a3075bdd01e047faa3f1246dabaedcc7"
     }
    },
    "a3075bdd01e047faa3f1246dabaedcc7": {
     "model_module": "@jupyter-widgets/base",
     "model_module_version": "1.2.0",
     "model_name": "LayoutModel",
     "state": {
      "_model_module": "@jupyter-widgets/base",
      "_model_module_version": "1.2.0",
      "_model_name": "LayoutModel",
      "_view_count": null,
      "_view_module": "@jupyter-widgets/base",
      "_view_module_version": "1.2.0",
      "_view_name": "LayoutView",
      "align_content": null,
      "align_items": null,
      "align_self": null,
      "border": null,
      "bottom": null,
      "display": "inline-flex",
      "flex": null,
      "flex_flow": "row wrap",
      "grid_area": null,
      "grid_auto_columns": null,
      "grid_auto_flow": null,
      "grid_auto_rows": null,
      "grid_column": null,
      "grid_gap": null,
      "grid_row": null,
      "grid_template_areas": null,
      "grid_template_columns": null,
      "grid_template_rows": null,
      "height": null,
      "justify_content": null,
      "justify_items": null,
      "left": null,
      "margin": null,
      "max_height": null,
      "max_width": null,
      "min_height": null,
      "min_width": null,
      "object_fit": null,
      "object_position": null,
      "order": null,
      "overflow": null,
      "overflow_x": null,
      "overflow_y": null,
      "padding": null,
      "right": null,
      "top": null,
      "visibility": null,
      "width": "100%"
     }
    },
    "a5a6545605cb475fb4bd6db5d32b0b24": {
     "model_module": "@jupyter-widgets/controls",
     "model_module_version": "1.5.0",
     "model_name": "FloatProgressModel",
     "state": {
      "_dom_classes": [],
      "_model_module": "@jupyter-widgets/controls",
      "_model_module_version": "1.5.0",
      "_model_name": "FloatProgressModel",
      "_view_count": null,
      "_view_module": "@jupyter-widgets/controls",
      "_view_module_version": "1.5.0",
      "_view_name": "ProgressView",
      "bar_style": "success",
      "description": "",
      "description_tooltip": null,
      "layout": "IPY_MODEL_c81f9b0a5dee4db396442599cb295097",
      "max": 999,
      "min": 0,
      "orientation": "horizontal",
      "style": "IPY_MODEL_faf8ff98c59b4951b62cd8ad4e1d5bfa",
      "value": 999
     }
    },
    "a955f09104b54e37b262198a3807761c": {
     "model_module": "@jupyter-widgets/base",
     "model_module_version": "1.2.0",
     "model_name": "LayoutModel",
     "state": {
      "_model_module": "@jupyter-widgets/base",
      "_model_module_version": "1.2.0",
      "_model_name": "LayoutModel",
      "_view_count": null,
      "_view_module": "@jupyter-widgets/base",
      "_view_module_version": "1.2.0",
      "_view_name": "LayoutView",
      "align_content": null,
      "align_items": null,
      "align_self": null,
      "border": null,
      "bottom": null,
      "display": null,
      "flex": null,
      "flex_flow": null,
      "grid_area": null,
      "grid_auto_columns": null,
      "grid_auto_flow": null,
      "grid_auto_rows": null,
      "grid_column": null,
      "grid_gap": null,
      "grid_row": null,
      "grid_template_areas": null,
      "grid_template_columns": null,
      "grid_template_rows": null,
      "height": null,
      "justify_content": null,
      "justify_items": null,
      "left": null,
      "margin": null,
      "max_height": null,
      "max_width": null,
      "min_height": null,
      "min_width": null,
      "object_fit": null,
      "object_position": null,
      "order": null,
      "overflow": null,
      "overflow_x": null,
      "overflow_y": null,
      "padding": null,
      "right": null,
      "top": null,
      "visibility": null,
      "width": null
     }
    },
    "c81f9b0a5dee4db396442599cb295097": {
     "model_module": "@jupyter-widgets/base",
     "model_module_version": "1.2.0",
     "model_name": "LayoutModel",
     "state": {
      "_model_module": "@jupyter-widgets/base",
      "_model_module_version": "1.2.0",
      "_model_name": "LayoutModel",
      "_view_count": null,
      "_view_module": "@jupyter-widgets/base",
      "_view_module_version": "1.2.0",
      "_view_name": "LayoutView",
      "align_content": null,
      "align_items": null,
      "align_self": null,
      "border": null,
      "bottom": null,
      "display": null,
      "flex": "2",
      "flex_flow": null,
      "grid_area": null,
      "grid_auto_columns": null,
      "grid_auto_flow": null,
      "grid_auto_rows": null,
      "grid_column": null,
      "grid_gap": null,
      "grid_row": null,
      "grid_template_areas": null,
      "grid_template_columns": null,
      "grid_template_rows": null,
      "height": null,
      "justify_content": null,
      "justify_items": null,
      "left": null,
      "margin": null,
      "max_height": null,
      "max_width": null,
      "min_height": null,
      "min_width": null,
      "object_fit": null,
      "object_position": null,
      "order": null,
      "overflow": null,
      "overflow_x": null,
      "overflow_y": null,
      "padding": null,
      "right": null,
      "top": null,
      "visibility": null,
      "width": null
     }
    },
    "d4d3328dd8914927b619350b49b6f81c": {
     "model_module": "@jupyter-widgets/controls",
     "model_module_version": "1.5.0",
     "model_name": "DescriptionStyleModel",
     "state": {
      "_model_module": "@jupyter-widgets/controls",
      "_model_module_version": "1.5.0",
      "_model_name": "DescriptionStyleModel",
      "_view_count": null,
      "_view_module": "@jupyter-widgets/base",
      "_view_module_version": "1.2.0",
      "_view_name": "StyleView",
      "description_width": ""
     }
    },
    "df24beefb77f4549b7beed2e23558980": {
     "model_module": "@jupyter-widgets/controls",
     "model_module_version": "1.5.0",
     "model_name": "HTMLModel",
     "state": {
      "_dom_classes": [],
      "_model_module": "@jupyter-widgets/controls",
      "_model_module_version": "1.5.0",
      "_model_name": "HTMLModel",
      "_view_count": null,
      "_view_module": "@jupyter-widgets/controls",
      "_view_module_version": "1.5.0",
      "_view_name": "HTMLView",
      "description": "",
      "description_tooltip": null,
      "layout": "IPY_MODEL_4d5e173f3cdd465b9b40f8b23d270e8a",
      "placeholder": "​",
      "style": "IPY_MODEL_4340e450c8c9444784e3ac188b9230df",
      "value": "Epoch 9: 100%"
     }
    },
    "faf8ff98c59b4951b62cd8ad4e1d5bfa": {
     "model_module": "@jupyter-widgets/controls",
     "model_module_version": "1.5.0",
     "model_name": "ProgressStyleModel",
     "state": {
      "_model_module": "@jupyter-widgets/controls",
      "_model_module_version": "1.5.0",
      "_model_name": "ProgressStyleModel",
      "_view_count": null,
      "_view_module": "@jupyter-widgets/base",
      "_view_module_version": "1.2.0",
      "_view_name": "StyleView",
      "bar_color": null,
      "description_width": ""
     }
    }
   }
  }
 },
 "nbformat": 4,
 "nbformat_minor": 5
}
