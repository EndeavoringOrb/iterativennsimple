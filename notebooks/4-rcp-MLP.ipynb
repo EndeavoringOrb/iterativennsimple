{
 "cells": [
  {
   "cell_type": "markdown",
   "id": "f6828844-3a74-49bd-8348-ceae45948da7",
   "metadata": {
    "id": "f6828844-3a74-49bd-8348-ceae45948da7"
   },
   "source": [
    "# Load data"
   ]
  },
  {
   "cell_type": "code",
   "execution_count": 1,
   "id": "a5713c2d-0108-4708-9f0d-021e183f6d1e",
   "metadata": {
    "id": "a5713c2d-0108-4708-9f0d-021e183f6d1e"
   },
   "outputs": [],
   "source": [
    "import torch\n",
    "import matplotlib.pyplot as plt\n",
    "%matplotlib widget\n",
    "\n",
    "from iterativennsimple.Sequential2D import Sequential2D, Identity\n",
    "from iterativennsimple.Sequential1D import Sequential1D\n",
    "from iterativennsimple.utils.load_data import load_data\n",
    "\n",
    "from iterativennsimple.utils.plot_2D_start_end import plot_2D_start_end"
   ]
  },
  {
   "cell_type": "code",
   "execution_count": 2,
   "id": "d0e79796",
   "metadata": {},
   "outputs": [],
   "source": [
    "# Turn a pandas dataframe into a pytorch tensor\n",
    "def df_to_tensor(df):\n",
    "    return torch.tensor(df.values, dtype=torch.float32)"
   ]
  },
  {
   "cell_type": "code",
   "execution_count": 3,
   "id": "9f5c3fcc-147d-4669-8ab2-3ddf16a88b4e",
   "metadata": {
    "id": "9f5c3fcc-147d-4669-8ab2-3ddf16a88b4e"
   },
   "outputs": [],
   "source": [
    "#name = 'regression_line'\n",
    "#name = 'pca_line'\n",
    "#name = 'circle'\n",
    "#name = 'regression_circle'\n",
    "#one_hot_y = False\n",
    "\n",
    "name = 'MNIST'\n",
    "one_hot_y = True\n",
    "\n",
    "# Read the data\n",
    "data_dict = load_data(name)\n",
    "\n",
    "z_start = data_dict['start']\n",
    "z_target = data_dict['target']"
   ]
  },
  {
   "cell_type": "markdown",
   "id": "78ba5bdc",
   "metadata": {},
   "source": [
    "## Data preprocessing"
   ]
  },
  {
   "cell_type": "code",
   "execution_count": 4,
   "id": "133ecd27",
   "metadata": {},
   "outputs": [],
   "source": [
    "z_start_tensor = df_to_tensor(z_start)\n",
    "z_target_tensor = df_to_tensor(z_target)\n",
    "\n",
    "# Only use the given number of sample\n",
    "max_num_samples = 1000\n",
    "num_samples = min(max_num_samples, z_start_tensor.shape[0])\n",
    "z_start_tensor = z_start_tensor[:num_samples]\n",
    "z_target_tensor = z_target_tensor[:num_samples]\n"
   ]
  },
  {
   "cell_type": "markdown",
   "id": "2d9b3a29",
   "metadata": {},
   "source": [
    "We have two views of the data, and here is where we reconcile them.   The dynamical systems view is to have vector $z_0$ (called \"z_start_tensor\" in the code) and $z_1$ (called \"z_target_tensor\" in the code) that are the initial and final states of the system.  We want to construct a function $f$ (or more precisely choose a set of parameters $\\theta$ that selects $f$ from some family of functions) such that $\\|f(z_0) - z_1\\|$ is small.  The machine learning view is to have a set of inputs $x$ (which is a subset of \"z_start_tensor\") and a set of outputs $y$ (which is a subset of \"z_target_tensor\") and to construct a function $g$ (or more precisely choose a set of parameters $\\phi$ that selects $g$ from some family of functions) such that $\\|g(x) - y\\|$ is small.   \n",
    "\n",
    "**The idea is to have $x$ and $y$ be subsets of $z_0$ and $z_1$ respectively!**   But how to do that!?"
   ]
  },
  {
   "cell_type": "markdown",
   "id": "4f1e3668",
   "metadata": {},
   "source": [
    "Let's begin by writing \n",
    "\n",
    "$$\n",
    "z_i=\n",
    "\\begin{bmatrix}\n",
    "x_i \\\\\n",
    "y_i \\\\\n",
    "\\end{bmatrix}\n",
    "$$\n",
    "\n",
    "and **we assume that $x_0=x_1$**.  This may seem odd at first glance, but is actually quite natural.  For example, in our MNIST example the starting image in $x_0$ and the target image in $x_1$ are the same.  It is merely the classification in $y_0$ and $y_1$ that are different.  I.e., $y_0$ contains some noisy classification or uniform prior of $x_0$ and $y_1$ contains the correct classification of $x_0$.  In the case of the MNIST data, we have $x_0=x_1$ and $y_0\\neq y_1$.\n",
    "\n",
    "So, in slighltly more detail we choose $z_0$ and $z_1$ so that\n",
    "\n",
    "$$\n",
    "z_0=\n",
    "\\begin{bmatrix}\n",
    "x_0 \\\\\n",
    "y_0 \\\\\n",
    "\\end{bmatrix}\n",
    "$$\n",
    "\n",
    "and\n",
    "\n",
    "$$\n",
    "z_1=\n",
    "\\begin{bmatrix}\n",
    "x_0 \\\\\n",
    "y_1 \\\\\n",
    "\\end{bmatrix}\n",
    "$$"
   ]
  },
  {
   "cell_type": "code",
   "execution_count": 5,
   "id": "701f8d98",
   "metadata": {},
   "outputs": [
    {
     "name": "stdout",
     "output_type": "stream",
     "text": [
      "torch.Size([794]) torch.Size([794])\n",
      "tensor(784) tensor(10)\n"
     ]
    }
   ],
   "source": [
    "\n",
    "# compute a mask for the data where every entry in each column is the same\n",
    "# this is used to remove columns that are constant\n",
    "mask = (z_start_tensor == z_target_tensor).all(axis=0)\n",
    "mask.shape\n",
    "x_mask = mask\n",
    "y_mask = ~mask\n",
    "\n",
    "# print out the shape of the masks\n",
    "print(x_mask.shape, y_mask.shape)\n",
    "\n",
    "# print out number of true entries in each mask\n",
    "print(x_mask.sum(), y_mask.sum())\n"
   ]
  },
  {
   "cell_type": "markdown",
   "id": "1880ae29-6269-42a9-870f-fb52bb18cf36",
   "metadata": {
    "id": "1880ae29-6269-42a9-870f-fb52bb18cf36"
   },
   "source": [
    "# MLP model"
   ]
  },
  {
   "cell_type": "markdown",
   "id": "11bc5490",
   "metadata": {},
   "source": [
    "Now we start using Sequential2D to build our model.  This requires a little massaging of the data.  In particlar, remember that we now have an iterative map of the form\n",
    "\n",
    "$$\n",
    "\\begin{bmatrix}\n",
    "I   & 0   & 0   & 0 \\\\\n",
    "f_1 & 0   & 0   & 0 \\\\\n",
    "0   & f_2 & 0   & 0 \\\\\n",
    "0   & 0   & f_3 & 0 \\\\\n",
    "\\end{bmatrix}\n",
    "$$\n",
    "\n",
    "and a state vector that combines $x$, $y$, and *the hidden layers* in the following way.\n",
    "\n",
    "$$\n",
    "\\begin{bmatrix}\n",
    "I   & 0   & 0   & 0 \\\\\n",
    "f_1 & 0   & 0   & 0 \\\\\n",
    "0   & f_2 & 0   & 0 \\\\\n",
    "0   & 0   & f_3 & 0 \\\\\n",
    "\\end{bmatrix}\n",
    "\\circ\n",
    "\\begin{bmatrix}\n",
    "x_0 \\\\\n",
    "h_1 \\\\\n",
    "h_2 \\\\\n",
    "y_0 \\\\\n",
    "\\end{bmatrix}\n",
    "$$"
   ]
  },
  {
   "cell_type": "markdown",
   "id": "0fc9ed2c",
   "metadata": {},
   "source": [
    "I am feeling a little silly today, so let's do the rest using Achilles and the Hare from Godel, Escher, Bach.\n",
    "\n",
    "![Godel, Escher, Bach](https://www.newworldai.com/wp-content/uploads/G%C3%B6del-Escher-Bach-621x400.jpg)"
   ]
  },
  {
   "cell_type": "markdown",
   "id": "7daa36af",
   "metadata": {},
   "source": [
    "Achilles:  But... didn't you just say that an normal ML algorithm link and MLP ignores $y_0$?  Look, doesn't $y_0$ appear right up there?  \n",
    "\n",
    "Hare: Well, look at what happens after the first iteration.\n",
    "\n",
    "$$\n",
    "\\begin{bmatrix}\n",
    "I   & 0   & 0   & 0 \\\\\n",
    "f_1 & 0   & 0   & 0 \\\\\n",
    "0   & f_2 & 0   & 0 \\\\\n",
    "0   & 0   & f_3 & 0 \\\\\n",
    "\\end{bmatrix}\n",
    "\\circ\n",
    "\\begin{bmatrix}\n",
    "x_0 \\\\\n",
    "h_1 \\\\\n",
    "h_2 \\\\\n",
    "y_0 \\\\\n",
    "\\end{bmatrix}\n",
    "=\n",
    "\\begin{bmatrix}\n",
    "x_0 \\\\\n",
    "f_1(x_0) \\\\\n",
    "f_2(h_1) \\\\\n",
    "f_3(h_2) \\\\\n",
    "\\end{bmatrix}\n",
    "$$\n",
    "\n",
    "which **does not** contain $y_0$!  The MLP is cunningly designed to ignore the initial guess contained in $y_0$ :-)"
   ]
  },
  {
   "cell_type": "markdown",
   "id": "3c74a4ef",
   "metadata": {},
   "source": [
    "Achilles:  But... but... but...  what about the hidden layers $h_1$ and $h_2$?  Don't you need to choose them carefully since they are the input to the next layer\\iteration?  I remember reading that MLPs don't care about random initializations of the hidden layers since they will be overwritten by the training process!?\n",
    "\n",
    "Hare: Yes, but...  look at what happens after the second iteration.\n",
    "\n",
    "$$\n",
    "\\begin{bmatrix}\n",
    "I   & 0   & 0   & 0 \\\\\n",
    "f_1 & 0   & 0   & 0 \\\\\n",
    "0   & f_2 & 0   & 0 \\\\\n",
    "0   & 0   & f_3 & 0 \\\\\n",
    "\\end{bmatrix}\n",
    "\\circ\n",
    "\\begin{bmatrix}\n",
    "I   & 0   & 0   & 0 \\\\\n",
    "f_1 & 0   & 0   & 0 \\\\\n",
    "0   & f_2 & 0   & 0 \\\\\n",
    "0   & 0   & f_3 & 0 \\\\\n",
    "\\end{bmatrix}\n",
    "\\circ\n",
    "\\begin{bmatrix}\n",
    "x_0 \\\\\n",
    "h_1 \\\\\n",
    "h_2 \\\\\n",
    "y_0 \\\\\n",
    "\\end{bmatrix}\n",
    "=\n",
    "\\begin{bmatrix}\n",
    "x_0 \\\\\n",
    "f_1(x_0) \\\\\n",
    "f_2(f_1(x_0)) \\\\\n",
    "f_3(f_2(h_1)) \\\\\n",
    "\\end{bmatrix}\n",
    "$$\n"
   ]
  },
  {
   "cell_type": "markdown",
   "id": "19538528",
   "metadata": {},
   "source": [
    "Hare: And one more iteration gives\n",
    "\n",
    "$$\n",
    "\\begin{bmatrix}\n",
    "I   & 0   & 0   & 0 \\\\\n",
    "f_1 & 0   & 0   & 0 \\\\\n",
    "0   & f_2 & 0   & 0 \\\\\n",
    "0   & 0   & f_3 & 0 \\\\\n",
    "\\end{bmatrix}\n",
    "\\circ\n",
    "\\begin{bmatrix}\n",
    "I   & 0   & 0   & 0 \\\\\n",
    "f_1 & 0   & 0   & 0 \\\\\n",
    "0   & f_2 & 0   & 0 \\\\\n",
    "0   & 0   & f_3 & 0 \\\\\n",
    "\\end{bmatrix}\n",
    "\\circ\n",
    "\\begin{bmatrix}\n",
    "I   & 0   & 0   & 0 \\\\\n",
    "f_1 & 0   & 0   & 0 \\\\\n",
    "0   & f_2 & 0   & 0 \\\\\n",
    "0   & 0   & f_3 & 0 \\\\\n",
    "\\end{bmatrix}\n",
    "\\circ\n",
    "\\begin{bmatrix}\n",
    "x_0 \\\\\n",
    "h_1 \\\\\n",
    "h_2 \\\\\n",
    "y_0 \\\\\n",
    "\\end{bmatrix}\n",
    "=\n",
    "\\begin{bmatrix}\n",
    "x_0 \\\\\n",
    "f_1(x_0) \\\\\n",
    "f_2(f_1(x_0)) \\\\\n",
    "f_3(f_2(f_1(x_0))) \\\\\n",
    "\\end{bmatrix}\n",
    "$$\n",
    "\n",
    "Two neat things have happened. First notice that the hidden layers $h_1$ and $h_2$ have been overwritten by the training process, so their initiationlization is irrelevant.  Second, we have the last entry has the form $f_3(f_2(f_1(x_0)))$ which is exactly the form of the answer that the MLP would have given!"
   ]
  },
  {
   "cell_type": "markdown",
   "id": "1fddde4e",
   "metadata": {},
   "source": [
    "Hare:  So, the MLP is a cunningly designed iterative map that ignores the initial guess $y_0$ and the hidden layers $h_1$ and $h_2$ and gives the same answer as the iterative map that we are trying to learn!  "
   ]
  },
  {
   "cell_type": "code",
   "execution_count": 6,
   "id": "ebbc9b74-d7dc-4dd6-bb72-88ed57f5b63e",
   "metadata": {
    "id": "ebbc9b74-d7dc-4dd6-bb72-88ed57f5b63e"
   },
   "outputs": [],
   "source": [
    "input_size = int(x_mask.sum())\n",
    "h1_size = 20\n",
    "h2_size = 20\n",
    "output_size = int(y_mask.sum())\n",
    "\n",
    "x_idx = torch.arange(0, input_size)\n",
    "h_idx = torch.arange(input_size, input_size+h1_size+h2_size)\n",
    "y_idx = torch.arange(input_size+h1_size+h2_size, input_size+h1_size+h2_size+output_size)\n",
    "\n",
    "total_size = input_size + h1_size + h2_size + output_size\n",
    "\n",
    "iterations = 3\n",
    "\n",
    "I = Identity(in_features=input_size, out_features=input_size)\n",
    "f1 = Sequential1D(torch.nn.Linear(in_features=input_size, out_features=h1_size), \n",
    "                  torch.nn.ReLU(), \n",
    "                  in_features=input_size, out_features=h1_size)\n",
    "f2 = Sequential1D(torch.nn.Linear(in_features=h1_size, out_features=h2_size), \n",
    "                  torch.nn.ReLU(), \n",
    "                  in_features=h1_size,    out_features=h2_size)\n",
    "f3 = torch.nn.Linear(in_features=h2_size,    out_features=output_size)    \n",
    "\n",
    "in_features_list  = [input_size, h1_size, h2_size, output_size]\n",
    "out_features_list = [input_size, h1_size, h2_size, output_size]\n",
    "blocks = [[I,    None, None, None],\n",
    "          [f1,   None, None, None],\n",
    "          [None, f2,   None, None],\n",
    "          [None, None, f3,   None]]\n",
    "\n",
    "def transpose_blocks(blocks):\n",
    "    return [[blocks[j][i] for j in range(len(blocks))] for i in range(len(blocks[0]))]\n",
    "\n",
    "map = Sequential2D(\n",
    "    in_features_list=in_features_list,\n",
    "    out_features_list=out_features_list,\n",
    "    blocks=transpose_blocks(blocks)\n",
    ")   "
   ]
  },
  {
   "cell_type": "code",
   "execution_count": 7,
   "id": "c367059b",
   "metadata": {},
   "outputs": [],
   "source": [
    "zh_start_tensor = torch.cat((z_start_tensor[:, x_mask],\n",
    "                             torch.zeros(z_start_tensor.shape[0], len(h_idx)), \n",
    "                             z_start_tensor[:, y_mask]), dim=1)\n",
    "zh_target_tensor = torch.cat((z_target_tensor[:, x_mask], \n",
    "                             torch.zeros(z_target_tensor.shape[0], len(h_idx)), \n",
    "                             z_target_tensor[:, y_mask]), dim=1)"
   ]
  },
  {
   "cell_type": "code",
   "execution_count": 8,
   "id": "a7eeb2b8",
   "metadata": {},
   "outputs": [],
   "source": [
    "# a dataloader which returns a batch of start and target data\n",
    "class Data(torch.utils.data.Dataset):\n",
    "    def __init__(self, z_start, z_target):\n",
    "        self.z_start = z_start\n",
    "        self.z_target = z_target\n",
    "    def __len__(self):\n",
    "        return len(self.z_start)\n",
    "    def __getitem__(self, idx):\n",
    "        return self.z_start[idx], self.z_target[idx]\n",
    "    \n",
    "train_data = Data(zh_start_tensor, zh_target_tensor)\n",
    "train_loader = torch.utils.data.DataLoader(train_data, batch_size=512, shuffle=True)"
   ]
  },
  {
   "cell_type": "code",
   "execution_count": 9,
   "id": "7486ca78-5e1c-4f94-afb5-9015303aaa09",
   "metadata": {
    "colab": {
     "base_uri": "https://localhost:8080/",
     "height": 382,
     "referenced_widgets": [
      "915d05c1f046462ebe574b6b306b6110",
      "df24beefb77f4549b7beed2e23558980",
      "a5a6545605cb475fb4bd6db5d32b0b24",
      "5959c15bd28a4059b8952689490ebe2f",
      "a3075bdd01e047faa3f1246dabaedcc7",
      "4d5e173f3cdd465b9b40f8b23d270e8a",
      "4340e450c8c9444784e3ac188b9230df",
      "c81f9b0a5dee4db396442599cb295097",
      "faf8ff98c59b4951b62cd8ad4e1d5bfa",
      "a955f09104b54e37b262198a3807761c",
      "d4d3328dd8914927b619350b49b6f81c"
     ]
    },
    "id": "7486ca78-5e1c-4f94-afb5-9015303aaa09",
    "outputId": "e3247ec9-d372-4fda-c69e-654d985bc905"
   },
   "outputs": [],
   "source": [
    "# Define the loss function and optimizer\n",
    "criterion = torch.nn.MSELoss()\n",
    "optimizer = torch.optim.Adam(map.parameters(), lr=0.001)"
   ]
  },
  {
   "cell_type": "code",
   "execution_count": 10,
   "id": "cb50afb7",
   "metadata": {},
   "outputs": [
    {
     "name": "stdout",
     "output_type": "stream",
     "text": [
      "Epoch 0, Batch 1, Loss 0.10901208966970444\n",
      "Epoch 100, Batch 1, Loss 0.020908454433083534\n",
      "Epoch 200, Batch 1, Loss 0.010904118418693542\n",
      "Epoch 300, Batch 1, Loss 0.006101851351559162\n",
      "Epoch 400, Batch 1, Loss 0.003991550300270319\n"
     ]
    }
   ],
   "source": [
    "max_epochs = 500\n",
    "# Train the model\n",
    "for epoch in range(max_epochs):\n",
    "    for batch_idx, (start, target) in enumerate(train_loader):\n",
    "        optimizer.zero_grad()\n",
    "\n",
    "        mapped = start\n",
    "\n",
    "        loss = 0.0\n",
    "        for i in range(iterations):\n",
    "            mapped = map(mapped)\n",
    "\n",
    "        loss = criterion(mapped[:, y_idx], target[:, y_idx])\n",
    "        loss.backward()\n",
    "\n",
    "        optimizer.step()\n",
    "    if epoch % 100 == 0:\n",
    "        print(f'Epoch {epoch}, Batch {batch_idx}, Loss {loss.item()}')"
   ]
  },
  {
   "cell_type": "markdown",
   "id": "054793e0",
   "metadata": {},
   "source": [
    "# Training data"
   ]
  },
  {
   "cell_type": "code",
   "execution_count": 11,
   "id": "0545bf25",
   "metadata": {},
   "outputs": [],
   "source": [
    "def project(z_start, z_mapped, z_target, idx, one_hot=False):\n",
    "    if len(idx) == 1:\n",
    "        start = z_start[:, idx[0]]\n",
    "        target = z_target[:, idx[0]]\n",
    "        mapped = z_mapped[:, idx[0]]\n",
    "    else:\n",
    "        if one_hot:\n",
    "            start = torch.argmax(z_start[:, idx], dim=1)\n",
    "            target = torch.argmax(z_target[:, idx], dim=1)\n",
    "            mapped = torch.argmax(z_mapped[:, idx], dim=1)\n",
    "        else:\n",
    "            # Use PCA to reduce the dimensionality of the data\n",
    "            _, _, V = torch.svd(z_target[:, idx])\n",
    "            start = torch.matmul(z_start[:, idx], V[:, 0])\n",
    "            target = torch.matmul(z_target[:, idx], V[:, 0])\n",
    "            mapped = torch.matmul(z_mapped[:, idx], V[:, 0])\n",
    "    return start, mapped, target\n",
    "\n",
    "\n",
    "def my_plot(z_start, z_mapped, z_target, plot_points, x_idx, y_idx, one_hot_y=False):\n",
    "    start_x, mapped_x, target_x = project(z_start, z_mapped, z_target, x_idx)\n",
    "    start_y, mapped_y, target_y = project(z_start, z_mapped, z_target, y_idx, one_hot_y)\n",
    "    plot_2D_start_end(start_x, start_y,\n",
    "                      mapped_x, mapped_y, \n",
    "                      target_x, target_y, \n",
    "                      plot_points)"
   ]
  },
  {
   "cell_type": "code",
   "execution_count": 12,
   "id": "86109c30",
   "metadata": {},
   "outputs": [
    {
     "data": {
      "application/vnd.jupyter.widget-view+json": {
       "model_id": "b19b003fa4d34572878415bcbaceb269",
       "version_major": 2,
       "version_minor": 0
      },
      "image/png": "[encoded data removed]",
      "text/html": [
       "\n",
       "            <div style=\"display: inline-block;\">\n",
       "                <div class=\"jupyter-widgets widget-label\" style=\"text-align: center;\">\n",
       "                    Figure\n",
       "                </div>\n",
       "                <img src='data:image/png;base64,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' width=640.0/>\n",
       "            </div>\n",
       "        "
      ],
      "text/plain": [
       "Canvas(toolbar=Toolbar(toolitems=[('Home', 'Reset original view', 'home', 'home'), ('Back', 'Back to previous …"
      ]
     },
     "metadata": {},
     "output_type": "display_data"
    }
   ],
   "source": [
    "\n",
    "plot_iterations = 1\n",
    "\n",
    "mapped_tensor = zh_start_tensor\n",
    "for i in range(plot_iterations):\n",
    "    mapped_tensor = map(mapped_tensor)\n",
    "mapped_tensor = mapped_tensor.detach()\n",
    "\n",
    "my_plot(zh_start_tensor, mapped_tensor, zh_target_tensor, plot_points=10, x_idx=x_idx, y_idx=y_idx, one_hot_y=one_hot_y)\n"
   ]
  },
  {
   "cell_type": "code",
   "execution_count": 13,
   "id": "8ac074be-5d27-480a-83fe-e1161e9d69ef",
   "metadata": {
    "id": "8ac074be-5d27-480a-83fe-e1161e9d69ef"
   },
   "outputs": [
    {
     "data": {
      "application/vnd.jupyter.widget-view+json": {
       "model_id": "0751bcdb7f1b499cb39c9a5f6b5e9855",
       "version_major": 2,
       "version_minor": 0
      },
      "image/png": "[encoded data removed]",
      "text/html": [
       "\n",
       "            <div style=\"display: inline-block;\">\n",
       "                <div class=\"jupyter-widgets widget-label\" style=\"text-align: center;\">\n",
       "                    Figure\n",
       "                </div>\n",
       "                <img src='data:image/png;base64,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' width=640.0/>\n",
       "            </div>\n",
       "        "
      ],
      "text/plain": [
       "Canvas(toolbar=Toolbar(toolitems=[('Home', 'Reset original view', 'home', 'home'), ('Back', 'Back to previous …"
      ]
     },
     "metadata": {},
     "output_type": "display_data"
    }
   ],
   "source": [
    "plot_iterations = iterations\n",
    "\n",
    "mapped_tensor = zh_start_tensor\n",
    "for i in range(plot_iterations):\n",
    "    mapped_tensor = map(mapped_tensor)\n",
    "mapped_tensor = mapped_tensor.detach()\n",
    "\n",
    "my_plot(zh_start_tensor, mapped_tensor, zh_target_tensor, plot_points=10, x_idx=x_idx, y_idx=y_idx, one_hot_y=one_hot_y)"
   ]
  },
  {
   "cell_type": "markdown",
   "id": "ea123cd4",
   "metadata": {},
   "source": [
    "# Path"
   ]
  },
  {
   "cell_type": "code",
   "execution_count": 14,
   "id": "911b76b9",
   "metadata": {},
   "outputs": [
    {
     "data": {
      "application/vnd.jupyter.widget-view+json": {
       "model_id": "6d740dc98d8e4a5bbffc3d4cb75a2e9e",
       "version_major": 2,
       "version_minor": 0
      },
      "image/png": "[encoded data removed]",
      "text/html": [
       "\n",
       "            <div style=\"display: inline-block;\">\n",
       "                <div class=\"jupyter-widgets widget-label\" style=\"text-align: center;\">\n",
       "                    Figure\n",
       "                </div>\n",
       "                <img src='data:image/png;base64,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' width=640.0/>\n",
       "            </div>\n",
       "        "
      ],
      "text/plain": [
       "Canvas(toolbar=Toolbar(toolitems=[('Home', 'Reset original view', 'home', 'home'), ('Back', 'Back to previous …"
      ]
     },
     "metadata": {},
     "output_type": "display_data"
    }
   ],
   "source": [
    "plot_points = 10\n",
    "\n",
    "\n",
    "mapped_tensors = [zh_start_tensor[:plot_points, :]]\n",
    "for i in range(iterations):\n",
    "    mapped_tensors.append(map(mapped_tensors[i]).detach())\n",
    "\n",
    "\n",
    "plt.figure()\n",
    "\n",
    "for i, mapped_tensor in enumerate(mapped_tensors):\n",
    "    if i > 0:\n",
    "        start = mapped_tensors[i-1]\n",
    "        mapped = mapped_tensors[i]\n",
    "\n",
    "        start_x, mapped_x, target_x = project(start, mapped, zh_target_tensor, idx=x_idx)\n",
    "        start_y, mapped_y, target_y = project(start, mapped, zh_target_tensor, idx=y_idx, one_hot=one_hot_y)\n",
    "\n",
    "        dx = mapped_x-start_x\n",
    "        dy = mapped_y-start_y\n",
    "        plt.quiver(start_x, start_y, dx, dy, scale=1, scale_units='xy', angles='xy', color='r', width=0.005)\n",
    "\n",
    "plt.scatter(target_x, target_y, s=1)\n",
    "\n",
    "plt.gca().set_aspect('equal')\n",
    "plt.show()"
   ]
  },
  {
   "cell_type": "markdown",
   "id": "a8d68302",
   "metadata": {},
   "source": [
    "# Testing data"
   ]
  },
  {
   "cell_type": "code",
   "execution_count": null,
   "id": "1c14b142",
   "metadata": {},
   "outputs": [
    {
     "data": {
      "application/vnd.jupyter.widget-view+json": {
       "model_id": "5cb0fd4b11b34eb99169a0d2ce1a28b6",
       "version_major": 2,
       "version_minor": 0
      },
      "image/png": "[encoded data removed]",
      "text/html": [
       "\n",
       "            <div style=\"display: inline-block;\">\n",
       "                <div class=\"jupyter-widgets widget-label\" style=\"text-align: center;\">\n",
       "                    Figure\n",
       "                </div>\n",
       "                <img src='data:image/png;base64,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' width=640.0/>\n",
       "            </div>\n",
       "        "
      ],
      "text/plain": [
       "Canvas(toolbar=Toolbar(toolitems=[('Home', 'Reset original view', 'home', 'home'), ('Back', 'Back to previous …"
      ]
     },
     "metadata": {},
     "output_type": "display_data"
    }
   ],
   "source": [
    "zh_start_tensor_test = zh_start_tensor+torch.rand_like(zh_start_tensor)*0.2\n",
    "mapped_tensor = zh_start_tensor_test\n",
    "for i in range(iterations):\n",
    "    mapped_tensor = map(mapped_tensor)\n",
    "mapped_tensor = mapped_tensor.detach()\n",
    "\n",
    "my_plot(zh_start_tensor_test, mapped_tensor, zh_target_tensor, plot_points=10, x_idx=x_idx, y_idx=y_idx, one_hot_y=one_hot_y)\n"
   ]
  },
  {
   "cell_type": "code",
   "execution_count": 16,
   "id": "5e549cdb",
   "metadata": {},
   "outputs": [
    {
     "name": "stdout",
     "output_type": "stream",
     "text": [
      "i = 334\n",
      "tensor([0.1753, 0.1863, 0.2881, 0.2278, 0.2239, 0.1852, 0.1490, 0.1918, 0.1818,\n",
      "        0.2131])\n",
      "tensor([ 0.0455, -0.0037, -0.0190,  0.0227, -0.0046,  0.9126,  0.0045, -0.0152,\n",
      "        -0.0200,  0.0192])\n",
      "tensor([0., 0., 0., 0., 0., 1., 0., 0., 0., 0.])\n",
      "2 -> 5 -> 5\n",
      "i = 379\n",
      "tensor([0.2081, 0.2796, 0.1498, 0.2622, 0.2672, 0.2366, 0.1683, 0.1676, 0.2695,\n",
      "        0.2248])\n",
      "tensor([ 0.0028, -0.0329, -0.0664,  0.0091,  0.0532, -0.0824,  1.1019,  0.0073,\n",
      "         0.0128, -0.0358])\n",
      "tensor([0., 0., 0., 0., 0., 0., 1., 0., 0., 0.])\n",
      "1 -> 6 -> 6\n",
      "i = 82\n",
      "tensor([0.1016, 0.2026, 0.1130, 0.1571, 0.2780, 0.2412, 0.2537, 0.1986, 0.1539,\n",
      "        0.2931])\n",
      "tensor([ 0.0117, -0.0150,  0.0185,  0.0112,  0.0564, -0.0066, -0.0059,  0.8811,\n",
      "        -0.0459,  0.0059])\n",
      "tensor([0., 0., 0., 0., 0., 0., 0., 1., 0., 0.])\n",
      "9 -> 7 -> 7\n",
      "i = 234\n",
      "tensor([0.1941, 0.1958, 0.2437, 0.1243, 0.2611, 0.1848, 0.1445, 0.2531, 0.1831,\n",
      "        0.2944])\n",
      "tensor([-0.0265,  0.0193,  0.0993,  0.0547, -0.0167,  0.8288,  0.0625, -0.0203,\n",
      "        -0.0391, -0.0168])\n",
      "tensor([0., 0., 0., 0., 0., 1., 0., 0., 0., 0.])\n",
      "9 -> 5 -> 5\n",
      "i = 115\n",
      "tensor([0.2734, 0.2381, 0.2366, 0.1469, 0.1970, 0.2550, 0.1571, 0.2052, 0.2831,\n",
      "        0.2979])\n",
      "tensor([-0.0012, -0.0030,  0.0455,  0.0125,  0.0084,  0.0201,  0.8686, -0.0088,\n",
      "        -0.0282,  0.0064])\n",
      "tensor([0., 0., 0., 0., 0., 0., 1., 0., 0., 0.])\n",
      "9 -> 6 -> 6\n"
     ]
    }
   ],
   "source": [
    "for i in torch.randperm(zh_start_tensor.shape[0])[:5]:\n",
    "    print(f'i = {i}')    \n",
    "    print(zh_start_tensor_test[i,y_idx])\n",
    "    print(mapped_tensor[i,y_idx])\n",
    "    print(zh_target_tensor[i,y_idx])\n",
    "    print(f'{torch.argmax(zh_start_tensor_test[i,y_idx])} -> {torch.argmax(mapped_tensor[i,y_idx])} -> {torch.argmax(zh_target_tensor[i,y_idx])}')\n",
    "\n"
   ]
  },
  {
   "cell_type": "code",
   "execution_count": null,
   "metadata": {},
   "outputs": [],
   "source": []
  }
 ],
 "metadata": {
  "accelerator": "GPU",
  "colab": {
   "include_colab_link": true,
   "provenance": []
  },
  "gpuClass": "standard",
  "jupytext": {
   "formats": "ipynb,py:percent,md"
  },
  "kernelspec": {
   "display_name": ".venv",
   "language": "python",
   "name": "python3"
  },
  "language_info": {
   "codemirror_mode": {
    "name": "ipython",
    "version": 3
   },
   "file_extension": ".py",
   "mimetype": "text/x-python",
   "name": "python",
   "nbconvert_exporter": "python",
   "pygments_lexer": "ipython3",
   "version": "3.10.13"
  },
  "widgets": {
   "application/vnd.jupyter.widget-state+json": {
    "4340e450c8c9444784e3ac188b9230df": {
     "model_module": "@jupyter-widgets/controls",
     "model_module_version": "1.5.0",
     "model_name": "DescriptionStyleModel",
     "state": {
      "_model_module": "@jupyter-widgets/controls",
      "_model_module_version": "1.5.0",
      "_model_name": "DescriptionStyleModel",
      "_view_count": null,
      "_view_module": "@jupyter-widgets/base",
      "_view_module_version": "1.2.0",
      "_view_name": "StyleView",
      "description_width": ""
     }
    },
    "4d5e173f3cdd465b9b40f8b23d270e8a": {
     "model_module": "@jupyter-widgets/base",
     "model_module_version": "1.2.0",
     "model_name": "LayoutModel",
     "state": {
      "_model_module": "@jupyter-widgets/base",
      "_model_module_version": "1.2.0",
      "_model_name": "LayoutModel",
      "_view_count": null,
      "_view_module": "@jupyter-widgets/base",
      "_view_module_version": "1.2.0",
      "_view_name": "LayoutView",
      "align_content": null,
      "align_items": null,
      "align_self": null,
      "border": null,
      "bottom": null,
      "display": null,
      "flex": null,
      "flex_flow": null,
      "grid_area": null,
      "grid_auto_columns": null,
      "grid_auto_flow": null,
      "grid_auto_rows": null,
      "grid_column": null,
      "grid_gap": null,
      "grid_row": null,
      "grid_template_areas": null,
      "grid_template_columns": null,
      "grid_template_rows": null,
      "height": null,
      "justify_content": null,
      "justify_items": null,
      "left": null,
      "margin": null,
      "max_height": null,
      "max_width": null,
      "min_height": null,
      "min_width": null,
      "object_fit": null,
      "object_position": null,
      "order": null,
      "overflow": null,
      "overflow_x": null,
      "overflow_y": null,
      "padding": null,
      "right": null,
      "top": null,
      "visibility": null,
      "width": null
     }
    },
    "5959c15bd28a4059b8952689490ebe2f": {
     "model_module": "@jupyter-widgets/controls",
     "model_module_version": "1.5.0",
     "model_name": "HTMLModel",
     "state": {
      "_dom_classes": [],
      "_model_module": "@jupyter-widgets/controls",
      "_model_module_version": "1.5.0",
      "_model_name": "HTMLModel",
      "_view_count": null,
      "_view_module": "@jupyter-widgets/controls",
      "_view_module_version": "1.5.0",
      "_view_name": "HTMLView",
      "description": "",
      "description_tooltip": null,
      "layout": "IPY_MODEL_a955f09104b54e37b262198a3807761c",
      "placeholder": "​",
      "style": "IPY_MODEL_d4d3328dd8914927b619350b49b6f81c",
      "value": " 999/999 [00:08&lt;00:00, 114.60it/s, loss=0.000293, v_num=0]"
     }
    },
    "915d05c1f046462ebe574b6b306b6110": {
     "model_module": "@jupyter-widgets/controls",
     "model_module_version": "1.5.0",
     "model_name": "HBoxModel",
     "state": {
      "_dom_classes": [],
      "_model_module": "@jupyter-widgets/controls",
      "_model_module_version": "1.5.0",
      "_model_name": "HBoxModel",
      "_view_count": null,
      "_view_module": "@jupyter-widgets/controls",
      "_view_module_version": "1.5.0",
      "_view_name": "HBoxView",
      "box_style": "",
      "children": [
       "IPY_MODEL_df24beefb77f4549b7beed2e23558980",
       "IPY_MODEL_a5a6545605cb475fb4bd6db5d32b0b24",
       "IPY_MODEL_5959c15bd28a4059b8952689490ebe2f"
      ],
      "layout": "IPY_MODEL_a3075bdd01e047faa3f1246dabaedcc7"
     }
    },
    "a3075bdd01e047faa3f1246dabaedcc7": {
     "model_module": "@jupyter-widgets/base",
     "model_module_version": "1.2.0",
     "model_name": "LayoutModel",
     "state": {
      "_model_module": "@jupyter-widgets/base",
      "_model_module_version": "1.2.0",
      "_model_name": "LayoutModel",
      "_view_count": null,
      "_view_module": "@jupyter-widgets/base",
      "_view_module_version": "1.2.0",
      "_view_name": "LayoutView",
      "align_content": null,
      "align_items": null,
      "align_self": null,
      "border": null,
      "bottom": null,
      "display": "inline-flex",
      "flex": null,
      "flex_flow": "row wrap",
      "grid_area": null,
      "grid_auto_columns": null,
      "grid_auto_flow": null,
      "grid_auto_rows": null,
      "grid_column": null,
      "grid_gap": null,
      "grid_row": null,
      "grid_template_areas": null,
      "grid_template_columns": null,
      "grid_template_rows": null,
      "height": null,
      "justify_content": null,
      "justify_items": null,
      "left": null,
      "margin": null,
      "max_height": null,
      "max_width": null,
      "min_height": null,
      "min_width": null,
      "object_fit": null,
      "object_position": null,
      "order": null,
      "overflow": null,
      "overflow_x": null,
      "overflow_y": null,
      "padding": null,
      "right": null,
      "top": null,
      "visibility": null,
      "width": "100%"
     }
    },
    "a5a6545605cb475fb4bd6db5d32b0b24": {
     "model_module": "@jupyter-widgets/controls",
     "model_module_version": "1.5.0",
     "model_name": "FloatProgressModel",
     "state": {
      "_dom_classes": [],
      "_model_module": "@jupyter-widgets/controls",
      "_model_module_version": "1.5.0",
      "_model_name": "FloatProgressModel",
      "_view_count": null,
      "_view_module": "@jupyter-widgets/controls",
      "_view_module_version": "1.5.0",
      "_view_name": "ProgressView",
      "bar_style": "success",
      "description": "",
      "description_tooltip": null,
      "layout": "IPY_MODEL_c81f9b0a5dee4db396442599cb295097",
      "max": 999,
      "min": 0,
      "orientation": "horizontal",
      "style": "IPY_MODEL_faf8ff98c59b4951b62cd8ad4e1d5bfa",
      "value": 999
     }
    },
    "a955f09104b54e37b262198a3807761c": {
     "model_module": "@jupyter-widgets/base",
     "model_module_version": "1.2.0",
     "model_name": "LayoutModel",
     "state": {
      "_model_module": "@jupyter-widgets/base",
      "_model_module_version": "1.2.0",
      "_model_name": "LayoutModel",
      "_view_count": null,
      "_view_module": "@jupyter-widgets/base",
      "_view_module_version": "1.2.0",
      "_view_name": "LayoutView",
      "align_content": null,
      "align_items": null,
      "align_self": null,
      "border": null,
      "bottom": null,
      "display": null,
      "flex": null,
      "flex_flow": null,
      "grid_area": null,
      "grid_auto_columns": null,
      "grid_auto_flow": null,
      "grid_auto_rows": null,
      "grid_column": null,
      "grid_gap": null,
      "grid_row": null,
      "grid_template_areas": null,
      "grid_template_columns": null,
      "grid_template_rows": null,
      "height": null,
      "justify_content": null,
      "justify_items": null,
      "left": null,
      "margin": null,
      "max_height": null,
      "max_width": null,
      "min_height": null,
      "min_width": null,
      "object_fit": null,
      "object_position": null,
      "order": null,
      "overflow": null,
      "overflow_x": null,
      "overflow_y": null,
      "padding": null,
      "right": null,
      "top": null,
      "visibility": null,
      "width": null
     }
    },
    "c81f9b0a5dee4db396442599cb295097": {
     "model_module": "@jupyter-widgets/base",
     "model_module_version": "1.2.0",
     "model_name": "LayoutModel",
     "state": {
      "_model_module": "@jupyter-widgets/base",
      "_model_module_version": "1.2.0",
      "_model_name": "LayoutModel",
      "_view_count": null,
      "_view_module": "@jupyter-widgets/base",
      "_view_module_version": "1.2.0",
      "_view_name": "LayoutView",
      "align_content": null,
      "align_items": null,
      "align_self": null,
      "border": null,
      "bottom": null,
      "display": null,
      "flex": "2",
      "flex_flow": null,
      "grid_area": null,
      "grid_auto_columns": null,
      "grid_auto_flow": null,
      "grid_auto_rows": null,
      "grid_column": null,
      "grid_gap": null,
      "grid_row": null,
      "grid_template_areas": null,
      "grid_template_columns": null,
      "grid_template_rows": null,
      "height": null,
      "justify_content": null,
      "justify_items": null,
      "left": null,
      "margin": null,
      "max_height": null,
      "max_width": null,
      "min_height": null,
      "min_width": null,
      "object_fit": null,
      "object_position": null,
      "order": null,
      "overflow": null,
      "overflow_x": null,
      "overflow_y": null,
      "padding": null,
      "right": null,
      "top": null,
      "visibility": null,
      "width": null
     }
    },
    "d4d3328dd8914927b619350b49b6f81c": {
     "model_module": "@jupyter-widgets/controls",
     "model_module_version": "1.5.0",
     "model_name": "DescriptionStyleModel",
     "state": {
      "_model_module": "@jupyter-widgets/controls",
      "_model_module_version": "1.5.0",
      "_model_name": "DescriptionStyleModel",
      "_view_count": null,
      "_view_module": "@jupyter-widgets/base",
      "_view_module_version": "1.2.0",
      "_view_name": "StyleView",
      "description_width": ""
     }
    },
    "df24beefb77f4549b7beed2e23558980": {
     "model_module": "@jupyter-widgets/controls",
     "model_module_version": "1.5.0",
     "model_name": "HTMLModel",
     "state": {
      "_dom_classes": [],
      "_model_module": "@jupyter-widgets/controls",
      "_model_module_version": "1.5.0",
      "_model_name": "HTMLModel",
      "_view_count": null,
      "_view_module": "@jupyter-widgets/controls",
      "_view_module_version": "1.5.0",
      "_view_name": "HTMLView",
      "description": "",
      "description_tooltip": null,
      "layout": "IPY_MODEL_4d5e173f3cdd465b9b40f8b23d270e8a",
      "placeholder": "​",
      "style": "IPY_MODEL_4340e450c8c9444784e3ac188b9230df",
      "value": "Epoch 9: 100%"
     }
    },
    "faf8ff98c59b4951b62cd8ad4e1d5bfa": {
     "model_module": "@jupyter-widgets/controls",
     "model_module_version": "1.5.0",
     "model_name": "ProgressStyleModel",
     "state": {
      "_model_module": "@jupyter-widgets/controls",
      "_model_module_version": "1.5.0",
      "_model_name": "ProgressStyleModel",
      "_view_count": null,
      "_view_module": "@jupyter-widgets/base",
      "_view_module_version": "1.2.0",
      "_view_name": "StyleView",
      "bar_color": null,
      "description_width": ""
     }
    }
   }
  }
 },
 "nbformat": 4,
 "nbformat_minor": 5
}
