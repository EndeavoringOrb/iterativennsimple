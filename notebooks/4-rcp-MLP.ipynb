{
 "cells": [
  {
   "cell_type": "markdown",
   "metadata": {},
   "source": [
    "# TODO\n",
    "\n",
    "- Clean up code\n",
    "  - Function for plotting\n",
    "  - Better setup for indexing\n",
    "- Add math \n",
    "\n",
    "$$\n",
    "\\begin{bmatrix}\n",
    "x \\\\\n",
    "y \\\\\n",
    "\\end{bmatrix}\n",
    "$$\n",
    "\n",
    "$$\n",
    "\\begin{bmatrix}\n",
    "x \\\\\n",
    "0 \\\\\n",
    "0 \\\\\n",
    "y \\\\\n",
    "\\end{bmatrix}\n",
    "$$\n",
    "\n",
    "$$\n",
    "\\begin{bmatrix}\n",
    "I   & 0   & 0   & 0 \\\\\n",
    "f_1 & 0   & 0   & 0 \\\\\n",
    "0   & f_2 & 0   & 0 \\\\\n",
    "0   & 0   & f_3 & 0 \\\\\n",
    "\\end{bmatrix}\n",
    "$$\n"
   ]
  },
  {
   "cell_type": "markdown",
   "id": "f6828844-3a74-49bd-8348-ceae45948da7",
   "metadata": {
    "id": "f6828844-3a74-49bd-8348-ceae45948da7"
   },
   "source": [
    "# Load data"
   ]
  },
  {
   "cell_type": "code",
   "execution_count": 1,
   "id": "a5713c2d-0108-4708-9f0d-021e183f6d1e",
   "metadata": {
    "id": "a5713c2d-0108-4708-9f0d-021e183f6d1e"
   },
   "outputs": [],
   "source": [
    "import torch\n",
    "import pandas as pd\n",
    "import matplotlib.pyplot as plt\n",
    "%matplotlib widget\n",
    "\n",
    "from iterativennsimple.Sequential2D import Sequential2D, Identity\n",
    "from iterativennsimple.Sequential1D import Sequential1D\n",
    "\n",
    "from iterativennsimple.utils.plot_2D_start_end import plot_2D_start_end"
   ]
  },
  {
   "cell_type": "code",
   "execution_count": 2,
   "metadata": {},
   "outputs": [],
   "source": [
    "# Turn a pandas dataframe into a pytorch tensor\n",
    "def df_to_tensor(df):\n",
    "    return torch.tensor(df.values, dtype=torch.float32)"
   ]
  },
  {
   "cell_type": "code",
   "execution_count": 3,
   "id": "9f5c3fcc-147d-4669-8ab2-3ddf16a88b4e",
   "metadata": {
    "id": "9f5c3fcc-147d-4669-8ab2-3ddf16a88b4e"
   },
   "outputs": [],
   "source": [
    "#name = 'regression_line'\n",
    "#name = 'pca_line'\n",
    "#name = 'circle'\n",
    "#name = 'regression_circle'\n",
    "name = 'MNIST'\n",
    "\n",
    "# Read the start data\n",
    "z_start = pd.read_parquet(f'../data/processed/{name}_start.parquet')\n",
    "# Read the target data\n",
    "z_target = pd.read_parquet(f'../data/processed/{name}_target.parquet')"
   ]
  },
  {
   "cell_type": "markdown",
   "metadata": {},
   "source": [
    "## Data preprocessing"
   ]
  },
  {
   "cell_type": "code",
   "execution_count": 4,
   "metadata": {},
   "outputs": [
    {
     "name": "stdout",
     "output_type": "stream",
     "text": [
      "torch.Size([794]) torch.Size([794])\n",
      "tensor(784) tensor(10)\n"
     ]
    }
   ],
   "source": [
    "z_start_tensor = df_to_tensor(z_start)\n",
    "z_target_tensor = df_to_tensor(z_target)\n",
    "\n",
    "# Only use the given number of sample\n",
    "max_num_samples = 1000\n",
    "num_samples = min(max_num_samples, z_start_tensor.shape[0])\n",
    "z_start_tensor = z_start_tensor[:num_samples]\n",
    "z_target_tensor = z_target_tensor[:num_samples]\n",
    "\n",
    "# compute a mask for the data where every entry in each column is the same\n",
    "# this is used to remove columns that are constant\n",
    "mask = (z_start_tensor == z_target_tensor).all(axis=0)\n",
    "mask.shape\n",
    "x_mask = mask\n",
    "y_mask = ~mask\n",
    "\n",
    "# print out the shape of the masks\n",
    "print(x_mask.shape, y_mask.shape)\n",
    "\n",
    "# print out number of true entries in each mask\n",
    "print(x_mask.sum(), y_mask.sum())\n"
   ]
  },
  {
   "cell_type": "markdown",
   "id": "1880ae29-6269-42a9-870f-fb52bb18cf36",
   "metadata": {
    "id": "1880ae29-6269-42a9-870f-fb52bb18cf36"
   },
   "source": [
    "# MLP model"
   ]
  },
  {
   "cell_type": "code",
   "execution_count": 5,
   "id": "ebbc9b74-d7dc-4dd6-bb72-88ed57f5b63e",
   "metadata": {
    "id": "ebbc9b74-d7dc-4dd6-bb72-88ed57f5b63e"
   },
   "outputs": [],
   "source": [
    "input_size = int(x_mask.sum())\n",
    "h1_size = 20\n",
    "h2_size = 20\n",
    "output_size = int(y_mask.sum())\n",
    "\n",
    "x_idx = torch.arange(0, input_size)\n",
    "h_idx = torch.arange(input_size, input_size+h1_size+h2_size)\n",
    "y_idx = torch.arange(input_size+h1_size+h2_size, input_size+h1_size+h2_size+output_size)\n",
    "\n",
    "total_size = input_size + h1_size + h2_size + output_size\n",
    "\n",
    "iterations = 3\n",
    "\n",
    "I = Identity(in_features=input_size, out_features=input_size)\n",
    "f1 = Sequential1D(torch.nn.Linear(in_features=input_size, out_features=h1_size), \n",
    "                  torch.nn.ReLU(), \n",
    "                  in_features=input_size, out_features=h1_size)\n",
    "f2 = Sequential1D(torch.nn.Linear(in_features=h1_size, out_features=h2_size), \n",
    "                  torch.nn.ReLU(), \n",
    "                  in_features=h1_size,    out_features=h2_size)\n",
    "f3 = torch.nn.Linear(in_features=h2_size,    out_features=output_size)    \n",
    "\n",
    "in_features_list  = [input_size, h1_size, h2_size, output_size]\n",
    "out_features_list = [input_size, h1_size, h2_size, output_size]\n",
    "blocks = [[I,    None, None, None],\n",
    "          [f1,   None, None, None],\n",
    "          [None, f2,   None, None],\n",
    "          [None, None, f3,   None]]\n",
    "\n",
    "def transpose_blocks(blocks):\n",
    "    return [[blocks[j][i] for j in range(len(blocks))] for i in range(len(blocks[0]))]\n",
    "\n",
    "map = Sequential2D(\n",
    "    in_features_list=in_features_list,\n",
    "    out_features_list=out_features_list,\n",
    "    blocks=transpose_blocks(blocks)\n",
    ")   "
   ]
  },
  {
   "cell_type": "code",
   "execution_count": 6,
   "metadata": {},
   "outputs": [],
   "source": [
    "zh_start_tensor = torch.cat((z_start_tensor[:, x_mask],\n",
    "                             torch.zeros(z_start_tensor.shape[0], len(h_idx)), \n",
    "                             z_start_tensor[:, y_mask]), dim=1)\n",
    "zh_target_tensor = torch.cat((z_target_tensor[:, x_mask], \n",
    "                             torch.zeros(z_target_tensor.shape[0], len(h_idx)), \n",
    "                             z_target_tensor[:, y_mask]), dim=1)"
   ]
  },
  {
   "cell_type": "code",
   "execution_count": 7,
   "id": "a7eeb2b8",
   "metadata": {},
   "outputs": [],
   "source": [
    "# a dataloader which returns a batch of start and target data\n",
    "class Data(torch.utils.data.Dataset):\n",
    "    def __init__(self, z_start, z_target):\n",
    "        self.z_start = z_start\n",
    "        self.z_target = z_target\n",
    "    def __len__(self):\n",
    "        return len(self.z_start)\n",
    "    def __getitem__(self, idx):\n",
    "        return self.z_start[idx], self.z_target[idx]\n",
    "    \n",
    "train_data = Data(zh_start_tensor, zh_target_tensor)\n",
    "train_loader = torch.utils.data.DataLoader(train_data, batch_size=100, shuffle=True)"
   ]
  },
  {
   "cell_type": "code",
   "execution_count": 8,
   "id": "7486ca78-5e1c-4f94-afb5-9015303aaa09",
   "metadata": {
    "colab": {
     "base_uri": "https://localhost:8080/",
     "height": 382,
     "referenced_widgets": [
      "915d05c1f046462ebe574b6b306b6110",
      "df24beefb77f4549b7beed2e23558980",
      "a5a6545605cb475fb4bd6db5d32b0b24",
      "5959c15bd28a4059b8952689490ebe2f",
      "a3075bdd01e047faa3f1246dabaedcc7",
      "4d5e173f3cdd465b9b40f8b23d270e8a",
      "4340e450c8c9444784e3ac188b9230df",
      "c81f9b0a5dee4db396442599cb295097",
      "faf8ff98c59b4951b62cd8ad4e1d5bfa",
      "a955f09104b54e37b262198a3807761c",
      "d4d3328dd8914927b619350b49b6f81c"
     ]
    },
    "id": "7486ca78-5e1c-4f94-afb5-9015303aaa09",
    "outputId": "e3247ec9-d372-4fda-c69e-654d985bc905"
   },
   "outputs": [],
   "source": [
    "# Define the loss function and optimizer\n",
    "criterion = torch.nn.MSELoss()\n",
    "optimizer = torch.optim.Adam(map.parameters(), lr=0.001)"
   ]
  },
  {
   "cell_type": "code",
   "execution_count": 9,
   "metadata": {},
   "outputs": [
    {
     "name": "stdout",
     "output_type": "stream",
     "text": [
      "Epoch 0, Batch 9, Loss 0.09078217297792435\n",
      "Epoch 100, Batch 9, Loss 0.012353384867310524\n",
      "Epoch 200, Batch 9, Loss 0.006377709563821554\n",
      "Epoch 300, Batch 9, Loss 0.004184857476502657\n",
      "Epoch 400, Batch 9, Loss 0.00248505687341094\n"
     ]
    }
   ],
   "source": [
    "max_epochs = 500\n",
    "# Train the model\n",
    "for epoch in range(max_epochs):\n",
    "    for batch_idx, (start, target) in enumerate(train_loader):\n",
    "        optimizer.zero_grad()\n",
    "\n",
    "        mapped = start\n",
    "\n",
    "        loss = 0.0\n",
    "        for i in range(iterations):\n",
    "            mapped = map(mapped)\n",
    "\n",
    "        loss = criterion(mapped[:, y_idx], target[:, y_idx])\n",
    "        loss.backward()\n",
    "\n",
    "        optimizer.step()\n",
    "    if epoch % 100 == 0:\n",
    "        print(f'Epoch {epoch}, Batch {batch_idx}, Loss {loss.item()}')"
   ]
  },
  {
   "cell_type": "markdown",
   "id": "054793e0",
   "metadata": {},
   "source": [
    "# Training data"
   ]
  },
  {
   "cell_type": "code",
   "execution_count": 14,
   "metadata": {},
   "outputs": [],
   "source": [
    "def my_plot(z_start, z_target, z_mapped, plot_points, x_idx, y_idx):\n",
    "    # Use PCA to reduce the dimensionality of the data\n",
    "    if len(x_idx) == 1 and len(y_idx) == 1:\n",
    "        x_idx = x_idx[0]\n",
    "        start_x = z_start[:, x_idx]\n",
    "        target_x = z_target[:, x_idx]\n",
    "        mapped_x = z_mapped[:, x_idx]\n",
    "        y_idx = y_idx[0]\n",
    "        start_y = z_start[:, y_idx]\n",
    "        target_y = z_target[:, y_idx]\n",
    "        mapped_y = z_mapped[:, y_idx] \n",
    "    else:\n",
    "        # use PCA to reduce the dimensionality of the data\n",
    "        # using pytorch's PCA implementation\n",
    "        # https://pytorch.org/docs/stable/generated/torch.pca_lowrank.html\n",
    "        idx = torch.cat((x_idx, y_idx))\n",
    "        _, _, V = torch.svd(z_start[:, idx])\n",
    "        start_x = torch.matmul(z_start[:, idx], V[:, 0])\n",
    "        target_x = torch.matmul(z_target[:, idx], V[:, 0])\n",
    "        mapped_x = torch.matmul(z_mapped[:, idx], V[:, 0])\n",
    "        _, _, V = torch.svd(z_start[:, idx])\n",
    "        start_y = torch.matmul(z_start[:, idx], V[:, 0])\n",
    "        target_y = torch.matmul(z_target[:, idx], V[:, 0])\n",
    "        mapped_y = torch.matmul(z_mapped[:, idx], V[:, 0])\n",
    "\n",
    "    plot_2D_start_end(start_x, start_y,\n",
    "                      target_x, target_y, \n",
    "                      mapped_x, mapped_y, \n",
    "                      plot_points)"
   ]
  },
  {
   "cell_type": "code",
   "execution_count": 15,
   "metadata": {},
   "outputs": [
    {
     "name": "stdout",
     "output_type": "stream",
     "text": [
      "tensor([  0,   1,   2,   3,   4,   5,   6,   7,   8,   9,  10,  11,  12,  13,\n",
      "         14,  15,  16,  17,  18,  19,  20,  21,  22,  23,  24,  25,  26,  27,\n",
      "         28,  29,  30,  31,  32,  33,  34,  35,  36,  37,  38,  39,  40,  41,\n",
      "         42,  43,  44,  45,  46,  47,  48,  49,  50,  51,  52,  53,  54,  55,\n",
      "         56,  57,  58,  59,  60,  61,  62,  63,  64,  65,  66,  67,  68,  69,\n",
      "         70,  71,  72,  73,  74,  75,  76,  77,  78,  79,  80,  81,  82,  83,\n",
      "         84,  85,  86,  87,  88,  89,  90,  91,  92,  93,  94,  95,  96,  97,\n",
      "         98,  99, 100, 101, 102, 103, 104, 105, 106, 107, 108, 109, 110, 111,\n",
      "        112, 113, 114, 115, 116, 117, 118, 119, 120, 121, 122, 123, 124, 125,\n",
      "        126, 127, 128, 129, 130, 131, 132, 133, 134, 135, 136, 137, 138, 139,\n",
      "        140, 141, 142, 143, 144, 145, 146, 147, 148, 149, 150, 151, 152, 153,\n",
      "        154, 155, 156, 157, 158, 159, 160, 161, 162, 163, 164, 165, 166, 167,\n",
      "        168, 169, 170, 171, 172, 173, 174, 175, 176, 177, 178, 179, 180, 181,\n",
      "        182, 183, 184, 185, 186, 187, 188, 189, 190, 191, 192, 193, 194, 195,\n",
      "        196, 197, 198, 199, 200, 201, 202, 203, 204, 205, 206, 207, 208, 209,\n",
      "        210, 211, 212, 213, 214, 215, 216, 217, 218, 219, 220, 221, 222, 223,\n",
      "        224, 225, 226, 227, 228, 229, 230, 231, 232, 233, 234, 235, 236, 237,\n",
      "        238, 239, 240, 241, 242, 243, 244, 245, 246, 247, 248, 249, 250, 251,\n",
      "        252, 253, 254, 255, 256, 257, 258, 259, 260, 261, 262, 263, 264, 265,\n",
      "        266, 267, 268, 269, 270, 271, 272, 273, 274, 275, 276, 277, 278, 279,\n",
      "        280, 281, 282, 283, 284, 285, 286, 287, 288, 289, 290, 291, 292, 293,\n",
      "        294, 295, 296, 297, 298, 299, 300, 301, 302, 303, 304, 305, 306, 307,\n",
      "        308, 309, 310, 311, 312, 313, 314, 315, 316, 317, 318, 319, 320, 321,\n",
      "        322, 323, 324, 325, 326, 327, 328, 329, 330, 331, 332, 333, 334, 335,\n",
      "        336, 337, 338, 339, 340, 341, 342, 343, 344, 345, 346, 347, 348, 349,\n",
      "        350, 351, 352, 353, 354, 355, 356, 357, 358, 359, 360, 361, 362, 363,\n",
      "        364, 365, 366, 367, 368, 369, 370, 371, 372, 373, 374, 375, 376, 377,\n",
      "        378, 379, 380, 381, 382, 383, 384, 385, 386, 387, 388, 389, 390, 391,\n",
      "        392, 393, 394, 395, 396, 397, 398, 399, 400, 401, 402, 403, 404, 405,\n",
      "        406, 407, 408, 409, 410, 411, 412, 413, 414, 415, 416, 417, 418, 419,\n",
      "        420, 421, 422, 423, 424, 425, 426, 427, 428, 429, 430, 431, 432, 433,\n",
      "        434, 435, 436, 437, 438, 439, 440, 441, 442, 443, 444, 445, 446, 447,\n",
      "        448, 449, 450, 451, 452, 453, 454, 455, 456, 457, 458, 459, 460, 461,\n",
      "        462, 463, 464, 465, 466, 467, 468, 469, 470, 471, 472, 473, 474, 475,\n",
      "        476, 477, 478, 479, 480, 481, 482, 483, 484, 485, 486, 487, 488, 489,\n",
      "        490, 491, 492, 493, 494, 495, 496, 497, 498, 499, 500, 501, 502, 503,\n",
      "        504, 505, 506, 507, 508, 509, 510, 511, 512, 513, 514, 515, 516, 517,\n",
      "        518, 519, 520, 521, 522, 523, 524, 525, 526, 527, 528, 529, 530, 531,\n",
      "        532, 533, 534, 535, 536, 537, 538, 539, 540, 541, 542, 543, 544, 545,\n",
      "        546, 547, 548, 549, 550, 551, 552, 553, 554, 555, 556, 557, 558, 559,\n",
      "        560, 561, 562, 563, 564, 565, 566, 567, 568, 569, 570, 571, 572, 573,\n",
      "        574, 575, 576, 577, 578, 579, 580, 581, 582, 583, 584, 585, 586, 587,\n",
      "        588, 589, 590, 591, 592, 593, 594, 595, 596, 597, 598, 599, 600, 601,\n",
      "        602, 603, 604, 605, 606, 607, 608, 609, 610, 611, 612, 613, 614, 615,\n",
      "        616, 617, 618, 619, 620, 621, 622, 623, 624, 625, 626, 627, 628, 629,\n",
      "        630, 631, 632, 633, 634, 635, 636, 637, 638, 639, 640, 641, 642, 643,\n",
      "        644, 645, 646, 647, 648, 649, 650, 651, 652, 653, 654, 655, 656, 657,\n",
      "        658, 659, 660, 661, 662, 663, 664, 665, 666, 667, 668, 669, 670, 671,\n",
      "        672, 673, 674, 675, 676, 677, 678, 679, 680, 681, 682, 683, 684, 685,\n",
      "        686, 687, 688, 689, 690, 691, 692, 693, 694, 695, 696, 697, 698, 699,\n",
      "        700, 701, 702, 703, 704, 705, 706, 707, 708, 709, 710, 711, 712, 713,\n",
      "        714, 715, 716, 717, 718, 719, 720, 721, 722, 723, 724, 725, 726, 727,\n",
      "        728, 729, 730, 731, 732, 733, 734, 735, 736, 737, 738, 739, 740, 741,\n",
      "        742, 743, 744, 745, 746, 747, 748, 749, 750, 751, 752, 753, 754, 755,\n",
      "        756, 757, 758, 759, 760, 761, 762, 763, 764, 765, 766, 767, 768, 769,\n",
      "        770, 771, 772, 773, 774, 775, 776, 777, 778, 779, 780, 781, 782, 783]) tensor([824, 825, 826, 827, 828, 829, 830, 831, 832, 833])\n"
     ]
    },
    {
     "data": {
      "application/vnd.jupyter.widget-view+json": {
       "model_id": "ef564b2dad154008a445f930d7f257a3",
       "version_major": 2,
       "version_minor": 0
      },
      "image/png": "[encoded data removed]",
      "text/html": [
       "\n",
       "            <div style=\"display: inline-block;\">\n",
       "                <div class=\"jupyter-widgets widget-label\" style=\"text-align: center;\">\n",
       "                    Figure\n",
       "                </div>\n",
       "                <img src='data:image/png;base64,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' width=640.0/>\n",
       "            </div>\n",
       "        "
      ],
      "text/plain": [
       "Canvas(toolbar=Toolbar(toolitems=[('Home', 'Reset original view', 'home', 'home'), ('Back', 'Back to previous …"
      ]
     },
     "metadata": {},
     "output_type": "display_data"
    }
   ],
   "source": [
    "# Hemingway bridge:  This looks strange.  Need to think about how to plot.\n",
    "\n",
    "plot_iterations = 1\n",
    "\n",
    "mapped_tensor = zh_start_tensor\n",
    "for i in range(plot_iterations):\n",
    "    mapped_tensor = map(mapped_tensor)\n",
    "mapped_tensor = mapped_tensor.detach()\n",
    "\n",
    "my_plot(zh_start_tensor, mapped_tensor, zh_target_tensor, plot_points=10, x_idx=x_idx, y_idx=y_idx)\n"
   ]
  },
  {
   "cell_type": "code",
   "execution_count": 16,
   "id": "8ac074be-5d27-480a-83fe-e1161e9d69ef",
   "metadata": {
    "id": "8ac074be-5d27-480a-83fe-e1161e9d69ef"
   },
   "outputs": [
    {
     "data": {
      "application/vnd.jupyter.widget-view+json": {
       "model_id": "40e8d074471047db9ae8a2574a1050af",
       "version_major": 2,
       "version_minor": 0
      },
      "image/png": "[encoded data removed]",
      "text/html": [
       "\n",
       "            <div style=\"display: inline-block;\">\n",
       "                <div class=\"jupyter-widgets widget-label\" style=\"text-align: center;\">\n",
       "                    Figure\n",
       "                </div>\n",
       "                <img src='data:image/png;base64,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' width=640.0/>\n",
       "            </div>\n",
       "        "
      ],
      "text/plain": [
       "Canvas(toolbar=Toolbar(toolitems=[('Home', 'Reset original view', 'home', 'home'), ('Back', 'Back to previous …"
      ]
     },
     "metadata": {},
     "output_type": "display_data"
    }
   ],
   "source": [
    "plot_iterations = iterations\n",
    "\n",
    "mapped_tensor = zh_start_tensor\n",
    "for i in range(plot_iterations):\n",
    "    mapped_tensor = map(mapped_tensor)\n",
    "mapped_tensor = mapped_tensor.detach()\n",
    "\n",
    "my_plot(zh_start_tensor, mapped_tensor, zh_target_tensor, plot_points=10, x_idx=x_idx, y_idx=y_idx)"
   ]
  },
  {
   "cell_type": "markdown",
   "metadata": {},
   "source": [
    "# Path"
   ]
  },
  {
   "cell_type": "code",
   "execution_count": 17,
   "metadata": {},
   "outputs": [
    {
     "ename": "ValueError",
     "evalue": "x and y must be the same size",
     "output_type": "error",
     "traceback": [
      "\u001b[0;31m---------------------------------------------------------------------------\u001b[0m",
      "\u001b[0;31mValueError\u001b[0m                                Traceback (most recent call last)",
      "\u001b[1;32m/workspaces/iterativennsimple/notebooks/4-rcp-MLP.ipynb Cell 19\u001b[0m line \u001b[0;36m9\n\u001b[1;32m      <a href='vscode-notebook-cell://codespaces%2Brefactored-space-potato-976q4x5rv7vcxwvx/workspaces/iterativennsimple/notebooks/4-rcp-MLP.ipynb#X24sdnNjb2RlLXJlbW90ZQ%3D%3D?line=4'>5</a>\u001b[0m plot_points \u001b[39m=\u001b[39m \u001b[39m10\u001b[39m\n\u001b[1;32m      <a href='vscode-notebook-cell://codespaces%2Brefactored-space-potato-976q4x5rv7vcxwvx/workspaces/iterativennsimple/notebooks/4-rcp-MLP.ipynb#X24sdnNjb2RlLXJlbW90ZQ%3D%3D?line=6'>7</a>\u001b[0m plt\u001b[39m.\u001b[39mfigure()\n\u001b[0;32m----> <a href='vscode-notebook-cell://codespaces%2Brefactored-space-potato-976q4x5rv7vcxwvx/workspaces/iterativennsimple/notebooks/4-rcp-MLP.ipynb#X24sdnNjb2RlLXJlbW90ZQ%3D%3D?line=8'>9</a>\u001b[0m plt\u001b[39m.\u001b[39;49mscatter(zh_target_tensor[:, x_idx], zh_target_tensor[:, y_idx], s\u001b[39m=\u001b[39;49m\u001b[39m1\u001b[39;49m)\n\u001b[1;32m     <a href='vscode-notebook-cell://codespaces%2Brefactored-space-potato-976q4x5rv7vcxwvx/workspaces/iterativennsimple/notebooks/4-rcp-MLP.ipynb#X24sdnNjb2RlLXJlbW90ZQ%3D%3D?line=9'>10</a>\u001b[0m \u001b[39mfor\u001b[39;00m i, mapped_tensor \u001b[39min\u001b[39;00m \u001b[39menumerate\u001b[39m(mapped_tensors):\n\u001b[1;32m     <a href='vscode-notebook-cell://codespaces%2Brefactored-space-potato-976q4x5rv7vcxwvx/workspaces/iterativennsimple/notebooks/4-rcp-MLP.ipynb#X24sdnNjb2RlLXJlbW90ZQ%3D%3D?line=10'>11</a>\u001b[0m     \u001b[39mif\u001b[39;00m i \u001b[39m>\u001b[39m \u001b[39m0\u001b[39m:\n",
      "File \u001b[0;32m/workspaces/iterativennsimple/.venv/lib/python3.10/site-packages/matplotlib/pyplot.py:3687\u001b[0m, in \u001b[0;36mscatter\u001b[0;34m(x, y, s, c, marker, cmap, norm, vmin, vmax, alpha, linewidths, edgecolors, plotnonfinite, data, **kwargs)\u001b[0m\n\u001b[1;32m   3668\u001b[0m \u001b[39m@_copy_docstring_and_deprecators\u001b[39m(Axes\u001b[39m.\u001b[39mscatter)\n\u001b[1;32m   3669\u001b[0m \u001b[39mdef\u001b[39;00m \u001b[39mscatter\u001b[39m(\n\u001b[1;32m   3670\u001b[0m     x: \u001b[39mfloat\u001b[39m \u001b[39m|\u001b[39m ArrayLike,\n\u001b[0;32m   (...)\u001b[0m\n\u001b[1;32m   3685\u001b[0m     \u001b[39m*\u001b[39m\u001b[39m*\u001b[39mkwargs,\n\u001b[1;32m   3686\u001b[0m ) \u001b[39m-\u001b[39m\u001b[39m>\u001b[39m PathCollection:\n\u001b[0;32m-> 3687\u001b[0m     __ret \u001b[39m=\u001b[39m gca()\u001b[39m.\u001b[39;49mscatter(\n\u001b[1;32m   3688\u001b[0m         x,\n\u001b[1;32m   3689\u001b[0m         y,\n\u001b[1;32m   3690\u001b[0m         s\u001b[39m=\u001b[39;49ms,\n\u001b[1;32m   3691\u001b[0m         c\u001b[39m=\u001b[39;49mc,\n\u001b[1;32m   3692\u001b[0m         marker\u001b[39m=\u001b[39;49mmarker,\n\u001b[1;32m   3693\u001b[0m         cmap\u001b[39m=\u001b[39;49mcmap,\n\u001b[1;32m   3694\u001b[0m         norm\u001b[39m=\u001b[39;49mnorm,\n\u001b[1;32m   3695\u001b[0m         vmin\u001b[39m=\u001b[39;49mvmin,\n\u001b[1;32m   3696\u001b[0m         vmax\u001b[39m=\u001b[39;49mvmax,\n\u001b[1;32m   3697\u001b[0m         alpha\u001b[39m=\u001b[39;49malpha,\n\u001b[1;32m   3698\u001b[0m         linewidths\u001b[39m=\u001b[39;49mlinewidths,\n\u001b[1;32m   3699\u001b[0m         edgecolors\u001b[39m=\u001b[39;49medgecolors,\n\u001b[1;32m   3700\u001b[0m         plotnonfinite\u001b[39m=\u001b[39;49mplotnonfinite,\n\u001b[1;32m   3701\u001b[0m         \u001b[39m*\u001b[39;49m\u001b[39m*\u001b[39;49m({\u001b[39m\"\u001b[39;49m\u001b[39mdata\u001b[39;49m\u001b[39m\"\u001b[39;49m: data} \u001b[39mif\u001b[39;49;00m data \u001b[39mis\u001b[39;49;00m \u001b[39mnot\u001b[39;49;00m \u001b[39mNone\u001b[39;49;00m \u001b[39melse\u001b[39;49;00m {}),\n\u001b[1;32m   3702\u001b[0m         \u001b[39m*\u001b[39;49m\u001b[39m*\u001b[39;49mkwargs,\n\u001b[1;32m   3703\u001b[0m     )\n\u001b[1;32m   3704\u001b[0m     sci(__ret)\n\u001b[1;32m   3705\u001b[0m     \u001b[39mreturn\u001b[39;00m __ret\n",
      "File \u001b[0;32m/workspaces/iterativennsimple/.venv/lib/python3.10/site-packages/matplotlib/__init__.py:1465\u001b[0m, in \u001b[0;36m_preprocess_data.<locals>.inner\u001b[0;34m(ax, data, *args, **kwargs)\u001b[0m\n\u001b[1;32m   1462\u001b[0m \u001b[39m@functools\u001b[39m\u001b[39m.\u001b[39mwraps(func)\n\u001b[1;32m   1463\u001b[0m \u001b[39mdef\u001b[39;00m \u001b[39minner\u001b[39m(ax, \u001b[39m*\u001b[39margs, data\u001b[39m=\u001b[39m\u001b[39mNone\u001b[39;00m, \u001b[39m*\u001b[39m\u001b[39m*\u001b[39mkwargs):\n\u001b[1;32m   1464\u001b[0m     \u001b[39mif\u001b[39;00m data \u001b[39mis\u001b[39;00m \u001b[39mNone\u001b[39;00m:\n\u001b[0;32m-> 1465\u001b[0m         \u001b[39mreturn\u001b[39;00m func(ax, \u001b[39m*\u001b[39;49m\u001b[39mmap\u001b[39;49m(sanitize_sequence, args), \u001b[39m*\u001b[39;49m\u001b[39m*\u001b[39;49mkwargs)\n\u001b[1;32m   1467\u001b[0m     bound \u001b[39m=\u001b[39m new_sig\u001b[39m.\u001b[39mbind(ax, \u001b[39m*\u001b[39margs, \u001b[39m*\u001b[39m\u001b[39m*\u001b[39mkwargs)\n\u001b[1;32m   1468\u001b[0m     auto_label \u001b[39m=\u001b[39m (bound\u001b[39m.\u001b[39marguments\u001b[39m.\u001b[39mget(label_namer)\n\u001b[1;32m   1469\u001b[0m                   \u001b[39mor\u001b[39;00m bound\u001b[39m.\u001b[39mkwargs\u001b[39m.\u001b[39mget(label_namer))\n",
      "File \u001b[0;32m/workspaces/iterativennsimple/.venv/lib/python3.10/site-packages/matplotlib/axes/_axes.py:4652\u001b[0m, in \u001b[0;36mAxes.scatter\u001b[0;34m(self, x, y, s, c, marker, cmap, norm, vmin, vmax, alpha, linewidths, edgecolors, plotnonfinite, **kwargs)\u001b[0m\n\u001b[1;32m   4650\u001b[0m y \u001b[39m=\u001b[39m np\u001b[39m.\u001b[39mma\u001b[39m.\u001b[39mravel(y)\n\u001b[1;32m   4651\u001b[0m \u001b[39mif\u001b[39;00m x\u001b[39m.\u001b[39msize \u001b[39m!=\u001b[39m y\u001b[39m.\u001b[39msize:\n\u001b[0;32m-> 4652\u001b[0m     \u001b[39mraise\u001b[39;00m \u001b[39mValueError\u001b[39;00m(\u001b[39m\"\u001b[39m\u001b[39mx and y must be the same size\u001b[39m\u001b[39m\"\u001b[39m)\n\u001b[1;32m   4654\u001b[0m \u001b[39mif\u001b[39;00m s \u001b[39mis\u001b[39;00m \u001b[39mNone\u001b[39;00m:\n\u001b[1;32m   4655\u001b[0m     s \u001b[39m=\u001b[39m (\u001b[39m20\u001b[39m \u001b[39mif\u001b[39;00m mpl\u001b[39m.\u001b[39mrcParams[\u001b[39m'\u001b[39m\u001b[39m_internal.classic_mode\u001b[39m\u001b[39m'\u001b[39m] \u001b[39melse\u001b[39;00m\n\u001b[1;32m   4656\u001b[0m          mpl\u001b[39m.\u001b[39mrcParams[\u001b[39m'\u001b[39m\u001b[39mlines.markersize\u001b[39m\u001b[39m'\u001b[39m] \u001b[39m*\u001b[39m\u001b[39m*\u001b[39m \u001b[39m2.0\u001b[39m)\n",
      "\u001b[0;31mValueError\u001b[0m: x and y must be the same size"
     ]
    },
    {
     "data": {
      "application/vnd.jupyter.widget-view+json": {
       "model_id": "dd850c3f7e4546ce85a79ac05b57f9b6",
       "version_major": 2,
       "version_minor": 0
      },
      "image/png": "[encoded data removed]",
      "text/html": [
       "\n",
       "            <div style=\"display: inline-block;\">\n",
       "                <div class=\"jupyter-widgets widget-label\" style=\"text-align: center;\">\n",
       "                    Figure\n",
       "                </div>\n",
       "                <img src='data:image/png;base64,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' width=640.0/>\n",
       "            </div>\n",
       "        "
      ],
      "text/plain": [
       "Canvas(toolbar=Toolbar(toolitems=[('Home', 'Reset original view', 'home', 'home'), ('Back', 'Back to previous …"
      ]
     },
     "metadata": {},
     "output_type": "display_data"
    }
   ],
   "source": [
    "mapped_tensors = [zh_start_tensor]\n",
    "for i in range(iterations):\n",
    "    mapped_tensors.append(map(mapped_tensors[i]).detach())\n",
    "\n",
    "plot_points = 10\n",
    "\n",
    "plt.figure()\n",
    "\n",
    "plt.scatter(zh_target_tensor[:, x_idx], zh_target_tensor[:, y_idx], s=1)\n",
    "for i, mapped_tensor in enumerate(mapped_tensors):\n",
    "    if i > 0:\n",
    "        start = mapped_tensors[i-1]\n",
    "        target = mapped_tensors[i]\n",
    "        dx = target[:plot_points, x_idx]-start[:plot_points, x_idx]\n",
    "        dy = target[:plot_points, y_idx]-start[:plot_points, y_idx]\n",
    "        plt.quiver(start[:plot_points, x_idx], start[:plot_points, y_idx], dx, dy, scale=1, scale_units='xy', angles='xy', color='r', width=0.005)\n",
    "\n",
    "plt.gca().set_aspect('equal')\n",
    "plt.show()"
   ]
  },
  {
   "cell_type": "markdown",
   "id": "a8d68302",
   "metadata": {},
   "source": [
    "# Testing data"
   ]
  },
  {
   "cell_type": "code",
   "execution_count": null,
   "id": "1c14b142",
   "metadata": {},
   "outputs": [
    {
     "data": {
      "application/vnd.jupyter.widget-view+json": {
       "model_id": "11026dd2e48b41ff92d8eb1149e5386e",
       "version_major": 2,
       "version_minor": 0
      },
      "image/png": "[encoded data removed]",
      "text/html": [
       "\n",
       "            <div style=\"display: inline-block;\">\n",
       "                <div class=\"jupyter-widgets widget-label\" style=\"text-align: center;\">\n",
       "                    Figure\n",
       "                </div>\n",
       "                <img src='data:image/png;base64,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' width=640.0/>\n",
       "            </div>\n",
       "        "
      ],
      "text/plain": [
       "Canvas(toolbar=Toolbar(toolitems=[('Home', 'Reset original view', 'home', 'home'), ('Back', 'Back to previous …"
      ]
     },
     "metadata": {},
     "output_type": "display_data"
    }
   ],
   "source": [
    "zh_start_tensor_test = zh_start_tensor+torch.rand_like(zh_start_tensor)*0.2\n",
    "mapped_tensor = zh_start_tensor_test\n",
    "for i in range(iterations):\n",
    "    mapped_tensor = map(mapped_tensor)\n",
    "mapped_tensor = mapped_tensor.detach()\n",
    "\n",
    "my_plot(zh_start_tensor_test, mapped_tensor, zh_target_tensor, plot_points=10, x_idx=x_idx, y_idx=y_idx)\n"
   ]
  },
  {
   "cell_type": "code",
   "execution_count": null,
   "metadata": {},
   "outputs": [],
   "source": []
  }
 ],
 "metadata": {
  "accelerator": "GPU",
  "colab": {
   "include_colab_link": true,
   "provenance": []
  },
  "gpuClass": "standard",
  "jupytext": {
   "formats": "ipynb,py:percent,md"
  },
  "kernelspec": {
   "display_name": "Python 3 (ipykernel)",
   "language": "python",
   "name": "python3"
  },
  "language_info": {
   "codemirror_mode": {
    "name": "ipython",
    "version": 3
   },
   "file_extension": ".py",
   "mimetype": "text/x-python",
   "name": "python",
   "nbconvert_exporter": "python",
   "pygments_lexer": "ipython3",
   "version": "3.10.8"
  },
  "widgets": {
   "application/vnd.jupyter.widget-state+json": {
    "4340e450c8c9444784e3ac188b9230df": {
     "model_module": "@jupyter-widgets/controls",
     "model_module_version": "1.5.0",
     "model_name": "DescriptionStyleModel",
     "state": {
      "_model_module": "@jupyter-widgets/controls",
      "_model_module_version": "1.5.0",
      "_model_name": "DescriptionStyleModel",
      "_view_count": null,
      "_view_module": "@jupyter-widgets/base",
      "_view_module_version": "1.2.0",
      "_view_name": "StyleView",
      "description_width": ""
     }
    },
    "4d5e173f3cdd465b9b40f8b23d270e8a": {
     "model_module": "@jupyter-widgets/base",
     "model_module_version": "1.2.0",
     "model_name": "LayoutModel",
     "state": {
      "_model_module": "@jupyter-widgets/base",
      "_model_module_version": "1.2.0",
      "_model_name": "LayoutModel",
      "_view_count": null,
      "_view_module": "@jupyter-widgets/base",
      "_view_module_version": "1.2.0",
      "_view_name": "LayoutView",
      "align_content": null,
      "align_items": null,
      "align_self": null,
      "border": null,
      "bottom": null,
      "display": null,
      "flex": null,
      "flex_flow": null,
      "grid_area": null,
      "grid_auto_columns": null,
      "grid_auto_flow": null,
      "grid_auto_rows": null,
      "grid_column": null,
      "grid_gap": null,
      "grid_row": null,
      "grid_template_areas": null,
      "grid_template_columns": null,
      "grid_template_rows": null,
      "height": null,
      "justify_content": null,
      "justify_items": null,
      "left": null,
      "margin": null,
      "max_height": null,
      "max_width": null,
      "min_height": null,
      "min_width": null,
      "object_fit": null,
      "object_position": null,
      "order": null,
      "overflow": null,
      "overflow_x": null,
      "overflow_y": null,
      "padding": null,
      "right": null,
      "top": null,
      "visibility": null,
      "width": null
     }
    },
    "5959c15bd28a4059b8952689490ebe2f": {
     "model_module": "@jupyter-widgets/controls",
     "model_module_version": "1.5.0",
     "model_name": "HTMLModel",
     "state": {
      "_dom_classes": [],
      "_model_module": "@jupyter-widgets/controls",
      "_model_module_version": "1.5.0",
      "_model_name": "HTMLModel",
      "_view_count": null,
      "_view_module": "@jupyter-widgets/controls",
      "_view_module_version": "1.5.0",
      "_view_name": "HTMLView",
      "description": "",
      "description_tooltip": null,
      "layout": "IPY_MODEL_a955f09104b54e37b262198a3807761c",
      "placeholder": "​",
      "style": "IPY_MODEL_d4d3328dd8914927b619350b49b6f81c",
      "value": " 999/999 [00:08&lt;00:00, 114.60it/s, loss=0.000293, v_num=0]"
     }
    },
    "915d05c1f046462ebe574b6b306b6110": {
     "model_module": "@jupyter-widgets/controls",
     "model_module_version": "1.5.0",
     "model_name": "HBoxModel",
     "state": {
      "_dom_classes": [],
      "_model_module": "@jupyter-widgets/controls",
      "_model_module_version": "1.5.0",
      "_model_name": "HBoxModel",
      "_view_count": null,
      "_view_module": "@jupyter-widgets/controls",
      "_view_module_version": "1.5.0",
      "_view_name": "HBoxView",
      "box_style": "",
      "children": [
       "IPY_MODEL_df24beefb77f4549b7beed2e23558980",
       "IPY_MODEL_a5a6545605cb475fb4bd6db5d32b0b24",
       "IPY_MODEL_5959c15bd28a4059b8952689490ebe2f"
      ],
      "layout": "IPY_MODEL_a3075bdd01e047faa3f1246dabaedcc7"
     }
    },
    "a3075bdd01e047faa3f1246dabaedcc7": {
     "model_module": "@jupyter-widgets/base",
     "model_module_version": "1.2.0",
     "model_name": "LayoutModel",
     "state": {
      "_model_module": "@jupyter-widgets/base",
      "_model_module_version": "1.2.0",
      "_model_name": "LayoutModel",
      "_view_count": null,
      "_view_module": "@jupyter-widgets/base",
      "_view_module_version": "1.2.0",
      "_view_name": "LayoutView",
      "align_content": null,
      "align_items": null,
      "align_self": null,
      "border": null,
      "bottom": null,
      "display": "inline-flex",
      "flex": null,
      "flex_flow": "row wrap",
      "grid_area": null,
      "grid_auto_columns": null,
      "grid_auto_flow": null,
      "grid_auto_rows": null,
      "grid_column": null,
      "grid_gap": null,
      "grid_row": null,
      "grid_template_areas": null,
      "grid_template_columns": null,
      "grid_template_rows": null,
      "height": null,
      "justify_content": null,
      "justify_items": null,
      "left": null,
      "margin": null,
      "max_height": null,
      "max_width": null,
      "min_height": null,
      "min_width": null,
      "object_fit": null,
      "object_position": null,
      "order": null,
      "overflow": null,
      "overflow_x": null,
      "overflow_y": null,
      "padding": null,
      "right": null,
      "top": null,
      "visibility": null,
      "width": "100%"
     }
    },
    "a5a6545605cb475fb4bd6db5d32b0b24": {
     "model_module": "@jupyter-widgets/controls",
     "model_module_version": "1.5.0",
     "model_name": "FloatProgressModel",
     "state": {
      "_dom_classes": [],
      "_model_module": "@jupyter-widgets/controls",
      "_model_module_version": "1.5.0",
      "_model_name": "FloatProgressModel",
      "_view_count": null,
      "_view_module": "@jupyter-widgets/controls",
      "_view_module_version": "1.5.0",
      "_view_name": "ProgressView",
      "bar_style": "success",
      "description": "",
      "description_tooltip": null,
      "layout": "IPY_MODEL_c81f9b0a5dee4db396442599cb295097",
      "max": 999,
      "min": 0,
      "orientation": "horizontal",
      "style": "IPY_MODEL_faf8ff98c59b4951b62cd8ad4e1d5bfa",
      "value": 999
     }
    },
    "a955f09104b54e37b262198a3807761c": {
     "model_module": "@jupyter-widgets/base",
     "model_module_version": "1.2.0",
     "model_name": "LayoutModel",
     "state": {
      "_model_module": "@jupyter-widgets/base",
      "_model_module_version": "1.2.0",
      "_model_name": "LayoutModel",
      "_view_count": null,
      "_view_module": "@jupyter-widgets/base",
      "_view_module_version": "1.2.0",
      "_view_name": "LayoutView",
      "align_content": null,
      "align_items": null,
      "align_self": null,
      "border": null,
      "bottom": null,
      "display": null,
      "flex": null,
      "flex_flow": null,
      "grid_area": null,
      "grid_auto_columns": null,
      "grid_auto_flow": null,
      "grid_auto_rows": null,
      "grid_column": null,
      "grid_gap": null,
      "grid_row": null,
      "grid_template_areas": null,
      "grid_template_columns": null,
      "grid_template_rows": null,
      "height": null,
      "justify_content": null,
      "justify_items": null,
      "left": null,
      "margin": null,
      "max_height": null,
      "max_width": null,
      "min_height": null,
      "min_width": null,
      "object_fit": null,
      "object_position": null,
      "order": null,
      "overflow": null,
      "overflow_x": null,
      "overflow_y": null,
      "padding": null,
      "right": null,
      "top": null,
      "visibility": null,
      "width": null
     }
    },
    "c81f9b0a5dee4db396442599cb295097": {
     "model_module": "@jupyter-widgets/base",
     "model_module_version": "1.2.0",
     "model_name": "LayoutModel",
     "state": {
      "_model_module": "@jupyter-widgets/base",
      "_model_module_version": "1.2.0",
      "_model_name": "LayoutModel",
      "_view_count": null,
      "_view_module": "@jupyter-widgets/base",
      "_view_module_version": "1.2.0",
      "_view_name": "LayoutView",
      "align_content": null,
      "align_items": null,
      "align_self": null,
      "border": null,
      "bottom": null,
      "display": null,
      "flex": "2",
      "flex_flow": null,
      "grid_area": null,
      "grid_auto_columns": null,
      "grid_auto_flow": null,
      "grid_auto_rows": null,
      "grid_column": null,
      "grid_gap": null,
      "grid_row": null,
      "grid_template_areas": null,
      "grid_template_columns": null,
      "grid_template_rows": null,
      "height": null,
      "justify_content": null,
      "justify_items": null,
      "left": null,
      "margin": null,
      "max_height": null,
      "max_width": null,
      "min_height": null,
      "min_width": null,
      "object_fit": null,
      "object_position": null,
      "order": null,
      "overflow": null,
      "overflow_x": null,
      "overflow_y": null,
      "padding": null,
      "right": null,
      "top": null,
      "visibility": null,
      "width": null
     }
    },
    "d4d3328dd8914927b619350b49b6f81c": {
     "model_module": "@jupyter-widgets/controls",
     "model_module_version": "1.5.0",
     "model_name": "DescriptionStyleModel",
     "state": {
      "_model_module": "@jupyter-widgets/controls",
      "_model_module_version": "1.5.0",
      "_model_name": "DescriptionStyleModel",
      "_view_count": null,
      "_view_module": "@jupyter-widgets/base",
      "_view_module_version": "1.2.0",
      "_view_name": "StyleView",
      "description_width": ""
     }
    },
    "df24beefb77f4549b7beed2e23558980": {
     "model_module": "@jupyter-widgets/controls",
     "model_module_version": "1.5.0",
     "model_name": "HTMLModel",
     "state": {
      "_dom_classes": [],
      "_model_module": "@jupyter-widgets/controls",
      "_model_module_version": "1.5.0",
      "_model_name": "HTMLModel",
      "_view_count": null,
      "_view_module": "@jupyter-widgets/controls",
      "_view_module_version": "1.5.0",
      "_view_name": "HTMLView",
      "description": "",
      "description_tooltip": null,
      "layout": "IPY_MODEL_4d5e173f3cdd465b9b40f8b23d270e8a",
      "placeholder": "​",
      "style": "IPY_MODEL_4340e450c8c9444784e3ac188b9230df",
      "value": "Epoch 9: 100%"
     }
    },
    "faf8ff98c59b4951b62cd8ad4e1d5bfa": {
     "model_module": "@jupyter-widgets/controls",
     "model_module_version": "1.5.0",
     "model_name": "ProgressStyleModel",
     "state": {
      "_model_module": "@jupyter-widgets/controls",
      "_model_module_version": "1.5.0",
      "_model_name": "ProgressStyleModel",
      "_view_count": null,
      "_view_module": "@jupyter-widgets/base",
      "_view_module_version": "1.2.0",
      "_view_name": "StyleView",
      "bar_color": null,
      "description_width": ""
     }
    }
   }
  }
 },
 "nbformat": 4,
 "nbformat_minor": 5
}
